{
  "nbformat": 4,
  "nbformat_minor": 0,
  "metadata": {
    "colab": {
      "name": "2884.ipynb",
      "provenance": [],
      "authorship_tag": "ABX9TyOyvgAuxyMq4lCM2jn95nih"
    },
    "kernelspec": {
      "name": "python3",
      "display_name": "Python 3"
    },
    "language_info": {
      "name": "python"
    }
  },
  "cells": [
    {
      "cell_type": "code",
      "execution_count": 16,
      "metadata": {
        "colab": {
          "base_uri": "https://localhost:8080/"
        },
        "id": "mpb89oOZ6Ht3",
        "outputId": "18d2bb97-b749-4aab-a846-e9913df59773"
      },
      "outputs": [
        {
          "output_type": "stream",
          "name": "stdout",
          "text": [
            "23 50\n",
            "23 5\n"
          ]
        }
      ],
      "source": [
        "h = m = -1\n",
        "\n",
        "while (h<0 or h>23 or m<0 or m>59):\n",
        "    h,m = map(int, input().split())\n",
        "\n",
        "if h > 0:\n",
        "    if 0 <= m <= 44:\n",
        "        h -= 1\n",
        "        m += 15\n",
        "    else :\n",
        "        m -= 45\n",
        "else:\n",
        "    if 0 <= m <= 44:\n",
        "        h = 23\n",
        "        m += 15\n",
        "    else:\n",
        "        m -= 45\n",
        "\n",
        "print(f\"{h} {m}\")"
      ]
    }
  ]
}