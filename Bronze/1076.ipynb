{
  "nbformat": 4,
  "nbformat_minor": 0,
  "metadata": {
    "colab": {
      "name": "1076.ipynb",
      "provenance": [],
      "authorship_tag": "ABX9TyO4hl3TErhmtOJ5isy8Ahyg",
      "include_colab_link": true
    },
    "kernelspec": {
      "name": "python3",
      "display_name": "Python 3"
    },
    "language_info": {
      "name": "python"
    }
  },
  "cells": [
    {
      "cell_type": "markdown",
      "metadata": {
        "id": "view-in-github",
        "colab_type": "text"
      },
      "source": [
        "<a href=\"https://colab.research.google.com/github/Kang-Yoonah/BaekJoon/blob/main/Bronze/1076.ipynb\" target=\"_parent\"><img src=\"https://colab.research.google.com/assets/colab-badge.svg\" alt=\"Open In Colab\"/></a>"
      ]
    },
    {
      "cell_type": "code",
      "execution_count": 3,
      "metadata": {
        "colab": {
          "base_uri": "https://localhost:8080/"
        },
        "id": "HB9Ntxznf1_4",
        "outputId": "258d8403-0361-431a-8f71-c189d187e4ff"
      },
      "outputs": [
        {
          "output_type": "stream",
          "name": "stdout",
          "text": [
            "white\n",
            "white\n",
            "white\n",
            "99000000000\n"
          ]
        }
      ],
      "source": [
        "value, v= [], 10\n",
        "for i in range(10):\n",
        "    value.append((i,v**i))\n",
        "name = ['black','brown','red','orange','yellow','green','blue','violet','grey','white']\n",
        "\n",
        "a = name.index(input())\n",
        "b = name.index(input())\n",
        "c = name.index(input())\n",
        "\n",
        "print((value[a][0]*10+value[b][0])*value[c][1])"
      ]
    }
  ]
}