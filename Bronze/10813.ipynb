{
  "nbformat": 4,
  "nbformat_minor": 0,
  "metadata": {
    "colab": {
      "provenance": [],
      "authorship_tag": "ABX9TyPqYqiu9dP8DZq5ntlDENNy",
      "include_colab_link": true
    },
    "kernelspec": {
      "name": "python3",
      "display_name": "Python 3"
    },
    "language_info": {
      "name": "python"
    }
  },
  "cells": [
    {
      "cell_type": "markdown",
      "metadata": {
        "id": "view-in-github",
        "colab_type": "text"
      },
      "source": [
        "<a href=\"https://colab.research.google.com/github/Kang-Yoonah/BaekJoon/blob/main/Bronze/10813.ipynb\" target=\"_parent\"><img src=\"https://colab.research.google.com/assets/colab-badge.svg\" alt=\"Open In Colab\"/></a>"
      ]
    },
    {
      "cell_type": "code",
      "execution_count": 1,
      "metadata": {
        "colab": {
          "base_uri": "https://localhost:8080/"
        },
        "id": "Ysb6jNHOujNI",
        "outputId": "e4325e90-a0cb-4d2f-8ac6-94587c5cf35e"
      },
      "outputs": [
        {
          "output_type": "stream",
          "name": "stdout",
          "text": [
            "5 4\n",
            "1 2\n",
            "3 4\n",
            "1 4\n",
            "2 2\n",
            "3 1 4 2 5\n"
          ]
        }
      ],
      "source": [
        "def sol():\n",
        "    N, M = map(int, input().split())\n",
        "    urn = [str(i) for i in range(1,N+1)]\n",
        "    for _ in range(M):\n",
        "        i, j = map(int,input().split())\n",
        "        urn[i-1], urn[j-1] = urn[j-1], urn[i-1]\n",
        "    print(\" \".join(urn))              \n",
        "sol()"
      ]
    }
  ]
}