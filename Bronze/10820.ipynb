{
  "nbformat": 4,
  "nbformat_minor": 0,
  "metadata": {
    "colab": {
      "provenance": [],
      "authorship_tag": "ABX9TyNHcUHN9t6F2FcB1zGxb3OK",
      "include_colab_link": true
    },
    "kernelspec": {
      "name": "python3",
      "display_name": "Python 3"
    },
    "language_info": {
      "name": "python"
    }
  },
  "cells": [
    {
      "cell_type": "markdown",
      "metadata": {
        "id": "view-in-github",
        "colab_type": "text"
      },
      "source": [
        "<a href=\"https://colab.research.google.com/github/Kang-Yoonah/BaekJoon/blob/main/Bronze/10820.ipynb\" target=\"_parent\"><img src=\"https://colab.research.google.com/assets/colab-badge.svg\" alt=\"Open In Colab\"/></a>"
      ]
    },
    {
      "cell_type": "code",
      "execution_count": 2,
      "metadata": {
        "colab": {
          "base_uri": "https://localhost:8080/"
        },
        "id": "rWF4e5IdMJv5",
        "outputId": "2367da53-6e6e-4dce-db05-06a533f67269"
      },
      "outputs": [
        {
          "name": "stdout",
          "output_type": "stream",
          "text": [
            "This is String\n",
            "10 2 0 2\n",
            "SPACE    1    SPACE\n",
            "0 10 1 8\n",
            " S a M p L e I n P u T \n",
            "5 6 0 12\n",
            "0L1A2S3T4L5I6N7E8\n",
            "0 8 9 0\n",
            "1/0\n",
            "0 0 2 1\n",
            "print(hellod)\n",
            "11 0 0 2\n",
            "\n",
            "0 0 0 0\n",
            "\n"
          ]
        }
      ],
      "source": [
        "def sol():\n",
        "    while 1:\n",
        "        try:\n",
        "            Sentence = input()\n",
        "            Num = [0]*4\n",
        "            for w in Sentence:\n",
        "                if w.isalpha():\n",
        "                    if w.isupper():\n",
        "                        Num[1] += 1\n",
        "                    else:\n",
        "                        Num[0] += 1\n",
        "                elif w.isdigit():\n",
        "                    Num[2] += 1\n",
        "                else:\n",
        "                    Num[3] += 1\n",
        "            print(*Num)\n",
        "        except:\n",
        "            break\n",
        "sol()"
      ]
    }
  ]
}