{
  "nbformat": 4,
  "nbformat_minor": 0,
  "metadata": {
    "colab": {
      "name": "10870.ipynb",
      "provenance": [],
      "authorship_tag": "ABX9TyNLlBy0UIv2ra3oqWhPymaZ",
      "include_colab_link": true
    },
    "kernelspec": {
      "name": "python3",
      "display_name": "Python 3"
    },
    "language_info": {
      "name": "python"
    }
  },
  "cells": [
    {
      "cell_type": "markdown",
      "metadata": {
        "id": "view-in-github",
        "colab_type": "text"
      },
      "source": [
        "<a href=\"https://colab.research.google.com/github/Kang-Yoonah/BaekJoon/blob/main/Bronze/10870.ipynb\" target=\"_parent\"><img src=\"https://colab.research.google.com/assets/colab-badge.svg\" alt=\"Open In Colab\"/></a>"
      ]
    },
    {
      "cell_type": "code",
      "execution_count": 7,
      "metadata": {
        "colab": {
          "base_uri": "https://localhost:8080/"
        },
        "id": "ywVfXgDjBuEG",
        "outputId": "a790545d-6780-4404-8f95-61aacfebe2bd"
      },
      "outputs": [
        {
          "output_type": "stream",
          "name": "stdout",
          "text": [
            "17\n",
            "1597\n"
          ]
        }
      ],
      "source": [
        "n = int(input())\n",
        "dp = [0] *(n+1)\n",
        "if n == 1:\n",
        "    dp[1] = 1\n",
        "elif n > 1:\n",
        "    dp[1] = dp[2] = 1\n",
        "    for i in range(3,n+1):\n",
        "        dp[i] = dp[i-1] + dp[i-2]\n",
        "print(dp[n])"
      ]
    }
  ]
}