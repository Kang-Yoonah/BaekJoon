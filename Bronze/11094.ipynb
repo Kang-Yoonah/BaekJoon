{
  "nbformat": 4,
  "nbformat_minor": 0,
  "metadata": {
    "colab": {
      "provenance": [],
      "authorship_tag": "ABX9TyO+Cn55U1zkEACRt5UK5+in",
      "include_colab_link": true
    },
    "kernelspec": {
      "name": "python3",
      "display_name": "Python 3"
    },
    "language_info": {
      "name": "python"
    }
  },
  "cells": [
    {
      "cell_type": "markdown",
      "metadata": {
        "id": "view-in-github",
        "colab_type": "text"
      },
      "source": [
        "<a href=\"https://colab.research.google.com/github/Kang-Yoonah/BaekJoon/blob/main/Bronze/11094.ipynb\" target=\"_parent\"><img src=\"https://colab.research.google.com/assets/colab-badge.svg\" alt=\"Open In Colab\"/></a>"
      ]
    },
    {
      "cell_type": "code",
      "execution_count": 1,
      "metadata": {
        "colab": {
          "base_uri": "https://localhost:8080/"
        },
        "id": "0FNoZKtSaBLj",
        "outputId": "2e4b213a-089a-4b97-fc0c-79481023d520"
      },
      "outputs": [
        {
          "output_type": "stream",
          "name": "stdout",
          "text": [
            "1\n",
            "Simon says smile.\n",
            " smile.\n"
          ]
        }
      ],
      "source": [
        "def sol():\n",
        "    for _ in range(int(input())):\n",
        "        I = list(input().split())\n",
        "        if I[:2] == [\"Simon\",\"says\"]:\n",
        "            print(\" \" + \" \".join(I[2:]))\n",
        "             \n",
        "sol()"
      ]
    }
  ]
}