{
  "nbformat": 4,
  "nbformat_minor": 0,
  "metadata": {
    "colab": {
      "provenance": [],
      "authorship_tag": "ABX9TyO+UTtWec6Fbo71JYFNlSFi",
      "include_colab_link": true
    },
    "kernelspec": {
      "name": "python3",
      "display_name": "Python 3"
    },
    "language_info": {
      "name": "python"
    }
  },
  "cells": [
    {
      "cell_type": "markdown",
      "metadata": {
        "id": "view-in-github",
        "colab_type": "text"
      },
      "source": [
        "<a href=\"https://colab.research.google.com/github/Kang-Yoonah/BaekJoon/blob/main/Bronze/11557.ipynb\" target=\"_parent\"><img src=\"https://colab.research.google.com/assets/colab-badge.svg\" alt=\"Open In Colab\"/></a>"
      ]
    },
    {
      "cell_type": "code",
      "execution_count": 4,
      "metadata": {
        "colab": {
          "base_uri": "https://localhost:8080/"
        },
        "id": "e1IVxNV8G45C",
        "outputId": "0a83b506-0623-4b66-dbd9-57beb01f4710"
      },
      "outputs": [
        {
          "output_type": "stream",
          "name": "stdout",
          "text": [
            "2\n",
            "3\n",
            "Yonsei 10\n",
            "KNU 10000000\n",
            "Korea 200\n",
            "KNU\n",
            "2\n",
            "KNU 1\n",
            "Korea 1000\n",
            "Korea\n"
          ]
        }
      ],
      "source": [
        "T=int(input())\n",
        "for _ in range(T):\n",
        "    N = int(input())\n",
        "    L = ans = 0\n",
        "    for _ in range(N):\n",
        "        name, soju = input().split()\n",
        "        if int(soju) > L:\n",
        "            L, ans = int(soju), name\n",
        "    print(ans)"
      ]
    }
  ]
}