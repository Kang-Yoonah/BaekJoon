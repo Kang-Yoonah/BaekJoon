{
  "nbformat": 4,
  "nbformat_minor": 0,
  "metadata": {
    "colab": {
      "name": "1157.ipynb",
      "provenance": [],
      "authorship_tag": "ABX9TyPiuJYp4eOWzJHwj7lBpCf9",
      "include_colab_link": true
    },
    "kernelspec": {
      "name": "python3",
      "display_name": "Python 3"
    },
    "language_info": {
      "name": "python"
    }
  },
  "cells": [
    {
      "cell_type": "markdown",
      "metadata": {
        "id": "view-in-github",
        "colab_type": "text"
      },
      "source": [
        "<a href=\"https://colab.research.google.com/github/Kang-Yoonah/BaekJoon/blob/main/Bronze/1157.ipynb\" target=\"_parent\"><img src=\"https://colab.research.google.com/assets/colab-badge.svg\" alt=\"Open In Colab\"/></a>"
      ]
    },
    {
      "cell_type": "code",
      "execution_count": 13,
      "metadata": {
        "colab": {
          "base_uri": "https://localhost:8080/"
        },
        "id": "-1WcGzo-pLdg",
        "outputId": "3676d0ce-34ec-41b4-e221-62845e26d203"
      },
      "outputs": [
        {
          "output_type": "stream",
          "name": "stdout",
          "text": [
            "z\n",
            "Z\n"
          ]
        }
      ],
      "source": [
        "A = input().upper()\n",
        "alphabet = [0]*26\n",
        "for a in A:\n",
        "    a = ord(a)-65\n",
        "    alphabet[a] += 1\n",
        "m = max(alphabet)\n",
        "m_ind = alphabet.index(m)\n",
        "if m in alphabet[m_ind+1:]:\n",
        "    print('?')\n",
        "else:\n",
        "    print(chr(m_ind+65))"
      ]
    },
    {
      "cell_type": "code",
      "source": [
        "N = input().upper()\n",
        "Words = list(set(N))\n",
        "cnt = [N.count(i) for i in Words]\n",
        "\n",
        "m = max(cnt)\n",
        "m_ind = cnt.index(m)\n",
        "if m in cnt[m_ind+1:]:\n",
        "    print(\"?\")\n",
        "else:\n",
        "    print(Words[m_ind])  "
      ],
      "metadata": {
        "colab": {
          "base_uri": "https://localhost:8080/"
        },
        "id": "k2JJ93iPphj5",
        "outputId": "cf11375e-6337-4fb3-aca4-3a621ace820d"
      },
      "execution_count": 16,
      "outputs": [
        {
          "output_type": "stream",
          "name": "stdout",
          "text": [
            "zZa\n",
            "Z\n"
          ]
        }
      ]
    }
  ]
}