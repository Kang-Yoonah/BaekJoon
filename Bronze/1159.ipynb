{
  "nbformat": 4,
  "nbformat_minor": 0,
  "metadata": {
    "colab": {
      "provenance": [],
      "authorship_tag": "ABX9TyOPBXwJBYsD3wzdY/QXk9O2",
      "include_colab_link": true
    },
    "kernelspec": {
      "name": "python3",
      "display_name": "Python 3"
    },
    "language_info": {
      "name": "python"
    }
  },
  "cells": [
    {
      "cell_type": "markdown",
      "metadata": {
        "id": "view-in-github",
        "colab_type": "text"
      },
      "source": [
        "<a href=\"https://colab.research.google.com/github/Kang-Yoonah/BaekJoon/blob/main/Bronze/1159.ipynb\" target=\"_parent\"><img src=\"https://colab.research.google.com/assets/colab-badge.svg\" alt=\"Open In Colab\"/></a>"
      ]
    },
    {
      "cell_type": "code",
      "execution_count": null,
      "metadata": {
        "id": "NqUaDPj0igDK"
      },
      "outputs": [],
      "source": [
        "import sys\n",
        "input = sys.stdin.readline\n",
        "def sol(N):\n",
        "    Name = {}\n",
        "    for _ in range(N):\n",
        "        name = input()[0]\n",
        "        if name in Name:\n",
        "            Name[name] += 1\n",
        "        else:\n",
        "            Name[name] = 1\n",
        "    Sol = [name for name in Name  if Name[name] >= 5] \n",
        "    print(\"\".join(sorted(Sol)) if Sol else \"PREDAJA\")\n",
        "        \n",
        "sol(int(input()))"
      ]
    }
  ]
}