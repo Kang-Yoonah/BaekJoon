{
  "nbformat": 4,
  "nbformat_minor": 0,
  "metadata": {
    "colab": {
      "name": "1193.ipynb",
      "provenance": [],
      "authorship_tag": "ABX9TyMfFtoQtTCtg1qIO2Sq03T6",
      "include_colab_link": true
    },
    "kernelspec": {
      "name": "python3",
      "display_name": "Python 3"
    },
    "language_info": {
      "name": "python"
    }
  },
  "cells": [
    {
      "cell_type": "markdown",
      "metadata": {
        "id": "view-in-github",
        "colab_type": "text"
      },
      "source": [
        "<a href=\"https://colab.research.google.com/github/Kang-Yoonah/BaekJoon/blob/main/Bronze/1193.ipynb\" target=\"_parent\"><img src=\"https://colab.research.google.com/assets/colab-badge.svg\" alt=\"Open In Colab\"/></a>"
      ]
    },
    {
      "cell_type": "markdown",
      "source": [
        "무한히 큰 배열에 다음과 같이 분수들이 적혀있다.\n",
        "\n",
        "이와 같이 나열된 분수들을 1/1 → 1/2 → 2/1 → 3/1 → 2/2 → … 과 같은 지그재그 순서로 차례대로 1번, 2번, 3번, 4번, 5번, … 분수라고 하자.\n",
        "\n",
        "X가 주어졌을 때, X번째 분수를 구하는 프로그램을 작성하시오.\n",
        "\n",
        "**입력**\n",
        "- 첫째 줄에 X(1 ≤ X ≤ 10,000,000)가 주어진다.\n",
        "\n",
        "**제한**\n",
        "- 시간 제한 0.5초 : 접근하는 법을 신경써야한다!!!\n",
        "- 메모리 제한 256MB"
      ],
      "metadata": {
        "id": "h2hf1hdXkIuZ"
      }
    },
    {
      "cell_type": "code",
      "source": [
        "N = int(input())\n",
        "def s(num):\n",
        "    return num*(num+1)//2\n",
        "\n",
        "def plus(num,count,N):\n",
        "    count += 1\n",
        "    n1 = num\n",
        "    n2 = 1\n",
        "    while count != N:\n",
        "        count += 1\n",
        "        n1 -= 1\n",
        "        n2 += 1\n",
        "    return n1,n2\n",
        "\n",
        "num = 0\n",
        "for i in range(1,10000000):\n",
        "    if s(i) >= N:\n",
        "        num = i\n",
        "        break\n",
        "count = s(num-1)\n",
        "if num%2:\n",
        "    n, d = plus(num,count,N)\n",
        "else:\n",
        "    d, n = plus(num,count,N)\n",
        "print(n,'/',d,sep='')"
      ],
      "metadata": {
        "colab": {
          "base_uri": "https://localhost:8080/"
        },
        "id": "UWyDCuQerZHO",
        "outputId": "280e9f6e-31c4-4171-ae68-9ef6737d56a9"
      },
      "execution_count": 10,
      "outputs": [
        {
          "output_type": "stream",
          "name": "stdout",
          "text": [
            "7\n",
            "1/4\n"
          ]
        }
      ]
    },
    {
      "cell_type": "code",
      "source": [
        "X = int(input())\n",
        "k = 1\n",
        "while (k*(k+1))//2 < X:\n",
        "    k += 1\n",
        "\n",
        "s = (k*(k+1))//2\n",
        "\n",
        "if k % 2:\n",
        "    print(f\"{s-X+1}/{k-s+X}\")\n",
        "else:\n",
        "    print(f\"{k-(s-X)}/{(s-X)+1}\")"
      ],
      "metadata": {
        "colab": {
          "base_uri": "https://localhost:8080/"
        },
        "id": "UpPwiX1pwHoc",
        "outputId": "6555f7e1-42d9-4347-be92-9fc13a0385cc"
      },
      "execution_count": 11,
      "outputs": [
        {
          "output_type": "stream",
          "name": "stdout",
          "text": [
            "7\n",
            "1/4\n"
          ]
        }
      ]
    },
    {
      "cell_type": "markdown",
      "source": [
        "**이해 및 분석**\n",
        "- 분모가 n, 분자가 1에서 출발하면 각각 1, n으로 도착한다.   \n",
        "도착한 뒤에는 1은 그대로, n은 하나가 더 커져서 n+1이다.\n",
        "- 하지만 for문으로 모두 돌리기엔 시간 제한이 걸린다.\n",
        "- 수열에서 다음과 규칙을 찾을 수 있다.\n",
        "   - 분모가 1 2 3 4 5 ... 인 것을 기준으로 대각선으로 살필 때, 각각의 대각선에 있는 수열의 개수도   \n",
        "   1 2 3 4 5 ... 개이다.\n",
        "   - 개수에서 연속된 수열의 합으로 접근하여   \n",
        "   input으로 들어오는 특정 index가 어디쯤인지 알 수 있다."
      ],
      "metadata": {
        "id": "TQVt8iQOkV45"
      }
    }
  ]
}