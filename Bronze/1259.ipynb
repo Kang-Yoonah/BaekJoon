{
  "nbformat": 4,
  "nbformat_minor": 0,
  "metadata": {
    "colab": {
      "name": "1259.ipynb",
      "provenance": [],
      "authorship_tag": "ABX9TyO6lplBAW99WQTYPMIzidmk",
      "include_colab_link": true
    },
    "kernelspec": {
      "name": "python3",
      "display_name": "Python 3"
    },
    "language_info": {
      "name": "python"
    }
  },
  "cells": [
    {
      "cell_type": "markdown",
      "metadata": {
        "id": "view-in-github",
        "colab_type": "text"
      },
      "source": [
        "<a href=\"https://colab.research.google.com/github/Kang-Yoonah/BaekJoon/blob/main/Bronze/1259.ipynb\" target=\"_parent\"><img src=\"https://colab.research.google.com/assets/colab-badge.svg\" alt=\"Open In Colab\"/></a>"
      ]
    },
    {
      "cell_type": "code",
      "execution_count": 1,
      "metadata": {
        "colab": {
          "base_uri": "https://localhost:8080/"
        },
        "id": "kse4wAiD8vAI",
        "outputId": "e89ab82d-2e6f-4e78-d596-717365579fff"
      },
      "outputs": [
        {
          "name": "stdout",
          "output_type": "stream",
          "text": [
            "121\n",
            "yes\n",
            "1231\n",
            "no\n",
            "12421\n",
            "yes\n",
            "0\n"
          ]
        }
      ],
      "source": [
        "while True:\n",
        "    s = input().strip()\n",
        "    if s == '0':\n",
        "        break\n",
        "    \n",
        "    if s == s[::-1]:\n",
        "        print('yes')\n",
        "    else:\n",
        "        print('no')"
      ]
    }
  ]
}