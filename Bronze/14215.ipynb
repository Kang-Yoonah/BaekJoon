{
  "cells": [
    {
      "cell_type": "markdown",
      "metadata": {
        "id": "view-in-github",
        "colab_type": "text"
      },
      "source": [
        "<a href=\"https://colab.research.google.com/github/Kang-Yoonah/BaekJoon/blob/main/Bronze/14215.ipynb\" target=\"_parent\"><img src=\"https://colab.research.google.com/assets/colab-badge.svg\" alt=\"Open In Colab\"/></a>"
      ]
    },
    {
      "cell_type": "code",
      "source": [
        "def sol(Bar):\n",
        "    sum_ = sum(Bar[:2]) \n",
        "    return sum_ + min(sum_-1,Bar[-1])\n",
        "\n",
        "print(sol(sorted(list(map(int,input().split())))))"
      ],
      "metadata": {
        "id": "Eum8oDR9H9Ie",
        "colab": {
          "base_uri": "https://localhost:8080/"
        },
        "outputId": "0aba215a-14a0-41b3-b486-9c9ef0243f59"
      },
      "execution_count": 1,
      "outputs": [
        {
          "output_type": "stream",
          "name": "stdout",
          "text": [
            "1 2 3\n",
            "5\n"
          ]
        }
      ]
    }
  ],
  "metadata": {
    "colab": {
      "provenance": [],
      "authorship_tag": "ABX9TyNirgjy26MGqUGHwyhQHorZ",
      "include_colab_link": true
    },
    "kernelspec": {
      "display_name": "Python 3",
      "name": "python3"
    },
    "language_info": {
      "name": "python"
    }
  },
  "nbformat": 4,
  "nbformat_minor": 0
}