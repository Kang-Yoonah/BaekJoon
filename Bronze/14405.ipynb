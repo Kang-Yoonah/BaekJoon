{
  "nbformat": 4,
  "nbformat_minor": 0,
  "metadata": {
    "colab": {
      "provenance": [],
      "authorship_tag": "ABX9TyOqbn4wOfvg5Vhl9cp9ueYR",
      "include_colab_link": true
    },
    "kernelspec": {
      "name": "python3",
      "display_name": "Python 3"
    },
    "language_info": {
      "name": "python"
    }
  },
  "cells": [
    {
      "cell_type": "markdown",
      "metadata": {
        "id": "view-in-github",
        "colab_type": "text"
      },
      "source": [
        "<a href=\"https://colab.research.google.com/github/Kang-Yoonah/BaekJoon/blob/main/Bronze/14405.ipynb\" target=\"_parent\"><img src=\"https://colab.research.google.com/assets/colab-badge.svg\" alt=\"Open In Colab\"/></a>"
      ]
    },
    {
      "cell_type": "code",
      "source": [
        "def sol(w):\n",
        "    i,len_ = 0,len(w)\n",
        "    while i < len_:\n",
        "        if w[i] == \"p\":\n",
        "            if i+1 < len_ and w[i+1] == \"i\":\n",
        "                i += 2\n",
        "            else:\n",
        "                return \"NO\"\n",
        "        elif w[i] == 'k':\n",
        "            if i+1 < len_ and w[i+1] == 'a':\n",
        "                i += 2\n",
        "            else:\n",
        "                return \"NO\"\n",
        "        elif w[i] == 'c':\n",
        "            if i+2 <  len_ and w[i+1:i+3] == \"hu\":\n",
        "                i += 3\n",
        "            else:\n",
        "                return \"NO\"\n",
        "        else:\n",
        "            return \"NO\"\n",
        "    return \"YES\"  \n",
        "\n",
        "print(sol(input()))"
      ],
      "metadata": {
        "id": "V5Behma77t2H",
        "colab": {
          "base_uri": "https://localhost:8080/"
        },
        "outputId": "5c138b1e-292e-4da1-8af0-daae902d8959"
      },
      "execution_count": 1,
      "outputs": [
        {
          "output_type": "stream",
          "name": "stdout",
          "text": [
            "pikapi\n",
            "YES\n"
          ]
        }
      ]
    }
  ]
}