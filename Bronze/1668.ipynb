{
  "nbformat": 4,
  "nbformat_minor": 0,
  "metadata": {
    "colab": {
      "provenance": [],
      "authorship_tag": "ABX9TyNIbUUs2WPlFxC9+/Y7KExQ",
      "include_colab_link": true
    },
    "kernelspec": {
      "name": "python3",
      "display_name": "Python 3"
    },
    "language_info": {
      "name": "python"
    }
  },
  "cells": [
    {
      "cell_type": "markdown",
      "metadata": {
        "id": "view-in-github",
        "colab_type": "text"
      },
      "source": [
        "<a href=\"https://colab.research.google.com/github/Kang-Yoonah/BaekJoon/blob/main/Bronze/1668.ipynb\" target=\"_parent\"><img src=\"https://colab.research.google.com/assets/colab-badge.svg\" alt=\"Open In Colab\"/></a>"
      ]
    },
    {
      "cell_type": "code",
      "execution_count": 1,
      "metadata": {
        "colab": {
          "base_uri": "https://localhost:8080/"
        },
        "id": "SR1wUdYLoY_o",
        "outputId": "b2060d6a-0857-444c-b51d-d12c1f141719"
      },
      "outputs": [
        {
          "output_type": "stream",
          "name": "stdout",
          "text": [
            "4\n",
            "5\n",
            "5\n",
            "5\n",
            "5\n",
            "1\n",
            "1\n"
          ]
        }
      ],
      "source": [
        "def sol(N):\n",
        "    Trophy = [int(input()) for _ in range(N)]\n",
        "    left = right = 1\n",
        "    left_max, right_max  = Trophy[0], Trophy[-1]\n",
        "    for i in range(1,N):\n",
        "        if left_max < Trophy[i]:\n",
        "            left_max = Trophy[i]\n",
        "            left += 1\n",
        "        if right_max < Trophy[-i-1]:\n",
        "            right_max = Trophy[-i-1]\n",
        "            right += 1\n",
        "    print(left, right, sep=\"\\n\")\n",
        "sol(int(input()))        "
      ]
    }
  ]
}