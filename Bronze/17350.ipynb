{
  "nbformat": 4,
  "nbformat_minor": 0,
  "metadata": {
    "colab": {
      "provenance": [],
      "authorship_tag": "ABX9TyOgf3484bUwRcBEDcfCyJGJ",
      "include_colab_link": true
    },
    "kernelspec": {
      "name": "python3",
      "display_name": "Python 3"
    },
    "language_info": {
      "name": "python"
    }
  },
  "cells": [
    {
      "cell_type": "markdown",
      "metadata": {
        "id": "view-in-github",
        "colab_type": "text"
      },
      "source": [
        "<a href=\"https://colab.research.google.com/github/Kang-Yoonah/BaekJoon/blob/main/Bronze/17350.ipynb\" target=\"_parent\"><img src=\"https://colab.research.google.com/assets/colab-badge.svg\" alt=\"Open In Colab\"/></a>"
      ]
    },
    {
      "cell_type": "code",
      "source": [
        "def sol(N):\n",
        "    s = {input() for _ in range(N)}\n",
        "    if \"anj\" in s:\n",
        "        print(\"뭐야;\")\n",
        "    else:\n",
        "        print(\"뭐야?\")\n",
        "sol(int(input()))"
      ],
      "metadata": {
        "id": "Gw8F0-TWPI0g",
        "colab": {
          "base_uri": "https://localhost:8080/"
        },
        "outputId": "eb9421f6-9cda-4112-8158-0d2194f9632f"
      },
      "execution_count": 4,
      "outputs": [
        {
          "output_type": "stream",
          "name": "stdout",
          "text": [
            "3\n",
            "srn\n",
            "anj\n",
            "ahffk\n",
            "뭐야;\n"
          ]
        }
      ]
    }
  ]
}