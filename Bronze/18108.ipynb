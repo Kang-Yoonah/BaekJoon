{
  "nbformat": 4,
  "nbformat_minor": 0,
  "metadata": {
    "colab": {
      "name": "18108.ipynb",
      "provenance": [],
      "authorship_tag": "ABX9TyMHVn4esufk8LrK0B2ZqDPW",
      "include_colab_link": true
    },
    "kernelspec": {
      "name": "python3",
      "display_name": "Python 3"
    },
    "language_info": {
      "name": "python"
    }
  },
  "cells": [
    {
      "cell_type": "markdown",
      "metadata": {
        "id": "view-in-github",
        "colab_type": "text"
      },
      "source": [
        "<a href=\"https://colab.research.google.com/github/Kang-Yoonah/BaekJoon/blob/main/Bronze/18108.ipynb\" target=\"_parent\"><img src=\"https://colab.research.google.com/assets/colab-badge.svg\" alt=\"Open In Colab\"/></a>"
      ]
    },
    {
      "cell_type": "code",
      "execution_count": 2,
      "metadata": {
        "colab": {
          "base_uri": "https://localhost:8080/"
        },
        "id": "cLmIL7n8P4uc",
        "outputId": "db4b08bb-d104-4d6e-e625-8bf1d69e5166"
      },
      "outputs": [
        {
          "output_type": "stream",
          "name": "stdout",
          "text": [
            "2541\n",
            "1998\n"
          ]
        }
      ],
      "source": [
        "print(int(input())-543)"
      ]
    }
  ]
}