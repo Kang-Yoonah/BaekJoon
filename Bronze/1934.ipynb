{
  "nbformat": 4,
  "nbformat_minor": 0,
  "metadata": {
    "colab": {
      "provenance": [],
      "authorship_tag": "ABX9TyM2b6TYbBpe2ushdy6rQyOy",
      "include_colab_link": true
    },
    "kernelspec": {
      "name": "python3",
      "display_name": "Python 3"
    },
    "language_info": {
      "name": "python"
    }
  },
  "cells": [
    {
      "cell_type": "markdown",
      "metadata": {
        "id": "view-in-github",
        "colab_type": "text"
      },
      "source": [
        "<a href=\"https://colab.research.google.com/github/Kang-Yoonah/BaekJoon/blob/main/Bronze/1934.ipynb\" target=\"_parent\"><img src=\"https://colab.research.google.com/assets/colab-badge.svg\" alt=\"Open In Colab\"/></a>"
      ]
    },
    {
      "cell_type": "code",
      "execution_count": null,
      "metadata": {
        "id": "6pYZt5mqbeSA"
      },
      "outputs": [],
      "source": [
        "def gcd(a,b):\n",
        "    a,b = min(a,b),max(a,b)\n",
        "    if b%a:\n",
        "        return gcd(b%a,a)\n",
        "    else:\n",
        "        return a\n",
        "\n",
        "def lcm(a,b):\n",
        "    return a*b//gcd(a,b)\n",
        "\n",
        "for _ in range(int(input())):\n",
        "    a,b = map(int,input().split())\n",
        "    print(lcm(a,b))"
      ]
    }
  ]
}