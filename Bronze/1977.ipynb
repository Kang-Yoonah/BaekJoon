{
  "nbformat": 4,
  "nbformat_minor": 0,
  "metadata": {
    "colab": {
      "name": "1977.ipynb",
      "provenance": [],
      "authorship_tag": "ABX9TyNFjD6DFKB1Oy1jKcsIf3+I",
      "include_colab_link": true
    },
    "kernelspec": {
      "name": "python3",
      "display_name": "Python 3"
    },
    "language_info": {
      "name": "python"
    }
  },
  "cells": [
    {
      "cell_type": "markdown",
      "metadata": {
        "id": "view-in-github",
        "colab_type": "text"
      },
      "source": [
        "<a href=\"https://colab.research.google.com/github/Kang-Yoonah/BaekJoon/blob/main/Bronze/1977.ipynb\" target=\"_parent\"><img src=\"https://colab.research.google.com/assets/colab-badge.svg\" alt=\"Open In Colab\"/></a>"
      ]
    },
    {
      "cell_type": "code",
      "execution_count": 7,
      "metadata": {
        "colab": {
          "base_uri": "https://localhost:8080/"
        },
        "id": "h_WxPs91UPYE",
        "outputId": "06e7cfdc-c02e-402d-ef73-1fccc1f0d76d"
      },
      "outputs": [
        {
          "output_type": "stream",
          "name": "stdout",
          "text": [
            "75\n",
            "80\n",
            "-1\n"
          ]
        }
      ],
      "source": [
        "#import sys\n",
        "#input = sys.stdin.readline\n",
        "\n",
        "M = int(input())\n",
        "N = int(input())\n",
        "min_num = N\n",
        "count = 0\n",
        "for i in range(int(M**0.5),int(N**0.5)+1):\n",
        "    m = i*i\n",
        "    if m >= M and m <= N:\n",
        "        if m < min_num:\n",
        "            min_num = m\n",
        "        count += m\n",
        "if count:\n",
        "    print(count,min_num,sep='\\n')\n",
        "else:\n",
        "    print(-1)"
      ]
    },
    {
      "cell_type": "code",
      "source": [
        "int(63**0.5)"
      ],
      "metadata": {
        "colab": {
          "base_uri": "https://localhost:8080/"
        },
        "id": "Hm6JvKBbU9I5",
        "outputId": "793af7d5-3426-4748-9a05-c14cc61aa95c"
      },
      "execution_count": 3,
      "outputs": [
        {
          "output_type": "execute_result",
          "data": {
            "text/plain": [
              "7"
            ]
          },
          "metadata": {},
          "execution_count": 3
        }
      ]
    }
  ]
}