{
  "nbformat": 4,
  "nbformat_minor": 0,
  "metadata": {
    "colab": {
      "name": "20112.ipynb",
      "provenance": [],
      "authorship_tag": "ABX9TyMZ3ZV2Di29OiX00723lT43"
    },
    "kernelspec": {
      "name": "python3",
      "display_name": "Python 3"
    },
    "language_info": {
      "name": "python"
    }
  },
  "cells": [
    {
      "cell_type": "code",
      "execution_count": 15,
      "metadata": {
        "colab": {
          "base_uri": "https://localhost:8080/"
        },
        "id": "I8j8yiTvkkd4",
        "outputId": "64a405b8-ddca-496c-f78f-77378cbb86ec"
      },
      "outputs": [
        {
          "output_type": "stream",
          "name": "stdout",
          "text": [
            "4\n",
            "APPL\n",
            "PPAP\n",
            "PADD\n",
            "LPOY\n",
            "NO\n"
          ]
        }
      ],
      "source": [
        "N = int(input())\n",
        "word = []\n",
        "stat = 1\n",
        "for _ in range(N):\n",
        "    word.append(input())\n",
        "for i in range(N):\n",
        "    for j in range(i+1,N):\n",
        "        if word[i][j] != word[j][i]:\n",
        "            stat = 0\n",
        "            break\n",
        "if stat:\n",
        "    print('YES')\n",
        "else:\n",
        "    print('NO')"
      ]
    }
  ]
}