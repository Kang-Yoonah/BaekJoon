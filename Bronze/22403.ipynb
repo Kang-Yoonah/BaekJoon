{
  "nbformat": 4,
  "nbformat_minor": 0,
  "metadata": {
    "colab": {
      "provenance": [],
      "authorship_tag": "ABX9TyN2pqqrpJGKMn0fqxtbYZzJ",
      "include_colab_link": true
    },
    "kernelspec": {
      "name": "python3",
      "display_name": "Python 3"
    },
    "language_info": {
      "name": "python"
    }
  },
  "cells": [
    {
      "cell_type": "markdown",
      "metadata": {
        "id": "view-in-github",
        "colab_type": "text"
      },
      "source": [
        "<a href=\"https://colab.research.google.com/github/Kang-Yoonah/BaekJoon/blob/main/Bronze/22403.ipynb\" target=\"_parent\"><img src=\"https://colab.research.google.com/assets/colab-badge.svg\" alt=\"Open In Colab\"/></a>"
      ]
    },
    {
      "cell_type": "code",
      "execution_count": 4,
      "metadata": {
        "colab": {
          "base_uri": "https://localhost:8080/"
        },
        "id": "sbzw1GNcqA20",
        "outputId": "a5f1c2e3-20ab-4771-9aa8-d76fc6e9e00f"
      },
      "outputs": [
        {
          "output_type": "stream",
          "name": "stdout",
          "text": [
            "4\n",
            "A\n",
            "A\n",
            "Un\n",
            "Un\n",
            "YES\n"
          ]
        }
      ],
      "source": [
        "def sol(N):\n",
        "    num = 0\n",
        "    Talk = [input().rstrip() for _ in range(N)]\n",
        "    for i in range(N):\n",
        "        if Talk[i] == \"A\":\n",
        "            num += 1\n",
        "        elif num:\n",
        "            num -= 1\n",
        "        else:\n",
        "            return \"NO\"\n",
        "    if num:\n",
        "        return \"NO\"\n",
        "    return \"YES\"\n",
        "\n",
        "print(sol(int(input())))"
      ]
    }
  ]
}