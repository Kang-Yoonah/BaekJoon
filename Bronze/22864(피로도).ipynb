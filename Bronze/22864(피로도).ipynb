{
  "nbformat": 4,
  "nbformat_minor": 0,
  "metadata": {
    "colab": {
      "provenance": [],
      "authorship_tag": "ABX9TyOzcpdcmzCJLSuVt2VQs8sI",
      "include_colab_link": true
    },
    "kernelspec": {
      "name": "python3",
      "display_name": "Python 3"
    },
    "language_info": {
      "name": "python"
    }
  },
  "cells": [
    {
      "cell_type": "markdown",
      "metadata": {
        "id": "view-in-github",
        "colab_type": "text"
      },
      "source": [
        "<a href=\"https://colab.research.google.com/github/Kang-Yoonah/BaekJoon/blob/main/Bronze/22864(%ED%94%BC%EB%A1%9C%EB%8F%84).ipynb\" target=\"_parent\"><img src=\"https://colab.research.google.com/assets/colab-badge.svg\" alt=\"Open In Colab\"/></a>"
      ]
    },
    {
      "cell_type": "code",
      "source": [
        "def sol():\n",
        "    F = W = 0\n",
        "    A,B,C,M = map(int,input().split()) \n",
        "    for _ in range(24):\n",
        "        if F + A <= M:     \n",
        "            W += B\n",
        "            F += A\n",
        "        else:\n",
        "            F = max(F-C,0)\n",
        "    return W \n",
        "\n",
        "print(sol())"
      ],
      "metadata": {
        "colab": {
          "base_uri": "https://localhost:8080/"
        },
        "id": "V5Behma77t2H",
        "outputId": "e83921bc-6bdd-493b-998f-03a43bdb0c37"
      },
      "execution_count": 1,
      "outputs": [
        {
          "output_type": "stream",
          "name": "stdout",
          "text": [
            "5 3 2 10\n",
            "24\n"
          ]
        }
      ]
    }
  ]
}