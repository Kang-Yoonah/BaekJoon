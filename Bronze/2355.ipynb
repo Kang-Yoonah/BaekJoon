{
  "nbformat": 4,
  "nbformat_minor": 0,
  "metadata": {
    "colab": {
      "name": "2355.ipynb",
      "provenance": [],
      "authorship_tag": "ABX9TyNAHE0GJ9QB7xYf4PvCDzMa"
    },
    "kernelspec": {
      "name": "python3",
      "display_name": "Python 3"
    },
    "language_info": {
      "name": "python"
    }
  },
  "cells": [
    {
      "cell_type": "code",
      "source": [
        "def cal(m,M):\n",
        "    n = M-m+1\n",
        "    return (n*(m+M))//2\n",
        "num = list(map(int,input().split()))\n",
        "a = min(num)\n",
        "b = max(num)\n",
        "print(cal(a,b))"
      ],
      "metadata": {
        "colab": {
          "base_uri": "https://localhost:8080/"
        },
        "id": "DWQfo873aokB",
        "outputId": "0dc6d848-f30e-4a1a-e6fc-ca376de2fca1"
      },
      "execution_count": null,
      "outputs": [
        {
          "output_type": "stream",
          "name": "stdout",
          "text": [
            "-3 1\n",
            "-5\n"
          ]
        }
      ]
    }
  ]
}