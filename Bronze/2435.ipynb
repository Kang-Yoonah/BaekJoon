{
  "nbformat": 4,
  "nbformat_minor": 0,
  "metadata": {
    "colab": {
      "provenance": [],
      "authorship_tag": "ABX9TyPQ67PWUtBG+9FYphOP2eji",
      "include_colab_link": true
    },
    "kernelspec": {
      "name": "python3",
      "display_name": "Python 3"
    },
    "language_info": {
      "name": "python"
    }
  },
  "cells": [
    {
      "cell_type": "markdown",
      "metadata": {
        "id": "view-in-github",
        "colab_type": "text"
      },
      "source": [
        "<a href=\"https://colab.research.google.com/github/Kang-Yoonah/BaekJoon/blob/main/Bronze/2435.ipynb\" target=\"_parent\"><img src=\"https://colab.research.google.com/assets/colab-badge.svg\" alt=\"Open In Colab\"/></a>"
      ]
    },
    {
      "cell_type": "code",
      "execution_count": 1,
      "metadata": {
        "colab": {
          "base_uri": "https://localhost:8080/"
        },
        "id": "bOyzoAdKr-66",
        "outputId": "4a175d3b-ffd6-47fe-e832-a5d493635166"
      },
      "outputs": [
        {
          "output_type": "stream",
          "name": "stdout",
          "text": [
            "10 2\n",
            "3 -2 -4 -9 0 3 7 13 8 -3\n",
            "21\n"
          ]
        }
      ],
      "source": [
        "def sol():\n",
        "    N, K = map(int,input().split())\n",
        "    Temp = tuple(map(int,input().split()))\n",
        "    Max = [sum(Temp[:K])]\n",
        "    for i in range(K,N):\n",
        "        Max.append(Max[-1]-Temp[i-K] + Temp[i])\n",
        "    return print(max(Max))\n",
        "\n",
        "sol()"
      ]
    }
  ]
}