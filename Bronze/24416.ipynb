{
  "nbformat": 4,
  "nbformat_minor": 0,
  "metadata": {
    "colab": {
      "name": "24416.ipynb",
      "provenance": [],
      "authorship_tag": "ABX9TyPQil2gVQ4GP1+qyAK0c4W2",
      "include_colab_link": true
    },
    "kernelspec": {
      "name": "python3",
      "display_name": "Python 3"
    },
    "language_info": {
      "name": "python"
    }
  },
  "cells": [
    {
      "cell_type": "markdown",
      "metadata": {
        "id": "view-in-github",
        "colab_type": "text"
      },
      "source": [
        "<a href=\"https://colab.research.google.com/github/Kang-Yoonah/BaekJoon/blob/main/Bronze/24416.ipynb\" target=\"_parent\"><img src=\"https://colab.research.google.com/assets/colab-badge.svg\" alt=\"Open In Colab\"/></a>"
      ]
    },
    {
      "cell_type": "code",
      "execution_count": 1,
      "metadata": {
        "colab": {
          "base_uri": "https://localhost:8080/"
        },
        "id": "K_an052PL087",
        "outputId": "8ec862cf-ee69-4f55-b1d7-5efb94f66484"
      },
      "outputs": [
        {
          "output_type": "stream",
          "name": "stdout",
          "text": [
            "5\n",
            "5 3\n"
          ]
        }
      ],
      "source": [
        "N = int(input())\n",
        "\n",
        "a,b = 0,1\n",
        "for _ in range(N):\n",
        "    a,b = b, a+b\n",
        "    \n",
        "print(a,N-2)"
      ]
    },
    {
      "cell_type": "code",
      "source": [
        "N = int(input())\n",
        "\n",
        "dp = [0,1,1] + [0] *(N-2)\n",
        "for i in range(3,N+1):\n",
        "    dp[i] = dp[i-1] + dp[i-2]\n",
        "    \n",
        "print(dp[N],N-2)"
      ],
      "metadata": {
        "colab": {
          "base_uri": "https://localhost:8080/"
        },
        "id": "h11TO27wMGW6",
        "outputId": "4d192323-2173-4c20-a7a4-d58a25fde880"
      },
      "execution_count": 2,
      "outputs": [
        {
          "output_type": "stream",
          "name": "stdout",
          "text": [
            "5\n",
            "5 3\n"
          ]
        }
      ]
    }
  ]
}