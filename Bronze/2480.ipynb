{
  "nbformat": 4,
  "nbformat_minor": 0,
  "metadata": {
    "colab": {
      "provenance": [],
      "authorship_tag": "ABX9TyPYp8eFboaIsqU2sOTQuqEv",
      "include_colab_link": true
    },
    "kernelspec": {
      "name": "python3",
      "display_name": "Python 3"
    },
    "language_info": {
      "name": "python"
    }
  },
  "cells": [
    {
      "cell_type": "markdown",
      "metadata": {
        "id": "view-in-github",
        "colab_type": "text"
      },
      "source": [
        "<a href=\"https://colab.research.google.com/github/Kang-Yoonah/BaekJoon/blob/main/Bronze/2480.ipynb\" target=\"_parent\"><img src=\"https://colab.research.google.com/assets/colab-badge.svg\" alt=\"Open In Colab\"/></a>"
      ]
    },
    {
      "cell_type": "code",
      "execution_count": 10,
      "metadata": {
        "colab": {
          "base_uri": "https://localhost:8080/"
        },
        "id": "DRLlsj-JybC9",
        "outputId": "759aa287-2d3d-4e77-f73c-f7657a8770e4"
      },
      "outputs": [
        {
          "output_type": "stream",
          "name": "stdout",
          "text": [
            "2 2 2\n",
            "12000\n"
          ]
        }
      ],
      "source": [
        "def sol():\n",
        "    num = list(map(int,input().split()))\n",
        "    dice, M = [0]*7, 0\n",
        "    for i in range(3):\n",
        "        dice[num[i]] += 1\n",
        "    for j in range(1,7):\n",
        "        if dice[j] == 3:\n",
        "            return print(10000+1000*j)\n",
        "        elif dice[j] == 2:\n",
        "            return print(1000+100*j)\n",
        "        elif dice[j] == 1:\n",
        "            M = max(M, j)\n",
        "    return print(M*100)\n",
        "        \n",
        "sol()"
      ]
    }
  ]
}