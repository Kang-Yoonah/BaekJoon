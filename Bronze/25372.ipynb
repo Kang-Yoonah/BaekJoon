{
  "nbformat": 4,
  "nbformat_minor": 0,
  "metadata": {
    "colab": {
      "provenance": [],
      "authorship_tag": "ABX9TyOvOhFX2HMh9io327JZFd+8",
      "include_colab_link": true
    },
    "kernelspec": {
      "name": "python3",
      "display_name": "Python 3"
    },
    "language_info": {
      "name": "python"
    }
  },
  "cells": [
    {
      "cell_type": "markdown",
      "metadata": {
        "id": "view-in-github",
        "colab_type": "text"
      },
      "source": [
        "<a href=\"https://colab.research.google.com/github/Kang-Yoonah/BaekJoon/blob/main/Bronze/25372.ipynb\" target=\"_parent\"><img src=\"https://colab.research.google.com/assets/colab-badge.svg\" alt=\"Open In Colab\"/></a>"
      ]
    },
    {
      "cell_type": "code",
      "execution_count": 1,
      "metadata": {
        "colab": {
          "base_uri": "https://localhost:8080/"
        },
        "id": "b91jSo6VG9lI",
        "outputId": "ee963a8e-3243-43c0-f701-c47651727888"
      },
      "outputs": [
        {
          "output_type": "stream",
          "name": "stdout",
          "text": [
            "3\n",
            "1245125\n",
            "yes\n",
            "asdij\n",
            "no\n",
            "120318739721\n",
            "no\n"
          ]
        }
      ],
      "source": [
        "def sol(N):\n",
        "    for _ in range(N):\n",
        "        if 6 <= len(input().rstrip()) <= 9:\n",
        "            print(\"yes\")\n",
        "        else:\n",
        "            print(\"no\")\n",
        "\n",
        "sol(int(input()))"
      ]
    }
  ]
}