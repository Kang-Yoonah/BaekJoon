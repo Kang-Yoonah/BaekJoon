{
  "nbformat": 4,
  "nbformat_minor": 0,
  "metadata": {
    "colab": {
      "provenance": [],
      "authorship_tag": "ABX9TyMbgG9MfQQnOORdPBi/4Ef0",
      "include_colab_link": true
    },
    "kernelspec": {
      "name": "python3",
      "display_name": "Python 3"
    },
    "language_info": {
      "name": "python"
    }
  },
  "cells": [
    {
      "cell_type": "markdown",
      "metadata": {
        "id": "view-in-github",
        "colab_type": "text"
      },
      "source": [
        "<a href=\"https://colab.research.google.com/github/Kang-Yoonah/BaekJoon/blob/main/Bronze/25501.ipynb\" target=\"_parent\"><img src=\"https://colab.research.google.com/assets/colab-badge.svg\" alt=\"Open In Colab\"/></a>"
      ]
    },
    {
      "cell_type": "code",
      "execution_count": 8,
      "metadata": {
        "colab": {
          "base_uri": "https://localhost:8080/"
        },
        "id": "CGd0opzKZaNS",
        "outputId": "ad01b5d2-1add-47cf-d246-50cc03b3289c"
      },
      "outputs": [
        {
          "output_type": "stream",
          "name": "stdout",
          "text": [
            "5\n",
            "AAA\n",
            "1 2\n",
            "ABBA\n",
            "1 3\n",
            "ABABA\n",
            "1 3\n",
            "ABCA\n",
            "0 2\n",
            "KNUSTUDENT\n",
            "0 1\n"
          ]
        }
      ],
      "source": [
        "T = int(input())\n",
        "\n",
        "def isPalindrome(s, c, l, r):\n",
        "    c += 1\n",
        "    if l >= r:\n",
        "        return 1, c\n",
        "    elif s[l] != s[r]:\n",
        "        return 0, c\n",
        "    else:\n",
        "        return isPalindrome(s, c , l+1, r-1)\n",
        "\n",
        "for _ in range(T):\n",
        "    S, c = input().strip(), 0\n",
        "    a, b = isPalindrome(S,c,0,len(S)-1)\n",
        "    print(a, b)"
      ]
    }
  ]
}