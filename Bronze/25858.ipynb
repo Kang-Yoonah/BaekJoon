{
  "nbformat": 4,
  "nbformat_minor": 0,
  "metadata": {
    "colab": {
      "provenance": [],
      "authorship_tag": "ABX9TyO+dPiPBFxGdNm4rLd7KuEQ",
      "include_colab_link": true
    },
    "kernelspec": {
      "name": "python3",
      "display_name": "Python 3"
    },
    "language_info": {
      "name": "python"
    }
  },
  "cells": [
    {
      "cell_type": "markdown",
      "metadata": {
        "id": "view-in-github",
        "colab_type": "text"
      },
      "source": [
        "<a href=\"https://colab.research.google.com/github/Kang-Yoonah/BaekJoon/blob/main/Bronze/25858.ipynb\" target=\"_parent\"><img src=\"https://colab.research.google.com/assets/colab-badge.svg\" alt=\"Open In Colab\"/></a>"
      ]
    },
    {
      "cell_type": "code",
      "execution_count": null,
      "metadata": {
        "id": "jgBAsCvMe2gC"
      },
      "outputs": [],
      "source": [
        "def sol():\n",
        "    n,d = map(int,input().split())\n",
        "    Problem = [int(input()) for _ in range(n)]\n",
        "    money = d//sum(Problem)\n",
        "    for p in Problem:\n",
        "        print(p*money)\n",
        "\n",
        "sol()"
      ]
    }
  ]
}