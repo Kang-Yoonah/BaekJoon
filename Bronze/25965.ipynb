{
  "nbformat": 4,
  "nbformat_minor": 0,
  "metadata": {
    "colab": {
      "provenance": [],
      "authorship_tag": "ABX9TyMjzCqyG7V1F6zpJGwO4sYA",
      "include_colab_link": true
    },
    "kernelspec": {
      "name": "python3",
      "display_name": "Python 3"
    },
    "language_info": {
      "name": "python"
    }
  },
  "cells": [
    {
      "cell_type": "markdown",
      "metadata": {
        "id": "view-in-github",
        "colab_type": "text"
      },
      "source": [
        "<a href=\"https://colab.research.google.com/github/Kang-Yoonah/BaekJoon/blob/main/Bronze/25965.ipynb\" target=\"_parent\"><img src=\"https://colab.research.google.com/assets/colab-badge.svg\" alt=\"Open In Colab\"/></a>"
      ]
    },
    {
      "cell_type": "code",
      "execution_count": null,
      "metadata": {
        "id": "4QO0DE_izf7U"
      },
      "outputs": [],
      "source": [
        "def sol(N):\n",
        "    for _ in range(N):\n",
        "        M = int(input())\n",
        "        Mission = [[0]*3 for _ in range(M)]\n",
        "        for i in range(M):\n",
        "            for idx, money in enumerate(map(int,input().split())):\n",
        "                Mission[i][idx] = ((-1)**idx)*money\n",
        "        money = 0\n",
        "        KDA = list(map(int,input().split()))\n",
        "        for i in range(M):\n",
        "            mission = 0 \n",
        "            for j in range(3):\n",
        "                mission += KDA[j]*Mission[i][j]\n",
        "            money += max(0,mission)\n",
        "        print(money) \n",
        "\n",
        "sol(int(input()))"
      ]
    }
  ]
}