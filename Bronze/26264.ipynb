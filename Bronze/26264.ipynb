{
  "nbformat": 4,
  "nbformat_minor": 0,
  "metadata": {
    "colab": {
      "provenance": [],
      "authorship_tag": "ABX9TyOBaH0qQFh2FpOhxb4t9l3v",
      "include_colab_link": true
    },
    "kernelspec": {
      "name": "python3",
      "display_name": "Python 3"
    },
    "language_info": {
      "name": "python"
    }
  },
  "cells": [
    {
      "cell_type": "markdown",
      "metadata": {
        "id": "view-in-github",
        "colab_type": "text"
      },
      "source": [
        "<a href=\"https://colab.research.google.com/github/Kang-Yoonah/BaekJoon/blob/main/Bronze/26264.ipynb\" target=\"_parent\"><img src=\"https://colab.research.google.com/assets/colab-badge.svg\" alt=\"Open In Colab\"/></a>"
      ]
    },
    {
      "cell_type": "code",
      "execution_count": null,
      "metadata": {
        "id": "cZfe8yV-XpXs"
      },
      "outputs": [],
      "source": [
        "#import sys \n",
        "#input = sys.stdin.readline\n",
        "\n",
        "def sol(N):\n",
        "    student = input().rstrip().replace(\"security\",'1').replace(\"bigdata\",\"\")\n",
        "    n = len(student)\n",
        "    if n > N-n:\n",
        "        return \"security!\"\n",
        "    elif n < N-n:\n",
        "        return \"bigdata?\"\n",
        "    return \"bigdata? security!\"\n",
        "\n",
        "print(sol(int(input())))"
      ]
    }
  ]
}