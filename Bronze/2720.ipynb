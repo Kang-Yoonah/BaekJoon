{
  "nbformat": 4,
  "nbformat_minor": 0,
  "metadata": {
    "colab": {
      "provenance": [],
      "authorship_tag": "ABX9TyNnPn1zJYGnMErF4nLOLKIM",
      "include_colab_link": true
    },
    "kernelspec": {
      "name": "python3",
      "display_name": "Python 3"
    },
    "language_info": {
      "name": "python"
    }
  },
  "cells": [
    {
      "cell_type": "markdown",
      "metadata": {
        "id": "view-in-github",
        "colab_type": "text"
      },
      "source": [
        "<a href=\"https://colab.research.google.com/github/Kang-Yoonah/BaekJoon/blob/main/Bronze/2720.ipynb\" target=\"_parent\"><img src=\"https://colab.research.google.com/assets/colab-badge.svg\" alt=\"Open In Colab\"/></a>"
      ]
    },
    {
      "cell_type": "code",
      "execution_count": 2,
      "metadata": {
        "colab": {
          "base_uri": "https://localhost:8080/"
        },
        "id": "B-0_IvxeRzA_",
        "outputId": "cdcef903-148d-455c-c162-4fac74c38173"
      },
      "outputs": [
        {
          "output_type": "stream",
          "name": "stdout",
          "text": [
            "3\n",
            "124\n",
            "4 2 0 4\n",
            "25\n",
            "1 0 0 0\n",
            "194\n",
            "7 1 1 4\n"
          ]
        }
      ],
      "source": [
        "def sol(T):\n",
        "    for _ in range(T):\n",
        "        C = int(input())\n",
        "        for i in [25, 10, 5]:\n",
        "            print(C//i, end=' ')\n",
        "            C %= i\n",
        "        print(C)\n",
        "sol(int(input()))"
      ]
    }
  ]
}