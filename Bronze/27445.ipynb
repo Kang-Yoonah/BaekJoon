{
  "nbformat": 4,
  "nbformat_minor": 0,
  "metadata": {
    "colab": {
      "provenance": [],
      "authorship_tag": "ABX9TyO8fCvgBhOH2+nmaV23uwrC",
      "include_colab_link": true
    },
    "kernelspec": {
      "name": "python3",
      "display_name": "Python 3"
    },
    "language_info": {
      "name": "python"
    }
  },
  "cells": [
    {
      "cell_type": "markdown",
      "metadata": {
        "id": "view-in-github",
        "colab_type": "text"
      },
      "source": [
        "<a href=\"https://colab.research.google.com/github/Kang-Yoonah/BaekJoon/blob/main/Bronze/27445.ipynb\" target=\"_parent\"><img src=\"https://colab.research.google.com/assets/colab-badge.svg\" alt=\"Open In Colab\"/></a>"
      ]
    },
    {
      "cell_type": "code",
      "source": [
        "def sol():\n",
        "    N, M = map(int, input().split())\n",
        "    A = [int(input()) for _ in range(N-1)]\n",
        "    B = list(map(int,input().split()))\n",
        "    A.append(B[0])\n",
        "\n",
        "    r = A.index(min(A))+1\n",
        "    c = B.index(min(B))+1\n",
        "    print(r, c)\n",
        "sol()"
      ],
      "metadata": {
        "colab": {
          "base_uri": "https://localhost:8080/"
        },
        "id": "V5Behma77t2H",
        "outputId": "b387d6e1-98c5-438b-c833-8063073a1826"
      },
      "execution_count": 2,
      "outputs": [
        {
          "output_type": "stream",
          "name": "stdout",
          "text": [
            "4 5\n",
            "4\n",
            "3\n",
            "4\n",
            "5 4 3 2 3\n",
            "2 4\n"
          ]
        }
      ]
    }
  ]
}