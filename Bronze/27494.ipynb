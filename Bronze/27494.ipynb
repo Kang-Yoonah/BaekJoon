{
  "nbformat": 4,
  "nbformat_minor": 0,
  "metadata": {
    "colab": {
      "provenance": [],
      "authorship_tag": "ABX9TyMU7PG18Y1/KrKUjm4ApqLj",
      "include_colab_link": true
    },
    "kernelspec": {
      "name": "python3",
      "display_name": "Python 3"
    },
    "language_info": {
      "name": "python"
    }
  },
  "cells": [
    {
      "cell_type": "markdown",
      "metadata": {
        "id": "view-in-github",
        "colab_type": "text"
      },
      "source": [
        "<a href=\"https://colab.research.google.com/github/Kang-Yoonah/BaekJoon/blob/main/Bronze/27494.ipynb\" target=\"_parent\"><img src=\"https://colab.research.google.com/assets/colab-badge.svg\" alt=\"Open In Colab\"/></a>"
      ]
    },
    {
      "cell_type": "code",
      "source": [
        "def sol(N):\n",
        "    ans = 0\n",
        "    year ='2023'\n",
        "    for num in range(2023, N+1):\n",
        "        idx = 0\n",
        "        for j in str(num):\n",
        "            if j == year[idx]:\n",
        "                idx += 1\n",
        "                if idx == 4:\n",
        "                    ans += 1\n",
        "                    break\n",
        "    return ans\n",
        "\n",
        "print(sol(int(input())))"
      ],
      "metadata": {
        "colab": {
          "base_uri": "https://localhost:8080/"
        },
        "id": "V5Behma77t2H",
        "outputId": "55593fbc-25ef-4472-f017-83966611ecd8"
      },
      "execution_count": 2,
      "outputs": [
        {
          "output_type": "stream",
          "name": "stdout",
          "text": [
            "1237987\n",
            "1994\n"
          ]
        }
      ]
    }
  ]
}