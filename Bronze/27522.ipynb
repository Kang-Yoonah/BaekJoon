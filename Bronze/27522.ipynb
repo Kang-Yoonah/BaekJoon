{
  "nbformat": 4,
  "nbformat_minor": 0,
  "metadata": {
    "colab": {
      "provenance": [],
      "authorship_tag": "ABX9TyPyy/aWtx1/a0LZbbFMq6lr",
      "include_colab_link": true
    },
    "kernelspec": {
      "name": "python3",
      "display_name": "Python 3"
    },
    "language_info": {
      "name": "python"
    }
  },
  "cells": [
    {
      "cell_type": "markdown",
      "metadata": {
        "id": "view-in-github",
        "colab_type": "text"
      },
      "source": [
        "<a href=\"https://colab.research.google.com/github/Kang-Yoonah/BaekJoon/blob/main/Bronze/27522.ipynb\" target=\"_parent\"><img src=\"https://colab.research.google.com/assets/colab-badge.svg\" alt=\"Open In Colab\"/></a>"
      ]
    },
    {
      "cell_type": "code",
      "source": [
        "def sol():\n",
        "    N = []\n",
        "    S1 = S2 = 0\n",
        "    for _ in range(8):\n",
        "        a, b = input().strip().split()\n",
        "        a = int(\"\".join(a.split(\":\")))\n",
        "        N.append([a,b])\n",
        "    N.sort()\n",
        "    Score = {0:10, 1:8, 2:6, 3:5, 4:3, 5:2, 6:1, 7:0}\n",
        "    for i in range(8):\n",
        "        if N[i][1] == \"R\":\n",
        "            S1 += Score[i]\n",
        "        else:\n",
        "            S2 += Score[i]\n",
        "    if S1 > S2:\n",
        "        ans = \"Red\"\n",
        "    elif S1 < S2:\n",
        "        ans = \"Blue\"\n",
        "    elif N[0][1] == \"R\":\n",
        "        ans = \"Red\"\n",
        "    else:\n",
        "        ans = \"Blue\"\n",
        "    \n",
        "    return ans\n",
        "\n",
        "print(sol())"
      ],
      "metadata": {
        "colab": {
          "base_uri": "https://localhost:8080/"
        },
        "id": "V5Behma77t2H",
        "outputId": "773da65e-2c32-42c0-fa00-a1536d794bab"
      },
      "execution_count": 1,
      "outputs": [
        {
          "output_type": "stream",
          "name": "stdout",
          "text": [
            "1:52:682 B\n",
            "1:50:201 R\n",
            "1:49:003 B\n",
            "1:49:735 B\n",
            "1:50:257 R\n",
            "1:51:134 R\n",
            "1:49:236 R\n",
            "1:53:932 B\n",
            "Red\n"
          ]
        }
      ]
    }
  ]
}