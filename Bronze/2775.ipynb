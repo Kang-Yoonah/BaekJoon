{
  "nbformat": 4,
  "nbformat_minor": 0,
  "metadata": {
    "colab": {
      "provenance": [],
      "authorship_tag": "ABX9TyNWcaHLYJ61VfkEKLQVKQJY",
      "include_colab_link": true
    },
    "kernelspec": {
      "name": "python3",
      "display_name": "Python 3"
    },
    "language_info": {
      "name": "python"
    }
  },
  "cells": [
    {
      "cell_type": "markdown",
      "metadata": {
        "id": "view-in-github",
        "colab_type": "text"
      },
      "source": [
        "<a href=\"https://colab.research.google.com/github/Kang-Yoonah/BaekJoon/blob/main/Bronze/2775.ipynb\" target=\"_parent\"><img src=\"https://colab.research.google.com/assets/colab-badge.svg\" alt=\"Open In Colab\"/></a>"
      ]
    },
    {
      "cell_type": "code",
      "execution_count": 2,
      "metadata": {
        "colab": {
          "base_uri": "https://localhost:8080/"
        },
        "id": "Hfx3OsvwWvJT",
        "outputId": "ec5e4a94-3b81-49e6-e2a7-72b88fa2aac4"
      },
      "outputs": [
        {
          "output_type": "stream",
          "name": "stdout",
          "text": [
            "2\n",
            "1\n",
            "3\n",
            "6\n",
            "2\n",
            "3\n",
            "10\n"
          ]
        }
      ],
      "source": [
        "def sol():\n",
        "    T = int(input())\n",
        "    dp = [[i+1 for i in range(14)]] + [[0]*14 for _ in range(14)]\n",
        "    for i in range(1,15):\n",
        "        for j in range(14):\n",
        "            dp[i][j] = dp[i][j-1] + dp[i-1][j]\n",
        "           \n",
        "    for _ in range(T):\n",
        "        n = int(input())\n",
        "        k = int(input())\n",
        "        print(dp[n][k-1])\n",
        "sol()"
      ]
    }
  ]
}