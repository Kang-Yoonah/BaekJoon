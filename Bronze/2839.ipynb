{
  "nbformat": 4,
  "nbformat_minor": 0,
  "metadata": {
    "colab": {
      "name": "2839.ipynb",
      "provenance": [],
      "collapsed_sections": [],
      "authorship_tag": "ABX9TyNtpAY2jPC5rCk/YbP/D18B"
    },
    "kernelspec": {
      "name": "python3",
      "display_name": "Python 3"
    },
    "language_info": {
      "name": "python"
    }
  },
  "cells": [
    {
      "cell_type": "code",
      "execution_count": 14,
      "metadata": {
        "id": "qvIJyJ7mnAyW",
        "colab": {
          "base_uri": "https://localhost:8080/"
        },
        "outputId": "4f37ccfb-2b58-4cc8-fe7a-286c70fe4597"
      },
      "outputs": [
        {
          "output_type": "stream",
          "name": "stdout",
          "text": [
            "11\n",
            "3\n"
          ]
        }
      ],
      "source": [
        "N = int(input())\n",
        "result = 0\n",
        "\n",
        "while N>0:\n",
        "    if N%5 == 0:\n",
        "        result += (N//5)\n",
        "        N = 0\n",
        "        break\n",
        "    else:\n",
        "        result += 1\n",
        "        N -= 3\n",
        "if N:\n",
        "    print(-1)\n",
        "else:\n",
        "    print(result)\n"
      ]
    },
    {
      "cell_type": "code",
      "source": [
        "N = int(input())\n",
        "\n",
        "dp = [-1] * 5001\n",
        "\n",
        "dp[3] = dp[5] = 1\n",
        "\n",
        "for i in range(6, N+1):\n",
        "    if i % 5 == 0:\n",
        "        dp[i] = dp[i - 5] + 1\n",
        "    elif i % 3 == 0:\n",
        "        dp[i] = dp[i - 3] + 1\n",
        "    elif dp[i - 3] > 0 and dp[i - 5] > 0:\n",
        "        dp[i] = min(dp[i - 3], dp[i - 5]) + 1\n",
        "\n",
        "print(dp[N])"
      ],
      "metadata": {
        "colab": {
          "base_uri": "https://localhost:8080/"
        },
        "id": "fOwLl2lx_oS7",
        "outputId": "0de2bdcf-f038-4c2e-c730-23c8cb9faba7"
      },
      "execution_count": 11,
      "outputs": [
        {
          "output_type": "stream",
          "name": "stdout",
          "text": [
            "3\n",
            "1\n"
          ]
        }
      ]
    }
  ]
}