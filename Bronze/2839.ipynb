{
  "nbformat": 4,
  "nbformat_minor": 0,
  "metadata": {
    "colab": {
      "name": "2839.ipynb",
      "provenance": [],
      "collapsed_sections": [],
      "authorship_tag": "ABX9TyOMipa/aKIrAEITNCYDKlms"
    },
    "kernelspec": {
      "name": "python3",
      "display_name": "Python 3"
    },
    "language_info": {
      "name": "python"
    }
  },
  "cells": [
    {
      "cell_type": "markdown",
      "source": [
        "# 그리디 알고리즘\n",
        "미래를 고려하지 않고 지금 고르는 선택이 가장 최선의 선택이길 바라는 기법   \n",
        "따라서 주어진 조건에 따라 항상 최선의 결과가 나온다는 보장이 없다.   \n",
        "그렇지만 빠르게 최적해를 찾아낼 수 있다."
      ],
      "metadata": {
        "id": "VmPztq-2Ec9E"
      }
    },
    {
      "cell_type": "code",
      "execution_count": null,
      "metadata": {
        "id": "qvIJyJ7mnAyW",
        "colab": {
          "base_uri": "https://localhost:8080/"
        },
        "outputId": "4f37ccfb-2b58-4cc8-fe7a-286c70fe4597"
      },
      "outputs": [
        {
          "output_type": "stream",
          "name": "stdout",
          "text": [
            "11\n",
            "3\n"
          ]
        }
      ],
      "source": [
        "N = int(input())\n",
        "result = 0\n",
        "\n",
        "while N>0:\n",
        "    if N%5 == 0:\n",
        "        result += (N//5)\n",
        "        N = 0\n",
        "        break\n",
        "    else:\n",
        "        result += 1\n",
        "        N -= 3\n",
        "if N:\n",
        "    print(-1)\n",
        "else:\n",
        "    print(result)\n"
      ]
    },
    {
      "cell_type": "markdown",
      "source": [
        "# DP, 다이나믹 프로그래밍, 동적 계획법\n",
        "- 큰 문제를 작은 문제로 나누어 푸는 문제로 작은 부분 문제들이 반복된다.   \n",
        "- 큰 문제를 해결하기 어려워 작은 문제로 나누어 푸는 방법인 분할 정복은 작은 부분 문제들이 반복되지 않는다.   \n",
        "하지만 DP는 작은 문제들이 반복되는 것을 이용해 풀어나가는 방법이다.   \n",
        "- 방법\n",
        "   - 모든 작은 문제들은 한번만 풀어야한다. 따라서 정답을 구한 작은 문제를 어딘가에 메모해놓는다.   \n",
        "   다시 그보다 큰 문제를 풀어나갈 때 똑같은 작은 문제가 나타나면 앞서 메모한 작은 문제의 결과값을 이용한다.\n",
        "- DP 조건\n",
        "   - 작은 문제가 반복이 일어나는 경우\n",
        "   - 같은 문제는 구할 때마다 정답이 같다.   \n",
        "   작은 문제의 결과값이 항상 같다는 점을 이용해서 큰 문제를 해결하는 방법이므로 당연하다.\n",
        "- Memoization\n",
        "   - 메모이제이션은 한번 계산한 작은 문제의 결과값을 저장해놓고 다시 사용하는 것을 말한다.\n",
        "   - 예를 들어 피보나치 수열은 1,1,2,3,5,8,,, 의 수를 이루게 된다.   \n",
        "   즉, `다음 수열 = 이전 수열 + 두 단계 전 수열의 합`이라는 점화식을 갖는 순열이다.   \n",
        "   재귀 함수로 풀게 되면 훨씬 간단하게 풀 수 있지만, n이 증가함에 따라 호출되는 함수의 수가 기하급수적으로 증가하기 때문에 일정 수 이상의 순열을 구하기가 어렵다.   \n",
        "   앞서 DP의 2가지 조건을 상기해보면 이를 동적계획법으로 풀 수 있다는 것을 알 수 있다.\n",
        "- 방식\n",
        "   - Bottom-up   \n",
        "   작은 문제부터 차근차근 구해나아가는 방법이다.\n",
        "   - Top-down   \n",
        "   큰 문제를 풀때 작은 문제가 아직 풀리지 않았다면 그제서야 작은 문제를 해결하는 방법이다.   \n",
        "   재귀함수로 구현하는 경우가 대부분 Top-down이다."
      ],
      "metadata": {
        "id": "vgT8rIcFE44R"
      }
    },
    {
      "cell_type": "code",
      "source": [
        "N = int(input())\n",
        "\n",
        "dp = [-1] * 5001\n",
        "\n",
        "dp[3] = dp[5] = 1\n",
        "\n",
        "for i in range(6, N+1):\n",
        "    if i % 5 == 0:\n",
        "        dp[i] = dp[i - 5] + 1\n",
        "    elif i % 3 == 0:\n",
        "        dp[i] = dp[i - 3] + 1\n",
        "    elif dp[i - 3] > 0 and dp[i - 5] > 0:\n",
        "        dp[i] = min(dp[i - 3], dp[i - 5]) + 1\n",
        "\n",
        "print(dp[N])"
      ],
      "metadata": {
        "colab": {
          "base_uri": "https://localhost:8080/"
        },
        "id": "fOwLl2lx_oS7",
        "outputId": "0de2bdcf-f038-4c2e-c730-23c8cb9faba7"
      },
      "execution_count": null,
      "outputs": [
        {
          "output_type": "stream",
          "name": "stdout",
          "text": [
            "3\n",
            "1\n"
          ]
        }
      ]
    },
    {
      "cell_type": "markdown",
      "source": [
        "참고\n",
        "\n",
        "https://dmaolon00.tistory.com/105\n",
        "\n",
        "https://galid1.tistory.com/507"
      ],
      "metadata": {
        "id": "jqkpfiJWFFV4"
      }
    }
  ]
}