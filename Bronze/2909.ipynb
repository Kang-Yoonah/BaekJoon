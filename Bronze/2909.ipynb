{
  "nbformat": 4,
  "nbformat_minor": 0,
  "metadata": {
    "colab": {
      "provenance": [],
      "authorship_tag": "ABX9TyObe6USrkGedKwm+Fyk0VgE",
      "include_colab_link": true
    },
    "kernelspec": {
      "name": "python3",
      "display_name": "Python 3"
    },
    "language_info": {
      "name": "python"
    }
  },
  "cells": [
    {
      "cell_type": "markdown",
      "metadata": {
        "id": "view-in-github",
        "colab_type": "text"
      },
      "source": [
        "<a href=\"https://colab.research.google.com/github/Kang-Yoonah/BaekJoon/blob/main/Bronze/2909.ipynb\" target=\"_parent\"><img src=\"https://colab.research.google.com/assets/colab-badge.svg\" alt=\"Open In Colab\"/></a>"
      ]
    },
    {
      "cell_type": "code",
      "execution_count": 1,
      "metadata": {
        "colab": {
          "base_uri": "https://localhost:8080/"
        },
        "id": "NIKPTneUOHMv",
        "outputId": "049c1652-116c-4cba-d818-9302085f8880"
      },
      "outputs": [
        {
          "output_type": "stream",
          "name": "stdout",
          "text": [
            "Knuth-Morris-Pratt\n",
            "KMP\n"
          ]
        }
      ],
      "source": [
        "def sol():\n",
        "    Name = input().rstrip()\n",
        "    name = Name[0]\n",
        "    for i in range(1,len(Name)):\n",
        "        if Name[i] == \"-\":\n",
        "            name += Name[i+1]\n",
        "    return name\n",
        "                   \n",
        "print(sol())"
      ]
    }
  ]
}