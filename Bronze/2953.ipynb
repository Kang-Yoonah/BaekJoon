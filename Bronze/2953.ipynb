{
  "nbformat": 4,
  "nbformat_minor": 0,
  "metadata": {
    "colab": {
      "provenance": [],
      "authorship_tag": "ABX9TyOmmeWajkcOsNIivKP84vI1",
      "include_colab_link": true
    },
    "kernelspec": {
      "name": "python3",
      "display_name": "Python 3"
    },
    "language_info": {
      "name": "python"
    }
  },
  "cells": [
    {
      "cell_type": "markdown",
      "metadata": {
        "id": "view-in-github",
        "colab_type": "text"
      },
      "source": [
        "<a href=\"https://colab.research.google.com/github/Kang-Yoonah/BaekJoon/blob/main/Bronze/2953.ipynb\" target=\"_parent\"><img src=\"https://colab.research.google.com/assets/colab-badge.svg\" alt=\"Open In Colab\"/></a>"
      ]
    },
    {
      "cell_type": "code",
      "source": [
        "#import sys\n",
        "#input = sys.stdin.readline\n",
        "\n",
        "def sol():\n",
        "    lst = [sum(map(int,input().split())) for _ in range(5)]\n",
        "    v = max(lst)\n",
        "    print(lst.index(v)+1, v)\n",
        "sol()"
      ],
      "metadata": {
        "id": "Gw8F0-TWPI0g",
        "colab": {
          "base_uri": "https://localhost:8080/"
        },
        "outputId": "3d831233-03b2-4497-fb99-ece76d0780d9"
      },
      "execution_count": 3,
      "outputs": [
        {
          "output_type": "stream",
          "name": "stdout",
          "text": [
            "5 4 4 5\n",
            "5 4 4 4\n",
            "5 5 4 4\n",
            "5 5 5 4\n",
            "4 4 4 5\n",
            "4 19\n"
          ]
        }
      ]
    }
  ]
}