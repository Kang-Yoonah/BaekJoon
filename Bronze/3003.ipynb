{
  "nbformat": 4,
  "nbformat_minor": 0,
  "metadata": {
    "colab": {
      "name": "3003.ipynb",
      "provenance": [],
      "authorship_tag": "ABX9TyPjzbdo5Fr7mgJ9sEPAtjM4",
      "include_colab_link": true
    },
    "kernelspec": {
      "name": "python3",
      "display_name": "Python 3"
    },
    "language_info": {
      "name": "python"
    }
  },
  "cells": [
    {
      "cell_type": "markdown",
      "metadata": {
        "id": "view-in-github",
        "colab_type": "text"
      },
      "source": [
        "<a href=\"https://colab.research.google.com/github/Kang-Yoonah/BaekJoon/blob/main/Bronze/3003.ipynb\" target=\"_parent\"><img src=\"https://colab.research.google.com/assets/colab-badge.svg\" alt=\"Open In Colab\"/></a>"
      ]
    },
    {
      "cell_type": "code",
      "execution_count": 1,
      "metadata": {
        "colab": {
          "base_uri": "https://localhost:8080/"
        },
        "id": "u03O7RgfpNbw",
        "outputId": "3a6daa49-7f05-437e-8d9f-3efc2b6d68e8"
      },
      "outputs": [
        {
          "output_type": "stream",
          "name": "stdout",
          "text": [
            "0 1 2 2 2 7\n",
            "1 0 0 0 0 1 "
          ]
        }
      ],
      "source": [
        "num = list(map(int,input().split()))\n",
        "ans = [1, 1, 2, 2, 2, 8]\n",
        "for i in range(6):\n",
        "    print(ans[i]-num[i], end=' ')"
      ]
    }
  ]
}