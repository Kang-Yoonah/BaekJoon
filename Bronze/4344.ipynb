{
  "nbformat": 4,
  "nbformat_minor": 0,
  "metadata": {
    "colab": {
      "name": "4344.ipynb",
      "provenance": [],
      "authorship_tag": "ABX9TyNmE9O6MqBY6b+GYX8XpVJj"
    },
    "kernelspec": {
      "name": "python3",
      "display_name": "Python 3"
    },
    "language_info": {
      "name": "python"
    }
  },
  "cells": [
    {
      "cell_type": "code",
      "execution_count": 10,
      "metadata": {
        "colab": {
          "base_uri": "https://localhost:8080/"
        },
        "id": "SNqbFmoeUFEy",
        "outputId": "4e7607b0-dc2b-43ec-c71a-7e2387135eb9"
      },
      "outputs": [
        {
          "output_type": "stream",
          "name": "stdout",
          "text": [
            "5\n",
            "5 50 50 70 80 100\n",
            "40.000%\n",
            "7 100 95 90 80 70 60 50\n",
            "57.143%\n",
            "3 70 90 80\n",
            "33.333%\n",
            "3 70 90 81\n",
            "66.667%\n",
            "9 100 99 98 97 96 95 94 93 91\n",
            "55.556%\n"
          ]
        }
      ],
      "source": [
        "#4344\n",
        "N = int(input())\n",
        "for i in range(N):\n",
        "    score = list(map(int,input().split()))\n",
        "    score_sum = sum(score[1:])\n",
        "    mean = score_sum / score[0]\n",
        "    num = 0\n",
        "    for s in score[1:]:\n",
        "        if s > mean:\n",
        "            num +=1\n",
        "    print(f'{(num/score[0])*100:.3f}%')"
      ]
    }
  ]
}