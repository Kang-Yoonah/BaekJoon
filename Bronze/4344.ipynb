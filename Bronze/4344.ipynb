{
  "nbformat": 4,
  "nbformat_minor": 0,
  "metadata": {
    "colab": {
      "name": "4344.ipynb",
      "provenance": [],
      "authorship_tag": "ABX9TyN6lA1LM5iKDBoeLx8VMToY"
    },
    "kernelspec": {
      "name": "python3",
      "display_name": "Python 3"
    },
    "language_info": {
      "name": "python"
    }
  },
  "cells": [
    {
      "cell_type": "code",
      "execution_count": null,
      "metadata": {
        "colab": {
          "base_uri": "https://localhost:8080/"
        },
        "id": "mpb89oOZ6Ht3",
        "outputId": "b40c0e27-2d4b-4a03-bc9d-3fa226ac6eb4"
      },
      "outputs": [
        {
          "output_type": "stream",
          "name": "stdout",
          "text": [
            "3\n",
            "7 100 95 90 80 70 60 50\n",
            "3 70 90 80\n",
            "3 70 90 81\n",
            "57.143%\n",
            "33.333%\n",
            "66.667%\n"
          ]
        }
      ],
      "source": [
        "#4344\n",
        "N = int(input())\n",
        "num_list = list()\n",
        "for i in range(N):\n",
        "    score = list(map(int,input().split()))\n",
        "    score_sum = 0\n",
        "    n = score[0]\n",
        "    for j in range(1,n+1):\n",
        "        score_sum += score[j]\n",
        "    mean = score_sum / n\n",
        "    num = 0\n",
        "    for s in score[1:]:\n",
        "        if s > mean:\n",
        "            num +=1\n",
        "    num_list.append(num/n)\n",
        "for i in range(N):\n",
        "    print(f'{(num_list[i])*100:.3f}%')"
      ]
    }
  ]
}