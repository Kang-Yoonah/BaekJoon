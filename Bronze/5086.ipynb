{
  "nbformat": 4,
  "nbformat_minor": 0,
  "metadata": {
    "colab": {
      "name": "5086.ipynb",
      "provenance": [],
      "authorship_tag": "ABX9TyN0hQsLw5+rpTks7tNHMXRY",
      "include_colab_link": true
    },
    "kernelspec": {
      "name": "python3",
      "display_name": "Python 3"
    },
    "language_info": {
      "name": "python"
    }
  },
  "cells": [
    {
      "cell_type": "markdown",
      "metadata": {
        "id": "view-in-github",
        "colab_type": "text"
      },
      "source": [
        "<a href=\"https://colab.research.google.com/github/Kang-Yoonah/BaekJoon/blob/main/Bronze/5086.ipynb\" target=\"_parent\"><img src=\"https://colab.research.google.com/assets/colab-badge.svg\" alt=\"Open In Colab\"/></a>"
      ]
    },
    {
      "cell_type": "code",
      "execution_count": 1,
      "metadata": {
        "colab": {
          "base_uri": "https://localhost:8080/"
        },
        "id": "K_an052PL087",
        "outputId": "18ebf699-f7a0-4d6c-fe2b-28a7260c959a"
      },
      "outputs": [
        {
          "name": "stdout",
          "output_type": "stream",
          "text": [
            "8 16\n",
            "factor\n",
            "32 4\n",
            "multiple\n",
            "17 5\n",
            "neither\n",
            "0 0 \n"
          ]
        }
      ],
      "source": [
        "while 1:\n",
        "    a,b = map(int,input().split())\n",
        "    if a == 0 and b == 0:\n",
        "        break\n",
        "    if a%b == 0:\n",
        "        print(\"multiple\")\n",
        "    elif b%a == 0:\n",
        "        print(\"factor\")\n",
        "    else:\n",
        "        print(\"neither\")"
      ]
    }
  ]
}