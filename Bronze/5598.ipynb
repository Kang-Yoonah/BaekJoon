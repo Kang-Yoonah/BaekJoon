{
  "nbformat": 4,
  "nbformat_minor": 0,
  "metadata": {
    "colab": {
      "name": "5598.ipynb",
      "provenance": [],
      "authorship_tag": "ABX9TyOgkSxhPIs3p2Wo5ElkAsKv"
    },
    "kernelspec": {
      "name": "python3",
      "display_name": "Python 3"
    },
    "language_info": {
      "name": "python"
    }
  },
  "cells": [
    {
      "cell_type": "code",
      "execution_count": 44,
      "metadata": {
        "colab": {
          "base_uri": "https://localhost:8080/"
        },
        "id": "7FXDSfPmx3YD",
        "outputId": "57730b3c-6fa1-4c0a-fc99-9d25766465bd"
      },
      "outputs": [
        {
          "output_type": "stream",
          "name": "stdout",
          "text": [
            "FURDWLD\n",
            "CROATIA"
          ]
        }
      ],
      "source": [
        "# 5598 카이사르 암호\n",
        "char = input()\n",
        "for i in char:\n",
        "    if 67<ord(i):\n",
        "        print(chr(ord(i)-3),end='')\n",
        "    else:\n",
        "        print(chr(ord(i)+23),end='')"
      ]
    }
  ]
}