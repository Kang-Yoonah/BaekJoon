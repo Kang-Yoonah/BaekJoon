{
  "nbformat": 4,
  "nbformat_minor": 0,
  "metadata": {
    "colab": {
      "provenance": [],
      "authorship_tag": "ABX9TyOq05uK+EGMi+rXutwUiyvS",
      "include_colab_link": true
    },
    "kernelspec": {
      "name": "python3",
      "display_name": "Python 3"
    },
    "language_info": {
      "name": "python"
    }
  },
  "cells": [
    {
      "cell_type": "markdown",
      "metadata": {
        "id": "view-in-github",
        "colab_type": "text"
      },
      "source": [
        "<a href=\"https://colab.research.google.com/github/Kang-Yoonah/BaekJoon/blob/main/Bronze/9506.ipynb\" target=\"_parent\"><img src=\"https://colab.research.google.com/assets/colab-badge.svg\" alt=\"Open In Colab\"/></a>"
      ]
    },
    {
      "cell_type": "code",
      "source": [
        "def sol():\n",
        "    while 1:\n",
        "        n = int(input())\n",
        "        if n > 1:\n",
        "            num = 1\n",
        "            Num = ['1']\n",
        "            for i in range(2,int(n**0.5)+1):\n",
        "                if n%i == 0:\n",
        "                    num += i + n//i\n",
        "                    Num +=[str(i),str(n//i)]\n",
        "            if num == n:\n",
        "                print(f\"{n} =\",\" + \".join(sorted(Num,key = lambda x :int(x))))\n",
        "            else:\n",
        "                print(n,\"is NOT perfect.\")\n",
        "        else:\n",
        "            break\n",
        "\n",
        "sol()"
      ],
      "metadata": {
        "id": "V5Behma77t2H",
        "colab": {
          "base_uri": "https://localhost:8080/"
        },
        "outputId": "a703c351-a5f1-425a-b80e-d6fd7247e32b"
      },
      "execution_count": 5,
      "outputs": [
        {
          "name": "stdout",
          "output_type": "stream",
          "text": [
            "6\n",
            "6 = 1 + 2 + 3\n",
            "12\n",
            "12 is NOT perfect.\n",
            "28\n",
            "28 = 1 + 2 + 4 + 7 + 14\n",
            "-1\n"
          ]
        }
      ]
    }
  ]
}