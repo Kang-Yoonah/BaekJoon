{
  "nbformat": 4,
  "nbformat_minor": 0,
  "metadata": {
    "colab": {
      "name": "2439.ipynb",
      "provenance": [],
      "authorship_tag": "ABX9TyPY7P/BAcXZZX/HyGSXcqpd"
    },
    "kernelspec": {
      "name": "python3",
      "display_name": "Python 3"
    },
    "language_info": {
      "name": "python"
    }
  },
  "cells": [
    {
      "cell_type": "code",
      "execution_count": 48,
      "metadata": {
        "colab": {
          "base_uri": "https://localhost:8080/"
        },
        "id": "mpb89oOZ6Ht3",
        "outputId": "e9ef6373-aca4-446f-faad-e10c2bb19011"
      },
      "outputs": [
        {
          "output_type": "stream",
          "name": "stdout",
          "text": [
            "5\n",
            "    *\n",
            "   **\n",
            "  ***\n",
            " ****\n",
            "*****\n"
          ]
        }
      ],
      "source": [
        "#2439\n",
        "m = n = int(input())\n",
        "i = 1\n",
        "while i<=m:\n",
        "    a=b=1\n",
        "    while a<n:\n",
        "        print(' ',end='')\n",
        "        a+=1\n",
        "    n-=1\n",
        "    while b<(i+1):\n",
        "        print('*',end='')\n",
        "        b+=1\n",
        "    print()\n",
        "    i+=1"
      ]
    }
  ]
}
