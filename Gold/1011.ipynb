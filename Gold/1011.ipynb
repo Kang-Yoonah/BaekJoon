{
  "nbformat": 4,
  "nbformat_minor": 0,
  "metadata": {
    "colab": {
      "name": "1011.ipynb",
      "provenance": [],
      "authorship_tag": "ABX9TyNeFmXmJJ7vS89q7Ydopkn8",
      "include_colab_link": true
    },
    "kernelspec": {
      "name": "python3",
      "display_name": "Python 3"
    },
    "language_info": {
      "name": "python"
    }
  },
  "cells": [
    {
      "cell_type": "markdown",
      "metadata": {
        "id": "view-in-github",
        "colab_type": "text"
      },
      "source": [
        "<a href=\"https://colab.research.google.com/github/Kang-Yoonah/BaekJoon/blob/main/Gold/1011.ipynb\" target=\"_parent\"><img src=\"https://colab.research.google.com/assets/colab-badge.svg\" alt=\"Open In Colab\"/></a>"
      ]
    },
    {
      "cell_type": "code",
      "execution_count": 12,
      "metadata": {
        "id": "_4dZLY7-Feuk",
        "colab": {
          "base_uri": "https://localhost:8080/"
        },
        "outputId": "96d43a47-b71d-4adb-938e-5ad6fde21540"
      },
      "outputs": [
        {
          "output_type": "stream",
          "name": "stdout",
          "text": [
            "3\n",
            "0 3\n",
            "3\n",
            "1 5\n",
            "3\n",
            "45 50\n",
            "4\n"
          ]
        }
      ],
      "source": [
        "def calculate(num):\n",
        "    value = 1\n",
        "    k = 1\n",
        "    while value <= num:\n",
        "        value += k*2\n",
        "        k += 1\n",
        "    k -= 1\n",
        "    if value - k <= num:\n",
        "        return (2*k-1)+1\n",
        "    else:\n",
        "        return (2*k-1)\n",
        "for _ in range(int(input())):\n",
        "    x,y = map(int,input().split())\n",
        "    xy = y-x\n",
        "    print(calculate(xy))"
      ]
    },
    {
      "cell_type": "code",
      "source": [
        "for i in range(int(input())):\n",
        "    x,y = map(int,input().split())\n",
        "    xy = y-x\n",
        "    max_speed = int(xy ** 0.5)\n",
        "    namuzi = xy - max_speed ** 2\n",
        " \n",
        "    count = 2*max_speed - 1\n",
        "    while namuzi > 0:\n",
        "        namuzi -= max_speed\n",
        "        count += 1\n",
        "    print(count)"
      ],
      "metadata": {
        "colab": {
          "base_uri": "https://localhost:8080/"
        },
        "id": "kRRF1YEPFvIj",
        "outputId": "0d0f8e17-11fb-418f-835e-c3ac99a7d3c5"
      },
      "execution_count": 11,
      "outputs": [
        {
          "output_type": "stream",
          "name": "stdout",
          "text": [
            "3\n",
            "0 3\n",
            "3\n",
            "1 5\n",
            "3\n",
            "45 50\n",
            "4\n"
          ]
        }
      ]
    }
  ]
}