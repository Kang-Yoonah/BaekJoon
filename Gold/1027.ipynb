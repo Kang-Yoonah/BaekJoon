{
  "nbformat": 4,
  "nbformat_minor": 0,
  "metadata": {
    "colab": {
      "provenance": [],
      "authorship_tag": "ABX9TyN1fZRXn568jy10qDr0WqJE",
      "include_colab_link": true
    },
    "kernelspec": {
      "name": "python3",
      "display_name": "Python 3"
    },
    "language_info": {
      "name": "python"
    }
  },
  "cells": [
    {
      "cell_type": "markdown",
      "metadata": {
        "id": "view-in-github",
        "colab_type": "text"
      },
      "source": [
        "<a href=\"https://colab.research.google.com/github/Kang-Yoonah/BaekJoon/blob/main/Gold/1027.ipynb\" target=\"_parent\"><img src=\"https://colab.research.google.com/assets/colab-badge.svg\" alt=\"Open In Colab\"/></a>"
      ]
    },
    {
      "cell_type": "code",
      "execution_count": 5,
      "metadata": {
        "colab": {
          "base_uri": "https://localhost:8080/"
        },
        "id": "So3x9K_4G-c9",
        "outputId": "34d7212c-7a3d-4ad8-f9f2-b300ef766d0a"
      },
      "outputs": [
        {
          "output_type": "stream",
          "name": "stdout",
          "text": [
            "15\n",
            "1 5 3 2 6 3 2 6 4 2 5 7 3 1 5\n",
            "7\n"
          ]
        }
      ],
      "source": [
        "N = int(input())\n",
        "building = list(map(int,input().split()))\n",
        "\n",
        "ans = [0]*N\n",
        "def check(i1,h1,i2,h2):\n",
        "    a = (h1-h2)/(i1-i2)\n",
        "    b = h1-a*i1\n",
        "    m, n = min(i1,i2), max(i1,i2)\n",
        "    \n",
        "    for i in range(m+1,n):\n",
        "        if building[i] >= a*i+b:\n",
        "            return 0\n",
        "    return 1\n",
        "    \n",
        "for i in range(N):\n",
        "    for j in range(i+1,N):\n",
        "        if check(i,building[i],j,building[j]) == 1:\n",
        "            ans[i] += 1\n",
        "            ans[j] += 1\n",
        "\n",
        "print(max(ans))"
      ]
    }
  ]
}