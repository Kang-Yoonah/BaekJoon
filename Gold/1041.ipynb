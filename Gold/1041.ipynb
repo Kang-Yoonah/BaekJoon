{
  "nbformat": 4,
  "nbformat_minor": 0,
  "metadata": {
    "colab": {
      "name": "1041.ipynb",
      "provenance": [],
      "authorship_tag": "ABX9TyPC3qFetLIMAV2F5EcN2Gbg",
      "include_colab_link": true
    },
    "kernelspec": {
      "name": "python3",
      "display_name": "Python 3"
    },
    "language_info": {
      "name": "python"
    }
  },
  "cells": [
    {
      "cell_type": "markdown",
      "metadata": {
        "id": "view-in-github",
        "colab_type": "text"
      },
      "source": [
        "<a href=\"https://colab.research.google.com/github/Kang-Yoonah/BaekJoon/blob/main/Gold/1041.ipynb\" target=\"_parent\"><img src=\"https://colab.research.google.com/assets/colab-badge.svg\" alt=\"Open In Colab\"/></a>"
      ]
    },
    {
      "cell_type": "markdown",
      "source": [
        "주사위는 위와 같이 생겼다. 주사위의 여섯 면에는 수가 쓰여 있다. 위의 전개도를 수가 밖으로 나오게 접는다.\n",
        "\n",
        "A, B, C, D, E, F에 쓰여 있는 수가 주어진다.\n",
        "\n",
        "지민이는 현재 동일한 주사위를 N3개 가지고 있다. 이 주사위를 적절히 회전시키고 쌓아서, N×N×N크기의 정육면체를 만들려고 한다. 이 정육면체는 탁자위에 있으므로, 5개의 면만 보인다.\n",
        "\n",
        "N과 주사위에 쓰여 있는 수가 주어질 때, 보이는 5개의 면에 쓰여 있는 수의 합의 최솟값을 출력하는 프로그램을 작성하시오.\n",
        "\n",
        "**입력**\n",
        "- 첫째 줄에 N이 주어진다. 둘째 줄에 주사위에 쓰여 있는 수가 주어진다.  \n",
        " 위의 그림에서 A, B, C, D, E, F에 쓰여 있는 수가 차례대로 주어진다.   \n",
        " N은 1,000,000보다 작거나 같은 자연수이고, 쓰여 있는 수는 50보다 작거나 같은 자연수이다.\n",
        "\n",
        " **제한**\n",
        " - 시간제한 : 2초\n",
        " - 메모리제한 : 128MB\n",
        "\n",
        " **출력**\n",
        " - 첫째 줄에 문제의 정답을 출력한다."
      ],
      "metadata": {
        "id": "bPZtE_RMw90I"
      }
    },
    {
      "cell_type": "code",
      "execution_count": 53,
      "metadata": {
        "colab": {
          "base_uri": "https://localhost:8080/"
        },
        "id": "kvwuob8MwnJf",
        "outputId": "f6203ef1-04d7-4e6a-d785-1683d43707bb"
      },
      "outputs": [
        {
          "output_type": "stream",
          "name": "stdout",
          "text": [
            "1000000\n",
            "50 50 50 50 50 50\n",
            "250000000000000\n"
          ]
        }
      ],
      "source": [
        "#import sys\n",
        "#input = sys.stdin.readline\n",
        "def num_remove(num, ind, m):\n",
        "    num[ind] = m\n",
        "    num[5-ind] = m\n",
        "    return num\n",
        "\n",
        "N = int(input())\n",
        "num = list(map(int,input().split()))\n",
        "\n",
        "if N == 1:\n",
        "    a = sum(num)\n",
        "    print(a - max(num))\n",
        "else:\n",
        "    m = max(num)\n",
        "\n",
        "    n1 = min(num)\n",
        "    num = num_remove(num, num.index(n1), m)\n",
        "    n2 = min(num)\n",
        "    num = num_remove(num, num.index(n2), m)\n",
        "    n3 = min(num)\n",
        "\n",
        "    n2 += n1\n",
        "    n3 += n2\n",
        "    print((4*(N-2)*(N-1) + (N-2)**2)*n1 + ((N-1)*4+4*N-8)*n2 + 4*n3)"
      ]
    },
    {
      "cell_type": "markdown",
      "source": [
        "**이해 및 분석**\n",
        "- 2면이 보이는 주사위 개수 : ((N-1)* 4 + 4 * N-8)\n",
        "- 3면이 보이는 주사위 개수 : 4\n",
        "- 1면이 보이는 주사위 개수 : 4(N-2)(N-1) + (N-2)**2\n",
        "- 주사위에서 한 면이 다른 면과 선분으로 안 닿아있는 부분은 맞은편뿐이다.   \n",
        "- 한 면이 minimum이라면 그 면이 포함되어있는 조합들 중 하나가 minimum이 될 것이다. \n",
        "- 문제에서 주어진 장치, 상황에 맞는 조건들을 파악하자.   \n",
        "모든 경우의 수를 코드로 다 돌리려고 하지 말고 조건을 해석해서 최적의 Solution을 생각하자."
      ],
      "metadata": {
        "id": "me8U1biTxP_G"
      }
    }
  ]
}