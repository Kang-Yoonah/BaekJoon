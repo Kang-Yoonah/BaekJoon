{
  "nbformat": 4,
  "nbformat_minor": 0,
  "metadata": {
    "colab": {
      "provenance": [],
      "authorship_tag": "ABX9TyOX25UBNqHINBr/9NkfulKr",
      "include_colab_link": true
    },
    "kernelspec": {
      "name": "python3",
      "display_name": "Python 3"
    },
    "language_info": {
      "name": "python"
    }
  },
  "cells": [
    {
      "cell_type": "markdown",
      "metadata": {
        "id": "view-in-github",
        "colab_type": "text"
      },
      "source": [
        "<a href=\"https://colab.research.google.com/github/Kang-Yoonah/BaekJoon/blob/main/Gold/1092.ipynb\" target=\"_parent\"><img src=\"https://colab.research.google.com/assets/colab-badge.svg\" alt=\"Open In Colab\"/></a>"
      ]
    },
    {
      "cell_type": "code",
      "execution_count": 1,
      "metadata": {
        "colab": {
          "base_uri": "https://localhost:8080/"
        },
        "id": "J7eN9PBC_AtV",
        "outputId": "1cc0bc93-839c-4638-d188-4096512b3fd4"
      },
      "outputs": [
        {
          "output_type": "stream",
          "name": "stdout",
          "text": [
            "4\n",
            "23 32 25 28\n",
            "10\n",
            "5 27 10 16 24 20 2 32 18 7\n",
            "3\n"
          ]
        }
      ],
      "source": [
        "def sol():\n",
        "    input()\n",
        "    Crain = sorted(list(map(int,input().split())), reverse=True)\n",
        "    M = int(input())\n",
        "    Box = sorted(list(map(int,input().split())),reverse = True)  \n",
        "    if Box[0] > Crain[0]:\n",
        "        return -1  \n",
        "    num = 0\n",
        "    while M:\n",
        "        i = 0\n",
        "        for crain in Crain:\n",
        "            while i < M and Box[i] > crain:\n",
        "                i += 1\n",
        "            if i < M:\n",
        "                M -= 1\n",
        "                del Box[i]\n",
        "        num += 1\n",
        "        \n",
        "    return num\n",
        "\n",
        "print(sol())"
      ]
    }
  ]
}