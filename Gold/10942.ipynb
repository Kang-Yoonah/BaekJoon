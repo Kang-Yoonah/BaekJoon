{
  "nbformat": 4,
  "nbformat_minor": 0,
  "metadata": {
    "colab": {
      "provenance": [],
      "authorship_tag": "ABX9TyOxKP+cLoEhqZcIovEkYalg",
      "include_colab_link": true
    },
    "kernelspec": {
      "name": "python3",
      "display_name": "Python 3"
    },
    "language_info": {
      "name": "python"
    }
  },
  "cells": [
    {
      "cell_type": "markdown",
      "metadata": {
        "id": "view-in-github",
        "colab_type": "text"
      },
      "source": [
        "<a href=\"https://colab.research.google.com/github/Kang-Yoonah/BaekJoon/blob/main/Gold/10942.ipynb\" target=\"_parent\"><img src=\"https://colab.research.google.com/assets/colab-badge.svg\" alt=\"Open In Colab\"/></a>"
      ]
    },
    {
      "cell_type": "code",
      "execution_count": 1,
      "metadata": {
        "colab": {
          "base_uri": "https://localhost:8080/"
        },
        "id": "CTxdTpv0cwx_",
        "outputId": "ffcbbe9d-bd07-4d9b-f251-561423732aa4"
      },
      "outputs": [
        {
          "output_type": "stream",
          "name": "stdout",
          "text": [
            "2\n",
            "1 1\n",
            "1\n",
            "1 2\n",
            "1\n"
          ]
        }
      ],
      "source": [
        "def sol(N):\n",
        "    Blackboard = tuple(map(int,input().split()))\n",
        "    dp = [[0]*N for _ in range(N)]\n",
        "    for i in range(N):\n",
        "        dp[i][i] = 1\n",
        "    for i in range(N-1,-1,-1):\n",
        "        for j in range(N-1,i,-1):\n",
        "            if Blackboard[i] == Blackboard[j]:\n",
        "                if j == i+1:\n",
        "                    dp[i][j] = 1\n",
        "                else:\n",
        "                    dp[i][j] = dp[i+1][j-1]\n",
        "    \n",
        "    for _ in range(int(input())):\n",
        "        i,j = map(int,input().split())\n",
        "        print(dp[i-1][j-1])\n",
        "\n",
        "sol(int(input()))"
      ]
    },
    {
      "cell_type": "code",
      "source": [
        "N = int(input())\n",
        "num = list(map(int, input().split()))\n",
        "\n",
        "def find():  \n",
        "    chk = [[0]*N for _ in range(N)]\n",
        "    M = int(input())\n",
        "    for _ in range(M):\n",
        "        S,E = map(int, input().split())\n",
        "\n",
        "        S, E = S-1,E-1\n",
        "        s,e,t = S,E,0\n",
        "        while s<=e and chk[s][e] == 0:\n",
        "            if num[s] != num[e]:\n",
        "                chk[s][e], t = 0, 1\n",
        "                break\n",
        "            s, e = s+1, e-1\n",
        "        if t:\n",
        "            print(0)\n",
        "        else:\n",
        "            print(1)\n",
        "            while S<=E and chk[S][E] == 0:\n",
        "                chk[S][E] = 1\n",
        "                S, E = S+1, E-1\n",
        "find()"
      ],
      "metadata": {
        "colab": {
          "base_uri": "https://localhost:8080/"
        },
        "id": "NpZ0FGfRdHsN",
        "outputId": "0ad6bab1-5e65-4432-84bf-bf3e4650fd2c"
      },
      "execution_count": 2,
      "outputs": [
        {
          "output_type": "stream",
          "name": "stdout",
          "text": [
            "7\n",
            "1 2 1 3 1 2 1\n",
            "4\n",
            "1 3\n",
            "1\n",
            "2 5\n",
            "0\n",
            "3 3\n",
            "1\n",
            "5 7\n",
            "1\n"
          ]
        }
      ]
    }
  ]
}