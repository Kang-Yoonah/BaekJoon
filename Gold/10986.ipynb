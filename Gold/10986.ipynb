{
  "nbformat": 4,
  "nbformat_minor": 0,
  "metadata": {
    "colab": {
      "name": "10986.ipynb",
      "provenance": [],
      "authorship_tag": "ABX9TyPyesmwYp0RVjmd1eoJkbu/",
      "include_colab_link": true
    },
    "kernelspec": {
      "name": "python3",
      "display_name": "Python 3"
    },
    "language_info": {
      "name": "python"
    }
  },
  "cells": [
    {
      "cell_type": "markdown",
      "metadata": {
        "id": "view-in-github",
        "colab_type": "text"
      },
      "source": [
        "<a href=\"https://colab.research.google.com/github/Kang-Yoonah/BaekJoon/blob/main/Gold/10986.ipynb\" target=\"_parent\"><img src=\"https://colab.research.google.com/assets/colab-badge.svg\" alt=\"Open In Colab\"/></a>"
      ]
    },
    {
      "cell_type": "code",
      "execution_count": 4,
      "metadata": {
        "colab": {
          "base_uri": "https://localhost:8080/"
        },
        "id": "xDMwgCr7Kdrq",
        "outputId": "f2906fa4-4623-4017-e85e-15ec7d76afa0"
      },
      "outputs": [
        {
          "output_type": "stream",
          "name": "stdout",
          "text": [
            "5 3\n",
            "1 2 3 1 2\n",
            "7\n"
          ]
        }
      ],
      "source": [
        "N, M = map(int,input().split())\n",
        "num = list(map(int,input().split()))\n",
        "r, t, ans = [0]*M, 0, 0\n",
        "for n in range(N):\n",
        "    t = (t + num[n])%M\n",
        "    r[t] += 1\n",
        "\n",
        "r[0] += 1\n",
        "for v in r:\n",
        "    ans += (v-1)*v//2\n",
        "print(ans)"
      ]
    },
    {
      "cell_type": "code",
      "source": [
        "def remainder():\n",
        "    _,M = map(int,input().split())\n",
        "    num = list(map(int,input().split()))\n",
        "\n",
        "    r, t, ans = [0]*M, 0, 0\n",
        "    r[0] = 1\n",
        "    for n in num:\n",
        "        t = (t + n)%M\n",
        "        ans += r[t]\n",
        "        r[t] += 1\n",
        "    print(ans)\n",
        "\n",
        "remainder()"
      ],
      "metadata": {
        "colab": {
          "base_uri": "https://localhost:8080/"
        },
        "id": "x_5yCP9YTd76",
        "outputId": "8b28dd32-4252-4969-d60d-75a820dc340f"
      },
      "execution_count": 3,
      "outputs": [
        {
          "output_type": "stream",
          "name": "stdout",
          "text": [
            "5 3\n",
            "1 2 3 1 2\n",
            "7\n"
          ]
        }
      ]
    }
  ]
}