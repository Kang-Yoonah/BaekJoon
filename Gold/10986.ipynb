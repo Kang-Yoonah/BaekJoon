{
  "nbformat": 4,
  "nbformat_minor": 0,
  "metadata": {
    "colab": {
      "name": "10986.ipynb",
      "provenance": [],
      "authorship_tag": "ABX9TyMhX0aaG4/RdfzNMS/voEyl",
      "include_colab_link": true
    },
    "kernelspec": {
      "name": "python3",
      "display_name": "Python 3"
    },
    "language_info": {
      "name": "python"
    }
  },
  "cells": [
    {
      "cell_type": "markdown",
      "metadata": {
        "id": "view-in-github",
        "colab_type": "text"
      },
      "source": [
        "<a href=\"https://colab.research.google.com/github/Kang-Yoonah/BaekJoon/blob/main/Gold/10986.ipynb\" target=\"_parent\"><img src=\"https://colab.research.google.com/assets/colab-badge.svg\" alt=\"Open In Colab\"/></a>"
      ]
    },
    {
      "cell_type": "code",
      "execution_count": 1,
      "metadata": {
        "colab": {
          "base_uri": "https://localhost:8080/"
        },
        "id": "xDMwgCr7Kdrq",
        "outputId": "d1c2ef19-504a-46c5-f91f-820bac8f089d"
      },
      "outputs": [
        {
          "output_type": "stream",
          "name": "stdout",
          "text": [
            "5 3\n",
            "1 2 3 1 2\n",
            "7\n"
          ]
        }
      ],
      "source": [
        "N, M = map(int,input().split())\n",
        "num = list(map(int,input().split()))\n",
        "r, t, ans = [0]*M, 0, 0\n",
        "for n in range(N):\n",
        "    t = (t + num[n])%M\n",
        "    r[t] += 1\n",
        "\n",
        "r[0] += 1\n",
        "for v in r:\n",
        "    ans += (v-1)*v//2\n",
        "print(ans)"
      ]
    }
  ]
}