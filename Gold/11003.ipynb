{
  "nbformat": 4,
  "nbformat_minor": 0,
  "metadata": {
    "colab": {
      "provenance": [],
      "authorship_tag": "ABX9TyMZpeFKHW4bBEaz/lpMz3Wm",
      "include_colab_link": true
    },
    "kernelspec": {
      "name": "python3",
      "display_name": "Python 3"
    },
    "language_info": {
      "name": "python"
    }
  },
  "cells": [
    {
      "cell_type": "markdown",
      "metadata": {
        "id": "view-in-github",
        "colab_type": "text"
      },
      "source": [
        "<a href=\"https://colab.research.google.com/github/Kang-Yoonah/BaekJoon/blob/main/Gold/11003.ipynb\" target=\"_parent\"><img src=\"https://colab.research.google.com/assets/colab-badge.svg\" alt=\"Open In Colab\"/></a>"
      ]
    },
    {
      "cell_type": "code",
      "execution_count": 3,
      "metadata": {
        "colab": {
          "base_uri": "https://localhost:8080/"
        },
        "id": "I4hFAL86xyys",
        "outputId": "d8a2a516-b33e-4b1f-dae8-b9799386bdd8"
      },
      "outputs": [
        {
          "output_type": "stream",
          "name": "stdout",
          "text": [
            "12 3\n",
            "1 5 2 3 6 2 3 7 3 5 2 6\n",
            "1 1 1 2 2 2 2 2 3 3 2 2\n"
          ]
        }
      ],
      "source": [
        "from collections import deque\n",
        "\n",
        "N, L = map(int, input().split())\n",
        "A = list(map(int, input().split()))\n",
        "\n",
        "ans_d = deque()\n",
        "ans = []\n",
        "for i in range(N):\n",
        "    v = A[i]\n",
        "    while ans_d and ans_d[-1][0] >= v:\n",
        "        ans_d.pop()\n",
        "    ans_d.append((v, i))\n",
        "    while ans_d[0][1] < (i-L+1):\n",
        "        ans_d.popleft()\n",
        "    ans.append(ans_d[0][0])\n",
        "print(*ans)"
      ]
    }
  ]
}