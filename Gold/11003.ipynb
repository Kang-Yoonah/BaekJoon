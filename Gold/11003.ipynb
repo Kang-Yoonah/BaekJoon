{
  "nbformat": 4,
  "nbformat_minor": 0,
  "metadata": {
    "colab": {
      "provenance": [],
      "authorship_tag": "ABX9TyOmwnpRAxfxH8KQ320ivwAT",
      "include_colab_link": true
    },
    "kernelspec": {
      "name": "python3",
      "display_name": "Python 3"
    },
    "language_info": {
      "name": "python"
    }
  },
  "cells": [
    {
      "cell_type": "markdown",
      "metadata": {
        "id": "view-in-github",
        "colab_type": "text"
      },
      "source": [
        "<a href=\"https://colab.research.google.com/github/Kang-Yoonah/BaekJoon/blob/main/Gold/11003.ipynb\" target=\"_parent\"><img src=\"https://colab.research.google.com/assets/colab-badge.svg\" alt=\"Open In Colab\"/></a>"
      ]
    },
    {
      "cell_type": "code",
      "execution_count": 1,
      "metadata": {
        "colab": {
          "base_uri": "https://localhost:8080/"
        },
        "id": "I4hFAL86xyys",
        "outputId": "8ebdfc5f-7ca3-4bdc-fd10-f0499203ce29"
      },
      "outputs": [
        {
          "output_type": "stream",
          "name": "stdout",
          "text": [
            "12 3\n",
            "1 5 2 3 6 2 3 7 3 5 2 6\n",
            "1 1 1 2 2 2 2 2 3 3 2 2 "
          ]
        }
      ],
      "source": [
        "from collections import deque\n",
        "\n",
        "N, L = map(int, input().split())\n",
        "A = list(map(int, input().split()))\n",
        "\n",
        "ans_d = deque()\n",
        "for i in range(N):\n",
        "    v = A[i]\n",
        "    if i == 0:\n",
        "        ans_d.append([v, i])\n",
        "    else:\n",
        "        while ans_d and ans_d[-1][0] >= v:\n",
        "            ans_d.pop()\n",
        "        ans_d.append([v, i])\n",
        "        while ans_d[0][1] < (i-L+1):\n",
        "            ans_d.popleft()\n",
        "    print(ans_d[0][0], end=' ')"
      ]
    }
  ]
}