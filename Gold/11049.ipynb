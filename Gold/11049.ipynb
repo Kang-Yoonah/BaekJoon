{
  "nbformat": 4,
  "nbformat_minor": 0,
  "metadata": {
    "colab": {
      "provenance": [],
      "collapsed_sections": [],
      "authorship_tag": "ABX9TyPUNvLZW6uj6sLdivoA0rKO",
      "include_colab_link": true
    },
    "kernelspec": {
      "name": "python3",
      "display_name": "Python 3"
    },
    "language_info": {
      "name": "python"
    }
  },
  "cells": [
    {
      "cell_type": "markdown",
      "metadata": {
        "id": "view-in-github",
        "colab_type": "text"
      },
      "source": [
        "<a href=\"https://colab.research.google.com/github/Kang-Yoonah/BaekJoon/blob/main/Gold/11049.ipynb\" target=\"_parent\"><img src=\"https://colab.research.google.com/assets/colab-badge.svg\" alt=\"Open In Colab\"/></a>"
      ]
    },
    {
      "cell_type": "code",
      "execution_count": 1,
      "metadata": {
        "colab": {
          "base_uri": "https://localhost:8080/"
        },
        "id": "e4VZ6wSCxJ7Z",
        "outputId": "1c4e7ede-223d-4826-b8de-906086928819"
      },
      "outputs": [
        {
          "output_type": "stream",
          "name": "stdout",
          "text": [
            "3\n",
            "5 3\n",
            "3 2\n",
            "2 6\n",
            "90\n"
          ]
        }
      ],
      "source": [
        "N = int(input())\n",
        "matrix = [list(map(int, input().split())) for _ in range(N)]\n",
        "# 곱셈의 최소 횟수 행렬\n",
        "dp = [[0]*N for _ in range(N)]\n",
        "\n",
        "for diagonal in range(1, N):  # dp[i][i]는 자기 자신의 행렬이기 때문에 값이 0\n",
        "    for i in range(0, N-diagonal):  # 대각선의 우측 한 칸씩 이동\n",
        "        j = i + diagonal  # 현재 대각선에서 몇 번째 원소인지\n",
        "        # 차이가 1밖에 나지 않는 칸\n",
        "        if diagonal == 1:\n",
        "            dp[i][j] = matrix[i][0] * matrix[j][0] * matrix[j][1]\n",
        "            continue\n",
        "\n",
        "        dp[i][j] = float('inf')\n",
        "        # 각 부분행렬의 곱셈 횟수 + 두 행렬의 곱셈 횟수\n",
        "        for k in range(i, j):  # k값으로 최적분할 찾기\n",
        "            dp[i][j] = min(dp[i][j], dp[i][k] + dp[k+1][j] + matrix[i][0] * matrix[k][1] * matrix[j][1])\n",
        "\n",
        "print(dp[0][N-1])"
      ]
    }
  ]
}