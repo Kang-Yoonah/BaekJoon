{
  "cells": [
    {
      "cell_type": "markdown",
      "metadata": {
        "id": "view-in-github",
        "colab_type": "text"
      },
      "source": [
        "<a href=\"https://colab.research.google.com/github/Kang-Yoonah/BaekJoon/blob/main/Gold/11054.ipynb\" target=\"_parent\"><img src=\"https://colab.research.google.com/assets/colab-badge.svg\" alt=\"Open In Colab\"/></a>"
      ]
    },
    {
      "cell_type": "code",
      "source": [
        "def sol(N):\n",
        "    A = list(map(int,input().split()))\n",
        "    dp1, dp2 = [1]*N, [1]*N\n",
        "    for i in range(1, N):\n",
        "        for j in range(i):\n",
        "            if A[i] > A[j] and dp1[i]<=dp1[j]:\n",
        "                dp1[i] = dp1[j]+1\n",
        "            if A[N-1-i] >A[N-1-j] and dp2[N-1-i]<=dp2[N-1-j]:\n",
        "                dp2[N-1-i] = dp2[N-1-j]+1\n",
        "    dp = [i+j for i, j in zip(dp1, dp2)]\n",
        "    print(max(dp)-1)\n",
        "sol(int(input()))"
      ],
      "metadata": {
        "id": "Eum8oDR9H9Ie",
        "colab": {
          "base_uri": "https://localhost:8080/"
        },
        "outputId": "f29757ea-93b9-41eb-c2ad-44b07fd51f99"
      },
      "execution_count": 2,
      "outputs": [
        {
          "output_type": "stream",
          "name": "stdout",
          "text": [
            "10\n",
            "1 5 2 1 4 3 4 5 2 1\n",
            "7\n"
          ]
        }
      ]
    }
  ],
  "metadata": {
    "colab": {
      "provenance": [],
      "authorship_tag": "ABX9TyOxEcXKFdyYstjrBXCVRVJA",
      "include_colab_link": true
    },
    "kernelspec": {
      "display_name": "Python 3",
      "name": "python3"
    },
    "language_info": {
      "name": "python"
    }
  },
  "nbformat": 4,
  "nbformat_minor": 0
}