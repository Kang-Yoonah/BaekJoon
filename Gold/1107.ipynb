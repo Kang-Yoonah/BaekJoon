{
  "nbformat": 4,
  "nbformat_minor": 0,
  "metadata": {
    "colab": {
      "name": "1107.ipynb",
      "provenance": [],
      "authorship_tag": "ABX9TyOUu9YfHMPtKFTpFMgSkIBH",
      "include_colab_link": true
    },
    "kernelspec": {
      "name": "python3",
      "display_name": "Python 3"
    },
    "language_info": {
      "name": "python"
    }
  },
  "cells": [
    {
      "cell_type": "markdown",
      "metadata": {
        "id": "view-in-github",
        "colab_type": "text"
      },
      "source": [
        "<a href=\"https://colab.research.google.com/github/Kang-Yoonah/BaekJoon/blob/main/Gold/1107.ipynb\" target=\"_parent\"><img src=\"https://colab.research.google.com/assets/colab-badge.svg\" alt=\"Open In Colab\"/></a>"
      ]
    },
    {
      "cell_type": "code",
      "execution_count": 24,
      "metadata": {
        "colab": {
          "base_uri": "https://localhost:8080/"
        },
        "id": "kse4wAiD8vAI",
        "outputId": "68b82143-be35-423b-fe67-ace8e3d44001"
      },
      "outputs": [
        {
          "output_type": "stream",
          "name": "stdout",
          "text": [
            "80000\n",
            "2\n",
            "8 9\n",
            "2228\n"
          ]
        }
      ],
      "source": [
        "# N에서 시작하여 고장난 버튼이 있지 않도록 수를 1)키우거나 2) 낮춰서 차이가 제일 작은 것을 선택\n",
        "N = int(input())   # 이동하려고 하는 채널\n",
        "M = int(input())   # 고장난 버튼의 개수 : 0 <= M <= 10\n",
        "error = set()\n",
        "if M:\n",
        "    error = set(input().split())\n",
        "\n",
        "now, ans = 100, 0\n",
        "if now != N:\n",
        "    now, now_ans, ans = N, 0, len(str(N))\n",
        "    if set(str(now)) & error:\n",
        "        ans = 555555\n",
        "        if len(error) < 9 or ('0' in error and len(error) == 9):\n",
        "            while set(str(now))&error:\n",
        "                now += 1\n",
        "            ans, now = len(str(now))+(now-N), N\n",
        "\n",
        "        t = 1\n",
        "        while set(str(now))&error:\n",
        "            now -= 1\n",
        "            if now < 0:\n",
        "                t = 0\n",
        "                break\n",
        "        if t:\n",
        "            ans = min(ans, len(str(now))+(N-now))\n",
        "    ans = min(ans, abs(100-N))    # 3) 버튼을 누르지 않고 100에서 + 또는 - 해서 가는 경우\n",
        "print(ans)"
      ]
    },
    {
      "cell_type": "code",
      "source": [
        "N = int(input())\n",
        "M = int(input())\n",
        "\n",
        "if M:\n",
        "    error = list(map(str,input().split()))\n",
        "else:\n",
        "    error = []\n",
        "\n",
        "if error:\n",
        "    ans = abs(N-100)    # 오로지 + 또는 -를 눌러서 가는 경우\n",
        "    for num in range(1000000):    # 모든 채널의 수로 눌러가며 경우를 확인한다.\n",
        "        for i in str(num):\n",
        "            if i in error:    # 고장난 버튼이 있다면 Pass\n",
        "                break\n",
        "        else:      # 채널의 버튼이 모두 안 고장났을 때\n",
        "            ans = min(ans,abs(num-N)+len(str(num)))\n",
        "else:\n",
        "    ans = min(len(str(N)),abs(100-N))\n",
        "        \n",
        "print(ans)"
      ],
      "metadata": {
        "colab": {
          "base_uri": "https://localhost:8080/"
        },
        "id": "PBfPJTVQYskB",
        "outputId": "09b2a01c-1d7f-4f57-a637-30e0267c1dcf"
      },
      "execution_count": 25,
      "outputs": [
        {
          "output_type": "stream",
          "name": "stdout",
          "text": [
            "80000\n",
            "2\n",
            "8 9\n",
            "2228\n"
          ]
        }
      ]
    }
  ]
}