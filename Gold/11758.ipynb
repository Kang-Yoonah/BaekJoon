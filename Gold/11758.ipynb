{
  "nbformat": 4,
  "nbformat_minor": 0,
  "metadata": {
    "colab": {
      "name": "11758.ipynb",
      "provenance": [],
      "authorship_tag": "ABX9TyODVE+69DXaa5at7Mw881oZ",
      "include_colab_link": true
    },
    "kernelspec": {
      "name": "python3",
      "display_name": "Python 3"
    },
    "language_info": {
      "name": "python"
    }
  },
  "cells": [
    {
      "cell_type": "markdown",
      "metadata": {
        "id": "view-in-github",
        "colab_type": "text"
      },
      "source": [
        "<a href=\"https://colab.research.google.com/github/Kang-Yoonah/BaekJoon/blob/main/Gold/11758.ipynb\" target=\"_parent\"><img src=\"https://colab.research.google.com/assets/colab-badge.svg\" alt=\"Open In Colab\"/></a>"
      ]
    },
    {
      "cell_type": "code",
      "execution_count": 1,
      "metadata": {
        "colab": {
          "base_uri": "https://localhost:8080/"
        },
        "id": "GwXlRU6eBlsI",
        "outputId": "6b6c0dc0-506e-4f03-dc5d-f7e20712234b"
      },
      "outputs": [
        {
          "output_type": "stream",
          "name": "stdout",
          "text": [
            "1 1\n",
            "7 3\n",
            "5 5\n",
            "1\n"
          ]
        }
      ],
      "source": [
        "px1, py1 = map(int,input().split())\n",
        "px2, py2 = map(int,input().split())\n",
        "px3, py3 = map(int,input().split())\n",
        "\n",
        "def linear(x1,y1,x2,y2,x3):\n",
        "    a = (y2-y1)/(x2-x1)\n",
        "    return a*x3 + (y1-a*x1)\n",
        "\n",
        "def check():\n",
        "    if px1 != px2:\n",
        "        v = (px1-px2)*(py3-linear(px1,py1,px2,py2,px3))\n",
        "        if v < 0:\n",
        "            return 1\n",
        "        elif v > 0:\n",
        "            return -1 \n",
        "    else:\n",
        "        if (py2-linear(px1,py1,px3,py3,px2))*(px3-px2) < 0:\n",
        "            return 1\n",
        "        else:\n",
        "            return -1\n",
        "\n",
        "if px1==px2==px3:\n",
        "    print(0)\n",
        "elif px1 != px2 and px2 != px3:\n",
        "    a = (py3-py2)/(px3-px2)\n",
        "    b = (py2-py1)/(px2-px1)\n",
        "    if abs(a-b) < 0.00000001:\n",
        "        print(0)\n",
        "    else:\n",
        "        print(check())\n",
        "else:\n",
        "    print(check())"
      ]
    },
    {
      "cell_type": "code",
      "source": [
        "p = [list(map(int,input().split())) for _ in range(3)]\n",
        "\n",
        "value = (p[1][0]-p[0][0])*(p[2][1]-p[0][1]) - (p[1][1]-p[0][1])*(p[2][0]-p[0][0])\n",
        "if value > 0:\n",
        "    print(1)\n",
        "elif value == 0:\n",
        "    print(0)\n",
        "else:\n",
        "    print(-1)"
      ],
      "metadata": {
        "colab": {
          "base_uri": "https://localhost:8080/"
        },
        "id": "j3UKdnc5Daoe",
        "outputId": "d1948cd5-04fa-4c37-d8ad-dbfddf2f7110"
      },
      "execution_count": 3,
      "outputs": [
        {
          "output_type": "stream",
          "name": "stdout",
          "text": [
            "1 1\n",
            "5 5\n",
            "7 3\n",
            "-1\n"
          ]
        }
      ]
    }
  ]
}