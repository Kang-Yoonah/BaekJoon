{
  "nbformat": 4,
  "nbformat_minor": 0,
  "metadata": {
    "colab": {
      "provenance": [],
      "authorship_tag": "ABX9TyMtRgrjRsaKZhT19uA9uBvR",
      "include_colab_link": true
    },
    "kernelspec": {
      "name": "python3",
      "display_name": "Python 3"
    },
    "language_info": {
      "name": "python"
    }
  },
  "cells": [
    {
      "cell_type": "markdown",
      "metadata": {
        "id": "view-in-github",
        "colab_type": "text"
      },
      "source": [
        "<a href=\"https://colab.research.google.com/github/Kang-Yoonah/BaekJoon/blob/main/Gold/1253.ipynb\" target=\"_parent\"><img src=\"https://colab.research.google.com/assets/colab-badge.svg\" alt=\"Open In Colab\"/></a>"
      ]
    },
    {
      "cell_type": "code",
      "execution_count": 2,
      "metadata": {
        "colab": {
          "base_uri": "https://localhost:8080/"
        },
        "id": "hSND-OCePeat",
        "outputId": "b7ad618b-1945-423e-932a-a27e812ceb82"
      },
      "outputs": [
        {
          "output_type": "stream",
          "name": "stdout",
          "text": [
            "10\n",
            "1 2 3 4 5 6 7 8 9 10\n",
            "8\n"
          ]
        }
      ],
      "source": [
        "N = int(input())\n",
        "A = list(map(int,input().split()))\n",
        "A.sort()\n",
        "\n",
        "def search(A, pl, pr, obj):\n",
        "    while pl < pr:\n",
        "        v = A[pl] + A[pr]\n",
        "        if v > obj:\n",
        "            pr -= 1\n",
        "        elif v < obj:\n",
        "            pl += 1\n",
        "        else:\n",
        "            return 1\n",
        "    return 0\n",
        "\n",
        "ans = 0\n",
        "for i in range(N):\n",
        "    ans += search(A[:i]+A[i+1:], 0, N-2, A[i])\n",
        "print(ans)"
      ]
    }
  ]
}