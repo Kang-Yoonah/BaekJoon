{
  "nbformat": 4,
  "nbformat_minor": 0,
  "metadata": {
    "colab": {
      "name": "12865.ipynb",
      "provenance": [],
      "authorship_tag": "ABX9TyN+GtWrk4TJXoQe6RhfKe35",
      "include_colab_link": true
    },
    "kernelspec": {
      "name": "python3",
      "display_name": "Python 3"
    },
    "language_info": {
      "name": "python"
    }
  },
  "cells": [
    {
      "cell_type": "markdown",
      "metadata": {
        "id": "view-in-github",
        "colab_type": "text"
      },
      "source": [
        "<a href=\"https://colab.research.google.com/github/Kang-Yoonah/BaekJoon/blob/main/Gold/12865.ipynb\" target=\"_parent\"><img src=\"https://colab.research.google.com/assets/colab-badge.svg\" alt=\"Open In Colab\"/></a>"
      ]
    },
    {
      "cell_type": "code",
      "execution_count": 1,
      "metadata": {
        "colab": {
          "base_uri": "https://localhost:8080/"
        },
        "id": "NkLFQH0n1N4s",
        "outputId": "fdcdeecd-1588-401c-94ad-dbbd5029ebcf"
      },
      "outputs": [
        {
          "output_type": "stream",
          "name": "stdout",
          "text": [
            "4 7\n",
            "6 13\n",
            "4 8\n",
            "3 6\n",
            "5 12\n",
            "14\n"
          ]
        }
      ],
      "source": [
        "N, K = map(int, input().split())\n",
        "object = [[0,0]]\n",
        "for i in range(N):\n",
        "    object.append(list(map(int, input().split())))\n",
        "bag = [[0]*(K+1) for _ in range(N+1)]\n",
        "\n",
        "for i in range(1, N+1):\n",
        "    for j in range(1, K+1):\n",
        "        W = object[i][0]\n",
        "        V = object[i][1]\n",
        "\n",
        "        if j < W:\n",
        "            bag[i][j] = bag[i-1][j]\n",
        "        else:\n",
        "            bag[i][j] = max(bag[i-1][j], bag[i-1][j-W]+V)\n",
        "\n",
        "print(bag[N][K])"
      ]
    }
  ]
}