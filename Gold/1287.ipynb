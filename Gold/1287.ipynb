{
  "nbformat": 4,
  "nbformat_minor": 0,
  "metadata": {
    "colab": {
      "provenance": [],
      "authorship_tag": "ABX9TyOpy9TbkGnyTf4IBmvf9R7/",
      "include_colab_link": true
    },
    "kernelspec": {
      "name": "python3",
      "display_name": "Python 3"
    },
    "language_info": {
      "name": "python"
    }
  },
  "cells": [
    {
      "cell_type": "markdown",
      "metadata": {
        "id": "view-in-github",
        "colab_type": "text"
      },
      "source": [
        "<a href=\"https://colab.research.google.com/github/Kang-Yoonah/BaekJoon/blob/main/Gold/1287.ipynb\" target=\"_parent\"><img src=\"https://colab.research.google.com/assets/colab-badge.svg\" alt=\"Open In Colab\"/></a>"
      ]
    },
    {
      "cell_type": "code",
      "execution_count": 1,
      "metadata": {
        "colab": {
          "base_uri": "https://localhost:8080/"
        },
        "id": "TReOftUvXhip",
        "outputId": "1671ec07-1f4a-4ca0-9339-1ba0d18d4db2"
      },
      "outputs": [
        {
          "output_type": "stream",
          "name": "stdout",
          "text": [
            "5+(1+2)*3\n",
            "14\n"
          ]
        }
      ],
      "source": [
        "def sol(Eq):\n",
        "    if Eq[0] in \"+-/*\" or Eq[-1] in \"+-/*\":\n",
        "        return \"ROCK\" \n",
        "    for i in range(len(Eq)-1):\n",
        "        if Eq[i] in \"+-/*(\" and Eq[i+1] in \"+-/*)\":\n",
        "            return \"ROCK\" \n",
        "    try:\n",
        "        return eval(Eq.replace(\"/\",\"//\"))\n",
        "    except:\n",
        "        return \"ROCK\"\n",
        "            \n",
        "print(sol(input().rstrip()))"
      ]
    }
  ]
}