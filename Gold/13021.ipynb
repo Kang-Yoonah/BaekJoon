{
  "nbformat": 4,
  "nbformat_minor": 0,
  "metadata": {
    "colab": {
      "name": "13021.ipynb",
      "provenance": [],
      "authorship_tag": "ABX9TyOBn3B3poRH3mHUeIGoGp3c",
      "include_colab_link": true
    },
    "kernelspec": {
      "name": "python3",
      "display_name": "Python 3"
    },
    "language_info": {
      "name": "python"
    }
  },
  "cells": [
    {
      "cell_type": "markdown",
      "metadata": {
        "id": "view-in-github",
        "colab_type": "text"
      },
      "source": [
        "<a href=\"https://colab.research.google.com/github/Kang-Yoonah/BaekJoon/blob/main/Gold/13021.ipynb\" target=\"_parent\"><img src=\"https://colab.research.google.com/assets/colab-badge.svg\" alt=\"Open In Colab\"/></a>"
      ]
    },
    {
      "cell_type": "code",
      "execution_count": 10,
      "metadata": {
        "colab": {
          "base_uri": "https://localhost:8080/"
        },
        "id": "aJLePDi4xhur",
        "outputId": "38df300a-82f6-4ded-b50c-40ec84bb39e6"
      },
      "outputs": [
        {
          "output_type": "stream",
          "name": "stdout",
          "text": [
            "4 3\n",
            "1 1\n",
            "2 2\n",
            "3 3\n",
            "8\n"
          ]
        }
      ],
      "source": [
        "N, M = map(int, input().split())\n",
        "ball = [0]*N\n",
        "for count in range(1,M+1):\n",
        "    s, e = map(int, input().split())\n",
        "    ball[s-1:e] = [count]*(e-s+1)\n",
        "\n",
        "ball = set(ball)\n",
        "ball.discard(0)\n",
        "print(2**len(ball))"
      ]
    }
  ]
}