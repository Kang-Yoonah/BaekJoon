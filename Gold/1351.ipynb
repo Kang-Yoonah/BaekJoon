{
  "nbformat": 4,
  "nbformat_minor": 0,
  "metadata": {
    "colab": {
      "name": "1351.ipynb",
      "provenance": [],
      "authorship_tag": "ABX9TyPkGXaZPi047EILpWtfawZF",
      "include_colab_link": true
    },
    "kernelspec": {
      "name": "python3",
      "display_name": "Python 3"
    },
    "language_info": {
      "name": "python"
    }
  },
  "cells": [
    {
      "cell_type": "markdown",
      "metadata": {
        "id": "view-in-github",
        "colab_type": "text"
      },
      "source": [
        "<a href=\"https://colab.research.google.com/github/Kang-Yoonah/BaekJoon/blob/main/Gold/1351.ipynb\" target=\"_parent\"><img src=\"https://colab.research.google.com/assets/colab-badge.svg\" alt=\"Open In Colab\"/></a>"
      ]
    },
    {
      "cell_type": "code",
      "execution_count": 1,
      "metadata": {
        "colab": {
          "base_uri": "https://localhost:8080/"
        },
        "id": "cKfU2m3y7Jwk",
        "outputId": "b60a0374-e951-44e2-e351-dce8e275e886"
      },
      "outputs": [
        {
          "output_type": "stream",
          "name": "stdout",
          "text": [
            "10000000 3 3\n",
            "32768\n"
          ]
        }
      ],
      "source": [
        "N, P, Q = map(int,input().split())\n",
        "dict = {0:1}\n",
        "def dp(N):\n",
        "    if not N in dict:\n",
        "        dict[N] = dp(N//P) + dp(N//Q)\n",
        "    return dict[N]\n",
        "print(dp(N))"
      ]
    }
  ]
}