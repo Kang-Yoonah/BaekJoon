{
  "nbformat": 4,
  "nbformat_minor": 0,
  "metadata": {
    "colab": {
      "name": "1354.ipynb",
      "provenance": [],
      "authorship_tag": "ABX9TyOd1U/7P92DgH1LN9PBkPVq",
      "include_colab_link": true
    },
    "kernelspec": {
      "name": "python3",
      "display_name": "Python 3"
    },
    "language_info": {
      "name": "python"
    }
  },
  "cells": [
    {
      "cell_type": "markdown",
      "metadata": {
        "id": "view-in-github",
        "colab_type": "text"
      },
      "source": [
        "<a href=\"https://colab.research.google.com/github/Kang-Yoonah/BaekJoon/blob/main/Gold/1354.ipynb\" target=\"_parent\"><img src=\"https://colab.research.google.com/assets/colab-badge.svg\" alt=\"Open In Colab\"/></a>"
      ]
    },
    {
      "cell_type": "code",
      "execution_count": 2,
      "metadata": {
        "colab": {
          "base_uri": "https://localhost:8080/"
        },
        "id": "cKfU2m3y7Jwk",
        "outputId": "3c61c0d8-67bb-4e9b-edc1-22be0f3de4f2"
      },
      "outputs": [
        {
          "output_type": "stream",
          "name": "stdout",
          "text": [
            "12 2 3 1 0\n",
            "8\n"
          ]
        }
      ],
      "source": [
        "N, P, Q, X, Y = map(int,input().split())\n",
        "dict = {}\n",
        "def dp(N):\n",
        "    if not N in dict:\n",
        "        if N <= 0:\n",
        "            dict[N] = 1\n",
        "        else:\n",
        "            dict[N] = dp(N//P - X) + dp(N//Q - Y)\n",
        "    return dict[N]\n",
        "print(dp(N))"
      ]
    }
  ]
}