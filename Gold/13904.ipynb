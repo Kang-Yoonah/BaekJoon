{
  "nbformat": 4,
  "nbformat_minor": 0,
  "metadata": {
    "colab": {
      "name": "13904.ipynb",
      "provenance": [],
      "authorship_tag": "ABX9TyP8ptYJAvCwS8nPhF1cTsqk",
      "include_colab_link": true
    },
    "kernelspec": {
      "name": "python3",
      "display_name": "Python 3"
    },
    "language_info": {
      "name": "python"
    }
  },
  "cells": [
    {
      "cell_type": "markdown",
      "metadata": {
        "id": "view-in-github",
        "colab_type": "text"
      },
      "source": [
        "<a href=\"https://colab.research.google.com/github/Kang-Yoonah/BaekJoon/blob/main/Gold/13904.ipynb\" target=\"_parent\"><img src=\"https://colab.research.google.com/assets/colab-badge.svg\" alt=\"Open In Colab\"/></a>"
      ]
    },
    {
      "cell_type": "code",
      "execution_count": 1,
      "metadata": {
        "colab": {
          "base_uri": "https://localhost:8080/"
        },
        "id": "5OCJxvFfNzI0",
        "outputId": "89f5a332-e687-4ca5-d6a9-b1937ca6f805"
      },
      "outputs": [
        {
          "output_type": "stream",
          "name": "stdout",
          "text": [
            "7\n",
            "4 60\n",
            "4 40\n",
            "1 20\n",
            "2 50\n",
            "3 30\n",
            "4 10\n",
            "6 5\n",
            "185\n"
          ]
        }
      ],
      "source": [
        "#import sys\n",
        "#input = sys.stdin.readline\n",
        "N = int(input())\n",
        "num = [list(map(int,input().split())) for _ in range(N)]\n",
        "\n",
        "d_max = max(num, key = lambda x: x[0])[0]\n",
        "day = [[] for _ in range(d_max+2)]\n",
        "for d, w in num:\n",
        "    day[d].append(w)\n",
        "total = 0\n",
        "bag = []\n",
        "for i in range(d_max,0,-1):\n",
        "    if day[i]:\n",
        "        bag += day[i]\n",
        "    if bag:\n",
        "        m = max(bag)\n",
        "        total += m\n",
        "        bag.remove(m)\n",
        "print(total)"
      ]
    },
    {
      "cell_type": "code",
      "source": [
        "N = int(input())\n",
        "homeworks = []\n",
        "for _ in range(N):\n",
        "    homeworks.append(list(map(int, input().split())))\n",
        "homeworks.sort(reverse=True, key=lambda x: x[1])\n",
        "\n",
        "score = 0\n",
        "days = [0]*1001\n",
        "for homework in homeworks:\n",
        "    for d in range(homework[0], 0, -1):\n",
        "        if days[d] == 0:\n",
        "            days[d] = 1\n",
        "            score += homework[1]\n",
        "            break\n",
        "print(score)"
      ],
      "metadata": {
        "colab": {
          "base_uri": "https://localhost:8080/"
        },
        "id": "NK4ZILHhN4tP",
        "outputId": "40f2ae5f-402c-4f47-9f1b-e1e73e6f0392"
      },
      "execution_count": 2,
      "outputs": [
        {
          "output_type": "stream",
          "name": "stdout",
          "text": [
            "7\n",
            "4 60\n",
            "4 40\n",
            "1 20\n",
            "2 50\n",
            "3 30\n",
            "4 10\n",
            "6 5\n",
            "185\n"
          ]
        }
      ]
    }
  ]
}