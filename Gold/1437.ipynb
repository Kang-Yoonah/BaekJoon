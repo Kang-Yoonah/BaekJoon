{
  "nbformat": 4,
  "nbformat_minor": 0,
  "metadata": {
    "colab": {
      "name": "1437.ipynb",
      "provenance": [],
      "authorship_tag": "ABX9TyPua0/fg23mL91biW/AWFYV",
      "include_colab_link": true
    },
    "kernelspec": {
      "name": "python3",
      "display_name": "Python 3"
    },
    "language_info": {
      "name": "python"
    }
  },
  "cells": [
    {
      "cell_type": "markdown",
      "metadata": {
        "id": "view-in-github",
        "colab_type": "text"
      },
      "source": [
        "<a href=\"https://colab.research.google.com/github/Kang-Yoonah/BaekJoon/blob/main/Gold/1437.ipynb\" target=\"_parent\"><img src=\"https://colab.research.google.com/assets/colab-badge.svg\" alt=\"Open In Colab\"/></a>"
      ]
    },
    {
      "cell_type": "code",
      "execution_count": 1,
      "metadata": {
        "colab": {
          "base_uri": "https://localhost:8080/"
        },
        "id": "5OCJxvFfNzI0",
        "outputId": "e142a577-cda6-444e-f238-e997d3578f90"
      },
      "outputs": [
        {
          "output_type": "stream",
          "name": "stdout",
          "text": [
            "9931\n",
            "4664\n"
          ]
        }
      ],
      "source": [
        "N = int(input())\n",
        "m = 1\n",
        "if N == 0:\n",
        "    print(0)\n",
        "elif N == 1:\n",
        "    print(1)\n",
        "else:   \n",
        "    while N > 2:\n",
        "        N -= 3\n",
        "        m *= 3\n",
        "    if N == 2:\n",
        "        m *= 2\n",
        "    elif N == 1:\n",
        "        m //= 3\n",
        "        m *= 4\n",
        "    print(m%10007)"
      ]
    },
    {
      "cell_type": "code",
      "source": [
        "N = int(input())\n",
        "num = 1\n",
        "while N >= 5:\n",
        "    num = (3*num)%10007\n",
        "    N -= 3\n",
        "\n",
        "print((num*N)%10007)"
      ],
      "metadata": {
        "colab": {
          "base_uri": "https://localhost:8080/"
        },
        "id": "NK4ZILHhN4tP",
        "outputId": "c1ca68c0-77f8-4cac-da97-cc364c72ced8"
      },
      "execution_count": 2,
      "outputs": [
        {
          "output_type": "stream",
          "name": "stdout",
          "text": [
            "9931\n",
            "4664\n"
          ]
        }
      ]
    }
  ]
}