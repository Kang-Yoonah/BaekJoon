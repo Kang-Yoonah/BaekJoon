{
  "nbformat": 4,
  "nbformat_minor": 0,
  "metadata": {
    "colab": {
      "provenance": [],
      "authorship_tag": "ABX9TyPHwUyf2WeDKt1UymMk9i4I",
      "include_colab_link": true
    },
    "kernelspec": {
      "name": "python3",
      "display_name": "Python 3"
    },
    "language_info": {
      "name": "python"
    }
  },
  "cells": [
    {
      "cell_type": "markdown",
      "metadata": {
        "id": "view-in-github",
        "colab_type": "text"
      },
      "source": [
        "<a href=\"https://colab.research.google.com/github/Kang-Yoonah/BaekJoon/blob/main/Gold/14719.ipynb\" target=\"_parent\"><img src=\"https://colab.research.google.com/assets/colab-badge.svg\" alt=\"Open In Colab\"/></a>"
      ]
    },
    {
      "cell_type": "code",
      "execution_count": 10,
      "metadata": {
        "colab": {
          "base_uri": "https://localhost:8080/"
        },
        "id": "Dgu_K_AWTXNN",
        "outputId": "41f2ef06-ca4f-4bd8-f5ba-43094ffa9dac"
      },
      "outputs": [
        {
          "output_type": "stream",
          "name": "stdout",
          "text": [
            "4 8\n",
            "3 1 2 3 4 1 1 2\n",
            "5\n"
          ]
        }
      ],
      "source": [
        "_, _ = map(int, input().split())\n",
        "h = list(map(int,input().split()))\n",
        "\n",
        "def func(lst):\n",
        "    cnt = 0\n",
        "    for i in range(0, len(lst)):\n",
        "        left_max = max(lst[:i+1])\n",
        "        right_max = max(lst[i:])\n",
        "        \n",
        "        m = min(left_max, right_max)\n",
        "        if lst[i] >= m:\n",
        "            continue\n",
        "        else:\n",
        "            cnt += m - lst[i]\n",
        "    return cnt\n",
        "\n",
        "print(func(h))"
      ]
    },
    {
      "cell_type": "code",
      "source": [
        "H, W = map(int, input().split())\n",
        "h = list(map(int,input().split()))\n",
        "\n",
        "ans = i = 0\n",
        "while i < W-1:\n",
        "    j = i+1\n",
        "    while j < W and h[j]<h[i]:\n",
        "        j += 1\n",
        "    if j < W:\n",
        "        m = min(h[i], h[j])\n",
        "        ans += (m*(j-i-1) - sum(h[i+1:j]))\n",
        "        h[i+1:j] = [m]*(j-i-1)\n",
        "    i = j\n",
        "    \n",
        "i = W-1\n",
        "while i > 1:\n",
        "    j = i-1\n",
        "    while j > 0 and h[j]<h[i]:\n",
        "        j -= 1\n",
        "    if j > 0:\n",
        "        m = min(h[i], h[j])\n",
        "        ans += (m*(i-j-1) - sum(h[j+1:i]))\n",
        "    i = j\n",
        "\n",
        "print(ans)"
      ],
      "metadata": {
        "colab": {
          "base_uri": "https://localhost:8080/"
        },
        "id": "5Y1r_pPWa7k6",
        "outputId": "c1a97301-aebb-48c0-e905-7a6314ef4904"
      },
      "execution_count": 11,
      "outputs": [
        {
          "output_type": "stream",
          "name": "stdout",
          "text": [
            "4 8\n",
            "3 1 2 3 4 1 1 2\n",
            "5\n"
          ]
        }
      ]
    }
  ]
}