{
  "nbformat": 4,
  "nbformat_minor": 0,
  "metadata": {
    "colab": {
      "name": "1484.ipynb",
      "provenance": [],
      "authorship_tag": "ABX9TyPdXu92WtBK12eMR2xaDd4r",
      "include_colab_link": true
    },
    "kernelspec": {
      "name": "python3",
      "display_name": "Python 3"
    },
    "language_info": {
      "name": "python"
    }
  },
  "cells": [
    {
      "cell_type": "markdown",
      "metadata": {
        "id": "view-in-github",
        "colab_type": "text"
      },
      "source": [
        "<a href=\"https://colab.research.google.com/github/Kang-Yoonah/BaekJoon/blob/main/Gold/1484.ipynb\" target=\"_parent\"><img src=\"https://colab.research.google.com/assets/colab-badge.svg\" alt=\"Open In Colab\"/></a>"
      ]
    },
    {
      "cell_type": "code",
      "execution_count": 32,
      "metadata": {
        "id": "EpwH8Pfz30Qn",
        "colab": {
          "base_uri": "https://localhost:8080/"
        },
        "outputId": "9e29648c-20a7-48dd-c881-59d52dd140a9"
      },
      "outputs": [
        {
          "output_type": "stream",
          "name": "stdout",
          "text": [
            "15\n",
            "4\n",
            "8\n"
          ]
        }
      ],
      "source": [
        "G = int(input())\n",
        "t, end= 1, G**0.5\n",
        "for i in range(int(end),0,-1):\n",
        "    if G%i == 0 and i != end:\n",
        "        if (i + G//i)%2 == 0:\n",
        "            print((i + G//i)//2)\n",
        "            t = 0\n",
        "if t:\n",
        "    print(-1)"
      ]
    },
    {
      "cell_type": "code",
      "source": [
        "G = int(input())\n",
        "sqrt_list = [i**2 for i in range(100001)]\n",
        "pl, pr, t= 1, int(G**0.5)+1, 1\n",
        "while True:\n",
        "    v = sqrt_list[pr] - sqrt_list[pl]\n",
        "    if v < G:\n",
        "        pr += 1\n",
        "    elif v > G:\n",
        "        if pr-pl == 1:\n",
        "            break\n",
        "        pl += 1\n",
        "    else:\n",
        "        t = 0\n",
        "        print(pr)\n",
        "        pr += 1\n",
        "if t:\n",
        "    print(-1)"
      ],
      "metadata": {
        "colab": {
          "base_uri": "https://localhost:8080/"
        },
        "id": "VQHa95MRkFlZ",
        "outputId": "e2ef3e06-0462-40fa-b62b-6ae0606db0f5"
      },
      "execution_count": 31,
      "outputs": [
        {
          "output_type": "stream",
          "name": "stdout",
          "text": [
            "15\n",
            "4\n",
            "8\n"
          ]
        }
      ]
    }
  ]
}