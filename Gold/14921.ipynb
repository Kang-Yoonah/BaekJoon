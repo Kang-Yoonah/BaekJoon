{
  "nbformat": 4,
  "nbformat_minor": 0,
  "metadata": {
    "colab": {
      "name": "14921.ipynb",
      "provenance": [],
      "authorship_tag": "ABX9TyMnRaO+j5RcKBKtjgbf5rnw",
      "include_colab_link": true
    },
    "kernelspec": {
      "name": "python3",
      "display_name": "Python 3"
    },
    "language_info": {
      "name": "python"
    }
  },
  "cells": [
    {
      "cell_type": "markdown",
      "metadata": {
        "id": "view-in-github",
        "colab_type": "text"
      },
      "source": [
        "<a href=\"https://colab.research.google.com/github/Kang-Yoonah/BaekJoon/blob/main/Gold/14921.ipynb\" target=\"_parent\"><img src=\"https://colab.research.google.com/assets/colab-badge.svg\" alt=\"Open In Colab\"/></a>"
      ]
    },
    {
      "cell_type": "code",
      "execution_count": 1,
      "metadata": {
        "colab": {
          "base_uri": "https://localhost:8080/"
        },
        "id": "r6uOQ5M5Bnd1",
        "outputId": "5b4849f4-842a-4ccd-fe13-ceb4624c8e17"
      },
      "outputs": [
        {
          "output_type": "stream",
          "name": "stdout",
          "text": [
            "7\n",
            "-698 -332 -123 54 531 535 699\n",
            "1\n"
          ]
        }
      ],
      "source": [
        "N = int(input())\n",
        "number= list(map(int,input().split()))\n",
        "s, e = 0, N-1\n",
        "check = 200000001\n",
        "while s < e:\n",
        "    total = number[s]+number[e]\n",
        "    if abs(total) < abs(check):\n",
        "        check = total\n",
        "    if total < 0:\n",
        "        s += 1\n",
        "    elif total > 0:\n",
        "        e -= 1\n",
        "    else:\n",
        "        break\n",
        "print(check)"
      ]
    }
  ]
}