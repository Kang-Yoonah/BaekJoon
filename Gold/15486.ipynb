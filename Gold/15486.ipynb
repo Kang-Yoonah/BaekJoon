{
  "nbformat": 4,
  "nbformat_minor": 0,
  "metadata": {
    "colab": {
      "provenance": [],
      "authorship_tag": "ABX9TyNCYItZGG8U7rXY22M3L4CJ",
      "include_colab_link": true
    },
    "kernelspec": {
      "name": "python3",
      "display_name": "Python 3"
    },
    "language_info": {
      "name": "python"
    }
  },
  "cells": [
    {
      "cell_type": "markdown",
      "metadata": {
        "id": "view-in-github",
        "colab_type": "text"
      },
      "source": [
        "<a href=\"https://colab.research.google.com/github/Kang-Yoonah/BaekJoon/blob/main/Gold/15486.ipynb\" target=\"_parent\"><img src=\"https://colab.research.google.com/assets/colab-badge.svg\" alt=\"Open In Colab\"/></a>"
      ]
    },
    {
      "cell_type": "code",
      "execution_count": null,
      "metadata": {
        "id": "vSjI02ymYBYM"
      },
      "outputs": [],
      "source": [
        "def ans():\n",
        "    N = int(input())\n",
        "    TP = tuple(tuple(map(int,input().split())) for _ in range(N))\n",
        "    dp = [0]*(N+1)\n",
        "\n",
        "    for i in range(N-1, -1, -1):\n",
        "        if i + TP[i][0] > N:\n",
        "            dp[i] = dp[i+1]\n",
        "        else:\n",
        "            dp[i] = max(dp[i+1], dp[i+TP[i][0]] + TP[i][1])\n",
        "    print(dp[0])\n",
        "ans()"
      ]
    }
  ]
}