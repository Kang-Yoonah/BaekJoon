{
  "nbformat": 4,
  "nbformat_minor": 0,
  "metadata": {
    "colab": {
      "provenance": [],
      "authorship_tag": "ABX9TyMg37vMKNnn6IDcl1xqWHtg",
      "include_colab_link": true
    },
    "kernelspec": {
      "name": "python3",
      "display_name": "Python 3"
    },
    "language_info": {
      "name": "python"
    }
  },
  "cells": [
    {
      "cell_type": "markdown",
      "metadata": {
        "id": "view-in-github",
        "colab_type": "text"
      },
      "source": [
        "<a href=\"https://colab.research.google.com/github/Kang-Yoonah/BaekJoon/blob/main/Gold/15686.ipynb\" target=\"_parent\"><img src=\"https://colab.research.google.com/assets/colab-badge.svg\" alt=\"Open In Colab\"/></a>"
      ]
    },
    {
      "cell_type": "code",
      "source": [
        "from itertools import combinations\n",
        "\n",
        "N, M = map(int,input().split())\n",
        "\n",
        "city = [list(map(int,input().split())) for _ in range(N)]\n",
        "chicken, home = [], []\n",
        "\n",
        "for row in range(N):\n",
        "    for col in range(N):\n",
        "        if city[row][col] == 2:\n",
        "            chicken.append((row,col))\n",
        "        elif city[row][col] == 1:\n",
        "            home.append((row,col))\n",
        "\n",
        "ans = 2*N*101\n",
        "for chicken_list in combinations(chicken, M):\n",
        "    total = 0\n",
        "    for h in home:\n",
        "        m = 2*N+1\n",
        "        for c in chicken_list:\n",
        "            m = min(m, abs(h[0]-c[0])+abs(h[1]-c[1]))\n",
        "        total += m\n",
        "    ans = min(total, ans)\n",
        "print(ans)"
      ],
      "metadata": {
        "colab": {
          "base_uri": "https://localhost:8080/"
        },
        "id": "pfmEFl06JHGM",
        "outputId": "0bc00aab-2b36-4716-d067-42eaee35f88b"
      },
      "execution_count": 19,
      "outputs": [
        {
          "output_type": "stream",
          "name": "stdout",
          "text": [
            "5 1\n",
            "1 2 0 0 0\n",
            "1 2 0 0 0\n",
            "1 2 0 0 0\n",
            "1 2 0 0 0\n",
            "1 2 0 0 0\n",
            "11\n"
          ]
        }
      ]
    }
  ]
}