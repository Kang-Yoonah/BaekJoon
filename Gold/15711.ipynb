{
  "nbformat": 4,
  "nbformat_minor": 0,
  "metadata": {
    "colab": {
      "provenance": [],
      "authorship_tag": "ABX9TyOrwKi+KBNoUG88yyV60oCk",
      "include_colab_link": true
    },
    "kernelspec": {
      "name": "python3",
      "display_name": "Python 3"
    },
    "language_info": {
      "name": "python"
    }
  },
  "cells": [
    {
      "cell_type": "markdown",
      "metadata": {
        "id": "view-in-github",
        "colab_type": "text"
      },
      "source": [
        "<a href=\"https://colab.research.google.com/github/Kang-Yoonah/BaekJoon/blob/main/Gold/15711.ipynb\" target=\"_parent\"><img src=\"https://colab.research.google.com/assets/colab-badge.svg\" alt=\"Open In Colab\"/></a>"
      ]
    },
    {
      "cell_type": "code",
      "source": [
        "def sol(max_):\n",
        "    P = [0,0,1]+[1 if i%2 else 0 for i in range(3,max_)]\n",
        "    for i in range(3,int(max_**0.5),2):\n",
        "        if P[i]:\n",
        "            for j in range(3*i,max_,i):\n",
        "                P[j] = 0\n",
        "    Real = [2]\n",
        "    for i in range(3,max_,2):\n",
        "        if P[i]:\n",
        "            Real.append(i)\n",
        "    for _ in range(int(input())):\n",
        "        a,b = map(int,input().split())\n",
        "        n, answer = a+b-2, \"YES\"\n",
        "        if n < 2:\n",
        "            answer = \"NO\"\n",
        "        if n%2:\n",
        "            for p in Real:\n",
        "                if n < p**2:\n",
        "                    break\n",
        "                elif n%p == 0:\n",
        "                    answer = \"NO\"\n",
        "                    break    \n",
        "        print(answer)\n",
        "sol(2000001)"
      ],
      "metadata": {
        "colab": {
          "base_uri": "https://localhost:8080/"
        },
        "id": "V5Behma77t2H",
        "outputId": "fcaad248-0cb1-4d49-ba19-8c035f1b51db"
      },
      "execution_count": 1,
      "outputs": [
        {
          "output_type": "stream",
          "name": "stdout",
          "text": [
            "2\n",
            "3 4\n",
            "YES\n",
            "3 5\n",
            "YES\n"
          ]
        }
      ]
    }
  ]
}