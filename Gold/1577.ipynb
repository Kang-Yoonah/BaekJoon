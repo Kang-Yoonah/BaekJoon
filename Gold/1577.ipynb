{
  "nbformat": 4,
  "nbformat_minor": 0,
  "metadata": {
    "colab": {
      "provenance": [],
      "authorship_tag": "ABX9TyN/4fGrN5wLap253hZMsOkJ",
      "include_colab_link": true
    },
    "kernelspec": {
      "name": "python3",
      "display_name": "Python 3"
    },
    "language_info": {
      "name": "python"
    }
  },
  "cells": [
    {
      "cell_type": "markdown",
      "metadata": {
        "id": "view-in-github",
        "colab_type": "text"
      },
      "source": [
        "<a href=\"https://colab.research.google.com/github/Kang-Yoonah/BaekJoon/blob/main/Gold/1577.ipynb\" target=\"_parent\"><img src=\"https://colab.research.google.com/assets/colab-badge.svg\" alt=\"Open In Colab\"/></a>"
      ]
    },
    {
      "cell_type": "code",
      "source": [
        "def sol():\n",
        "    N,M = map(int,input().split())\n",
        "    dp = [[[-1,-1] for _ in range(M+2)]]+[[[-1,-1]]+[[0,0] for _ in range(M+1)] for _ in range(N+1)]\n",
        "    for _ in range(int(input())):\n",
        "        a,b,c,d = map(int,input().split())\n",
        "        if a != c:\n",
        "            dp[max(a,c)+1][b+1][1] -= 1\n",
        "        else:\n",
        "            dp[a+1][max(b,d)+1][0] -= 1\n",
        "    dp[1][1][0] = 1\n",
        "    for i in range(1,N+2):\n",
        "        for j in range(1,M+2):\n",
        "            if dp[i][j][0] >= 0:\n",
        "                dp[i][j][0] += max(0,dp[i][j-1][0])+max(0,dp[i][j-1][1])    \n",
        "            if dp[i][j][1] >= 0:\n",
        "                dp[i][j][1] += max(0,dp[i-1][j][0])+max(0,dp[i-1][j][1])\n",
        "    return max(0,dp[-1][-1][0])+max(0,dp[-1][-1][1])               \n",
        "               \n",
        "print(sol())"
      ],
      "metadata": {
        "id": "Gw8F0-TWPI0g",
        "colab": {
          "base_uri": "https://localhost:8080/"
        },
        "outputId": "e54d128b-685a-47c4-9cf8-eb9a50849e42"
      },
      "execution_count": 1,
      "outputs": [
        {
          "output_type": "stream",
          "name": "stdout",
          "text": [
            "1 1\n",
            "0\n",
            "2\n"
          ]
        }
      ]
    }
  ]
}