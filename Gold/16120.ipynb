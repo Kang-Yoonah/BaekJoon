{
  "nbformat": 4,
  "nbformat_minor": 0,
  "metadata": {
    "colab": {
      "provenance": [],
      "authorship_tag": "ABX9TyP7LQJrUFpYBd5qSmydAPPG",
      "include_colab_link": true
    },
    "kernelspec": {
      "name": "python3",
      "display_name": "Python 3"
    },
    "language_info": {
      "name": "python"
    }
  },
  "cells": [
    {
      "cell_type": "markdown",
      "metadata": {
        "id": "view-in-github",
        "colab_type": "text"
      },
      "source": [
        "<a href=\"https://colab.research.google.com/github/Kang-Yoonah/BaekJoon/blob/main/Gold/16120.ipynb\" target=\"_parent\"><img src=\"https://colab.research.google.com/assets/colab-badge.svg\" alt=\"Open In Colab\"/></a>"
      ]
    },
    {
      "cell_type": "code",
      "execution_count": 10,
      "metadata": {
        "colab": {
          "base_uri": "https://localhost:8080/"
        },
        "id": "1VJxwYsNrJXH",
        "outputId": "24627f62-2e1f-431b-d8b4-3539f1d7f1ac"
      },
      "outputs": [
        {
          "output_type": "stream",
          "name": "stdout",
          "text": [
            "PPAPAPP\n",
            "NP\n"
          ]
        }
      ],
      "source": [
        "S=input()\n",
        "stack = []\n",
        "for i in range(len(S)):\n",
        "    if len(stack) >= 2 and S[i] == 'A' and i <len(S)-1:\n",
        "        if stack[-2] == 'P' and stack[-1] == 'P' and S[i+1] == 'P':\n",
        "            stack.pop()\n",
        "            stack.pop()\n",
        "            continue\n",
        "    stack.append(S[i])\n",
        "if stack == ['P']:\n",
        "    print('PPAP')\n",
        "else:\n",
        "    print('NP')"
      ]
    }
  ]
}