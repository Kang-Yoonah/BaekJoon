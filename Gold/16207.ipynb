{
  "nbformat": 4,
  "nbformat_minor": 0,
  "metadata": {
    "colab": {
      "name": "16207.ipynb",
      "provenance": [],
      "authorship_tag": "ABX9TyNRP6zPqyhlKeMRmkvtf5us",
      "include_colab_link": true
    },
    "kernelspec": {
      "name": "python3",
      "display_name": "Python 3"
    },
    "language_info": {
      "name": "python"
    }
  },
  "cells": [
    {
      "cell_type": "markdown",
      "metadata": {
        "id": "view-in-github",
        "colab_type": "text"
      },
      "source": [
        "<a href=\"https://colab.research.google.com/github/Kang-Yoonah/BaekJoon/blob/main/Gold/16207.ipynb\" target=\"_parent\"><img src=\"https://colab.research.google.com/assets/colab-badge.svg\" alt=\"Open In Colab\"/></a>"
      ]
    },
    {
      "cell_type": "code",
      "execution_count": 3,
      "metadata": {
        "colab": {
          "base_uri": "https://localhost:8080/"
        },
        "id": "NXMXt_PlBaaz",
        "outputId": "57128f82-b519-4802-c729-ecb01ceb4841"
      },
      "outputs": [
        {
          "output_type": "stream",
          "name": "stdout",
          "text": [
            "9\n",
            "10 3 4 4 4 5 6 6 6\n",
            "42\n"
          ]
        }
      ],
      "source": [
        "N = int(input())\n",
        "Edge = list(map(int,input().split()))\n",
        "Edge.sort()\n",
        "ans, a, l = 0, Edge[-1]+2, 0\n",
        "\n",
        "for i in range(N-1,-1,-1):\n",
        "    b = Edge[i]\n",
        "    if a - b < 2:\n",
        "        if l:\n",
        "            ans += b*l\n",
        "            l = 0\n",
        "        else:\n",
        "            l = b\n",
        "        a = Edge[i-1]+2\n",
        "    else:\n",
        "        a = b\n",
        "print(ans)"
      ]
    }
  ]
}