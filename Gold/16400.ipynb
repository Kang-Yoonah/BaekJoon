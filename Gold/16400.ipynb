{
  "nbformat": 4,
  "nbformat_minor": 0,
  "metadata": {
    "colab": {
      "provenance": [],
      "authorship_tag": "ABX9TyMdXNawEcYmNIR/La25ImU6",
      "include_colab_link": true
    },
    "kernelspec": {
      "name": "python3",
      "display_name": "Python 3"
    },
    "language_info": {
      "name": "python"
    }
  },
  "cells": [
    {
      "cell_type": "markdown",
      "metadata": {
        "id": "view-in-github",
        "colab_type": "text"
      },
      "source": [
        "<a href=\"https://colab.research.google.com/github/Kang-Yoonah/BaekJoon/blob/main/Gold/16400.ipynb\" target=\"_parent\"><img src=\"https://colab.research.google.com/assets/colab-badge.svg\" alt=\"Open In Colab\"/></a>"
      ]
    },
    {
      "cell_type": "code",
      "source": [
        "def sol(N):\n",
        "    P = [0,0,1] + [1 if i%2 else 0 for i in range(3,N+1)]\n",
        "    for i in range(3,int(N**0.5)+1,2):\n",
        "        if P[i]:\n",
        "            for j in range(3*i,N+1,i):\n",
        "                P[j] = 0\n",
        "    R_P = [2]\n",
        "    for i in range(3,N+1,2):\n",
        "        if P[i]:\n",
        "            R_P.append(i)\n",
        "    dp = [0 if i else 1 for i in range(N+1)]\n",
        "    for p in R_P:\n",
        "        for i in range(p,N+1):\n",
        "            dp[i] = (dp[i]+dp[i-p])%123456789 \n",
        "    return dp[-1]   \n",
        "            \n",
        "\n",
        "print(sol(int(input())))"
      ],
      "metadata": {
        "colab": {
          "base_uri": "https://localhost:8080/"
        },
        "id": "V5Behma77t2H",
        "outputId": "037cd356-d3f5-4f36-87f3-ed8160126554"
      },
      "execution_count": 1,
      "outputs": [
        {
          "output_type": "stream",
          "name": "stdout",
          "text": [
            "8\n",
            "3\n"
          ]
        }
      ]
    }
  ]
}