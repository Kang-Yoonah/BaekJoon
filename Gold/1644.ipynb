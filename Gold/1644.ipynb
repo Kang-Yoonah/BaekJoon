{
  "nbformat": 4,
  "nbformat_minor": 0,
  "metadata": {
    "colab": {
      "name": "1644.ipynb",
      "provenance": [],
      "authorship_tag": "ABX9TyPd5NoHxs9ikZqL1wfHQdan",
      "include_colab_link": true
    },
    "kernelspec": {
      "name": "python3",
      "display_name": "Python 3"
    },
    "language_info": {
      "name": "python"
    }
  },
  "cells": [
    {
      "cell_type": "markdown",
      "metadata": {
        "id": "view-in-github",
        "colab_type": "text"
      },
      "source": [
        "<a href=\"https://colab.research.google.com/github/Kang-Yoonah/BaekJoon/blob/main/Gold/1644.ipynb\" target=\"_parent\"><img src=\"https://colab.research.google.com/assets/colab-badge.svg\" alt=\"Open In Colab\"/></a>"
      ]
    },
    {
      "cell_type": "code",
      "execution_count": 3,
      "metadata": {
        "colab": {
          "base_uri": "https://localhost:8080/"
        },
        "id": "ZacwEusAJ7HW",
        "outputId": "44c04d82-22b9-45eb-8d45-fe448e99925e"
      },
      "outputs": [
        {
          "output_type": "stream",
          "name": "stdout",
          "text": [
            "41\n",
            "3\n"
          ]
        }
      ],
      "source": [
        "N = int(input())\n",
        "s = [1]*(N+1)\n",
        "prime = []\n",
        "s[0] = s[1] = 0\n",
        "for i in range(2,int(N**0.5)+1):\n",
        "    if s[i]:\n",
        "        for j in range(i*2,N+1,i):\n",
        "            s[j] = 0\n",
        "for i in range(2,N+1):\n",
        "    if s[i]:\n",
        "        prime.append(i)\n",
        "\n",
        "count, pl, pr= 0,0,1\n",
        "if prime:\n",
        "    total = prime[pl]\n",
        "    end = len(prime)\n",
        "    while True:\n",
        "        if total < N:\n",
        "            if pr > end-1:\n",
        "                break\n",
        "            total += prime[pr]\n",
        "            pr += 1\n",
        "        elif total > N:\n",
        "            total -= prime[pl]\n",
        "            pl += 1\n",
        "        else:\n",
        "            count += 1\n",
        "            if pl == end:\n",
        "                break\n",
        "            total -= prime[pl]\n",
        "            pl += 1\n",
        "print(count)"
      ]
    }
  ]
}