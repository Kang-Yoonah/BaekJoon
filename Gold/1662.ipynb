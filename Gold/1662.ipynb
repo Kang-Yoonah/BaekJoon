{
  "nbformat": 4,
  "nbformat_minor": 0,
  "metadata": {
    "colab": {
      "provenance": [],
      "authorship_tag": "ABX9TyOCI/uEPAd1S8Z/eDJA9VzV",
      "include_colab_link": true
    },
    "kernelspec": {
      "name": "python3",
      "display_name": "Python 3"
    },
    "language_info": {
      "name": "python"
    }
  },
  "cells": [
    {
      "cell_type": "markdown",
      "metadata": {
        "id": "view-in-github",
        "colab_type": "text"
      },
      "source": [
        "<a href=\"https://colab.research.google.com/github/Kang-Yoonah/BaekJoon/blob/main/Gold/1662.ipynb\" target=\"_parent\"><img src=\"https://colab.research.google.com/assets/colab-badge.svg\" alt=\"Open In Colab\"/></a>"
      ]
    },
    {
      "cell_type": "code",
      "source": [
        "S = list(input())[::-1]\n",
        "\n",
        "def stack(S, ind):\n",
        "    ans = 0\n",
        "    while ind < len(S):\n",
        "        if S[ind] == ')':\n",
        "            v, ind = stack(S, ind+1)\n",
        "            ans += v\n",
        "        elif S[ind] == '(':\n",
        "            ind += 1\n",
        "            ans *= int(S[ind])\n",
        "            return ans, ind+1\n",
        "        else:\n",
        "            ans += 1\n",
        "            ind += 1\n",
        "    return ans\n",
        "print(stack(S, 0))"
      ],
      "metadata": {
        "colab": {
          "base_uri": "https://localhost:8080/"
        },
        "id": "sFzaedp-6u3s",
        "outputId": "5a06463b-7fb9-49fc-e469-bc9b65cf1aba"
      },
      "execution_count": 17,
      "outputs": [
        {
          "output_type": "stream",
          "name": "stdout",
          "text": [
            "1()66(5)\n",
            "7\n"
          ]
        }
      ]
    }
  ]
}