{
  "nbformat": 4,
  "nbformat_minor": 0,
  "metadata": {
    "colab": {
      "provenance": [],
      "authorship_tag": "ABX9TyOTdTUz3AZAYVusYNLfjF5G",
      "include_colab_link": true
    },
    "kernelspec": {
      "name": "python3",
      "display_name": "Python 3"
    },
    "language_info": {
      "name": "python"
    }
  },
  "cells": [
    {
      "cell_type": "markdown",
      "metadata": {
        "id": "view-in-github",
        "colab_type": "text"
      },
      "source": [
        "<a href=\"https://colab.research.google.com/github/Kang-Yoonah/BaekJoon/blob/main/Gold/1689.ipynb\" target=\"_parent\"><img src=\"https://colab.research.google.com/assets/colab-badge.svg\" alt=\"Open In Colab\"/></a>"
      ]
    },
    {
      "cell_type": "code",
      "execution_count": null,
      "metadata": {
        "id": "SkUKSROLSa9e"
      },
      "outputs": [],
      "source": [
        "def sol(N):\n",
        "    E = []\n",
        "    for _ in range(N):\n",
        "        s,e = map(int,input().split())\n",
        "        E.append([s,1])\n",
        "        E.append([e,-1])\n",
        "    E.sort(key = lambda x : (x[0],x[1]))   \n",
        "    num,Sol = 0,set()\n",
        "    for edge in E:\n",
        "        num += edge[1]\n",
        "        Sol.add(num)\n",
        "    return max(Sol)\n",
        "\n",
        "print(sol(int(input())))"
      ]
    }
  ]
}