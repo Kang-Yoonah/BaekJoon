{
  "nbformat": 4,
  "nbformat_minor": 0,
  "metadata": {
    "colab": {
      "provenance": [],
      "authorship_tag": "ABX9TyNr3PHyWTAeW/qGBRyNt9f+",
      "include_colab_link": true
    },
    "kernelspec": {
      "name": "python3",
      "display_name": "Python 3"
    },
    "language_info": {
      "name": "python"
    }
  },
  "cells": [
    {
      "cell_type": "markdown",
      "metadata": {
        "id": "view-in-github",
        "colab_type": "text"
      },
      "source": [
        "<a href=\"https://colab.research.google.com/github/Kang-Yoonah/BaekJoon/blob/main/Gold/17205.ipynb\" target=\"_parent\"><img src=\"https://colab.research.google.com/assets/colab-badge.svg\" alt=\"Open In Colab\"/></a>"
      ]
    },
    {
      "cell_type": "code",
      "source": [
        "def cal(n, N):\n",
        "    return ((26**n-1)//25)*(N-1)+1\n",
        "\n",
        "def sol():\n",
        "    N = int(input())\n",
        "    S = list(input().strip())\n",
        "\n",
        "    ans = cal(N, ord(S[0])%96)\n",
        "    for i in S[1:]:\n",
        "        N -=1\n",
        "        ans += cal(N, ord(i)%96)\n",
        "    return ans\n",
        "print(sol())"
      ],
      "metadata": {
        "colab": {
          "base_uri": "https://localhost:8080/"
        },
        "id": "wpIhCoF3oTHW",
        "outputId": "443114d9-a590-4286-a0aa-063db83c8d98"
      },
      "execution_count": 29,
      "outputs": [
        {
          "output_type": "stream",
          "name": "stdout",
          "text": [
            "10\n",
            "zzzcaaaauu\n",
            "146806068942309\n"
          ]
        }
      ]
    }
  ]
}