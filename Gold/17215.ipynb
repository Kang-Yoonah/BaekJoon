{
  "nbformat": 4,
  "nbformat_minor": 0,
  "metadata": {
    "colab": {
      "name": "17215.ipynb",
      "provenance": [],
      "authorship_tag": "ABX9TyO9WIOU1IZGaI9iRJIdqBpb",
      "include_colab_link": true
    },
    "kernelspec": {
      "name": "python3",
      "display_name": "Python 3"
    },
    "language_info": {
      "name": "python"
    }
  },
  "cells": [
    {
      "cell_type": "markdown",
      "metadata": {
        "id": "view-in-github",
        "colab_type": "text"
      },
      "source": [
        "<a href=\"https://colab.research.google.com/github/Kang-Yoonah/BaekJoon/blob/main/Gold/17215.ipynb\" target=\"_parent\"><img src=\"https://colab.research.google.com/assets/colab-badge.svg\" alt=\"Open In Colab\"/></a>"
      ]
    },
    {
      "cell_type": "markdown",
      "source": [
        "- S 스트라이크\n",
        "   - 각 프레임마다 2번의 기회가 주어지며 첫 번째 기회에 10개의 핀을 모두 쓰러뜨리는 것\n",
        "   - 스트라이크를 치면 다음 두 번의 기회동안 쓰러뜨린 볼링핀의 개수만큼 추가점수를  얻게 된다.\n",
        "   - 마지막 10번째 프레임에서 스트라이크를 칠 경우 두번의 보너스 기회가 제공된다. 이때 두번의 보너스 기회동안 추가점수는 존재하지 않는다.\n",
        "- P 스페어 : \n",
        "   - 두 번째 기회까지 사용하여 10개의 핀을 쓰러뜨리는 것을 스페어(P)라고 한다.\n",
        "   - 스페어를 치면 다음 한번의 기회동안 쓰러뜨린 볼링핀의 개수만큼 추가점수를 얻게 된다.\n",
        "   - 마지막 10번째 프레임에서 스페어를 칠 경우 한번의 보너스 기회가 제공된다. 이때 한번의 보너스 기회동안 추가점수는 존재하지 않는다.\n"
      ],
      "metadata": {
        "id": "Urv_PcpJr9Rs"
      }
    },
    {
      "cell_type": "code",
      "execution_count": 34,
      "metadata": {
        "colab": {
          "base_uri": "https://localhost:8080/"
        },
        "id": "jRDRQsdKqLB_",
        "outputId": "8306a457-2fef-493e-ca12-0726d553761c"
      },
      "outputs": [
        {
          "output_type": "stream",
          "name": "stdout",
          "text": [
            "9-8P72S9P-9S-P9-SS8\n",
            "150\n"
          ]
        }
      ],
      "source": [
        "score = input()\n",
        "count = 0\n",
        "prame = 1\n",
        "def strike(score, ind, count, prame):\n",
        "    if prame < 10:\n",
        "        prame += 1\n",
        "        a = 0\n",
        "        for i in range(ind+1,ind+3):\n",
        "            if score[i] == 'S':\n",
        "                a += 10\n",
        "            elif score[i] in '123456789':\n",
        "                a += int(score[i])\n",
        "            elif score[i] == 'P':    # 2번째 if문 다음으로 오게 되므로\n",
        "                a = 10\n",
        "        count += (10+a)\n",
        "    else:\n",
        "        count += 10\n",
        "    return count, prame\n",
        "\n",
        "def spare(score, ind, count, prame):\n",
        "    if prame < 10:\n",
        "        prame += 1\n",
        "        if score[ind+1] == 'S':\n",
        "            count += (20)\n",
        "        elif score[ind+1] in '123456789':\n",
        "            count += (int(score[ind+1])+ 10)\n",
        "        else:\n",
        "            count += 10\n",
        "    else:\n",
        "        count += 10\n",
        "    return count, prame\n",
        "        \n",
        "check = c = 0\n",
        "for ind in range(len(score)):\n",
        "    i = score[ind]\n",
        "    if i in '123456789':\n",
        "        c = int(i)\n",
        "        count += c\n",
        "        check += 1\n",
        "        if check == 2:\n",
        "            prame += 1\n",
        "            check = 0\n",
        "    elif i == '-':\n",
        "        check +=1\n",
        "        c = 0\n",
        "        if check == 2:\n",
        "            prame += 1\n",
        "            check = 0\n",
        "    elif i == 'S':\n",
        "        count, prame = strike(score, ind, count, prame)\n",
        "        check = 0\n",
        "    else:\n",
        "        count -= c\n",
        "        count, prame = spare(score, ind, count, prame)\n",
        "        check = 0\n",
        "print(count)"
      ]
    }
  ]
}