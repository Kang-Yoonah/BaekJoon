{
  "nbformat": 4,
  "nbformat_minor": 0,
  "metadata": {
    "colab": {
      "provenance": [],
      "authorship_tag": "ABX9TyPiE+eE7KUvR3fYqKKoLApj",
      "include_colab_link": true
    },
    "kernelspec": {
      "name": "python3",
      "display_name": "Python 3"
    },
    "language_info": {
      "name": "python"
    }
  },
  "cells": [
    {
      "cell_type": "markdown",
      "metadata": {
        "id": "view-in-github",
        "colab_type": "text"
      },
      "source": [
        "<a href=\"https://colab.research.google.com/github/Kang-Yoonah/BaekJoon/blob/main/Gold/17251.ipynb\" target=\"_parent\"><img src=\"https://colab.research.google.com/assets/colab-badge.svg\" alt=\"Open In Colab\"/></a>"
      ]
    },
    {
      "cell_type": "code",
      "source": [
        "def sol(_):\n",
        "    People = list(map(int,input().split()))\n",
        "    max_people = max(People)\n",
        "    idx1, idx2 = People.index(max_people), People[::-1].index(max_people)\n",
        "    if idx1 == idx2:\n",
        "        return \"X\"\n",
        "    elif idx1 > idx2:\n",
        "        return \"B\"\n",
        "    return \"R\"\n",
        "    \n",
        "print(sol(input()))"
      ],
      "metadata": {
        "id": "Gw8F0-TWPI0g",
        "colab": {
          "base_uri": "https://localhost:8080/"
        },
        "outputId": "f8e2075f-3260-47e3-d06f-bc2d904f4710"
      },
      "execution_count": 1,
      "outputs": [
        {
          "output_type": "stream",
          "name": "stdout",
          "text": [
            "6\n",
            "9 15 18 7 13 11\n",
            "R\n"
          ]
        }
      ]
    }
  ]
}