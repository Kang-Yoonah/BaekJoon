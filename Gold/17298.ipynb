{
  "nbformat": 4,
  "nbformat_minor": 0,
  "metadata": {
    "colab": {
      "provenance": [],
      "authorship_tag": "ABX9TyMBfeRJ4XmffWx/knrwirYg",
      "include_colab_link": true
    },
    "kernelspec": {
      "name": "python3",
      "display_name": "Python 3"
    },
    "language_info": {
      "name": "python"
    }
  },
  "cells": [
    {
      "cell_type": "markdown",
      "metadata": {
        "id": "view-in-github",
        "colab_type": "text"
      },
      "source": [
        "<a href=\"https://colab.research.google.com/github/Kang-Yoonah/BaekJoon/blob/main/Gold/17298.ipynb\" target=\"_parent\"><img src=\"https://colab.research.google.com/assets/colab-badge.svg\" alt=\"Open In Colab\"/></a>"
      ]
    },
    {
      "cell_type": "code",
      "execution_count": 13,
      "metadata": {
        "colab": {
          "base_uri": "https://localhost:8080/"
        },
        "id": "e4VZ6wSCxJ7Z",
        "outputId": "1e71c5c9-63c3-4e10-afed-1200ebfa04cf"
      },
      "outputs": [
        {
          "output_type": "stream",
          "name": "stdout",
          "text": [
            "4\n",
            "3 3 3 3\n",
            "-1 -1 -1 -1 "
          ]
        }
      ],
      "source": [
        "# import sys\n",
        "# input = sys.stdin.readline\n",
        "\n",
        "N = int(input())\n",
        "num = list(map(int,input().split()))\n",
        "stack, ans = [], []\n",
        "for i in range(N-1,-1,-1):\n",
        "    while stack:\n",
        "        if num[i] < stack[-1]:\n",
        "            ans.append(stack[-1])\n",
        "            break\n",
        "        else:\n",
        "            stack.pop()\n",
        "    if len(ans) != (N-i):\n",
        "        ans.append(-1)\n",
        "    stack.append(num[i])\n",
        "    \n",
        "for i in ans[::-1]:\n",
        "    print(i, end=' ')"
      ]
    }
  ]
}