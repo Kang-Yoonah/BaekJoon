{
  "nbformat": 4,
  "nbformat_minor": 0,
  "metadata": {
    "colab": {
      "name": "17386.ipynb",
      "provenance": [],
      "authorship_tag": "ABX9TyNutKuqu4YLz5fwaBjA9kAi",
      "include_colab_link": true
    },
    "kernelspec": {
      "name": "python3",
      "display_name": "Python 3"
    },
    "language_info": {
      "name": "python"
    }
  },
  "cells": [
    {
      "cell_type": "markdown",
      "metadata": {
        "id": "view-in-github",
        "colab_type": "text"
      },
      "source": [
        "<a href=\"https://colab.research.google.com/github/Kang-Yoonah/BaekJoon/blob/main/Gold/17386.ipynb\" target=\"_parent\"><img src=\"https://colab.research.google.com/assets/colab-badge.svg\" alt=\"Open In Colab\"/></a>"
      ]
    },
    {
      "cell_type": "code",
      "execution_count": 1,
      "metadata": {
        "colab": {
          "base_uri": "https://localhost:8080/"
        },
        "id": "eCI0PtTb5l96",
        "outputId": "3fda9046-fc8c-4704-b4f9-8b13ac53b908"
      },
      "outputs": [
        {
          "output_type": "stream",
          "name": "stdout",
          "text": [
            " 1 1 5 5\n",
            "1 5 5 1\n",
            "1\n"
          ]
        }
      ],
      "source": [
        "#import sys\n",
        "#input = sys.stdin.readline\n",
        "x11, y11, x12, y12 = map(int,input().split())\n",
        "x21, y21, x22, y22 = map(int,input().split())\n",
        "\n",
        "def compare(a,b,x1,y1,x2,y2):\n",
        "    if (a*x1+b-y1)*(a*x2+b-y2)>0:\n",
        "        return 0\n",
        "    else:\n",
        "        return 1\n",
        "\n",
        "def compare1(value,x1,x2):\n",
        "    if (value-x1)*(value-x2)>0:\n",
        "        return 0\n",
        "    else:\n",
        "        return 1\n",
        "\n",
        "def compare_total(x11,y11,x12,y12,x21,y21,x22,y22):\n",
        "    if x11 - x12 == 0:\n",
        "        t = compare1(x11,x21,x22)\n",
        "    elif y11 - y12 == 0:\n",
        "        t = compare1(y11,y21,y22)\n",
        "    else:\n",
        "        a = (y12-y11)/(x12-x11)\n",
        "        b = y12-a*x12\n",
        "        t = compare(a,b,x21,y21,x22,y22)\n",
        "    return t\n",
        "\n",
        "if compare_total(x11,y11,x12,y12,x21,y21,x22,y22)*compare_total(x21,y21,x22,y22,x11,y11,x12,y12):\n",
        "    print(1)\n",
        "else:\n",
        "    print(0)"
      ]
    }
  ]
}