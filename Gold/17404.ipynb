{
  "nbformat": 4,
  "nbformat_minor": 0,
  "metadata": {
    "colab": {
      "provenance": [],
      "authorship_tag": "ABX9TyPxWZhgFWVMd825Wk0e64eO",
      "include_colab_link": true
    },
    "kernelspec": {
      "name": "python3",
      "display_name": "Python 3"
    },
    "language_info": {
      "name": "python"
    }
  },
  "cells": [
    {
      "cell_type": "markdown",
      "metadata": {
        "id": "view-in-github",
        "colab_type": "text"
      },
      "source": [
        "<a href=\"https://colab.research.google.com/github/Kang-Yoonah/BaekJoon/blob/main/Gold/17404.ipynb\" target=\"_parent\"><img src=\"https://colab.research.google.com/assets/colab-badge.svg\" alt=\"Open In Colab\"/></a>"
      ]
    },
    {
      "cell_type": "code",
      "source": [
        "#import sys \n",
        "#input = sys.stdin.readline\n",
        "\n",
        "def sol(N):\n",
        "    answer = max_ = 1000**2 + 1\n",
        "    data = [list(map(int,input().split())) for _ in range(N)]\n",
        "    for i in range(3):\n",
        "        dp = [data[0].copy()] + [[0]*3 for _ in range(N-1)]\n",
        "        dp[0][i-1] = dp[0][i-2] = max_\n",
        "        for j in range(1,N):\n",
        "            for k in range(3):\n",
        "                dp[j][k] = min(dp[j-1][k-1],dp[j-1][k-2]) + data[j][k]\n",
        "        answer = min(answer,dp[-1][i-1],dp[-1][i-2])\n",
        "    return answer\n",
        "\n",
        "print(sol(int(input())))"
      ],
      "metadata": {
        "id": "Gw8F0-TWPI0g",
        "colab": {
          "base_uri": "https://localhost:8080/"
        },
        "outputId": "7b2c6307-4b1d-4faa-ccc2-92894914b651"
      },
      "execution_count": 1,
      "outputs": [
        {
          "output_type": "stream",
          "name": "stdout",
          "text": [
            "3\n",
            "26 40 83\n",
            "49 60 57\n",
            "13 89 99\n",
            "110\n"
          ]
        }
      ]
    }
  ]
}