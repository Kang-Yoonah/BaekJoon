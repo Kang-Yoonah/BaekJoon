{
  "nbformat": 4,
  "nbformat_minor": 0,
  "metadata": {
    "colab": {
      "name": "17425.ipynb",
      "provenance": [],
      "authorship_tag": "ABX9TyNgaXg04ghV0YFsOUh0bLrj",
      "include_colab_link": true
    },
    "kernelspec": {
      "name": "python3",
      "display_name": "Python 3"
    },
    "language_info": {
      "name": "python"
    }
  },
  "cells": [
    {
      "cell_type": "markdown",
      "metadata": {
        "id": "view-in-github",
        "colab_type": "text"
      },
      "source": [
        "<a href=\"https://colab.research.google.com/github/Kang-Yoonah/BaekJoon/blob/main/Gold/17425.ipynb\" target=\"_parent\"><img src=\"https://colab.research.google.com/assets/colab-badge.svg\" alt=\"Open In Colab\"/></a>"
      ]
    },
    {
      "cell_type": "code",
      "execution_count": 10,
      "metadata": {
        "colab": {
          "base_uri": "https://localhost:8080/"
        },
        "id": "sWXNWPb9kTYb",
        "outputId": "7a078ce6-e253-42e3-87fe-820dc44a433c"
      },
      "outputs": [
        {
          "output_type": "stream",
          "name": "stdout",
          "text": [
            "5\n",
            "1\n",
            "2\n",
            "10\n",
            "70\n",
            "10000\n",
            "1\n",
            "4\n",
            "87\n",
            "4065\n",
            "82256014\n"
          ]
        }
      ],
      "source": [
        "num = [int(input()) for _ in range(int(input()))]\n",
        "\n",
        "n = max(num)\n",
        "divisor, sum = [0]*(n+1), [0]*(n+1)\n",
        "for i in range(1,n+1):\n",
        "    for j in range(i,n+1,i):\n",
        "        divisor[j] += i\n",
        "    sum[i] += sum[i-1]+divisor[i]\n",
        "\n",
        "for i in num:\n",
        "    print(sum[i])"
      ]
    }
  ]
}