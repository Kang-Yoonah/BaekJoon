{
  "nbformat": 4,
  "nbformat_minor": 0,
  "metadata": {
    "colab": {
      "name": "1744.ipynb",
      "provenance": [],
      "collapsed_sections": [],
      "authorship_tag": "ABX9TyOlZ10c9bhsFIwQohf3pcq5"
    },
    "kernelspec": {
      "name": "python3",
      "display_name": "Python 3"
    },
    "language_info": {
      "name": "python"
    }
  },
  "cells": [
    {
      "cell_type": "code",
      "execution_count": null,
      "metadata": {
        "colab": {
          "base_uri": "https://localhost:8080/"
        },
        "id": "aeLHkI5iarQu",
        "outputId": "55896ac2-5d3c-4e23-c848-b94dca0654b6"
      },
      "outputs": [
        {
          "output_type": "stream",
          "name": "stdout",
          "text": [
            "1\n",
            "-1\n",
            "-1\n"
          ]
        }
      ],
      "source": [
        "def cal(array):\n",
        "    i = len(array)-1\n",
        "    while i>0:\n",
        "        if array[i]*array[i-1] > array[i]+array[i-1]:\n",
        "            array[i-1] = array[i]*array[i-1]\n",
        "            array[i] = 0\n",
        "            i -=2\n",
        "        else:\n",
        "            i-=1\n",
        "\n",
        "N = int(input())\n",
        "num = [int(input()) for _ in range(N)]\n",
        "pnum=[]\n",
        "mnum=[]\n",
        "for i in range(N):\n",
        "    if num[i] >0:\n",
        "        pnum.append(num[i])\n",
        "    else:\n",
        "        mnum.append(num[i])\n",
        "pnum.sort()\n",
        "mnum.sort(reverse=True)\n",
        "if pnum:\n",
        "    cal(pnum)\n",
        "if mnum:\n",
        "    cal(mnum)\n",
        "print(sum(pnum)+sum(mnum))"
      ]
    }
  ]
}