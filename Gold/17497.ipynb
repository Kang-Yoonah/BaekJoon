{
  "nbformat": 4,
  "nbformat_minor": 0,
  "metadata": {
    "colab": {
      "provenance": [],
      "authorship_tag": "ABX9TyODd3sks+7h4thOPW4GjkZ4",
      "include_colab_link": true
    },
    "kernelspec": {
      "name": "python3",
      "display_name": "Python 3"
    },
    "language_info": {
      "name": "python"
    }
  },
  "cells": [
    {
      "cell_type": "markdown",
      "metadata": {
        "id": "view-in-github",
        "colab_type": "text"
      },
      "source": [
        "<a href=\"https://colab.research.google.com/github/Kang-Yoonah/BaekJoon/blob/main/Gold/17497.ipynb\" target=\"_parent\"><img src=\"https://colab.research.google.com/assets/colab-badge.svg\" alt=\"Open In Colab\"/></a>"
      ]
    },
    {
      "cell_type": "code",
      "source": [
        "def sol(N):\n",
        "    R = []\n",
        "    while N:\n",
        "        if N%2:\n",
        "            R.append(\"[/]\")\n",
        "            N *= 2\n",
        "        elif N%4:\n",
        "            R.append(\"[+]\")\n",
        "            N -= 2\n",
        "        else:\n",
        "            R.append(\"[*]\")\n",
        "            N //= 2\n",
        "    print(len(R))\n",
        "    print(\" \".join(R[::-1]))\n",
        "\n",
        "sol(int(input()))"
      ],
      "metadata": {
        "colab": {
          "base_uri": "https://localhost:8080/"
        },
        "id": "V5Behma77t2H",
        "outputId": "78f759a0-4240-403c-a46d-3fccd569396a"
      },
      "execution_count": 2,
      "outputs": [
        {
          "output_type": "stream",
          "name": "stdout",
          "text": [
            "14\n",
            "5\n",
            "[+] [*] [+] [*] [+]\n"
          ]
        }
      ]
    }
  ]
}