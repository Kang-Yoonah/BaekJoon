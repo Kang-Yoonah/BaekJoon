{
  "nbformat": 4,
  "nbformat_minor": 0,
  "metadata": {
    "colab": {
      "provenance": [],
      "authorship_tag": "ABX9TyNyFArlaK3SIXdgySfnVx8D",
      "include_colab_link": true
    },
    "kernelspec": {
      "name": "python3",
      "display_name": "Python 3"
    },
    "language_info": {
      "name": "python"
    }
  },
  "cells": [
    {
      "cell_type": "markdown",
      "metadata": {
        "id": "view-in-github",
        "colab_type": "text"
      },
      "source": [
        "<a href=\"https://colab.research.google.com/github/Kang-Yoonah/BaekJoon/blob/main/Gold/1756.ipynb\" target=\"_parent\"><img src=\"https://colab.research.google.com/assets/colab-badge.svg\" alt=\"Open In Colab\"/></a>"
      ]
    },
    {
      "cell_type": "code",
      "execution_count": 1,
      "metadata": {
        "id": "gd15FoBAozXz",
        "outputId": "2d15e147-7bce-4ec2-bd61-d8c0adcbcba0",
        "colab": {
          "base_uri": "https://localhost:8080/"
        }
      },
      "outputs": [
        {
          "output_type": "stream",
          "name": "stdout",
          "text": [
            "7 3\n",
            "5 6 4 3 6 2 3\n",
            "3 2 5\n",
            "2\n"
          ]
        }
      ],
      "source": [
        "D, N = map(int,input().split())\n",
        "oven = list(map(int,input().split()))\n",
        "pizza = list(map(int,input().split()))\n",
        "\n",
        "def func(D, N, oven, pizza):\n",
        "    depth, V = 0, []\n",
        "    for i in range(D):\n",
        "        if oven[i] >= pizza[0]:\n",
        "            V.append((oven[i], i))\n",
        "            if i == D-1:\n",
        "                depth = D-1\n",
        "            continue\n",
        "        depth = i-1\n",
        "        break\n",
        "\n",
        "    if depth == -1:\n",
        "        print(0)\n",
        "    elif N == 1:\n",
        "        print(depth)\n",
        "    else:\n",
        "        V.pop()\n",
        "        V.sort(key=lambda x:-x[0])\n",
        "        N, depth = N-1, depth-1\n",
        "        while V and N:\n",
        "            if V[-1][1] > depth:\n",
        "                V.pop()\n",
        "            elif V[-1][0] < pizza[-N]:\n",
        "                depth = V[-1][1]-1\n",
        "                V.pop()\n",
        "            else:\n",
        "                N -= 1\n",
        "                if N != 0:\n",
        "                    depth -= 1\n",
        "        print(depth+1 if N == 0 else 0)\n",
        "func(D, N, oven, pizza)"
      ]
    },
    {
      "cell_type": "code",
      "source": [
        "import sys\n",
        "\n",
        "D, N = map(int,input().split())\n",
        "oven = list(map(int,input().split()))\n",
        "pizza = list(map(int,input().split()))\n",
        "\n",
        "for i in range(D-1) :\n",
        "    if oven[i] < oven[i+1] :\n",
        "        oven[i+1] = oven[i]\n",
        "\n",
        "current = 0\n",
        "for i in range(D-1, -1, -1) : \n",
        "    if oven[i] < pizza[current] :\n",
        "        continue\n",
        "    current += 1\n",
        "    if current >= N :\n",
        "        print(i+1)\n",
        "        sys.exit(0)\n",
        "print(0)"
      ],
      "metadata": {
        "id": "BRmPRCeJpSOs"
      },
      "execution_count": null,
      "outputs": []
    }
  ]
}