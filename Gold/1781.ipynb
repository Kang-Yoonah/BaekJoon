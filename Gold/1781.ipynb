{
  "nbformat": 4,
  "nbformat_minor": 0,
  "metadata": {
    "colab": {
      "name": "1781.ipynb",
      "provenance": [],
      "authorship_tag": "ABX9TyNnj6wjXnMT0IxOt4cqO+iO",
      "include_colab_link": true
    },
    "kernelspec": {
      "name": "python3",
      "display_name": "Python 3"
    },
    "language_info": {
      "name": "python"
    }
  },
  "cells": [
    {
      "cell_type": "markdown",
      "metadata": {
        "id": "view-in-github",
        "colab_type": "text"
      },
      "source": [
        "<a href=\"https://colab.research.google.com/github/Kang-Yoonah/BaekJoon/blob/main/Gold/1781.ipynb\" target=\"_parent\"><img src=\"https://colab.research.google.com/assets/colab-badge.svg\" alt=\"Open In Colab\"/></a>"
      ]
    },
    {
      "cell_type": "code",
      "execution_count": 2,
      "metadata": {
        "id": "v3Oz4N8GyZ2p"
      },
      "outputs": [],
      "source": [
        "import sys \n",
        "input = sys.stdin.readline\n",
        "\n",
        "N = int(input())\n",
        "day = [[] for _ in range(N+1)]\n",
        "for _ in range(N):\n",
        "    d,w = map(int,input().split())\n",
        "    day[d].append(w)\n",
        "total = 0\n",
        "bag = []\n",
        "for i in range(N,0,-1):\n",
        "    if day[i]:\n",
        "        bag += day[i]\n",
        "        bag.sort()\n",
        "    if bag:\n",
        "        total += bag[-1]\n",
        "        del bag[-1]\n",
        "print(total)"
      ]
    }
  ]
}