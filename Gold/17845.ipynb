{
  "nbformat": 4,
  "nbformat_minor": 0,
  "metadata": {
    "colab": {
      "provenance": [],
      "authorship_tag": "ABX9TyN6QT3MvdMAx0hrf7DVP3Xw",
      "include_colab_link": true
    },
    "kernelspec": {
      "name": "python3",
      "display_name": "Python 3"
    },
    "language_info": {
      "name": "python"
    }
  },
  "cells": [
    {
      "cell_type": "markdown",
      "metadata": {
        "id": "view-in-github",
        "colab_type": "text"
      },
      "source": [
        "<a href=\"https://colab.research.google.com/github/Kang-Yoonah/BaekJoon/blob/main/Gold/17845.ipynb\" target=\"_parent\"><img src=\"https://colab.research.google.com/assets/colab-badge.svg\" alt=\"Open In Colab\"/></a>"
      ]
    },
    {
      "cell_type": "code",
      "execution_count": null,
      "metadata": {
        "id": "iZfBFl2i2uKD"
      },
      "outputs": [],
      "source": [
        "N, K = map(int,input().split())\n",
        "dp = [[0]*(N+1) for _ in range(K+1)]\n",
        "\n",
        "sugang = [[0,0]]\n",
        "for _ in range(K):\n",
        "    sugang.append(list(map(int,input().split())))\n",
        "\n",
        "for i in range(1,K+1):\n",
        "    for j in range(1,N+1):\n",
        "        V = sugang[i][0]\n",
        "        L = sugang[i][1]\n",
        "\n",
        "        if j < L:\n",
        "            dp[i][j] = dp[i-1][j]\n",
        "        else:\n",
        "            dp[i][j] = max(dp[i-1][j-L] + V, dp[i-1][j])\n",
        "print(dp[K][N])"
      ]
    },
    {
      "cell_type": "markdown",
      "source": [
        "`dp[i][j]`\n",
        "- i번째 물건을 넣었을때 최대한도 j인 배낭\n",
        "- 고려해야하는 상황\n",
        "    1. 물건의 무게가 한도보다 클 때\n",
        "        - 물건을 넣지 않고   \n",
        "        이전 번째까지의 배낭 무게를 그대로 가져온다.\n",
        "    2. 물건의 무게가 한도보다 작을 때\n",
        "        - 이전 물건 개수의 배낭에서 물건의 무게인 w를 뺐을 때의 가치에서 현재 물건 가치를 더한다\n",
        "        - 이전 물건 개수의 배낭의 현재 무게의 가치를 그대로 쓸 지 고민한다\n",
        "        - 위의 두 가지 가치를 비교하여 큰 것을 넣는다.\n"
      ],
      "metadata": {
        "id": "GzksJR0i2ylP"
      }
    },
    {
      "cell_type": "code",
      "source": [
        "def sol():\n",
        "    N,K = map(int,input().split())\n",
        "    dp = [0]*(N+1)\n",
        "    for _ in range(K-1):\n",
        "        V,L = map(int,input().split())\n",
        "        for i in range(N,L-1,-1):\n",
        "            dp[i] = max(dp[i],dp[i-L]+V)\n",
        "\n",
        "    V,L = map(int,input().split())\n",
        "    if L<=N:\n",
        "        dp[N] = max(dp[N],dp[N-L]+V)\n",
        "    return dp[-1]\n",
        "\n",
        "print(sol())"
      ],
      "metadata": {
        "id": "-LrQ-4Jf3o3Z"
      },
      "execution_count": null,
      "outputs": []
    },
    {
      "cell_type": "markdown",
      "source": [
        "**리스트 하나로 해결하는 배낭문제**\n",
        "- 핵심 : 인덱스를 거꾸로 간다.   \n",
        "단, 현재 물건의 무게가 들어갈 수 있는 만큼한 인덱스를 돈다.\n",
        "- 각각의 위치마다   \n",
        "    1. 원래의 값과 \n",
        "    2. 현재 물건의 무게를 뺸 가치에 현 물건의 가치를 더한 값   \n",
        " 을 비교하여 큰 값을 넣는다."
      ],
      "metadata": {
        "id": "wH2LSPo13s7a"
      }
    }
  ]
}