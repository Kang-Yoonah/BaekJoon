{
  "nbformat": 4,
  "nbformat_minor": 0,
  "metadata": {
    "colab": {
      "name": "1806.ipynb",
      "provenance": [],
      "authorship_tag": "ABX9TyNJNHHvSHnHYG+n1dy8YkD1",
      "include_colab_link": true
    },
    "kernelspec": {
      "name": "python3",
      "display_name": "Python 3"
    },
    "language_info": {
      "name": "python"
    }
  },
  "cells": [
    {
      "cell_type": "markdown",
      "metadata": {
        "id": "view-in-github",
        "colab_type": "text"
      },
      "source": [
        "<a href=\"https://colab.research.google.com/github/Kang-Yoonah/BaekJoon/blob/main/Gold/1806.ipynb\" target=\"_parent\"><img src=\"https://colab.research.google.com/assets/colab-badge.svg\" alt=\"Open In Colab\"/></a>"
      ]
    },
    {
      "cell_type": "code",
      "source": [
        "N, S = map(int,input().split())\n",
        "seq = list(map(int,input().split()))\n",
        "\n",
        "m, s, e= N+1, 0, 1\n",
        "total = seq[s]\n",
        "while s != N-1:\n",
        "    if total < S:\n",
        "        if e < N:\n",
        "            total += seq[e]\n",
        "            e += 1\n",
        "        else:\n",
        "            break    \n",
        "    else:\n",
        "        while total >= S:\n",
        "            m = min(m, e-s)\n",
        "            total -= seq[s]\n",
        "            s += 1\n",
        "        \n",
        "print(0 if m == N+1 else m)"
      ],
      "metadata": {
        "colab": {
          "base_uri": "https://localhost:8080/"
        },
        "id": "NGHnWNMO0Wfq",
        "outputId": "016ba4bb-9bc0-4851-a175-7f34a12a221e"
      },
      "execution_count": 3,
      "outputs": [
        {
          "output_type": "stream",
          "name": "stdout",
          "text": [
            "10 15\n",
            "5 1 3 5 10 7 4 9 2 8\n",
            "2\n"
          ]
        }
      ]
    },
    {
      "cell_type": "code",
      "execution_count": 1,
      "metadata": {
        "colab": {
          "base_uri": "https://localhost:8080/"
        },
        "id": "mjLgGvPmxBse",
        "outputId": "4f585871-b367-4f51-9426-6c392d534abd"
      },
      "outputs": [
        {
          "output_type": "stream",
          "name": "stdout",
          "text": [
            "10 15\n",
            "5 1 3 5 10 7 4 9 2 8\n",
            "2\n"
          ]
        }
      ],
      "source": [
        "N, S = map(int,input().split())\n",
        "seq = list(map(int,input().split()))\n",
        "\n",
        "m, s, e= N+1, 0, 0\n",
        "total = seq[s]\n",
        "while True:\n",
        "    if total < S:\n",
        "        e += 1\n",
        "        if e < N:\n",
        "            total += seq[e]\n",
        "        else:\n",
        "            break    \n",
        "    else:\n",
        "        m = min(m, e-s+1)\n",
        "        total -= seq[s]\n",
        "        s += 1\n",
        "\n",
        "print(0 if m == N+1 else m)"
      ]
    }
  ]
}