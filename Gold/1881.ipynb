{
  "nbformat": 4,
  "nbformat_minor": 0,
  "metadata": {
    "colab": {
      "name": "1881.ipynb",
      "provenance": [],
      "authorship_tag": "ABX9TyM0Kd+7SnSJbCjzuI/CLq0W",
      "include_colab_link": true
    },
    "kernelspec": {
      "name": "python3",
      "display_name": "Python 3"
    },
    "language_info": {
      "name": "python"
    }
  },
  "cells": [
    {
      "cell_type": "markdown",
      "metadata": {
        "id": "view-in-github",
        "colab_type": "text"
      },
      "source": [
        "<a href=\"https://colab.research.google.com/github/Kang-Yoonah/BaekJoon/blob/main/Gold/1881.ipynb\" target=\"_parent\"><img src=\"https://colab.research.google.com/assets/colab-badge.svg\" alt=\"Open In Colab\"/></a>"
      ]
    },
    {
      "cell_type": "markdown",
      "source": [
        "**공 바꾸기**\n",
        "\n",
        "0부터 9까지의 숫자가 각각 적힌 열 개의 공과, 0부터 9까지의 숫자 중 하나가 적힌 여러 장의 카드들이 있다. \n",
        "\n",
        "그리고 각각 공 하나씩을 담을 수 있는 상자 네 개가 있다.   \n",
        "같은 숫자의 카드는 여러 장 있을 수 있지만, 공은 하나씩이다.\n",
        "\n",
        "카드를 한 장씩 뽑아서 그에 해당하는 공을 상자 중 하나에 넣어야 하며, 다음과 같은 규칙을 따른다.\n",
        "\n",
        "1. 해당하는 공이 이미 상자 중 하나에 들어가 있을 경우엔 아무 일도 하지 않는다.\n",
        "2. 빈 상자가 있으면 해당하는 공을 거기에 그냥 넣으면 된다. (삽입 연산)   \n",
        "빈 상자가 없을 경우엔 이미 상자에 들어가 있는 공 중 하나를 빼내고, 새 공으로 교환해 넣어야 한다. (교환 연산)\n",
        "\n",
        "임의 개수의 카드를 뽑았을 때, **삽입․교환 연산을 최소한으로** 하여 순서대로 작업을 처리하는 프로그램을 작성하여 보자."
      ],
      "metadata": {
        "id": "uwL51Pw2ecXs"
      }
    },
    {
      "cell_type": "code",
      "execution_count": 26,
      "metadata": {
        "colab": {
          "base_uri": "https://localhost:8080/"
        },
        "id": "1A9-heRRd9F1",
        "outputId": "09546be7-b034-4f37-ce2c-f352dd9be0cd"
      },
      "outputs": [
        {
          "output_type": "stream",
          "name": "stdout",
          "text": [
            "9\n",
            "1 2 0 4 5 6 4 1 2\n",
            "6\n"
          ]
        }
      ],
      "source": [
        "n = int(input())\n",
        "count = ind = 0\n",
        "\n",
        "if n:\n",
        "    cards = list(map(int,input().split()))\n",
        "    a = -1\n",
        "    nums = []\n",
        "    num_count = [0]*10\n",
        "    for i in cards:\n",
        "        if a != i:\n",
        "            nums.append(i)    # 중복된 수 제거\n",
        "            num_count[i] += 1    # 연속하여 중복하는 것을 제거하고 숫자 count\n",
        "            a = i\n",
        "\n",
        "    box = []\n",
        "    for i in nums:\n",
        "        if i in box:   # box에 있으면 pass\n",
        "            num_count[i] -= 1\n",
        "            ind += 1\n",
        "        elif len(box) <4:   # i가 box에 없으면서 box가 꽉 차지 않을때 : 삽입연산\n",
        "            box.append(i)\n",
        "            count +=1\n",
        "            num_count[i] -= 1\n",
        "            ind +=1\n",
        "        else:    # i가 box에 없으면서 box가 꽉 찼을 때 : 교환 연산\n",
        "            c = [num_count[j] for j in box]\n",
        "            if min(c) == 0:\n",
        "                box[c.index(min(c))] = i\n",
        "            else:\n",
        "                location = [nums.index(j,ind) for j in box]\n",
        "                box[location.index(max(location))] = i\n",
        "            ind += 1\n",
        "            count += 1\n",
        "            num_count[i] -= 1\n",
        "\n",
        "print(count)"
      ]
    }
  ]
}