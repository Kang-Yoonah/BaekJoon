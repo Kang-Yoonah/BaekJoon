{
  "nbformat": 4,
  "nbformat_minor": 0,
  "metadata": {
    "colab": {
      "provenance": [],
      "authorship_tag": "ABX9TyNxFwSxeTyMDescpo90XbmY",
      "include_colab_link": true
    },
    "kernelspec": {
      "name": "python3",
      "display_name": "Python 3"
    },
    "language_info": {
      "name": "python"
    }
  },
  "cells": [
    {
      "cell_type": "markdown",
      "metadata": {
        "id": "view-in-github",
        "colab_type": "text"
      },
      "source": [
        "<a href=\"https://colab.research.google.com/github/Kang-Yoonah/BaekJoon/blob/main/Gold/2015.ipynb\" target=\"_parent\"><img src=\"https://colab.research.google.com/assets/colab-badge.svg\" alt=\"Open In Colab\"/></a>"
      ]
    },
    {
      "cell_type": "code",
      "execution_count": 1,
      "metadata": {
        "colab": {
          "base_uri": "https://localhost:8080/"
        },
        "id": "y0h6nsEb6uN5",
        "outputId": "e45d1f39-ee07-4e6f-dad3-5587b43de5dd"
      },
      "outputs": [
        {
          "output_type": "stream",
          "name": "stdout",
          "text": [
            "6 5\n",
            "1 2 3 4 5 0\n",
            "3\n"
          ]
        }
      ],
      "source": [
        "def sol():\n",
        "    N, M = map(int,input().split())\n",
        "    Num = list(map(int,input().split()))\n",
        "    Sum, S, ans = {0:1}, 0, 0\n",
        "    for num in Num:\n",
        "        S += num\n",
        "        if S-M in Sum:\n",
        "            ans += Sum[S-M]\n",
        "\n",
        "        if S in Sum:\n",
        "            Sum[S] += 1\n",
        "        else:\n",
        "            Sum[S] = 1\n",
        "    return ans  \n",
        "\n",
        "print(sol())        "
      ]
    }
  ]
}