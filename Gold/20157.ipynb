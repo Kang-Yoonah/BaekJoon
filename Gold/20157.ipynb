{
  "nbformat": 4,
  "nbformat_minor": 0,
  "metadata": {
    "colab": {
      "provenance": [],
      "authorship_tag": "ABX9TyNiWEun0HL0PwfcZLh7RVeF",
      "include_colab_link": true
    },
    "kernelspec": {
      "name": "python3",
      "display_name": "Python 3"
    },
    "language_info": {
      "name": "python"
    }
  },
  "cells": [
    {
      "cell_type": "markdown",
      "metadata": {
        "id": "view-in-github",
        "colab_type": "text"
      },
      "source": [
        "<a href=\"https://colab.research.google.com/github/Kang-Yoonah/BaekJoon/blob/main/Gold/20157.ipynb\" target=\"_parent\"><img src=\"https://colab.research.google.com/assets/colab-badge.svg\" alt=\"Open In Colab\"/></a>"
      ]
    },
    {
      "cell_type": "code",
      "execution_count": 1,
      "metadata": {
        "colab": {
          "base_uri": "https://localhost:8080/"
        },
        "id": "qFLeC6Cx6o7m",
        "outputId": "37d23142-a300-4211-df7a-9fa45c494f8e"
      },
      "outputs": [
        {
          "output_type": "stream",
          "name": "stdout",
          "text": [
            "5\n",
            "8 16\n",
            "10 -3\n",
            "2 4\n",
            "7 10\n",
            "1 2\n",
            "3\n"
          ]
        }
      ],
      "source": [
        "import math \n",
        "#import sys \n",
        "#input = sys.stdin.readline\n",
        "\n",
        "def sol(N):\n",
        "    D = {}\n",
        "    for _ in range(N):\n",
        "        x,y = map(int,input().split())\n",
        "        gcd_ = math.gcd(x,y)\n",
        "        a = (x//gcd_,y//gcd_)\n",
        "        if a in D:\n",
        "            D[a] += 1\n",
        "        else:\n",
        "            D[a] = 1\n",
        "    return max(D.values())\n",
        "         \n",
        "print(sol(int(input())))"
      ]
    }
  ]
}