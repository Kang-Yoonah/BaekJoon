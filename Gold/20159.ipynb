{
  "nbformat": 4,
  "nbformat_minor": 0,
  "metadata": {
    "colab": {
      "name": "20159.ipynb",
      "provenance": [],
      "authorship_tag": "ABX9TyOAi3l5ql0GvFQW4V8vqRvy",
      "include_colab_link": true
    },
    "kernelspec": {
      "name": "python3",
      "display_name": "Python 3"
    },
    "language_info": {
      "name": "python"
    }
  },
  "cells": [
    {
      "cell_type": "markdown",
      "metadata": {
        "id": "view-in-github",
        "colab_type": "text"
      },
      "source": [
        "<a href=\"https://colab.research.google.com/github/Kang-Yoonah/BaekJoon/blob/main/Gold/20159.ipynb\" target=\"_parent\"><img src=\"https://colab.research.google.com/assets/colab-badge.svg\" alt=\"Open In Colab\"/></a>"
      ]
    },
    {
      "cell_type": "markdown",
      "source": [
        "싸늘하다. 정훈이는 다음과 같은 도박을 하고 있다.\n",
        "\n",
        "N개의 카드와 2명의 플레이어가 있다. 플레이어가 자신과 상대방에게 번갈아 가며 카드의 윗장부터 한 장씩 분배한다.   \n",
        "단, 카드는 분배하는 사람부터 받는다. **카드를 모두 분배했을 때 카드에 적힌 수의 합이 더 큰 사람이 이긴다.**   \n",
        "두 명이 공평하게 카드를 나눠 갖기 위해 **카드의 개수는 짝수로** 주어진다.\n",
        "\n",
        "카드를 섞고 있는 정훈이는 타짜다. 수없이 많이 카드를 섞어본 경험으로 섞고 난 후 카드의 값들을 다 알고 있다.    \n",
        "정훈이에게 카드를 분배할 수 있는 기회가 왔다.   \n",
        "확실한 승리를 위해 카드를 분배할 때 카드의 윗장이 아닌 밑장을 빼는 밑장 빼기를 하기로 마음을 먹었다.    \n",
        "상대는 눈치가 빠르기로 유명한 선수이므로 **밑장 빼기는 최대 한번** 할 것이다.\n",
        "\n",
        "정훈이가 **최대 한번 밑장 빼기를 할 때 얻을 수 있는 최대 카드의 합**을 구하여라.\n",
        "\n",
        "\n",
        "**입력**\n",
        "- 카드의 개수 N (2 ≤ N ≤ 100,000)이 주어진다. 단, N은 짝수이다.\n",
        "- 둘째 줄에 카드의 윗장부터 밑장까지 카드의 값 X (1 ≤ X ≤ 10,000)이 정수로 주어진다.\n",
        "\n",
        "\n",
        "**출력**\n",
        "- 정훈이가 얻을 수 있는 최대 카드 값의 합을 출력한다."
      ],
      "metadata": {
        "id": "5nAqIYj6ZpPK"
      }
    },
    {
      "cell_type": "code",
      "execution_count": null,
      "metadata": {
        "colab": {
          "base_uri": "https://localhost:8080/"
        },
        "id": "dMqvTmG5Zkof",
        "outputId": "2379d7fd-e394-4d61-caac-e9143592cb04"
      },
      "outputs": [
        {
          "output_type": "stream",
          "name": "stdout",
          "text": [
            "6\n",
            "1 2 100 80 5 2\n",
            "181\n"
          ]
        }
      ],
      "source": [
        "N = int(input())\n",
        "card = list(map(int,input().split()))\n",
        "card_sum = []\n",
        "count = (N)//2\n",
        "odd_sum = 0\n",
        "for i in range(count+1):\n",
        "    if i != 0:\n",
        "        odd_sum += card[(i-1)*2]\n",
        "        count -= 1\n",
        "    j = (i-1)*2 + 1\n",
        "    if j < 0:\n",
        "        j = 1\n",
        "    while (j+(count-1)*2) <= N:\n",
        "        even_sum = 0\n",
        "        for k in range(j, j+(count-1)*2+1,2):\n",
        "            even_sum += card[k]\n",
        "        j += 2\n",
        "        card_sum.append(odd_sum+even_sum)\n",
        "print(max(card_sum))"
      ]
    },
    {
      "cell_type": "code",
      "source": [
        "N = int(input())\n",
        "card = list(map(int,input().split()))\n",
        "odd_sum = even_sum = result = 0\n",
        "for i in range(0,N,2):\n",
        "    odd_sum += card[i]\n",
        "    even_sum += card[i+1]\n",
        "    \n",
        "for j in range(0,N,2):\n",
        "    a = card[j]\n",
        "    if a >= card[j+1]:\n",
        "        result += a\n",
        "        odd_sum -= a\n",
        "        if j < N-2:\n",
        "            if card[j+1] >= card[-1]:\n",
        "                even = even_sum - card[-1]\n",
        "                if even > odd_sum and card[j+1] > card[j+2]:\n",
        "                    result += even\n",
        "                    break\n",
        "                else:\n",
        "                    even_sum -= card[j+1]\n",
        "            elif card[j+1] < card[-1]:\n",
        "                even = even_sum - card[j+1]\n",
        "                if even > odd_sum and card[j+2] < card[j+3]:\n",
        "                    result += even\n",
        "                    break\n",
        "                else:\n",
        "                    even_sum -= card[j+1]\n",
        "            else:\n",
        "                even_sum -= card[j+1]\n",
        "    else:\n",
        "        if a >= card[-1]:\n",
        "            even = even_sum - card[-1] + a\n",
        "            if even > odd_sum:\n",
        "                result += even\n",
        "                break\n",
        "            else:\n",
        "                result += a\n",
        "                odd_sum -= a\n",
        "                even_sum -= card[j+1]\n",
        "        elif even_sum > odd_sum and card[j+1] > card[j+2]:\n",
        "            result += even_sum\n",
        "            break\n",
        "        else:\n",
        "            result += a\n",
        "            odd_sum -= a\n",
        "            even_sum -= card[j+1]\n",
        "print(result)"
      ],
      "metadata": {
        "colab": {
          "base_uri": "https://localhost:8080/"
        },
        "id": "RqwlGUBXeP1k",
        "outputId": "f55bc62d-1dd9-4ca7-c2d3-f633c033d53e"
      },
      "execution_count": null,
      "outputs": [
        {
          "output_type": "stream",
          "name": "stdout",
          "text": [
            "2\n",
            "100 70\n",
            "100\n"
          ]
        }
      ]
    }
  ]
}