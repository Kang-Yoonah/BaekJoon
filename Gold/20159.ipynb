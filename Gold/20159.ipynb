{
  "nbformat": 4,
  "nbformat_minor": 0,
  "metadata": {
    "colab": {
      "name": "20159.ipynb",
      "provenance": [],
      "authorship_tag": "ABX9TyPSLsMvrop789cmUdIECmDv",
      "include_colab_link": true
    },
    "kernelspec": {
      "name": "python3",
      "display_name": "Python 3"
    },
    "language_info": {
      "name": "python"
    }
  },
  "cells": [
    {
      "cell_type": "markdown",
      "metadata": {
        "id": "view-in-github",
        "colab_type": "text"
      },
      "source": [
        "<a href=\"https://colab.research.google.com/github/Kang-Yoonah/BaekJoon/blob/main/Gold/20159.ipynb\" target=\"_parent\"><img src=\"https://colab.research.google.com/assets/colab-badge.svg\" alt=\"Open In Colab\"/></a>"
      ]
    },
    {
      "cell_type": "markdown",
      "source": [
        "싸늘하다. 정훈이는 다음과 같은 도박을 하고 있다.\n",
        "\n",
        "N개의 카드와 2명의 플레이어가 있다. 플레이어가 자신과 상대방에게 번갈아 가며 카드의 윗장부터 한 장씩 분배한다.   \n",
        "단, 카드는 분배하는 사람부터 받는다. **카드를 모두 분배했을 때 카드에 적힌 수의 합이 더 큰 사람이 이긴다.**   \n",
        "두 명이 공평하게 카드를 나눠 갖기 위해 **카드의 개수는 짝수로** 주어진다.\n",
        "\n",
        "카드를 섞고 있는 정훈이는 타짜다. 수없이 많이 카드를 섞어본 경험으로 섞고 난 후 카드의 값들을 다 알고 있다.    \n",
        "정훈이에게 카드를 분배할 수 있는 기회가 왔다.   \n",
        "확실한 승리를 위해 카드를 분배할 때 카드의 윗장이 아닌 밑장을 빼는 밑장 빼기를 하기로 마음을 먹었다.    \n",
        "상대는 눈치가 빠르기로 유명한 선수이므로 **밑장 빼기는 최대 한번** 할 것이다.\n",
        "\n",
        "정훈이가 **최대 한번 밑장 빼기를 할 때 얻을 수 있는 최대 카드의 합**을 구하여라.\n",
        "\n",
        "\n",
        "**입력**\n",
        "- 카드의 개수 N (2 ≤ N ≤ 100,000)이 주어진다. 단, N은 짝수이다.\n",
        "- 둘째 줄에 카드의 윗장부터 밑장까지 카드의 값 X (1 ≤ X ≤ 10,000)이 정수로 주어진다.\n",
        "\n",
        "\n",
        "**출력**\n",
        "- 정훈이가 얻을 수 있는 최대 카드 값의 합을 출력한다."
      ],
      "metadata": {
        "id": "5nAqIYj6ZpPK"
      }
    },
    {
      "cell_type": "code",
      "execution_count": 20,
      "metadata": {
        "colab": {
          "base_uri": "https://localhost:8080/"
        },
        "id": "dMqvTmG5Zkof",
        "outputId": "7b5e24fe-73b9-4e1b-9e95-17a43384b910"
      },
      "outputs": [
        {
          "output_type": "stream",
          "name": "stdout",
          "text": [
            "6\n",
            "3 2 5 2 1 3\n",
            "11\n"
          ]
        }
      ],
      "source": [
        "#import sys\n",
        "#input = sys.stdin.readline\n",
        "\n",
        "N = int(input())\n",
        "card = list(map(int,input().split()))\n",
        "odd_sum = [0]*N\n",
        "even_sum = [0]*N\n",
        "odd = even = 0\n",
        "for i in range(0,N):\n",
        "    if i % 2:\n",
        "        even += card[-i]\n",
        "        even_sum[-i] = even\n",
        "    else:\n",
        "        odd += card[i]\n",
        "        odd_sum[i] = odd \n",
        "\n",
        "result = [even_sum[1], odd_sum[N-2]]\n",
        "last = card[-1]\n",
        "for i in range(0,N-2,2):\n",
        "    result.append(odd_sum[i]+even_sum[i+3])\n",
        "    result.append(odd_sum[i]+even_sum[i+1]-last)\n",
        "print(max(result))"
      ]
    }
  ]
}