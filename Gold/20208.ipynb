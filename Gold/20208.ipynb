{
  "nbformat": 4,
  "nbformat_minor": 0,
  "metadata": {
    "colab": {
      "provenance": [],
      "authorship_tag": "ABX9TyOJA50S7caCnLUO1BPcN/At",
      "include_colab_link": true
    },
    "kernelspec": {
      "name": "python3",
      "display_name": "Python 3"
    },
    "language_info": {
      "name": "python"
    }
  },
  "cells": [
    {
      "cell_type": "markdown",
      "metadata": {
        "id": "view-in-github",
        "colab_type": "text"
      },
      "source": [
        "<a href=\"https://colab.research.google.com/github/Kang-Yoonah/BaekJoon/blob/main/Gold/20208.ipynb\" target=\"_parent\"><img src=\"https://colab.research.google.com/assets/colab-badge.svg\" alt=\"Open In Colab\"/></a>"
      ]
    },
    {
      "cell_type": "code",
      "execution_count": 3,
      "metadata": {
        "colab": {
          "base_uri": "https://localhost:8080/"
        },
        "id": "5OxuIyW3ldCI",
        "outputId": "982e398d-0035-4928-b9d0-9998bb5b70b5"
      },
      "outputs": [
        {
          "output_type": "stream",
          "name": "stdout",
          "text": [
            "6 8 3 \n",
            "0 0 1 0 0 0\n",
            "0 2 0 2 0 0\n",
            "0 0 0 0 0 2\n",
            "0 0 0 0 0 0\n",
            "2 0 0 2 2 2\n",
            "0 0 2 0 0 0\n",
            "8\n"
          ]
        }
      ],
      "source": [
        "N, M, H = map(int,input().split())\n",
        "position, start = {}, 0\n",
        "for i in range(N):\n",
        "    V = input().strip().split(' ')\n",
        "    for j in range(N):\n",
        "        if V[j] == '2':\n",
        "            position[(i, j)] = 1\n",
        "        elif V[j] == '1':\n",
        "            start = (i, j)\n",
        "home = start\n",
        "\n",
        "ans = 0\n",
        "def search(start, position, hp, home, milk):\n",
        "    global ans\n",
        "    for P in position:\n",
        "        if position[P]:\n",
        "            d = abs(P[0]-start[0]) + abs(P[1]-start[1])\n",
        "            if d <= hp:\n",
        "                position[P] = 0\n",
        "                search(P, position, hp-d+H, home, milk+1)\n",
        "                position[P] = 1\n",
        "    if abs(home[0]-start[0]) + abs(home[1]-start[1]) <= hp:\n",
        "        ans = max(milk, ans)\n",
        "\n",
        "search(start, position, M, home, 0)\n",
        "print(ans)"
      ]
    }
  ]
}