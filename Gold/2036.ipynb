{
  "nbformat": 4,
  "nbformat_minor": 0,
  "metadata": {
    "colab": {
      "name": "2036.ipynb",
      "provenance": [],
      "authorship_tag": "ABX9TyOCGoxW01/GMOth6+aBPjeK",
      "include_colab_link": true
    },
    "kernelspec": {
      "name": "python3",
      "display_name": "Python 3"
    },
    "language_info": {
      "name": "python"
    }
  },
  "cells": [
    {
      "cell_type": "markdown",
      "metadata": {
        "id": "view-in-github",
        "colab_type": "text"
      },
      "source": [
        "<a href=\"https://colab.research.google.com/github/Kang-Yoonah/BaekJoon/blob/main/Gold/2036.ipynb\" target=\"_parent\"><img src=\"https://colab.research.google.com/assets/colab-badge.svg\" alt=\"Open In Colab\"/></a>"
      ]
    },
    {
      "cell_type": "markdown",
      "source": [
        "**수열의 점수**\n",
        "- n개의 정수로 이루어진 수열이 있다.    \n",
        "이 수열에서 한 정수를 제거하거나, 또는 두 정수를 제거할 수 있다.    \n",
        "한 정수를 제거하는 경우에는 그 정수가 점수가 되고, 두 정수를 제거하는 경우에는 두 정수의 곱이 점수가 된다.    \n",
        "이를 반복하여 수열에 아무 수도 남지 않게 되었을 때, 점수의 총 합의 최대를 구하는 프로그램을 작성하시오.\n",
        "- 첫째 줄에 정수 n(1 ≤ n ≤ 100,000)이 주어진다. 다음 n개의 줄에는 절댓값이 1,000,000을 넘지 않는 정수가 n개 주어진다.\n",
        "- 전략\n",
        " - 음수와 양수를 나눠서 생각해야한다.\n",
        " - 음수는 왼쪽에서부터, 양수는 오른쪽에서부터 2개씩 묶는게 최선이다.\n",
        " - -1 : 음수와 묶기 > 0과 묶기 > 혼자 제거되기\n",
        " - 0 : 하나 남은 음수와 묶기 > 주변에 아무것도 남는 숫자가 없다면 그냥 없애기\n",
        " - 1 : 무조건 혼자 제거되기"
      ],
      "metadata": {
        "id": "cE1CS07PQpN7"
      }
    },
    {
      "cell_type": "code",
      "source": [
        "#import sys\n",
        "#input = sys.stdin.readline\n",
        "\n",
        "N = int(input())\n",
        "pos = []\n",
        "neg = []\n",
        "for _ in range(N):\n",
        "    num = int(input())\n",
        "    if num > 0:\n",
        "        pos.append(num)\n",
        "    else:\n",
        "        neg.append(num)\n",
        "\n",
        "pos.sort()\n",
        "neg.sort()\n",
        "sum = 0\n",
        "pos_len = len(pos)\n",
        "neg_len = len(neg)\n",
        "\n",
        "for i in range(0,neg_len-1,2):\n",
        "    sum += (neg[i]*neg[i+1])\n",
        "if neg_len % 2:\n",
        "    sum += neg[-1]\n",
        "\n",
        "while 1 in pos:\n",
        "    sum += 1\n",
        "    pos_len -= 1\n",
        "    del pos[0]\n",
        "for i in range(pos_len-1,0,-2):\n",
        "    sum += (pos[i]*pos[i-1])    \n",
        "if pos_len % 2:\n",
        "    sum += pos[0]\n",
        "\n",
        "print(sum)"
      ],
      "metadata": {
        "colab": {
          "base_uri": "https://localhost:8080/"
        },
        "id": "T0WFIhDutyrR",
        "outputId": "fb2c1300-723a-4d8d-ce9d-946133d6b0a2"
      },
      "execution_count": 11,
      "outputs": [
        {
          "output_type": "stream",
          "name": "stdout",
          "text": [
            "5\n",
            "-1\n",
            "-9\n",
            "0\n",
            "-8\n",
            "1\n",
            "73\n"
          ]
        }
      ]
    }
  ]
}