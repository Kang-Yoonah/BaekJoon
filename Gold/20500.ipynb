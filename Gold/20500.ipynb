{
  "nbformat": 4,
  "nbformat_minor": 0,
  "metadata": {
    "colab": {
      "name": "20500.ipynb",
      "provenance": [],
      "collapsed_sections": [],
      "authorship_tag": "ABX9TyOTOtEDWV67GYE9097L46X1",
      "include_colab_link": true
    },
    "kernelspec": {
      "name": "python3",
      "display_name": "Python 3"
    },
    "language_info": {
      "name": "python"
    }
  },
  "cells": [
    {
      "cell_type": "markdown",
      "metadata": {
        "id": "view-in-github",
        "colab_type": "text"
      },
      "source": [
        "<a href=\"https://colab.research.google.com/github/Kang-Yoonah/BaekJoon/blob/main/Gold/20500.ipynb\" target=\"_parent\"><img src=\"https://colab.research.google.com/assets/colab-badge.svg\" alt=\"Open In Colab\"/></a>"
      ]
    },
    {
      "cell_type": "code",
      "source": [
        "N = int(input())\n",
        "dp = [1,0]\n",
        "for n in range(3,N+1):\n",
        "    ind = n%2\n",
        "    dp[ind] *= 2\n",
        "    dp[ind] += dp[ind-1]    \n",
        "print(dp[N%2]%1000000007)"
      ],
      "metadata": {
        "colab": {
          "base_uri": "https://localhost:8080/"
        },
        "id": "WwEvGX9pRkny",
        "outputId": "bdd474b1-0f95-483e-b4c7-09c90fa05ab4"
      },
      "execution_count": 13,
      "outputs": [
        {
          "output_type": "stream",
          "name": "stdout",
          "text": [
            "1515\n",
            "939178250\n"
          ]
        }
      ]
    },
    {
      "cell_type": "code",
      "source": [
        "num,a = 0,1 \n",
        "for _ in range(1,int(input())):\n",
        "    num = (2*num + a)%(10**9+7)\n",
        "    a *= -1\n",
        "print(num)"
      ],
      "metadata": {
        "colab": {
          "base_uri": "https://localhost:8080/"
        },
        "id": "lXu5CS4Ifqas",
        "outputId": "717a839d-0cc3-41e6-ab0d-a2a30d19e29c"
      },
      "execution_count": 14,
      "outputs": [
        {
          "output_type": "stream",
          "name": "stdout",
          "text": [
            "1515\n",
            "939178250\n"
          ]
        }
      ]
    }
  ]
}