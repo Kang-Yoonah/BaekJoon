{
  "nbformat": 4,
  "nbformat_minor": 0,
  "metadata": {
    "colab": {
      "name": "2096.ipynb",
      "provenance": [],
      "authorship_tag": "ABX9TyP1iZU5Xff8XMh52zRwsaG8",
      "include_colab_link": true
    },
    "kernelspec": {
      "name": "python3",
      "display_name": "Python 3"
    },
    "language_info": {
      "name": "python"
    }
  },
  "cells": [
    {
      "cell_type": "markdown",
      "metadata": {
        "id": "view-in-github",
        "colab_type": "text"
      },
      "source": [
        "<a href=\"https://colab.research.google.com/github/Kang-Yoonah/BaekJoon/blob/main/Gold/2096.ipynb\" target=\"_parent\"><img src=\"https://colab.research.google.com/assets/colab-badge.svg\" alt=\"Open In Colab\"/></a>"
      ]
    },
    {
      "cell_type": "markdown",
      "source": [
        "**내려가기**\n",
        "\n",
        "N 줄에 0 이상 9 이하의 숫자가 세 개씩 적혀있다.내려가기 게임을 하는데 첫 줄에서 시작해서 마지막 줄에서 끝나게 되는 놀이이다.\n",
        "\n",
        "먼저 처음에 적혀있는 세 개의 숫자 중에서 하나를 골라서 시작하게 된다.   \n",
        "그리고 다음 줄로 내려가는데, 다음 줄로 내려갈 때에는 다음과 같은 제약 조건이 있다.   \n",
        "바로 아래의 수로 넘어가거나 아니면 바로 아래의 수와 붙어있는 수로만 이동할 수 있다는 것이다.\n",
        "\n",
        "숫자표가 주어져 있을 때, 얻을 수 있는 최대 점수, 최소 점수를 구하는 프로그램을 작성하시오.   \n",
        "점수는 원룡이가 위치한 곳의 수의 합이다.\n",
        "\n",
        "\n",
        "\n",
        "---\n",
        "\n",
        "\n",
        "\n",
        "첫째 줄에는 1 <= N <= 100,000이 주어진다.   \n",
        "다음 N개의 줄에는 숫자가 3개 씩 주어진다.   \n",
        "숫자는 0 ~ 9 중의 하나이다.   \n",
        "출력은 최대 점수와 최소 점수를 띄어서 출력한다.\n",
        "\n",
        "\n"
      ],
      "metadata": {
        "id": "Qkh6qBZWCPdp"
      }
    },
    {
      "cell_type": "code",
      "source": [
        "#import sys\n",
        "#input = sys.stdin.readline\n",
        "N = int(input())\n",
        "nums = list(map(int,input().split()))\n",
        "maxnum = [nums,[0]*3]\n",
        "a = nums.copy()\n",
        "minnum = [a,[0]*3]\n",
        "for i in range(1,N):\n",
        "    nums = list(map(int,input().split()))\n",
        "    maxnum[i%2][0] = max(maxnum[(i-1)%2][0:2]) + nums[0]\n",
        "    minnum[i%2][0] = min(minnum[(i-1)%2][0:2]) + nums[0]\n",
        "    maxnum[i%2][1] = max(maxnum[(i-1)%2]) + nums[1]\n",
        "    minnum[i%2][1] = min(minnum[(i-1)%2]) + nums[1]\n",
        "    maxnum[i%2][2] = max(maxnum[(i-1)%2][1:]) + nums[2]\n",
        "    minnum[i%2][2] = min(minnum[(i-1)%2][1:]) + nums[2]\n",
        "print(max(maxnum[(N-1)%2]),min(minnum[(N-1)%2]))"
      ],
      "metadata": {
        "colab": {
          "base_uri": "https://localhost:8080/"
        },
        "id": "5UnlUXI4Gvpp",
        "outputId": "370ebf33-fdbc-44f9-c784-b5ee5958b34c"
      },
      "execution_count": null,
      "outputs": [
        {
          "output_type": "stream",
          "name": "stdout",
          "text": [
            "3\n",
            "1 5 1\n",
            "1 1 5\n",
            "5 1 1\n",
            "11 3\n"
          ]
        }
      ]
    },
    {
      "cell_type": "code",
      "source": [
        "#import sys\n",
        "#input = sys.stdin.readline\n",
        "N = int(input())\n",
        "nums = list(map(int,input().split()))\n",
        "maxdp, mindp = [0]*3, [0]*3\n",
        "for i in range(3):\n",
        "    maxdp[i], mindp[i] = nums[i], nums[i]\n",
        "\n",
        "for i in range(1,N):\n",
        "    nums = list(map(int,input().split()))\n",
        "    a = max(maxdp[:2]) + nums[0]\n",
        "    b = max(maxdp) + nums[1]\n",
        "    c = max(maxdp[1:]) + nums[2]\n",
        "    d = min(mindp[:2]) + nums[0]\n",
        "    e = min(mindp) + nums[1]\n",
        "    f = min(mindp[1:]) + nums[2]\n",
        "    maxdp, mindp = [a,b,c], [d,e,f]\n",
        "print(max(maxdp),min(mindp))"
      ],
      "metadata": {
        "colab": {
          "base_uri": "https://localhost:8080/"
        },
        "id": "A9YzhT2eAMw6",
        "outputId": "0bc760a5-85ed-4643-f152-a516b4bdcd04"
      },
      "execution_count": 13,
      "outputs": [
        {
          "output_type": "stream",
          "name": "stdout",
          "text": [
            "3\n",
            "1 2 3\n",
            "4 5 6\n",
            "4 9 0\n",
            "18 6\n"
          ]
        }
      ]
    },
    {
      "cell_type": "code",
      "source": [
        "#import sys\n",
        "#input = sys.stdin.readline\n",
        "N = int(input())\n",
        "a,b,c = map(int,input().split())\n",
        "x,y,z = a,b,c\n",
        "\n",
        "for _ in range(N-1):\n",
        "    a1,b1,c1 = map(int,input().split())\n",
        "    a2 = a1+min(x,y)\n",
        "    b2 = b1+min(x,y,z)\n",
        "    c2 = c1+min(y,z)\n",
        "    a1 += max(a,b)\n",
        "    b1 += max(a,b,c)\n",
        "    c1 += max(b,c)\n",
        "    a,b,c,x,y,z = a1,b1,c1,a2,b2,c2\n",
        "print(max(a,b,c),min(x,y,z))"
      ],
      "metadata": {
        "colab": {
          "base_uri": "https://localhost:8080/"
        },
        "id": "I2q9QAq8Bd96",
        "outputId": "2f7b0cf0-2c97-4b77-f4c0-7686ad64841a"
      },
      "execution_count": 15,
      "outputs": [
        {
          "output_type": "stream",
          "name": "stdout",
          "text": [
            "3\n",
            "1 2 3\n",
            "4 5 6\n",
            "4 9 0\n",
            "18 6\n"
          ]
        }
      ]
    },
    {
      "cell_type": "markdown",
      "source": [
        "결과\n",
        "- 최대한 리스트를 쓰지 않음으로써 메모리를 줄인다.\n",
        "- 문제에서 시간 제한, 메모리 제한에 유의하여 문제 풀이 설계를 해나아가야한다.   \n",
        "숫자를 모두 받아놓을 수 없으므로 한 줄씩 받아야한다는 생각을 해야한다.   \n",
        "상황에 맞는 유연함을 기르자."
      ],
      "metadata": {
        "id": "KIc_tWoeCGcv"
      }
    }
  ]
}