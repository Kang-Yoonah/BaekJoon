{
  "nbformat": 4,
  "nbformat_minor": 0,
  "metadata": {
    "colab": {
      "provenance": [],
      "authorship_tag": "ABX9TyOoFzRGmmIJG2C4CxBLZA4+",
      "include_colab_link": true
    },
    "kernelspec": {
      "name": "python3",
      "display_name": "Python 3"
    },
    "language_info": {
      "name": "python"
    }
  },
  "cells": [
    {
      "cell_type": "markdown",
      "metadata": {
        "id": "view-in-github",
        "colab_type": "text"
      },
      "source": [
        "<a href=\"https://colab.research.google.com/github/Kang-Yoonah/BaekJoon/blob/main/Gold/2166.ipynb\" target=\"_parent\"><img src=\"https://colab.research.google.com/assets/colab-badge.svg\" alt=\"Open In Colab\"/></a>"
      ]
    },
    {
      "cell_type": "code",
      "execution_count": 3,
      "metadata": {
        "colab": {
          "base_uri": "https://localhost:8080/"
        },
        "id": "So3x9K_4G-c9",
        "outputId": "f9b64980-d857-4d3d-96aa-7e1d92d54316"
      },
      "outputs": [
        {
          "output_type": "stream",
          "name": "stdout",
          "text": [
            "4\n",
            "0 0\n",
            "0 10\n",
            "10 10\n",
            "10 0\n",
            "100.0\n"
          ]
        }
      ],
      "source": [
        "N = int(input())\n",
        "dot = [list(map(int,input().split())) for _ in range(N)]\n",
        "\n",
        "a = b = 0\n",
        "for i in range(0,-N,-1):\n",
        "    a += (dot[i][1]*dot[i-1][0])\n",
        "    b += (dot[i][0]*dot[i-1][1])\n",
        "print(f'{abs(b-a)/2:.1f}')"
      ]
    }
  ]
}