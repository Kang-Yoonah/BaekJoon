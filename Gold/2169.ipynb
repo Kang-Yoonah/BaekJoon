{
  "nbformat": 4,
  "nbformat_minor": 0,
  "metadata": {
    "colab": {
      "name": "2169.ipynb",
      "provenance": [],
      "authorship_tag": "ABX9TyM5KUQymm5mOp8YKpqKIEH+",
      "include_colab_link": true
    },
    "kernelspec": {
      "name": "python3",
      "display_name": "Python 3"
    },
    "language_info": {
      "name": "python"
    }
  },
  "cells": [
    {
      "cell_type": "markdown",
      "metadata": {
        "id": "view-in-github",
        "colab_type": "text"
      },
      "source": [
        "<a href=\"https://colab.research.google.com/github/Kang-Yoonah/BaekJoon/blob/main/Gold/2169.ipynb\" target=\"_parent\"><img src=\"https://colab.research.google.com/assets/colab-badge.svg\" alt=\"Open In Colab\"/></a>"
      ]
    },
    {
      "cell_type": "code",
      "execution_count": 1,
      "metadata": {
        "colab": {
          "base_uri": "https://localhost:8080/"
        },
        "id": "nOoP1f-Q5VPe",
        "outputId": "6bc52dc4-7307-49e9-8a24-7bac1dbf811c"
      },
      "outputs": [
        {
          "output_type": "stream",
          "name": "stdout",
          "text": [
            "5 5\n",
            "10 25 7 8 13\n",
            "68 24 -78 63 32\n",
            "12 -69 100 -29 -25\n",
            "-16 -22 -57 -33 99\n",
            "7 -76 -11 77 15\n",
            "319\n"
          ]
        }
      ],
      "source": [
        "N, M = map(int, input().split())\n",
        "num = [list(map(int,input().split())) for _ in range(N)]\n",
        "dp = [[0]*M for _ in range(N)]\n",
        "def cal(M, dp, n, left):\n",
        "    num = n.copy()\n",
        "    if left:\n",
        "        value = dp[0]\n",
        "        for i in range(M):\n",
        "            num[i] += max(value, dp[i])\n",
        "            value = num[i]\n",
        "        return num\n",
        "    else:\n",
        "        value = dp[-1]\n",
        "        for j in range(M-1,-1,-1):\n",
        "            num[j] += max(value, dp[j])\n",
        "            value = num[j]\n",
        "        return num            \n",
        "\n",
        "for i in range(N):\n",
        "    if i == 0:\n",
        "        value = 0\n",
        "        for j in range(M):\n",
        "            value += num[i][j]\n",
        "            dp[i][j] += value\n",
        "    elif i == N-1:\n",
        "        num1 = cal(M, dp[i-1], num[i], 1)\n",
        "        for j in range(M):\n",
        "            dp[i][j] = max(num1[j], dp[i-1][j]+num[i][j])\n",
        "    else:\n",
        "        num1 = cal(M, dp[i-1], num[i], 1)\n",
        "        num2 = cal(M, dp[i-1], num[i], 0)\n",
        "        for j in range(M):\n",
        "            dp[i][j] = max(num1[j], num2[j], dp[i-1][j]+num[i][j])\n",
        "print(dp[N-1][M-1])"
      ]
    }
  ]
}