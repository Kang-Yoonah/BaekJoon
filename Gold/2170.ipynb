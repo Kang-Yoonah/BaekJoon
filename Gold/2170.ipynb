{
  "nbformat": 4,
  "nbformat_minor": 0,
  "metadata": {
    "colab": {
      "name": "2170.ipynb",
      "provenance": [],
      "authorship_tag": "ABX9TyP8UItouTnRiSW1NBsY6DcX",
      "include_colab_link": true
    },
    "kernelspec": {
      "name": "python3",
      "display_name": "Python 3"
    },
    "language_info": {
      "name": "python"
    }
  },
  "cells": [
    {
      "cell_type": "markdown",
      "metadata": {
        "id": "view-in-github",
        "colab_type": "text"
      },
      "source": [
        "<a href=\"https://colab.research.google.com/github/Kang-Yoonah/BaekJoon/blob/main/Gold/2170.ipynb\" target=\"_parent\"><img src=\"https://colab.research.google.com/assets/colab-badge.svg\" alt=\"Open In Colab\"/></a>"
      ]
    },
    {
      "cell_type": "code",
      "execution_count": 3,
      "metadata": {
        "colab": {
          "base_uri": "https://localhost:8080/"
        },
        "id": "afOLm6Ot_22d",
        "outputId": "3b1d4f75-cdb0-4d78-dc07-a33097260325"
      },
      "outputs": [
        {
          "output_type": "stream",
          "name": "stdout",
          "text": [
            "4\n",
            "1 3\n",
            "2 5\n",
            "3 5\n",
            "6 7\n",
            "5\n"
          ]
        }
      ],
      "source": [
        "#import sys\n",
        "#input = sys.stdin.readline\n",
        "N = int(input())\n",
        "num = [0]*N\n",
        "for i in range(N):\n",
        "    num[i] = list(map(int,input().split()))\n",
        "num.sort()\n",
        "\n",
        "start, end = num[0][0], num[0][1]\n",
        "line = 0\n",
        "ind = 1\n",
        "\n",
        "while ind < N:\n",
        "    n = num[ind]\n",
        "    if n[0] <= end:\n",
        "        if n[1] > end:\n",
        "            end = n[1]\n",
        "    else:\n",
        "        line += (end-start)\n",
        "        start = n[0]\n",
        "        end = n[1]\n",
        "    ind += 1\n",
        "line += (end-start)\n",
        "print(line)"
      ]
    }
  ]
}