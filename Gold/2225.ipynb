{
  "nbformat": 4,
  "nbformat_minor": 0,
  "metadata": {
    "colab": {
      "provenance": [],
      "authorship_tag": "ABX9TyNntEsp6bU8GEeBzebRFIbr",
      "include_colab_link": true
    },
    "kernelspec": {
      "name": "python3",
      "display_name": "Python 3"
    },
    "language_info": {
      "name": "python"
    }
  },
  "cells": [
    {
      "cell_type": "markdown",
      "metadata": {
        "id": "view-in-github",
        "colab_type": "text"
      },
      "source": [
        "<a href=\"https://colab.research.google.com/github/Kang-Yoonah/BaekJoon/blob/main/Gold/2225.ipynb\" target=\"_parent\"><img src=\"https://colab.research.google.com/assets/colab-badge.svg\" alt=\"Open In Colab\"/></a>"
      ]
    },
    {
      "cell_type": "code",
      "execution_count": 1,
      "metadata": {
        "colab": {
          "base_uri": "https://localhost:8080/"
        },
        "id": "-Q6G44PqHJe3",
        "outputId": "ed97fff0-12e5-4b0d-ba51-6947c5ea7932"
      },
      "outputs": [
        {
          "output_type": "stream",
          "name": "stdout",
          "text": [
            "6 4\n",
            "84\n"
          ]
        }
      ],
      "source": [
        "def sol():\n",
        "    N, K = map(int,input().split())\n",
        "    a = N+K-1\n",
        "    b = min(a-N, N)\n",
        "    A = B = 1\n",
        "    while b != 0:\n",
        "        A *= a\n",
        "        B *= b\n",
        "        a, b = a-1, b-1\n",
        "    return (A//B)%1000000000\n",
        "print(sol())"
      ]
    }
  ]
}