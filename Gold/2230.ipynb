{
  "nbformat": 4,
  "nbformat_minor": 0,
  "metadata": {
    "colab": {
      "name": "2230.ipynb",
      "provenance": [],
      "authorship_tag": "ABX9TyPNUCge3JCzGuMxCYRtcUXn",
      "include_colab_link": true
    },
    "kernelspec": {
      "name": "python3",
      "display_name": "Python 3"
    },
    "language_info": {
      "name": "python"
    }
  },
  "cells": [
    {
      "cell_type": "markdown",
      "metadata": {
        "id": "view-in-github",
        "colab_type": "text"
      },
      "source": [
        "<a href=\"https://colab.research.google.com/github/Kang-Yoonah/BaekJoon/blob/main/Gold/2230.ipynb\" target=\"_parent\"><img src=\"https://colab.research.google.com/assets/colab-badge.svg\" alt=\"Open In Colab\"/></a>"
      ]
    },
    {
      "cell_type": "code",
      "execution_count": 13,
      "metadata": {
        "colab": {
          "base_uri": "https://localhost:8080/"
        },
        "id": "EpwH8Pfz30Qn",
        "outputId": "1544207d-beec-4321-f6fd-0c043e36c60e"
      },
      "outputs": [
        {
          "output_type": "stream",
          "name": "stdout",
          "text": [
            "3 2\n",
            "1\n",
            "2\n",
            "4\n",
            "2\n"
          ]
        }
      ],
      "source": [
        "N, M = map(int,input().split())\n",
        "seq = sorted([int(input()) for _ in range(N)])\n",
        "m, pl, pr = 2000000001, 0, 0\n",
        "while pr < N and pl < N:\n",
        "    total = seq[pr] - seq[pl]\n",
        "    if total < M:\n",
        "        pr += 1\n",
        "    else:\n",
        "        m = min(total, m)\n",
        "        pl += 1\n",
        "print(m)"
      ]
    }
  ]
}