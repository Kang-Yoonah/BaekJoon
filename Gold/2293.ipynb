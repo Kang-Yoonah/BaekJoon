{
  "nbformat": 4,
  "nbformat_minor": 0,
  "metadata": {
    "colab": {
      "name": "2293.ipynb",
      "provenance": [],
      "authorship_tag": "ABX9TyPv4Apmiyd8n9za5pevDRrq",
      "include_colab_link": true
    },
    "kernelspec": {
      "name": "python3",
      "display_name": "Python 3"
    },
    "language_info": {
      "name": "python"
    }
  },
  "cells": [
    {
      "cell_type": "markdown",
      "metadata": {
        "id": "view-in-github",
        "colab_type": "text"
      },
      "source": [
        "<a href=\"https://colab.research.google.com/github/Kang-Yoonah/BaekJoon/blob/main/Gold/2293.ipynb\" target=\"_parent\"><img src=\"https://colab.research.google.com/assets/colab-badge.svg\" alt=\"Open In Colab\"/></a>"
      ]
    },
    {
      "cell_type": "code",
      "execution_count": 4,
      "metadata": {
        "colab": {
          "base_uri": "https://localhost:8080/"
        },
        "id": "jntZUtXfasXM",
        "outputId": "a0292113-e327-48bf-b693-d4401c89d7ae"
      },
      "outputs": [
        {
          "output_type": "stream",
          "name": "stdout",
          "text": [
            "3 10\n",
            "1\n",
            "2\n",
            "5\n",
            "10\n"
          ]
        }
      ],
      "source": [
        "#import sys\n",
        "#input = sys.stdin.readline\n",
        "\n",
        "n, k = map(int,input().split())\n",
        "coin = [int(input()) for _ in range(n)]\n",
        "dp = [0 for _ in range(k+1)]\n",
        "dp[0] = 1\n",
        "for c in coin:\n",
        "    for p in range(c, k+1):\n",
        "        dp[p] += dp[p-c]\n",
        "print(dp[k])"
      ]
    }
  ]
}