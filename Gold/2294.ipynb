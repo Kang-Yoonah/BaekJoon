{
  "nbformat": 4,
  "nbformat_minor": 0,
  "metadata": {
    "colab": {
      "name": "2294.ipynb",
      "provenance": [],
      "authorship_tag": "ABX9TyPN3c9CzEilhQbX8xgvfxhu",
      "include_colab_link": true
    },
    "kernelspec": {
      "name": "python3",
      "display_name": "Python 3"
    },
    "language_info": {
      "name": "python"
    }
  },
  "cells": [
    {
      "cell_type": "markdown",
      "metadata": {
        "id": "view-in-github",
        "colab_type": "text"
      },
      "source": [
        "<a href=\"https://colab.research.google.com/github/Kang-Yoonah/BaekJoon/blob/main/Gold/2294.ipynb\" target=\"_parent\"><img src=\"https://colab.research.google.com/assets/colab-badge.svg\" alt=\"Open In Colab\"/></a>"
      ]
    },
    {
      "cell_type": "code",
      "source": [
        "n, k = map(int,input().split())\n",
        "coins = list(set([int(input()) for _ in range(n)]))\n",
        "\n",
        "dp = [0] + [10001] * k\n",
        "\n",
        "for coin in coins:\n",
        "    for i in range(coin, k+1):\n",
        "        dp[i] = min(dp[i], dp[i-coin]+1)\n",
        "    \n",
        "if dp[-1] < 10001:\n",
        "    print(dp[-1])\n",
        "else:\n",
        "    print(-1)"
      ],
      "metadata": {
        "colab": {
          "base_uri": "https://localhost:8080/"
        },
        "id": "GD7-KuI362b4",
        "outputId": "2e02b60d-479a-4ff4-d884-e64475ea1b2d"
      },
      "execution_count": 12,
      "outputs": [
        {
          "output_type": "stream",
          "name": "stdout",
          "text": [
            "3 16\n",
            "12\n",
            "4\n",
            "1\n",
            "2\n"
          ]
        }
      ]
    }
  ]
}