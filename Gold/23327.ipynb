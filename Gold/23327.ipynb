{
  "nbformat": 4,
  "nbformat_minor": 0,
  "metadata": {
    "colab": {
      "provenance": [],
      "authorship_tag": "ABX9TyO8KIy3/cZNsSzMnPGxyBnP",
      "include_colab_link": true
    },
    "kernelspec": {
      "name": "python3",
      "display_name": "Python 3"
    },
    "language_info": {
      "name": "python"
    }
  },
  "cells": [
    {
      "cell_type": "markdown",
      "metadata": {
        "id": "view-in-github",
        "colab_type": "text"
      },
      "source": [
        "<a href=\"https://colab.research.google.com/github/Kang-Yoonah/BaekJoon/blob/main/Gold/23327.ipynb\" target=\"_parent\"><img src=\"https://colab.research.google.com/assets/colab-badge.svg\" alt=\"Open In Colab\"/></a>"
      ]
    },
    {
      "cell_type": "code",
      "execution_count": 1,
      "metadata": {
        "colab": {
          "base_uri": "https://localhost:8080/"
        },
        "id": "ViduMzrXM43A",
        "outputId": "41185ab6-4a1f-4595-e5d1-8e1753b9ac34"
      },
      "outputs": [
        {
          "output_type": "stream",
          "name": "stdout",
          "text": [
            "5 3\n",
            "5 1 2 3 2\n",
            "2 4\n",
            "11\n",
            "4 5\n",
            "6\n",
            "1 5\n",
            "63\n"
          ]
        }
      ],
      "source": [
        "def sol():\n",
        "    N,Q = map(int,input().split())\n",
        "    Population = list(map(int,input().split()))\n",
        "    Sum = [0]*(N+2)\n",
        "    Total = [0]*(N+2)\n",
        "    for i in range(1,N+1):\n",
        "        Sum[i] = Sum[i-1] + Population[i-1]\n",
        "        Total[i] = Total[i-1] + Sum[i-1]*Population[i-1]\n",
        "    \n",
        "    for _ in range(Q):\n",
        "        i,j = map(int,input().split())\n",
        "        print(Total[j] - Total[i-1] - Sum[i-1]*(Sum[j]-Sum[i-1]))\n",
        "        \n",
        "sol()"
      ]
    }
  ]
}