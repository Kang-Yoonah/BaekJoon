{
  "nbformat": 4,
  "nbformat_minor": 0,
  "metadata": {
    "colab": {
      "name": "2467.ipynb",
      "provenance": [],
      "authorship_tag": "ABX9TyNDMtPM060G0DTGRSkRVf7r",
      "include_colab_link": true
    },
    "kernelspec": {
      "name": "python3",
      "display_name": "Python 3"
    },
    "language_info": {
      "name": "python"
    }
  },
  "cells": [
    {
      "cell_type": "markdown",
      "metadata": {
        "id": "view-in-github",
        "colab_type": "text"
      },
      "source": [
        "<a href=\"https://colab.research.google.com/github/Kang-Yoonah/BaekJoon/blob/main/Gold/2467.ipynb\" target=\"_parent\"><img src=\"https://colab.research.google.com/assets/colab-badge.svg\" alt=\"Open In Colab\"/></a>"
      ]
    },
    {
      "cell_type": "code",
      "execution_count": 3,
      "metadata": {
        "colab": {
          "base_uri": "https://localhost:8080/"
        },
        "id": "r6uOQ5M5Bnd1",
        "outputId": "c77bee87-33e1-4dd8-9318-35b2cfc0395a"
      },
      "outputs": [
        {
          "output_type": "stream",
          "name": "stdout",
          "text": [
            "7\n",
            "-99 -2 -1 1 98 100 101\n",
            "-1 1\n"
          ]
        }
      ],
      "source": [
        "N = int(input())\n",
        "number = list(map(int,input().split()))\n",
        "s, e = 0, N-1\n",
        "m = 2000000001\n",
        "while s < e:\n",
        "    s_value, e_value = number[s], number[e]\n",
        "    t = e_value + s_value\n",
        "    if abs(t) < abs(m):\n",
        "        m = t \n",
        "        a,b = s_value,e_value\n",
        "    if t < 0:\n",
        "        s += 1\n",
        "    elif t > 0:\n",
        "        e -= 1\n",
        "    else:\n",
        "        break\n",
        "               \n",
        "print(a, b)"
      ]
    }
  ]
}