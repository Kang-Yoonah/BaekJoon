{
  "nbformat": 4,
  "nbformat_minor": 0,
  "metadata": {
    "colab": {
      "name": "2470.ipynb",
      "provenance": [],
      "authorship_tag": "ABX9TyPA2Z04zwce/syTuEpCPiwU",
      "include_colab_link": true
    },
    "kernelspec": {
      "name": "python3",
      "display_name": "Python 3"
    },
    "language_info": {
      "name": "python"
    }
  },
  "cells": [
    {
      "cell_type": "markdown",
      "metadata": {
        "id": "view-in-github",
        "colab_type": "text"
      },
      "source": [
        "<a href=\"https://colab.research.google.com/github/Kang-Yoonah/BaekJoon/blob/main/Gold/2470.ipynb\" target=\"_parent\"><img src=\"https://colab.research.google.com/assets/colab-badge.svg\" alt=\"Open In Colab\"/></a>"
      ]
    },
    {
      "cell_type": "code",
      "execution_count": 6,
      "metadata": {
        "colab": {
          "base_uri": "https://localhost:8080/"
        },
        "id": "r6uOQ5M5Bnd1",
        "outputId": "aad954ec-dd36-4b26-8ee5-47cfa8ba937e"
      },
      "outputs": [
        {
          "output_type": "stream",
          "name": "stdout",
          "text": [
            "5\n",
            "-2 4 -99 -1 98\n",
            "-99 98\n"
          ]
        }
      ],
      "source": [
        "N = int(input())\n",
        "number= sorted(list(map(int,input().split())))\n",
        "s, e = 0, N-1\n",
        "check = 200000001\n",
        "while s < e:\n",
        "    s_value, e_value = number[s], number[e]\n",
        "    total = s_value + e_value\n",
        "    if abs(total) < abs(check):\n",
        "        check = total\n",
        "        c1, c2 = s_value, e_value\n",
        "    if total < 0:\n",
        "        s += 1\n",
        "    elif total > 0:\n",
        "        e -= 1\n",
        "    else:\n",
        "        break\n",
        "print(c1, c2)"
      ]
    }
  ]
}