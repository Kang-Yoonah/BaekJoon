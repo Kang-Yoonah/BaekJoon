{
  "nbformat": 4,
  "nbformat_minor": 0,
  "metadata": {
    "colab": {
      "provenance": [],
      "authorship_tag": "ABX9TyNskT9fzKY8PEQcp6rZUrf5",
      "include_colab_link": true
    },
    "kernelspec": {
      "name": "python3",
      "display_name": "Python 3"
    },
    "language_info": {
      "name": "python"
    }
  },
  "cells": [
    {
      "cell_type": "markdown",
      "metadata": {
        "id": "view-in-github",
        "colab_type": "text"
      },
      "source": [
        "<a href=\"https://colab.research.google.com/github/Kang-Yoonah/BaekJoon/blob/main/Gold/2473.ipynb\" target=\"_parent\"><img src=\"https://colab.research.google.com/assets/colab-badge.svg\" alt=\"Open In Colab\"/></a>"
      ]
    },
    {
      "cell_type": "code",
      "source": [
        "N = int(input())\n",
        "solution = sorted(list(map(int,input().split())))\n",
        "ans, ind = 3e+10, []\n",
        "\n",
        "def search(pl, pr, data, value):\n",
        "    ans, a, b = 3e+10, 0, 0\n",
        "    while (pr-pl)>=1:\n",
        "        v = value+data[pl]+data[pr]\n",
        "        if abs(ans) > abs(v):\n",
        "            ans, a, b = v, pl, pr\n",
        "        if v > 0:\n",
        "            pr -= 1\n",
        "        elif v < 0:\n",
        "            pl += 1\n",
        "        else:\n",
        "            break\n",
        "    return a, b, ans\n",
        "\n",
        "for i in range(0,N-2):\n",
        "    pl, pr, v = search(i+1, N-1, solution, solution[i])\n",
        "    if abs(ans) > abs(v):\n",
        "        ans = v\n",
        "        ind = [i, pl, pr]\n",
        "    if ans == 0:\n",
        "        break\n",
        "\n",
        "for i in ind:\n",
        "    print(solution[i], end=' ')"
      ],
      "metadata": {
        "colab": {
          "base_uri": "https://localhost:8080/"
        },
        "id": "It3C7Rapu6Tt",
        "outputId": "2caf3143-2811-444d-f35a-69c51e94a9bb"
      },
      "execution_count": 1,
      "outputs": [
        {
          "output_type": "stream",
          "name": "stdout",
          "text": [
            "7\n",
            "-2 -3 -24 -6 98 100 61\n",
            "-6 -3 -2 "
          ]
        }
      ]
    }
  ]
}