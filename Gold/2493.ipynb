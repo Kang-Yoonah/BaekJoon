{
  "nbformat": 4,
  "nbformat_minor": 0,
  "metadata": {
    "colab": {
      "provenance": [],
      "authorship_tag": "ABX9TyNWiJqqjw9CnAFkgdSTgJhQ",
      "include_colab_link": true
    },
    "kernelspec": {
      "name": "python3",
      "display_name": "Python 3"
    },
    "language_info": {
      "name": "python"
    }
  },
  "cells": [
    {
      "cell_type": "markdown",
      "metadata": {
        "id": "view-in-github",
        "colab_type": "text"
      },
      "source": [
        "<a href=\"https://colab.research.google.com/github/Kang-Yoonah/BaekJoon/blob/main/Gold/2493.ipynb\" target=\"_parent\"><img src=\"https://colab.research.google.com/assets/colab-badge.svg\" alt=\"Open In Colab\"/></a>"
      ]
    },
    {
      "cell_type": "code",
      "source": [
        "N = int(input())\n",
        "top = list(map(int, input().split()))\n",
        "stack = []\n",
        "ans = [0 for i in range(N)]\n",
        "\n",
        "for i in range(N):\n",
        "    while stack:\n",
        "        if stack[-1][1] > top[i]:\n",
        "            ans[i] = stack[-1][0] + 1\n",
        "            break\n",
        "        else:\n",
        "            stack.pop()\n",
        "    stack.append([i, top[i]])\n",
        "\n",
        "print(*ans)"
      ],
      "metadata": {
        "colab": {
          "base_uri": "https://localhost:8080/"
        },
        "id": "9VKPgLjpGi-L",
        "outputId": "ed856ad1-fda9-4f53-b2e3-0597865952a3"
      },
      "execution_count": 5,
      "outputs": [
        {
          "output_type": "stream",
          "name": "stdout",
          "text": [
            "5\n",
            "6 9 5 7 4\n",
            "0 0 2 2 4\n"
          ]
        }
      ]
    }
  ]
}