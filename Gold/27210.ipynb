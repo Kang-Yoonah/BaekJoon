{
  "nbformat": 4,
  "nbformat_minor": 0,
  "metadata": {
    "colab": {
      "provenance": [],
      "authorship_tag": "ABX9TyM6m60XlMJZqMqJTUBUiL3/",
      "include_colab_link": true
    },
    "kernelspec": {
      "name": "python3",
      "display_name": "Python 3"
    },
    "language_info": {
      "name": "python"
    }
  },
  "cells": [
    {
      "cell_type": "markdown",
      "metadata": {
        "id": "view-in-github",
        "colab_type": "text"
      },
      "source": [
        "<a href=\"https://colab.research.google.com/github/Kang-Yoonah/BaekJoon/blob/main/Gold/27210.ipynb\" target=\"_parent\"><img src=\"https://colab.research.google.com/assets/colab-badge.svg\" alt=\"Open In Colab\"/></a>"
      ]
    },
    {
      "cell_type": "code",
      "source": [
        "def sol(N):\n",
        "    Stone = list(map(int,input().split()))\n",
        "    ans, V = 0, [[0,0] for _ in range(N)]\n",
        "    for i in range(N):\n",
        "        ind = Stone[i]-1\n",
        "        V[i][ind] = V[i-1][ind]+1\n",
        "        if V[i-1][ind-1]:\n",
        "            V[i][ind-1] = V[i-1][ind-1]-1\n",
        "        ans = max(ans, V[i][ind])\n",
        "    print(ans)\n",
        "\n",
        "sol(int(input()))"
      ],
      "metadata": {
        "id": "Gw8F0-TWPI0g",
        "colab": {
          "base_uri": "https://localhost:8080/"
        },
        "outputId": "30192acb-5e17-4acd-fff1-f0bc8140a0a4"
      },
      "execution_count": 1,
      "outputs": [
        {
          "output_type": "stream",
          "name": "stdout",
          "text": [
            "11\n",
            "2 2 2 1 1 1 1 1 2 1 1\n",
            "6\n"
          ]
        }
      ]
    }
  ]
}