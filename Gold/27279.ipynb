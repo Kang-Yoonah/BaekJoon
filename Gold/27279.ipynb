{
  "nbformat": 4,
  "nbformat_minor": 0,
  "metadata": {
    "colab": {
      "provenance": [],
      "authorship_tag": "ABX9TyN15IttRKcpJcDKrereAmFw",
      "include_colab_link": true
    },
    "kernelspec": {
      "name": "python3",
      "display_name": "Python 3"
    },
    "language_info": {
      "name": "python"
    }
  },
  "cells": [
    {
      "cell_type": "markdown",
      "metadata": {
        "id": "view-in-github",
        "colab_type": "text"
      },
      "source": [
        "<a href=\"https://colab.research.google.com/github/Kang-Yoonah/BaekJoon/blob/main/Gold/27279.ipynb\" target=\"_parent\"><img src=\"https://colab.research.google.com/assets/colab-badge.svg\" alt=\"Open In Colab\"/></a>"
      ]
    },
    {
      "cell_type": "code",
      "source": [
        "def sol(i):\n",
        "    _,M = map(int,input().split())\n",
        "    Y = sorted(list(map(int,input().split())))\n",
        "    C = sorted(list(map(int,input().split())))\n",
        "    for y in Y:\n",
        "        if y > i:\n",
        "            C[i] -= 1    \n",
        "            if i < M and C[i] == 0:\n",
        "                i += 1\n",
        "    if C[-1]:\n",
        "        return \"NO\"\n",
        "    return \"YES\"\n",
        "       \n",
        "print(sol(0))"
      ],
      "metadata": {
        "colab": {
          "base_uri": "https://localhost:8080/"
        },
        "id": "V5Behma77t2H",
        "outputId": "d69750ea-9769-4c08-a252-397fc07ef8e1"
      },
      "execution_count": 1,
      "outputs": [
        {
          "output_type": "stream",
          "name": "stdout",
          "text": [
            "5 4\n",
            "1 2 4 3 4\n",
            "1 1 2 1\n",
            "YES\n"
          ]
        }
      ]
    }
  ]
}