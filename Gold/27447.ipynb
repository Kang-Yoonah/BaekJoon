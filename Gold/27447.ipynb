{
  "nbformat": 4,
  "nbformat_minor": 0,
  "metadata": {
    "colab": {
      "provenance": [],
      "authorship_tag": "ABX9TyPfJjezTjMvXwz0tXtKldxW",
      "include_colab_link": true
    },
    "kernelspec": {
      "name": "python3",
      "display_name": "Python 3"
    },
    "language_info": {
      "name": "python"
    }
  },
  "cells": [
    {
      "cell_type": "markdown",
      "metadata": {
        "id": "view-in-github",
        "colab_type": "text"
      },
      "source": [
        "<a href=\"https://colab.research.google.com/github/Kang-Yoonah/BaekJoon/blob/main/Gold/27447.ipynb\" target=\"_parent\"><img src=\"https://colab.research.google.com/assets/colab-badge.svg\" alt=\"Open In Colab\"/></a>"
      ]
    },
    {
      "cell_type": "code",
      "source": [
        "from collections import deque\n",
        "\n",
        "def sol():\n",
        "    N, M = map(int, input().split())\n",
        "    time = list(map(int, input().split()))\n",
        "    time_set = set(time)\n",
        "\n",
        "    tmp_index, tmp_index2 = deque(), deque()\n",
        "    for i in range(time[-1], -1, -1):\n",
        "        if not i in time_set:\n",
        "            if tmp_index:\n",
        "                tmp_index2.append(tmp_index.popleft())\n",
        "            elif tmp_index2:\n",
        "                tmp_index2.popleft()\n",
        "        else:\n",
        "            tmp_index.append(i)\n",
        "        if tmp_index and tmp_index[0]-i == M:\n",
        "            break\n",
        "    print(\"fail\" if (tmp_index or tmp_index2) else \"success\")\n",
        "sol()"
      ],
      "metadata": {
        "colab": {
          "base_uri": "https://localhost:8080/"
        },
        "id": "V5Behma77t2H",
        "outputId": "e3cbafea-abf8-4104-8a73-d3810d4c38a9"
      },
      "execution_count": 25,
      "outputs": [
        {
          "output_type": "stream",
          "name": "stdout",
          "text": [
            "2 3\n",
            "4 5\n",
            "success\n"
          ]
        }
      ]
    }
  ]
}