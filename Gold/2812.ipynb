{
  "nbformat": 4,
  "nbformat_minor": 0,
  "metadata": {
    "colab": {
      "provenance": [],
      "authorship_tag": "ABX9TyOmhhkNGerJWOqoSnmNHmDE",
      "include_colab_link": true
    },
    "kernelspec": {
      "name": "python3",
      "display_name": "Python 3"
    },
    "language_info": {
      "name": "python"
    }
  },
  "cells": [
    {
      "cell_type": "markdown",
      "metadata": {
        "id": "view-in-github",
        "colab_type": "text"
      },
      "source": [
        "<a href=\"https://colab.research.google.com/github/Kang-Yoonah/BaekJoon/blob/main/Gold/2812.ipynb\" target=\"_parent\"><img src=\"https://colab.research.google.com/assets/colab-badge.svg\" alt=\"Open In Colab\"/></a>"
      ]
    },
    {
      "cell_type": "code",
      "execution_count": 1,
      "metadata": {
        "colab": {
          "base_uri": "https://localhost:8080/"
        },
        "id": "b0AtCO8wvElf",
        "outputId": "0deb19c1-f68f-48db-994e-2d5aff997911"
      },
      "outputs": [
        {
          "output_type": "stream",
          "name": "stdout",
          "text": [
            "10 4\n",
            "4177252841\n",
            "775841\n"
          ]
        }
      ],
      "source": [
        "def sol():\n",
        "    N, K = map(int,input().split())\n",
        "    Num = input().strip()\n",
        "    Stack = []\n",
        "    for i in range(N):\n",
        "        num = int(Num[i])\n",
        "        while Stack and Stack[-1] < num and K:\n",
        "            Stack.pop()\n",
        "            K -= 1\n",
        "        Stack.append(num)\n",
        "    print(''.join(map(str,Stack[:len(Stack)-K])))\n",
        "sol()"
      ]
    }
  ]
}