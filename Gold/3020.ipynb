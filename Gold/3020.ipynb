{
  "nbformat": 4,
  "nbformat_minor": 0,
  "metadata": {
    "colab": {
      "provenance": [],
      "authorship_tag": "ABX9TyMxG2UnUHaPKyZzSaA4pzTN",
      "include_colab_link": true
    },
    "kernelspec": {
      "name": "python3",
      "display_name": "Python 3"
    },
    "language_info": {
      "name": "python"
    }
  },
  "cells": [
    {
      "cell_type": "markdown",
      "metadata": {
        "id": "view-in-github",
        "colab_type": "text"
      },
      "source": [
        "<a href=\"https://colab.research.google.com/github/Kang-Yoonah/BaekJoon/blob/main/Gold/3020.ipynb\" target=\"_parent\"><img src=\"https://colab.research.google.com/assets/colab-badge.svg\" alt=\"Open In Colab\"/></a>"
      ]
    },
    {
      "cell_type": "code",
      "execution_count": 3,
      "metadata": {
        "colab": {
          "base_uri": "https://localhost:8080/"
        },
        "id": "mdDj4Vx5sZgN",
        "outputId": "4b7c5dae-ece1-463a-d66e-b1bc162ed0c1"
      },
      "outputs": [
        {
          "output_type": "stream",
          "name": "stdout",
          "text": [
            "6 7\n",
            "1\n",
            "5\n",
            "3\n",
            "3\n",
            "5\n",
            "1\n",
            "2 3\n"
          ]
        }
      ],
      "source": [
        "def sol():\n",
        "    N, H = map(int,input().split())\n",
        "    sta = [[0]*(H+1) for _ in range(2)]\n",
        "\n",
        "    for i in range(N):\n",
        "        sta[i%2][int(input())] += 1\n",
        "    for i in range(H-1,-1,-1):\n",
        "        sta[0][i] += sta[0][i+1]\n",
        "        sta[1][i] += sta[1][i+1]\n",
        "\n",
        "    r = [sta[0][i] + sta[1][-i] for i in range(1,H+1)]\n",
        "    v = min(r)\n",
        "    return print(v, r.count(v))\n",
        "sol()"
      ]
    }
  ]
}