{
  "nbformat": 4,
  "nbformat_minor": 0,
  "metadata": {
    "colab": {
      "provenance": [],
      "authorship_tag": "ABX9TyOvefiEE0WIFaSlBItfFsx6",
      "include_colab_link": true
    },
    "kernelspec": {
      "name": "python3",
      "display_name": "Python 3"
    },
    "language_info": {
      "name": "python"
    }
  },
  "cells": [
    {
      "cell_type": "markdown",
      "metadata": {
        "id": "view-in-github",
        "colab_type": "text"
      },
      "source": [
        "<a href=\"https://colab.research.google.com/github/Kang-Yoonah/BaekJoon/blob/main/Gold/3190.ipynb\" target=\"_parent\"><img src=\"https://colab.research.google.com/assets/colab-badge.svg\" alt=\"Open In Colab\"/></a>"
      ]
    },
    {
      "cell_type": "code",
      "execution_count": 10,
      "metadata": {
        "id": "oCycq1yNcgLZ",
        "colab": {
          "base_uri": "https://localhost:8080/"
        },
        "outputId": "ec0da3fa-de23-4331-cf68-108561f4c662"
      },
      "outputs": [
        {
          "output_type": "stream",
          "name": "stdout",
          "text": [
            "6\n",
            "3\n",
            "3 4\n",
            "2 5\n",
            "5 3\n",
            "3\n",
            "3 D\n",
            "15 L\n",
            "17 D\n",
            "9\n"
          ]
        }
      ],
      "source": [
        "from collections import deque\n",
        "\n",
        "N = int(input())                                                # N*N\n",
        "K = int(input())                                                # 사과의 개수\n",
        "apple = list()                                                  # 사과 위치\n",
        "for _ in range(K):\n",
        "    r, c = map(int, input().split())\n",
        "    apple.append([r-1,c-1])\n",
        "L = int(input())                                                # 방향 전환의 개수\n",
        "info = deque([list(input().split()) for _ in range(L)])         # 방향 전환 정보\n",
        "\n",
        "p = deque([[0,0]])\n",
        "now = deque([[1,1],[0,1],[1,-1],[0,-1]])\n",
        "cnt = 0\n",
        "while 1:\n",
        "    now_cr, now_pm = now[0][0], now[0][1]\n",
        "    now_p = p[0].copy()\n",
        "    now_p[now_cr] += now_pm\n",
        "    \n",
        "    if (now_p in p) or (now_p[0] <0) or (now_p[1]<0) or (now_p[0]>=N) or (now_p[1]>=N):\n",
        "        cnt += 1\n",
        "        break\n",
        "    elif now_p in apple:\n",
        "        p.appendleft(now_p)\n",
        "        apple.remove(now_p)\n",
        "    else:\n",
        "        p.appendleft(now_p)\n",
        "        p.pop()\n",
        "\n",
        "    cnt += 1\n",
        "    if info and cnt == int(info[0][0]):\n",
        "        X, C = info.popleft()\n",
        "        if C == 'D':\n",
        "            now.rotate(-1)\n",
        "        else:\n",
        "            now.rotate(+1)\n",
        "print(cnt)"
      ]
    }
  ]
}