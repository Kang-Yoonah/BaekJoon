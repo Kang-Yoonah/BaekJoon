{
  "nbformat": 4,
  "nbformat_minor": 0,
  "metadata": {
    "colab": {
      "name": "3673.ipynb",
      "provenance": [],
      "authorship_tag": "ABX9TyNtnr5utZLNZQetTWUAPA83",
      "include_colab_link": true
    },
    "kernelspec": {
      "name": "python3",
      "display_name": "Python 3"
    },
    "language_info": {
      "name": "python"
    }
  },
  "cells": [
    {
      "cell_type": "markdown",
      "metadata": {
        "id": "view-in-github",
        "colab_type": "text"
      },
      "source": [
        "<a href=\"https://colab.research.google.com/github/Kang-Yoonah/BaekJoon/blob/main/Gold/3673.ipynb\" target=\"_parent\"><img src=\"https://colab.research.google.com/assets/colab-badge.svg\" alt=\"Open In Colab\"/></a>"
      ]
    },
    {
      "cell_type": "code",
      "execution_count": 2,
      "metadata": {
        "colab": {
          "base_uri": "https://localhost:8080/"
        },
        "id": "jd_Kbjr7RtLo",
        "outputId": "68fca627-3292-4ec0-b3fb-8b2872005e49"
      },
      "outputs": [
        {
          "output_type": "stream",
          "name": "stdout",
          "text": [
            "2\n",
            "7 3\n",
            "1 2 3\n",
            "0\n",
            "4 8\n",
            "2 1 2 1 1 2 1 2\n",
            "6\n"
          ]
        }
      ],
      "source": [
        "def remainder():\n",
        "    for _ in range(int(input())):\n",
        "        M,_ = map(int,input().split())\n",
        "        num = list(map(int,input().split()))\n",
        "\n",
        "        r, t, ans = [0]*M, 0, 0\n",
        "        r[0] = 1\n",
        "        for n in num:\n",
        "            t = (t + n)%M\n",
        "            ans += r[t]\n",
        "            r[t] += 1\n",
        "\n",
        "        print(ans)\n",
        "\n",
        "remainder()"
      ]
    }
  ]
}