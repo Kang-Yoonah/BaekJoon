{
  "cells": [
    {
      "cell_type": "markdown",
      "metadata": {
        "id": "view-in-github",
        "colab_type": "text"
      },
      "source": [
        "<a href=\"https://colab.research.google.com/github/Kang-Yoonah/BaekJoon/blob/main/Gold/3745.ipynb\" target=\"_parent\"><img src=\"https://colab.research.google.com/assets/colab-badge.svg\" alt=\"Open In Colab\"/></a>"
      ]
    },
    {
      "cell_type": "code",
      "source": [
        "def bi(L,s):\n",
        "    l,r = -1,len(L)\n",
        "    while l+1 < r:\n",
        "        m = (l+r)//2\n",
        "        if L[m] >= s:\n",
        "            r = m\n",
        "        else:\n",
        "            l = m\n",
        "    return l+1\n",
        "\n",
        "def sol():\n",
        "    while 1:\n",
        "        try:\n",
        "            input()\n",
        "            Sequnce = list(map(int,input().split()))\n",
        "            List = [Sequnce[0]]\n",
        "            for s in Sequnce[1:]:\n",
        "                if List[-1] < s:\n",
        "                    List.append(s)\n",
        "                else:\n",
        "                    List[bi(List,s)] = s\n",
        "            print(len(List))\n",
        "        except:\n",
        "            break\n",
        "    \n",
        "sol()"
      ],
      "metadata": {
        "id": "Eum8oDR9H9Ie",
        "colab": {
          "base_uri": "https://localhost:8080/"
        },
        "outputId": "4b0488cc-3361-4cca-fb15-dfe6093bac77"
      },
      "execution_count": null,
      "outputs": [
        {
          "output_type": "stream",
          "name": "stdout",
          "text": [
            "6\n",
            "5 2 1 4 5 3\n",
            "3\n",
            "3\n",
            "1 1 1\n",
            "1\n",
            "4 \n",
            "4 3 2 1\n",
            "1\n"
          ]
        }
      ]
    }
  ],
  "metadata": {
    "colab": {
      "provenance": [],
      "authorship_tag": "ABX9TyNeyk59PfiT8ko6alIuHbFx",
      "include_colab_link": true
    },
    "kernelspec": {
      "display_name": "Python 3",
      "name": "python3"
    },
    "language_info": {
      "name": "python"
    }
  },
  "nbformat": 4,
  "nbformat_minor": 0
}