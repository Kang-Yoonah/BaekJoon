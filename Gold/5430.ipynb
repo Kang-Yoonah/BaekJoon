{
  "nbformat": 4,
  "nbformat_minor": 0,
  "metadata": {
    "colab": {
      "provenance": [],
      "authorship_tag": "ABX9TyOTcH/+LJzSte7/wwN0NkwW",
      "include_colab_link": true
    },
    "kernelspec": {
      "name": "python3",
      "display_name": "Python 3"
    },
    "language_info": {
      "name": "python"
    }
  },
  "cells": [
    {
      "cell_type": "markdown",
      "metadata": {
        "id": "view-in-github",
        "colab_type": "text"
      },
      "source": [
        "<a href=\"https://colab.research.google.com/github/Kang-Yoonah/BaekJoon/blob/main/Gold/5430.ipynb\" target=\"_parent\"><img src=\"https://colab.research.google.com/assets/colab-badge.svg\" alt=\"Open In Colab\"/></a>"
      ]
    },
    {
      "cell_type": "code",
      "execution_count": 9,
      "metadata": {
        "id": "oCycq1yNcgLZ",
        "colab": {
          "base_uri": "https://localhost:8080/"
        },
        "outputId": "c072d212-81fc-4f23-dd79-fe777d6fd0e6"
      },
      "outputs": [
        {
          "name": "stdout",
          "output_type": "stream",
          "text": [
            "[1,2,32]\n"
          ]
        },
        {
          "output_type": "execute_result",
          "data": {
            "text/plain": [
              "['1', '2', '32']"
            ]
          },
          "metadata": {},
          "execution_count": 9
        }
      ],
      "source": [
        "import sys\n",
        "input = sys.stdin.readline\n",
        "from collections import deque\n",
        "\n",
        "T = int(input())\n",
        "for _ in range(T):\n",
        "    p = list(input().strip())\n",
        "    n = int(input())\n",
        "    num = input().strip('['']''\\n').split(',')\n",
        "\n",
        "    if num == ['']:\n",
        "        if 'D' in p:\n",
        "            print('error')\n",
        "        else:\n",
        "            print('[]')\n",
        "        continue\n",
        "    else:\n",
        "        num = deque(map(int,num))\n",
        "\n",
        "    t, Er = 1, 0\n",
        "    for doit in p:\n",
        "        if doit == 'R':\n",
        "            t = (t+1)%2\n",
        "        else:\n",
        "            if not num:\n",
        "                Er = 1\n",
        "                break\n",
        "            if t == 1:\n",
        "                num.popleft()\n",
        "            else:\n",
        "                num.pop()\n",
        "    if Er:\n",
        "        print('error')\n",
        "    else:\n",
        "        ans = []\n",
        "        print('[', end='')\n",
        "        while num:\n",
        "            if t == 1:\n",
        "                ans.append(str(num.popleft()))\n",
        "            else:\n",
        "                ans.append(str(num.pop()))\n",
        "        print(','.join(ans), end='')\n",
        "        print(']')"
      ]
    }
  ]
}