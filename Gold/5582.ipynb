{
  "cells": [
    {
      "cell_type": "markdown",
      "metadata": {
        "id": "view-in-github",
        "colab_type": "text"
      },
      "source": [
        "<a href=\"https://colab.research.google.com/github/Kang-Yoonah/BaekJoon/blob/main/Gold/5582.ipynb\" target=\"_parent\"><img src=\"https://colab.research.google.com/assets/colab-badge.svg\" alt=\"Open In Colab\"/></a>"
      ]
    },
    {
      "cell_type": "code",
      "source": [
        "def sol():\n",
        "    A = input().strip()\n",
        "    B = input().strip()\n",
        "    AL, BL = len(A), len(B)\n",
        "    \n",
        "    ans = 0\n",
        "    for i in range(AL):\n",
        "        S, v = A[i], 1\n",
        "        for j in range(BL):\n",
        "            while j+v <=BL and S == B[j:j+v]:\n",
        "                v +=1\n",
        "                S = A[i:i+v]\n",
        "        ans = max(v-1, ans)\n",
        "    print(ans)           \n",
        "sol()"
      ],
      "metadata": {
        "id": "Eum8oDR9H9Ie",
        "colab": {
          "base_uri": "https://localhost:8080/"
        },
        "outputId": "3417d903-ee3f-4eaa-8608-865b88cbf51b"
      },
      "execution_count": 1,
      "outputs": [
        {
          "output_type": "stream",
          "name": "stdout",
          "text": [
            "ABRACADABRA\n",
            "ECADADABRBCRDARA\n",
            "5\n"
          ]
        }
      ]
    },
    {
      "cell_type": "code",
      "source": [
        "def sol():\n",
        "    A = input().rstrip()\n",
        "    B = input().rstrip()\n",
        "    \n",
        "    result = 0\n",
        "    arr = [[0]*(len(B)+1) for _ in range(len(A)+1)]\n",
        "    for i in range(1, len(A)+1):\n",
        "        for j in range(1, len(B)+1):\n",
        "            if A[i-1] == B[j-1]:\n",
        "                arr[i][j] = arr[i-1][j-1] + 1\n",
        "                result = max(arr[i][j], result)\n",
        "    print(result)\n",
        "sol()"
      ],
      "metadata": {
        "colab": {
          "base_uri": "https://localhost:8080/"
        },
        "id": "DuthIwN4gi-X",
        "outputId": "6eae8d1b-bec9-48e7-9007-6a1aad2de6f0"
      },
      "execution_count": 2,
      "outputs": [
        {
          "output_type": "stream",
          "name": "stdout",
          "text": [
            "UPWJCIRUCAXIIRGL\n",
            "SBQNYUPWSBZDFNEV\n",
            "3\n"
          ]
        }
      ]
    }
  ],
  "metadata": {
    "colab": {
      "provenance": [],
      "authorship_tag": "ABX9TyMnO4sZsgEJocvwuF6fNxUP",
      "include_colab_link": true
    },
    "kernelspec": {
      "display_name": "Python 3",
      "name": "python3"
    },
    "language_info": {
      "name": "python"
    }
  },
  "nbformat": 4,
  "nbformat_minor": 0
}