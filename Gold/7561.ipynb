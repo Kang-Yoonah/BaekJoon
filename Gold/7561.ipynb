{
  "nbformat": 4,
  "nbformat_minor": 0,
  "metadata": {
    "colab": {
      "name": "7561.ipynb",
      "provenance": [],
      "authorship_tag": "ABX9TyNwP+onO2juSwTeIqBhnNPB"
    },
    "kernelspec": {
      "name": "python3",
      "display_name": "Python 3"
    },
    "language_info": {
      "name": "python"
    }
  },
  "cells": [
    {
      "cell_type": "code",
      "source": [
        "import copy\n",
        "def det(M):\n",
        "    ind = [0,1,2]\n",
        "    det_value = 0\n",
        "    for c in ind:\n",
        "        v = M[0][c]*(M[1][(c+1)%3]*M[2][(c+2)%3] - M[1][(c+2)%3]*M[2][(c+1)%3])\n",
        "        det_value +=v\n",
        "    return det_value\n",
        "def change(M,j):\n",
        "    ind = [0,1,2]\n",
        "    m = copy.deepcopy(M)\n",
        "    for i in ind:\n",
        "        m[i][j] = M[i][3]\n",
        "    return m\n",
        "\n",
        "N = int(input())\n",
        "for _ in range(N):\n",
        "    matrix = []\n",
        "    A_list = []\n",
        "    for _ in range(3):\n",
        "        m = list(map(int,input().split()))\n",
        "        matrix.append(m)\n",
        "    A = det(matrix)\n",
        "    for i in range(3):\n",
        "        a = det(change(matrix,i))\n",
        "        A_list.append(a)\n",
        "        print(a, end=' ')\n",
        "    print(A)\n",
        "    if A == 0:\n",
        "        print('No unique solution')\n",
        "    else:\n",
        "        print('Unique solution:',end='')\n",
        "        for i in A_list:\n",
        "            value = i/A\n",
        "            print(' ',end='')\n",
        "            if value < 0.0005 and value > -0.0005:\n",
        "                print(f'{0.000:.3f}',end='')\n",
        "            else:\n",
        "                print(f'{value:.3f}',end='')\n",
        "        print()\n",
        "    print()"
      ],
      "metadata": {
        "colab": {
          "base_uri": "https://localhost:8080/"
        },
        "id": "-umpwW5cBzmd",
        "outputId": "63eb6460-0b27-4e35-89f7-259445b61569"
      },
      "execution_count": 77,
      "outputs": [
        {
          "output_type": "stream",
          "name": "stdout",
          "text": [
            "3\n",
            "4 0 0 1\n",
            "0 2 0 2\n",
            "0 0 1 4\n",
            "2 8 32 8\n",
            "Unique solution: 0.250 1.000 4.000\n",
            "\n",
            "1 2 3 1\n",
            "1 1 1 2\n",
            "2 2 2 3\n",
            "1 -2 1 0\n",
            "No unique solution\n",
            "\n",
            "1 0 0 1\n",
            "0 1 0 0\n",
            "0 0 -1 0\n",
            "-1 0 0 -1\n",
            "Unique solution: 1.000 0.000 0.000\n",
            "\n"
          ]
        }
      ]
    }
  ]
}