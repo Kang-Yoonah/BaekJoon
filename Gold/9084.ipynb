{
  "cells": [
    {
      "cell_type": "markdown",
      "metadata": {
        "id": "view-in-github",
        "colab_type": "text"
      },
      "source": [
        "<a href=\"https://colab.research.google.com/github/Kang-Yoonah/BaekJoon/blob/main/Gold/9084.ipynb\" target=\"_parent\"><img src=\"https://colab.research.google.com/assets/colab-badge.svg\" alt=\"Open In Colab\"/></a>"
      ]
    },
    {
      "cell_type": "code",
      "execution_count": 1,
      "metadata": {
        "colab": {
          "base_uri": "https://localhost:8080/"
        },
        "id": "V5Behma77t2H",
        "outputId": "3e06f06a-4ec0-4874-c4c7-0e1146dfecb2"
      },
      "outputs": [
        {
          "output_type": "stream",
          "name": "stdout",
          "text": [
            "3\n",
            "2 \n",
            "1 2\n",
            "1000\n",
            "501\n",
            "3\n",
            "1 5 10\n",
            "100\n",
            "121\n",
            "2\n",
            "5 7\n",
            "22\n",
            "1\n"
          ]
        }
      ],
      "source": [
        "def sol():\n",
        "    for _ in range(int(input())):\n",
        "        input()\n",
        "        Coin = list(map(int,input().split()))\n",
        "        M = int(input())\n",
        "        dp = [0 if i%Coin[0] else 1 for i in range(M+1)]\n",
        "        for c in Coin[1:]:\n",
        "            for i in range(c,M+1):\n",
        "                dp[i] += dp[i-c]\n",
        "        print(dp[-1])\n",
        "        \n",
        "sol()"
      ]
    }
  ],
  "metadata": {
    "colab": {
      "provenance": [],
      "authorship_tag": "ABX9TyP7o+f6W0YhnLRC68SsE2SP",
      "include_colab_link": true
    },
    "kernelspec": {
      "display_name": "Python 3",
      "name": "python3"
    },
    "language_info": {
      "name": "python"
    }
  },
  "nbformat": 4,
  "nbformat_minor": 0
}