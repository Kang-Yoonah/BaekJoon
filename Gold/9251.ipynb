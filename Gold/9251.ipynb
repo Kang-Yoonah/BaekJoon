{
  "nbformat": 4,
  "nbformat_minor": 0,
  "metadata": {
    "colab": {
      "provenance": [],
      "authorship_tag": "ABX9TyNujEPKTzxVKe1A3IoIIZEK",
      "include_colab_link": true
    },
    "kernelspec": {
      "name": "python3",
      "display_name": "Python 3"
    },
    "language_info": {
      "name": "python"
    }
  },
  "cells": [
    {
      "cell_type": "markdown",
      "metadata": {
        "id": "view-in-github",
        "colab_type": "text"
      },
      "source": [
        "<a href=\"https://colab.research.google.com/github/Kang-Yoonah/BaekJoon/blob/main/Gold/9251.ipynb\" target=\"_parent\"><img src=\"https://colab.research.google.com/assets/colab-badge.svg\" alt=\"Open In Colab\"/></a>"
      ]
    },
    {
      "cell_type": "code",
      "execution_count": 1,
      "metadata": {
        "colab": {
          "base_uri": "https://localhost:8080/"
        },
        "id": "csEfLGeil863",
        "outputId": "c96c911a-8d58-4bc3-a71c-1bf5d3dce766"
      },
      "outputs": [
        {
          "output_type": "stream",
          "name": "stdout",
          "text": [
            "ACAYKP\n",
            "CAPCAK\n",
            "4\n"
          ]
        }
      ],
      "source": [
        "S1 = list(input())\n",
        "S2 = list(input())\n",
        "\n",
        "s1, s2 = len(S1), len(S2)\n",
        "\n",
        "dp = [0] * s2\n",
        "for i in range(s1):\n",
        "    cnt = 0\n",
        "    for j in range(s2):\n",
        "        if cnt < dp[j]:\n",
        "            cnt = dp[j]\n",
        "        elif S1[i] == S2[j]:\n",
        "            dp[j] = cnt + 1\n",
        "print(max(dp))"
      ]
    },
    {
      "cell_type": "code",
      "source": [
        "S1 = input()\n",
        "S2 = input()\n",
        "\n",
        "s1,s2 = len(S1), len(S2)\n",
        "dp = [[0]*(s1+1) for _ in range(s2+1)]\n",
        "\n",
        "for i in range(1,s2+1):\n",
        "    for j in range(1,s1+1):\n",
        "        if S2[i-1] == S1[j-1]:\n",
        "            dp[i][j] = dp[i-1][j-1]+1\n",
        "        else:\n",
        "            dp[i][j] = max(dp[i][j-1], dp[i-1][j])\n",
        "print(dp[s2][s1])"
      ],
      "metadata": {
        "id": "Z_KhdBILUmBT",
        "colab": {
          "base_uri": "https://localhost:8080/"
        },
        "outputId": "0adbfb09-bc5a-418e-ba23-de452416a591"
      },
      "execution_count": 2,
      "outputs": [
        {
          "output_type": "stream",
          "name": "stdout",
          "text": [
            "ACAYKP\n",
            "CAPCAK\n",
            "4\n"
          ]
        }
      ]
    }
  ]
}