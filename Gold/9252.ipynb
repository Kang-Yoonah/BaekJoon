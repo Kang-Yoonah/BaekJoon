{
  "nbformat": 4,
  "nbformat_minor": 0,
  "metadata": {
    "colab": {
      "provenance": [],
      "authorship_tag": "ABX9TyP6S7DIYEL9fJZNR5mVMF7k",
      "include_colab_link": true
    },
    "kernelspec": {
      "name": "python3",
      "display_name": "Python 3"
    },
    "language_info": {
      "name": "python"
    }
  },
  "cells": [
    {
      "cell_type": "markdown",
      "metadata": {
        "id": "view-in-github",
        "colab_type": "text"
      },
      "source": [
        "<a href=\"https://colab.research.google.com/github/Kang-Yoonah/BaekJoon/blob/main/Gold/9252.ipynb\" target=\"_parent\"><img src=\"https://colab.research.google.com/assets/colab-badge.svg\" alt=\"Open In Colab\"/></a>"
      ]
    },
    {
      "cell_type": "code",
      "source": [
        "S1 = input()\n",
        "S2 = input()\n",
        "\n",
        "s1,s2 = len(S1), len(S2)\n",
        "dp = [[0]*(s1+1) for _ in range(s2+1)]\n",
        "\n",
        "for i in range(1,s2+1):\n",
        "    for j in range(1,s1+1):\n",
        "        if S2[i-1] == S1[j-1]:\n",
        "            dp[i][j] = dp[i-1][j-1]+1\n",
        "        else:\n",
        "            dp[i][j] = max(dp[i][j-1], dp[i-1][j])\n",
        "ans, ans2, j, i = dp[s2][s1], '', s2, s1\n",
        "print(ans)\n",
        "\n",
        "if ans != 0 :\n",
        "    while 1:\n",
        "        if dp[j][i-1] == ans:\n",
        "            i -=1\n",
        "        elif dp[j-1][i] == ans:\n",
        "            j -= 1\n",
        "        else:\n",
        "            ans2 = ans2 + S1[i-1]\n",
        "            ans -= 1\n",
        "            j -=1\n",
        "            i -=1\n",
        "            if dp[j][i] == 0:\n",
        "                break\n",
        "    print(ans2[::-1])"
      ],
      "metadata": {
        "colab": {
          "base_uri": "https://localhost:8080/"
        },
        "id": "lmuzXM88QCUZ",
        "outputId": "f89f9b86-0ebe-4272-aea0-df64c96e683b"
      },
      "execution_count": 2,
      "outputs": [
        {
          "output_type": "stream",
          "name": "stdout",
          "text": [
            "ACAYKP\n",
            "CAPCAK\n",
            "4\n",
            "ACAK\n"
          ]
        }
      ]
    }
  ]
}