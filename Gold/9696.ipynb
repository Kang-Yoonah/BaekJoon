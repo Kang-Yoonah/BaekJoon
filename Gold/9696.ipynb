{
  "nbformat": 4,
  "nbformat_minor": 0,
  "metadata": {
    "colab": {
      "provenance": [],
      "authorship_tag": "ABX9TyNx8BYNPxJ3KeX9taYjg1fF",
      "include_colab_link": true
    },
    "kernelspec": {
      "name": "python3",
      "display_name": "Python 3"
    },
    "language_info": {
      "name": "python"
    }
  },
  "cells": [
    {
      "cell_type": "markdown",
      "metadata": {
        "id": "view-in-github",
        "colab_type": "text"
      },
      "source": [
        "<a href=\"https://colab.research.google.com/github/Kang-Yoonah/BaekJoon/blob/main/Gold/9696.ipynb\" target=\"_parent\"><img src=\"https://colab.research.google.com/assets/colab-badge.svg\" alt=\"Open In Colab\"/></a>"
      ]
    },
    {
      "cell_type": "code",
      "execution_count": null,
      "metadata": {
        "id": "jdMFhnIqZdeO"
      },
      "outputs": [],
      "source": [
        "from collections import deque\n",
        "\n",
        "N = int(input())\n",
        "for i in range(N):\n",
        "    inp = deque(input().split())\n",
        "    oper, oper_set, D = [], set(['/','*','+','-']), deque()\n",
        "\n",
        "    while inp:\n",
        "        obj = inp.popleft()\n",
        "        if not obj in oper_set:\n",
        "            D.append(int(obj))\n",
        "        elif obj == '*':\n",
        "            v1 = D.pop()\n",
        "            v2 = int(inp.popleft())\n",
        "            D.append(v1*v2)\n",
        "            oper.append(obj)\n",
        "        elif obj == '/':\n",
        "            v1 = D.pop()\n",
        "            v2 = int(inp.popleft())\n",
        "            D.append(int(v1/v2))\n",
        "            oper.append(obj)\n",
        "        else:\n",
        "            D.append(obj)\n",
        "\n",
        "    ans = D.popleft()\n",
        "    while D:\n",
        "        v = D.popleft()\n",
        "        if v == '+':\n",
        "            oper.append(v)\n",
        "            ans += D.popleft()\n",
        "        elif v == '-':\n",
        "            oper.append(v)\n",
        "            ans -= D.popleft()        \n",
        "\n",
        "    print(f'Case #{i+1}:', ' '.join(oper), ans)"
      ]
    }
  ]
}