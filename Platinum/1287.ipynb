{
  "nbformat": 4,
  "nbformat_minor": 0,
  "metadata": {
    "colab": {
      "provenance": [],
      "authorship_tag": "ABX9TyPc6aUmMYzlqQiS5ok0s2gz",
      "include_colab_link": true
    },
    "kernelspec": {
      "name": "python3",
      "display_name": "Python 3"
    },
    "language_info": {
      "name": "python"
    }
  },
  "cells": [
    {
      "cell_type": "markdown",
      "metadata": {
        "id": "view-in-github",
        "colab_type": "text"
      },
      "source": [
        "<a href=\"https://colab.research.google.com/github/Kang-Yoonah/BaekJoon/blob/main/Platinum/1287.ipynb\" target=\"_parent\"><img src=\"https://colab.research.google.com/assets/colab-badge.svg\" alt=\"Open In Colab\"/></a>"
      ]
    },
    {
      "cell_type": "code",
      "source": [
        "def sol(Eq):\n",
        "    if Eq[0] in \"+-/*\" or Eq[-1] in \"+-/*\":\n",
        "        return \"ROCK\" \n",
        "    for i in range(len(Eq)-1):\n",
        "        if Eq[i] in \"+-/*(\" and Eq[i+1] in \"+-/*)\":\n",
        "            return \"ROCK\" \n",
        "             \n",
        "    try:\n",
        "        return eval(Eq.replace(\"/\",\"//\").replace(\"(\"*100,\"\").replace(\")\"*100,\"\"))\n",
        "    except:\n",
        "        return \"ROCK\"\n",
        "            \n",
        "print(sol(input().rstrip()))"
      ],
      "metadata": {
        "colab": {
          "base_uri": "https://localhost:8080/"
        },
        "id": "V5Behma77t2H",
        "outputId": "fe42c1a8-d439-44cf-a279-a5ca52449e57"
      },
      "execution_count": 1,
      "outputs": [
        {
          "output_type": "stream",
          "name": "stdout",
          "text": [
            "5+(1+2)*3\n",
            "14\n"
          ]
        }
      ]
    }
  ]
}