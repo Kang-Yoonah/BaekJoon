{
  "nbformat": 4,
  "nbformat_minor": 0,
  "metadata": {
    "colab": {
      "provenance": [],
      "authorship_tag": "ABX9TyOBOKNeCMpiP+KaqNy9Wybq",
      "include_colab_link": true
    },
    "kernelspec": {
      "name": "python3",
      "display_name": "Python 3"
    },
    "language_info": {
      "name": "python"
    }
  },
  "cells": [
    {
      "cell_type": "markdown",
      "metadata": {
        "id": "view-in-github",
        "colab_type": "text"
      },
      "source": [
        "<a href=\"https://colab.research.google.com/github/Kang-Yoonah/BaekJoon/blob/main/Platinum/12920.ipynb\" target=\"_parent\"><img src=\"https://colab.research.google.com/assets/colab-badge.svg\" alt=\"Open In Colab\"/></a>"
      ]
    },
    {
      "cell_type": "code",
      "execution_count": 4,
      "metadata": {
        "colab": {
          "base_uri": "https://localhost:8080/"
        },
        "id": "Cyts0RfMH1uP",
        "outputId": "66259a4d-ab51-47ef-ae8e-490e02531054"
      },
      "outputs": [
        {
          "output_type": "stream",
          "name": "stdout",
          "text": [
            "2 3\n",
            "2 7 1\n",
            "1 9 3\n",
            "27\n"
          ]
        }
      ],
      "source": [
        "N, M = map(int,input().split())\n",
        "obj = []\n",
        "for _ in range(N):\n",
        "    V,C,K = map(int,input().split())\n",
        "    c = 1\n",
        "    while K >= c:\n",
        "        obj.append([V*c, C*c])\n",
        "        K -= c\n",
        "        c *= 2\n",
        "    if K != 0:\n",
        "        obj.append([V*K, C*K])\n",
        "\n",
        "\n",
        "dp = [0]*(M+1)\n",
        "for i in range(len(obj)):\n",
        "    wgt = obj[i][0]\n",
        "    vlu = obj[i][1]\n",
        "\n",
        "    for j in range(M, wgt-1, -1):\n",
        "        dp[j] = max(dp[j], dp[j-wgt]+vlu)\n",
        "print(dp[-1])"
      ]
    }
  ]
}