{
  "nbformat": 4,
  "nbformat_minor": 0,
  "metadata": {
    "colab": {
      "name": "1002.ipynb",
      "provenance": [],
      "authorship_tag": "ABX9TyO3aP6IXz46Lz6ryGjo+aci",
      "include_colab_link": true
    },
    "kernelspec": {
      "name": "python3",
      "display_name": "Python 3"
    },
    "language_info": {
      "name": "python"
    }
  },
  "cells": [
    {
      "cell_type": "markdown",
      "metadata": {
        "id": "view-in-github",
        "colab_type": "text"
      },
      "source": [
        "<a href=\"https://colab.research.google.com/github/Kang-Yoonah/BaekJoon/blob/main/Silver/1002.ipynb\" target=\"_parent\"><img src=\"https://colab.research.google.com/assets/colab-badge.svg\" alt=\"Open In Colab\"/></a>"
      ]
    },
    {
      "cell_type": "code",
      "execution_count": 5,
      "metadata": {
        "colab": {
          "base_uri": "https://localhost:8080/"
        },
        "id": "z9dhR_Tjka0n",
        "outputId": "eada2198-a9d5-4a0e-e9c9-32b753400d46"
      },
      "outputs": [
        {
          "output_type": "stream",
          "name": "stdout",
          "text": [
            "3\n",
            "0 0 13 40 0 37\n",
            "2\n",
            "0 0 3 0 7 4\n",
            "1\n",
            "1 1 1 1 1 5\n",
            "0\n"
          ]
        }
      ],
      "source": [
        "N = int(input())\n",
        "for _ in range(N):\n",
        "    x1,y1,r1,x2,y2,r2 = map(int,input().split())\n",
        "    d = ((x1-x2)**2 + (y1-y2)**2)**(1/2)\n",
        "    if d == 0:\n",
        "        if r1==r2:\n",
        "            print(-1)\n",
        "        else:\n",
        "            print(0)\n",
        "    else:\n",
        "        R1 = abs(r1-r2)\n",
        "        R2 = abs(r1+r2)\n",
        "        if R1 == d or R2 == d:\n",
        "            print(1)\n",
        "        elif R1 > d or R2 < d:\n",
        "            print(0)\n",
        "        else:\n",
        "            print(2)"
      ]
    }
  ]
}