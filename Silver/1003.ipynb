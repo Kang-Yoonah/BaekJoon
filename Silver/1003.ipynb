{
  "nbformat": 4,
  "nbformat_minor": 0,
  "metadata": {
    "colab": {
      "name": "1003.ipynb",
      "provenance": [],
      "authorship_tag": "ABX9TyOyBQyMlpgHwtokfdvokLgS",
      "include_colab_link": true
    },
    "kernelspec": {
      "name": "python3",
      "display_name": "Python 3"
    },
    "language_info": {
      "name": "python"
    }
  },
  "cells": [
    {
      "cell_type": "markdown",
      "metadata": {
        "id": "view-in-github",
        "colab_type": "text"
      },
      "source": [
        "<a href=\"https://colab.research.google.com/github/Kang-Yoonah/BaekJoon/blob/main/Silver/1003.ipynb\" target=\"_parent\"><img src=\"https://colab.research.google.com/assets/colab-badge.svg\" alt=\"Open In Colab\"/></a>"
      ]
    },
    {
      "cell_type": "code",
      "execution_count": 6,
      "metadata": {
        "colab": {
          "base_uri": "https://localhost:8080/"
        },
        "id": "iTHZETJmVIt6",
        "outputId": "8f29761d-011f-4504-e37c-8eb6284121a9"
      },
      "outputs": [
        {
          "output_type": "stream",
          "name": "stdout",
          "text": [
            "2\n",
            "6\n",
            "5 8\n",
            "22\n",
            "10946 17711\n"
          ]
        }
      ],
      "source": [
        "num = list(range(41))\n",
        "num[0] = [1,0]\n",
        "num[1] = [0,1]\n",
        "for i in range(2,41):\n",
        "    num[i] = [num[i-1][0]+num[i-2][0], num[i-1][1]+num[i-2][1]]\n",
        "\n",
        "N = int(input())\n",
        "for _ in range(N):\n",
        "    ind = int(input())\n",
        "    print(num[ind][0],num[ind][1])"
      ]
    },
    {
      "cell_type": "code",
      "source": [
        "zero = [1,0,1]\n",
        "one = [0,1,1]\n",
        " \n",
        "def cal(num):\n",
        "    length = len(zero)\n",
        "    if length <= num:\n",
        "        for i in range(length,num+1):\n",
        "            zero.append(zero[i-1]+zero[i-2])\n",
        "            one.append(one[i-1]+one[i-2])\n",
        "    print(zero[num], one[num])\n",
        "N = int(input())\n",
        "\n",
        "for _ in range(N):\n",
        "    ind = int(input())\n",
        "    cal(ind)"
      ],
      "metadata": {
        "colab": {
          "base_uri": "https://localhost:8080/"
        },
        "id": "AfVqZCzsVkTo",
        "outputId": "22dcfd02-c3ed-4cf0-88c1-436b835240e6"
      },
      "execution_count": 7,
      "outputs": [
        {
          "output_type": "stream",
          "name": "stdout",
          "text": [
            "2\n",
            "6\n",
            "5 8\n",
            "22\n",
            "10946 17711\n"
          ]
        }
      ]
    }
  ]
}