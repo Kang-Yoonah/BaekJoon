{
  "nbformat": 4,
  "nbformat_minor": 0,
  "metadata": {
    "colab": {
      "name": "1010.ipynb",
      "provenance": [],
      "authorship_tag": "ABX9TyP3iUC34PpDLvz9maW+dHuf"
    },
    "kernelspec": {
      "name": "python3",
      "display_name": "Python 3"
    },
    "language_info": {
      "name": "python"
    }
  },
  "cells": [
    {
      "cell_type": "code",
      "execution_count": 77,
      "metadata": {
        "colab": {
          "base_uri": "https://localhost:8080/"
        },
        "id": "7FXDSfPmx3YD",
        "outputId": "ac1004bc-36aa-4b6f-cb96-e008a6be5bd3"
      },
      "outputs": [
        {
          "output_type": "stream",
          "name": "stdout",
          "text": [
            "3\n",
            "2 2\n",
            "1\n",
            "1 5\n",
            "5\n",
            "13 29\n",
            "67863915\n"
          ]
        }
      ],
      "source": [
        "# 1010\n",
        "def factorial(n):\n",
        "    if n <= 1:\n",
        "        return 1\n",
        "    else:\n",
        "        return n * factorial(n-1)\n",
        "N = int(input())\n",
        "for _ in range(N):\n",
        "    a,b = map(int,input().split())\n",
        "    print(factorial(b) // (factorial(a)*factorial(b-a)))"
      ]
    },
    {
      "cell_type": "code",
      "source": [
        "N = int(input())\n",
        "for _ in range(N):\n",
        "    a,b = map(int,input().split())\n",
        "    num = 1\n",
        "    while a >=1:\n",
        "        num = num*b/a\n",
        "        b-=1\n",
        "        a-=1\n",
        "    print(f'{num:.0f}')"
      ],
      "metadata": {
        "colab": {
          "base_uri": "https://localhost:8080/"
        },
        "id": "lcU7guy4C02z",
        "outputId": "8bb4658e-f926-42fb-8a8a-8f116fbfb029"
      },
      "execution_count": 78,
      "outputs": [
        {
          "output_type": "stream",
          "name": "stdout",
          "text": [
            "3\n",
            "2 2\n",
            "1\n",
            "1 5\n",
            "5\n",
            "13 29\n",
            "67863915\n"
          ]
        }
      ]
    }
  ]
}
