{
  "nbformat": 4,
  "nbformat_minor": 0,
  "metadata": {
    "colab": {
      "name": "1015.ipynb",
      "provenance": [],
      "collapsed_sections": [],
      "authorship_tag": "ABX9TyOccNa/qgAh3KdMmdGdPf1Y",
      "include_colab_link": true
    },
    "kernelspec": {
      "name": "python3",
      "display_name": "Python 3"
    },
    "language_info": {
      "name": "python"
    }
  },
  "cells": [
    {
      "cell_type": "markdown",
      "metadata": {
        "id": "view-in-github",
        "colab_type": "text"
      },
      "source": [
        "<a href=\"https://colab.research.google.com/github/Kang-Yoonah/BaekJoon/blob/main/Silver/1015.ipynb\" target=\"_parent\"><img src=\"https://colab.research.google.com/assets/colab-badge.svg\" alt=\"Open In Colab\"/></a>"
      ]
    },
    {
      "cell_type": "code",
      "execution_count": null,
      "metadata": {
        "colab": {
          "base_uri": "https://localhost:8080/"
        },
        "id": "Yh5L392G64Ej",
        "outputId": "94d3c778-86d1-4ac1-a916-1652760f4a79"
      },
      "outputs": [
        {
          "output_type": "stream",
          "name": "stdout",
          "text": [
            "3\n",
            "2 3 1\n",
            "1 2 0 "
          ]
        }
      ],
      "source": [
        "N = int(input())\n",
        "A = list(map(int,input().split()))\n",
        "P = [0] * N\n",
        "for ind1 in range(N):\n",
        "    num1 = A[ind1]\n",
        "    for ind2 in range(N):\n",
        "        if num1 < A[ind2]:\n",
        "            P[ind2] += 1\n",
        "        elif num1 == A[ind2] and ind1 < ind2:\n",
        "            P[ind2] += 1\n",
        "for i in P:\n",
        "    print(i,end=' ')"
      ]
    }
  ]
}