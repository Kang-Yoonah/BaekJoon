{
  "nbformat": 4,
  "nbformat_minor": 0,
  "metadata": {
    "colab": {
      "name": "1018.ipynb",
      "provenance": [],
      "collapsed_sections": [],
      "authorship_tag": "ABX9TyN4H5osPqFxApP5qcTxZvVd",
      "include_colab_link": true
    },
    "kernelspec": {
      "name": "python3",
      "display_name": "Python 3"
    },
    "language_info": {
      "name": "python"
    }
  },
  "cells": [
    {
      "cell_type": "markdown",
      "metadata": {
        "id": "view-in-github",
        "colab_type": "text"
      },
      "source": [
        "<a href=\"https://colab.research.google.com/github/Kang-Yoonah/BaekJoon/blob/main/Silver/1018.ipynb\" target=\"_parent\"><img src=\"https://colab.research.google.com/assets/colab-badge.svg\" alt=\"Open In Colab\"/></a>"
      ]
    },
    {
      "cell_type": "code",
      "source": [
        "N, M = map(int, input().split())\n",
        "board = [input() for _ in range(N)]\n",
        "total, k = 64, 1\n",
        "for i in range(N-7):\n",
        "    for j in range(M-7):\n",
        "        c1 = c2 = 0\n",
        "        for r in range(i,i+8):\n",
        "            for c in range(j,j+8):\n",
        "                if board[r][c] == 'B':\n",
        "                    if k == 1:\n",
        "                        c1 += 1\n",
        "                    else:\n",
        "                        c2 += 1\n",
        "                k *= -1\n",
        "            k *= -1\n",
        "        total = min(total, min(c1,c2)-max(c1,c2)+32)\n",
        "print(total)"
      ],
      "metadata": {
        "colab": {
          "base_uri": "https://localhost:8080/"
        },
        "id": "WwEvGX9pRkny",
        "outputId": "70d13a67-7bb3-40f8-a3c1-3fa4cf9d9b01"
      },
      "execution_count": 15,
      "outputs": [
        {
          "output_type": "stream",
          "name": "stdout",
          "text": [
            "11 12\n",
            "BWWBWWBWWBWW\n",
            "BWWBWBBWWBWW\n",
            "WBWWBWBBWWBW\n",
            "BWWBWBBWWBWW\n",
            "WBWWBWBBWWBW\n",
            "BWWBWBBWWBWW\n",
            "WBWWBWBBWWBW\n",
            "BWWBWBWWWBWW\n",
            "WBWWBWBBWWBW\n",
            "BWWBWBBWWBWW\n",
            "WBWWBWBBWWBW\n",
            "15\n"
          ]
        }
      ]
    }
  ]
}