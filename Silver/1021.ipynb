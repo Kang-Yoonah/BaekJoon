{
  "nbformat": 4,
  "nbformat_minor": 0,
  "metadata": {
    "colab": {
      "provenance": [],
      "authorship_tag": "ABX9TyP0srT8euM8O7YAibGq2EjP",
      "include_colab_link": true
    },
    "kernelspec": {
      "name": "python3",
      "display_name": "Python 3"
    },
    "language_info": {
      "name": "python"
    }
  },
  "cells": [
    {
      "cell_type": "markdown",
      "metadata": {
        "id": "view-in-github",
        "colab_type": "text"
      },
      "source": [
        "<a href=\"https://colab.research.google.com/github/Kang-Yoonah/BaekJoon/blob/main/Silver/1021.ipynb\" target=\"_parent\"><img src=\"https://colab.research.google.com/assets/colab-badge.svg\" alt=\"Open In Colab\"/></a>"
      ]
    },
    {
      "cell_type": "code",
      "execution_count": 2,
      "metadata": {
        "colab": {
          "base_uri": "https://localhost:8080/"
        },
        "id": "HDJtp_pGWBJD",
        "outputId": "a9968842-56fa-45e5-a569-a37df06dc8e9"
      },
      "outputs": [
        {
          "name": "stdout",
          "output_type": "stream",
          "text": [
            "10 3\n",
            "2 9 5\n"
          ]
        }
      ],
      "source": [
        "from collections import deque\n",
        "\n",
        "N, M = map(int,input().split())\n",
        "Nums = list(map(int,input().split()))\n",
        "Nums_d = deque(range(1,N+1))\n",
        "\n",
        "ans = 0\n",
        "for n in Nums:\n",
        "    ind = 0\n",
        "    if n != Nums_d[0]:\n",
        "        ind = Nums_d.index(n)\n",
        "        if N//2 >= ind:\n",
        "            Nums_d.rotate(-ind)\n",
        "        else:\n",
        "            ind = N-ind\n",
        "            Nums_d.rotate(ind)\n",
        "    Nums_d.popleft()\n",
        "    ans += ind\n",
        "    N -= 1\n",
        "print(ans)"
      ]
    }
  ]
}