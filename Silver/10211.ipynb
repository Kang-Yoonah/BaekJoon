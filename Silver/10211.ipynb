{
  "nbformat": 4,
  "nbformat_minor": 0,
  "metadata": {
    "colab": {
      "provenance": [],
      "authorship_tag": "ABX9TyMxkKV+hlXLvkjpP7PrrL7y",
      "include_colab_link": true
    },
    "kernelspec": {
      "name": "python3",
      "display_name": "Python 3"
    },
    "language_info": {
      "name": "python"
    }
  },
  "cells": [
    {
      "cell_type": "markdown",
      "metadata": {
        "id": "view-in-github",
        "colab_type": "text"
      },
      "source": [
        "<a href=\"https://colab.research.google.com/github/Kang-Yoonah/BaekJoon/blob/main/Silver/10211.ipynb\" target=\"_parent\"><img src=\"https://colab.research.google.com/assets/colab-badge.svg\" alt=\"Open In Colab\"/></a>"
      ]
    },
    {
      "cell_type": "code",
      "execution_count": 1,
      "metadata": {
        "colab": {
          "base_uri": "https://localhost:8080/"
        },
        "id": "KThsTUZ8GqB2",
        "outputId": "5b34f2eb-8eb4-4c6d-bb9e-92904144e060"
      },
      "outputs": [
        {
          "output_type": "stream",
          "name": "stdout",
          "text": [
            "2\n",
            "5\n",
            "1 2 3 4 5\n",
            "15\n",
            "5\n",
            "2 1 -2 3 -5\n",
            "4\n"
          ]
        }
      ],
      "source": [
        "T = int(input())\n",
        "for _ in range(T):\n",
        "\n",
        "    N = int(input())\n",
        "    li = list(map(int,input().split()))\n",
        "    dp = [ 0 for _ in range(len(li)) ]\n",
        "    dp[0] = li[0]\n",
        "    \n",
        "    for i in range(1, N):\n",
        "        dp[i] = max(dp[i-1]+li[i], li[i])\n",
        "    \n",
        "    print(max(dp))"
      ]
    },
    {
      "cell_type": "code",
      "source": [
        "def sol(T):\n",
        "    for _ in range(T):\n",
        "        N = int(input())\n",
        "        num = list(map(int,input().split()))\n",
        "\n",
        "        sum_num = [0]*(N+1)\n",
        "        for i in range(N):\n",
        "            sum_num[i+1] = sum_num[i] + num[i]\n",
        "        \n",
        "        ans = sum_num[1]\n",
        "        for i in range(N+1):\n",
        "            for j in range(i+1, N+1):\n",
        "                ans = max(ans, sum_num[j]-sum_num[i])\n",
        "        print(ans)\n",
        "    return\n",
        "sol(int(input()))"
      ],
      "metadata": {
        "colab": {
          "base_uri": "https://localhost:8080/"
        },
        "id": "QMSnScf9Gxoz",
        "outputId": "37179954-2a6a-487d-b16b-7cfa06ad3ae7"
      },
      "execution_count": 2,
      "outputs": [
        {
          "output_type": "stream",
          "name": "stdout",
          "text": [
            "2\n",
            "5\n",
            "1 2 3 4 5\n",
            "15\n",
            "5\n",
            "2 1 -2 3 -5\n",
            "4\n"
          ]
        }
      ]
    }
  ]
}