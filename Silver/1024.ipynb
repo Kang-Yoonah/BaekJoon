{
  "nbformat": 4,
  "nbformat_minor": 0,
  "metadata": {
    "colab": {
      "name": "1024.ipynb",
      "provenance": [],
      "authorship_tag": "ABX9TyNC/ScdV9MSTM5EKEn6v5Ks",
      "include_colab_link": true
    },
    "kernelspec": {
      "name": "python3",
      "display_name": "Python 3"
    },
    "language_info": {
      "name": "python"
    }
  },
  "cells": [
    {
      "cell_type": "markdown",
      "metadata": {
        "id": "view-in-github",
        "colab_type": "text"
      },
      "source": [
        "<a href=\"https://colab.research.google.com/github/Kang-Yoonah/BaekJoon/blob/main/Silver/1024.ipynb\" target=\"_parent\"><img src=\"https://colab.research.google.com/assets/colab-badge.svg\" alt=\"Open In Colab\"/></a>"
      ]
    },
    {
      "cell_type": "markdown",
      "source": [
        "$m$부터 $n$까지의 연속된 수열의 합\n",
        "\n",
        "$$\n",
        "{(n+m) * L }\\over {2}\n",
        "$$\n",
        "\n",
        "1. 수열의 길이가 적어도 L보다 커야한다.\n",
        "2. 수열의 합이 N이 되어야한다.\n",
        "\n",
        "따라서 이로부터 2가지의 조건식을 끌어와 연립 방정식을 풀 수 있다.   \n",
        "L은 주어진 숫자부터 100까지 커질 수 있다.   \n",
        "그때마다 n에 대해 m과 L을 이용하여 표현하면,   \n",
        "$n = L + m - 1$ 이다.\n",
        "\n",
        "이를 수열의 합 구하는 공식에 대입하면,   \n",
        "N은 이미 정해진 숫자이고 L은 반복문을 돌려 그때마다 정해진 갯수이므로,   \n",
        "m에 관한 일차방정식이 만들어진다.   \n",
        "$$y = 2L*m + L^2 - L $$\n",
        "$$m = {{2N - L^2 +L}\\over {2L}}$$   \n",
        "이때 m은 0 이상이고 정수여야한다는 조건이 있으므로   \n",
        "조건문으로 이를 확인해주면 구하고자 하는 바를 도출할 수 있다."
      ],
      "metadata": {
        "id": "P-4Z-RXobUv2"
      }
    },
    {
      "cell_type": "code",
      "execution_count": 42,
      "metadata": {
        "colab": {
          "base_uri": "https://localhost:8080/"
        },
        "id": "XkoC8uTfPO7p",
        "outputId": "d26fb530-4562-4a5c-9375-2dcfd1fa8c9f"
      },
      "outputs": [
        {
          "output_type": "stream",
          "name": "stdout",
          "text": [
            "1000000000 2\n",
            "199999998 199999999 200000000 200000001 200000002\n"
          ]
        }
      ],
      "source": [
        "# import sys\n",
        "# input = sys.stdin.readline\n",
        "\n",
        "N, L = map(int,input().split())\n",
        "S = 1\n",
        "for l in range(L,101):\n",
        "    m = (2*N-l*l+l)//(2*l)\n",
        "    if (l + 2*m -1)*l == 2*N and m >= 0:\n",
        "        S = 0\n",
        "        for i in range(m,l+m-1):\n",
        "            print(i,end=' ')\n",
        "        print(l+m-1)\n",
        "        break\n",
        "if S:\n",
        "    print(-1)"
      ]
    }
  ]
}