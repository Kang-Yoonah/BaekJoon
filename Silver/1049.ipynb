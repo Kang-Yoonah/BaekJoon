{
  "nbformat": 4,
  "nbformat_minor": 0,
  "metadata": {
    "colab": {
      "name": "1049.ipynb",
      "provenance": [],
      "authorship_tag": "ABX9TyMdUlXTWWw2VrDyu2kBQWRj",
      "include_colab_link": true
    },
    "kernelspec": {
      "name": "python3",
      "display_name": "Python 3"
    },
    "language_info": {
      "name": "python"
    }
  },
  "cells": [
    {
      "cell_type": "markdown",
      "metadata": {
        "id": "view-in-github",
        "colab_type": "text"
      },
      "source": [
        "<a href=\"https://colab.research.google.com/github/Kang-Yoonah/BaekJoon/blob/main/Silver/1049.ipynb\" target=\"_parent\"><img src=\"https://colab.research.google.com/assets/colab-badge.svg\" alt=\"Open In Colab\"/></a>"
      ]
    },
    {
      "cell_type": "markdown",
      "source": [
        "최소한의 돈을 가지고 새로운 줄을 사거나 교체해야한다.   \n",
        "6줄 패키지를 살 수도 있고, 1개 또는 그 이상의 줄을 낱개로 살 수도 있다.   \n",
        "끊어진 기타줄의 개수 N과 기타줄 브랜드 M개가 주어지고, 각각의 브랜드에서 파는 기타줄 6개가 들어있는 패키지의 가격,   \n",
        "낱개로 살 때의 가격이 주어질 때, 적어도 N개를 사기 위해 필요한 돈의 수를 최소로 하는 프로그램을 작성하시오.\n",
        "\n",
        "**입력**\n",
        "- (구매할 최소한의 줄) (브랜드의 수)\n",
        "- (각 브랜드의 6개 가격) (각 브랜드의 1개 가격)\n",
        "- N <= 100 인 자연수, M <= 50 인 자연수\n",
        "- 0 <= 가격 <= 1000\n",
        "\n",
        "**제한**\n",
        "- 시간제한 2초 메모리제한 128MB\n",
        "\n",
        "\n"
      ],
      "metadata": {
        "id": "5wy3pqkraOJG"
      }
    },
    {
      "cell_type": "code",
      "execution_count": 8,
      "metadata": {
        "colab": {
          "base_uri": "https://localhost:8080/"
        },
        "id": "2kpbE_efaJJH",
        "outputId": "9e628603-70e3-4344-f724-f6e82a2308a8"
      },
      "outputs": [
        {
          "output_type": "stream",
          "name": "stdout",
          "text": [
            "4 2\n",
            "12 3\n",
            "15 4\n",
            "12\n"
          ]
        }
      ],
      "source": [
        "#import sys\n",
        "#input = sys.stdin.readline\n",
        "\n",
        "N, M = map(int,input().split())\n",
        "six_list = [0] * M\n",
        "one_list = [0] * M\n",
        "for ind in range(M):\n",
        "    six_list[ind], one_list[ind] = map(int,input().split())\n",
        "six = min(six_list)\n",
        "one = min(one_list)\n",
        "if six > (one*6):\n",
        "    print(one * N)\n",
        "else:\n",
        "    count = int(N//6)\n",
        "    p = six*count\n",
        "    price1 = p + one*(N-6*count)\n",
        "    price2 = p + six\n",
        "    if price1 > price2:\n",
        "        print(price2)\n",
        "    else:\n",
        "        print(price1)"
      ]
    },
    {
      "cell_type": "markdown",
      "source": [
        "**이해 및 분석**\n",
        "- 6개의 패키지와 1개의 낱개들로 구매할 때 브랜드는 달라도 된다.   \n",
        "즉, 6개의 패키지 중 최소의 가격, 1개의 낱개들 중 최소의 가격으로 따져야 한다.\n",
        "- 6개의 패키지 중 최소의 가격이 1개 낱개의 최소의 가격에 6을 곱한 것보다 크다면, 낱개로 사는 것이 가장 이득이다.\n",
        "- 6개의 패키지로 최소한의 줄보다 조금 더 과도하게 사더라도 낱개로 사는 것보다 비용이 적게 든다면, 그것이 최소한의 금액이다."
      ],
      "metadata": {
        "id": "72n5ngm6fmtI"
      }
    }
  ]
}