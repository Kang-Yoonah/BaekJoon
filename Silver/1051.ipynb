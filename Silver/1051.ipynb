{
  "nbformat": 4,
  "nbformat_minor": 0,
  "metadata": {
    "colab": {
      "name": "1051.ipynb",
      "provenance": [],
      "authorship_tag": "ABX9TyM+ExtR0zHEkIlZ/JlcUIbp",
      "include_colab_link": true
    },
    "kernelspec": {
      "name": "python3",
      "display_name": "Python 3"
    },
    "language_info": {
      "name": "python"
    }
  },
  "cells": [
    {
      "cell_type": "markdown",
      "metadata": {
        "id": "view-in-github",
        "colab_type": "text"
      },
      "source": [
        "<a href=\"https://colab.research.google.com/github/Kang-Yoonah/BaekJoon/blob/main/Silver/1051.ipynb\" target=\"_parent\"><img src=\"https://colab.research.google.com/assets/colab-badge.svg\" alt=\"Open In Colab\"/></a>"
      ]
    },
    {
      "cell_type": "code",
      "execution_count": 13,
      "metadata": {
        "colab": {
          "base_uri": "https://localhost:8080/"
        },
        "id": "Dh-uqiDp8P-5",
        "outputId": "7384f3c7-863b-44fa-8d6b-9bb54358c15b"
      },
      "outputs": [
        {
          "output_type": "stream",
          "name": "stdout",
          "text": [
            "16 4\n",
            "noj.am IU\n",
            "acmicpc.net UAENA \n",
            "startlink.io THEKINGOD\n",
            " google.com ZEZE \n",
            "nate.com VOICEMAIL\n",
            "naver.com REDQUEEN\n",
            "daum.net MODERNTIMES\n",
            "utube.com BLACKOUT\n",
            "zum.com LASTFANTASY\n",
            "dreamwiz.com RAINDROP\n",
            "hanyang.ac.kr SOMEDAY\n",
            "dhlottery.co.kr BOO\n",
            "duksoo.hs.kr HAVANA\n",
            "hanyang-u.ms.kr OBLIVIATE\n",
            "yd.es.kr LOVEATTACK\n",
            "mcc.hanyang.ac.kr ADREAMER\n",
            "startlink.io\n",
            "THEKINGOD\n",
            "acmicpc.net\n",
            "UAENA\n",
            "noj.am\n",
            "IU\n",
            "mcc.hanyang.ac.kr\n",
            "ADREAMER\n"
          ]
        }
      ],
      "source": [
        "#import sys\n",
        "#input = sys.stdin.readline\n",
        "\n",
        "N, M = map(int,input().split())\n",
        "site_pass = {}\n",
        "for _ in range(N):\n",
        "    site, password = input().split()\n",
        "    site_pass[site] = password\n",
        "for _ in range(M):\n",
        "    print(site_pass[input().strip()])"
      ]
    }
  ]
}