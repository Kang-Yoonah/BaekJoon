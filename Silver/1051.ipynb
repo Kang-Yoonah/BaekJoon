{
  "nbformat": 4,
  "nbformat_minor": 0,
  "metadata": {
    "colab": {
      "name": "1051.ipynb",
      "provenance": [],
      "authorship_tag": "ABX9TyOuVKdheskAnFelqTX+CAiO",
      "include_colab_link": true
    },
    "kernelspec": {
      "name": "python3",
      "display_name": "Python 3"
    },
    "language_info": {
      "name": "python"
    }
  },
  "cells": [
    {
      "cell_type": "markdown",
      "metadata": {
        "id": "view-in-github",
        "colab_type": "text"
      },
      "source": [
        "<a href=\"https://colab.research.google.com/github/Kang-Yoonah/BaekJoon/blob/main/Silver/1051.ipynb\" target=\"_parent\"><img src=\"https://colab.research.google.com/assets/colab-badge.svg\" alt=\"Open In Colab\"/></a>"
      ]
    },
    {
      "cell_type": "code",
      "execution_count": 12,
      "metadata": {
        "colab": {
          "base_uri": "https://localhost:8080/"
        },
        "id": "Dh-uqiDp8P-5",
        "outputId": "e42ed448-2580-4164-ac2f-72298520c8ba"
      },
      "outputs": [
        {
          "output_type": "stream",
          "name": "stdout",
          "text": [
            "3 5\n",
            "42101\n",
            "22100\n",
            "22101\n",
            "9\n"
          ]
        }
      ],
      "source": [
        "#import sys\n",
        "#input = sys.stdin.readline\n",
        "\n",
        "N, M = map(int,input().split())\n",
        "rectangle = [list(map(int,input().strip())) for _ in range(N)]\n",
        "size = min(N,M)\n",
        "\n",
        "def find():\n",
        "    for length in range(size,0,-1):\n",
        "        for p1 in range(N-length+1):\n",
        "            for p2 in range(M-length+1):\n",
        "                v1 = rectangle[p1][p2]\n",
        "                v2 = rectangle[p1][p2+length-1]\n",
        "                v3 = rectangle[p1+length-1][p2]\n",
        "                v4 = rectangle[p1+length-1][p2+length-1]\n",
        "                if v1 == v2 == v3 == v4:\n",
        "                    return length**2\n",
        "    \n",
        "print(find())"
      ]
    }
  ]
}