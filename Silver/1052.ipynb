{
  "nbformat": 4,
  "nbformat_minor": 0,
  "metadata": {
    "colab": {
      "name": "1052.ipynb",
      "provenance": [],
      "authorship_tag": "ABX9TyPewy5NTDQR01k9h09D6LW5",
      "include_colab_link": true
    },
    "kernelspec": {
      "name": "python3",
      "display_name": "Python 3"
    },
    "language_info": {
      "name": "python"
    }
  },
  "cells": [
    {
      "cell_type": "markdown",
      "metadata": {
        "id": "view-in-github",
        "colab_type": "text"
      },
      "source": [
        "<a href=\"https://colab.research.google.com/github/Kang-Yoonah/BaekJoon/blob/main/Silver/1052.ipynb\" target=\"_parent\"><img src=\"https://colab.research.google.com/assets/colab-badge.svg\" alt=\"Open In Colab\"/></a>"
      ]
    },
    {
      "cell_type": "code",
      "execution_count": 1,
      "metadata": {
        "colab": {
          "base_uri": "https://localhost:8080/"
        },
        "id": "Atjpu4h1RfIR",
        "outputId": "4ffe6173-25dc-42d0-f144-cefb2638a61a"
      },
      "outputs": [
        {
          "output_type": "stream",
          "name": "stdout",
          "text": [
            "1000000 5\n",
            "15808\n"
          ]
        }
      ],
      "source": [
        "N, K = map(int,input().split())\n",
        "total = 0\n",
        "n = bin(N)\n",
        "while n.count('1') > K:\n",
        "    n = n[::-1]\n",
        "    s1 = n.find('1')\n",
        "    s2 = n.find('1',s1+1)\n",
        "    total += 2**(s2)-2**(s1)\n",
        "    n = bin(N + total)\n",
        "print(total)"
      ]
    }
  ]
}