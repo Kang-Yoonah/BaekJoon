{
  "nbformat": 4,
  "nbformat_minor": 0,
  "metadata": {
    "colab": {
      "name": "1065.ipynb",
      "provenance": [],
      "authorship_tag": "ABX9TyPH7TpuHkVF07uS9ceMmo38",
      "include_colab_link": true
    },
    "kernelspec": {
      "name": "python3",
      "display_name": "Python 3"
    },
    "language_info": {
      "name": "python"
    }
  },
  "cells": [
    {
      "cell_type": "markdown",
      "metadata": {
        "id": "view-in-github",
        "colab_type": "text"
      },
      "source": [
        "<a href=\"https://colab.research.google.com/github/Kang-Yoonah/BaekJoon/blob/main/Silver/1065.ipynb\" target=\"_parent\"><img src=\"https://colab.research.google.com/assets/colab-badge.svg\" alt=\"Open In Colab\"/></a>"
      ]
    },
    {
      "cell_type": "code",
      "execution_count": 29,
      "metadata": {
        "colab": {
          "base_uri": "https://localhost:8080/"
        },
        "id": "xmzkH8TmDSqc",
        "outputId": "faae8bd5-997c-427d-d35c-2fcbb3ae655f"
      },
      "outputs": [
        {
          "output_type": "stream",
          "name": "stdout",
          "text": [
            "500\n",
            "119\n"
          ]
        }
      ],
      "source": [
        "N = input()\n",
        "sum = 0\n",
        "if len(N) <=2:\n",
        "    print(int(N))\n",
        "else:\n",
        "    sum = 99\n",
        "    N = int(N)\n",
        "    for i in range(100,N+1):\n",
        "        if 2*(int(str(i)[1])) == ((int(str(i)[0]))+(int(str(i)[2]))):\n",
        "            sum +=1\n",
        "    print(sum)"
      ]
    }
  ]
}