{
  "nbformat": 4,
  "nbformat_minor": 0,
  "metadata": {
    "colab": {
      "name": "1080.ipynb",
      "provenance": [],
      "authorship_tag": "ABX9TyM2CTXb6r/bO0Ew/LW0D+9M"
    },
    "kernelspec": {
      "name": "python3",
      "display_name": "Python 3"
    },
    "language_info": {
      "name": "python"
    }
  },
  "cells": [
    {
      "cell_type": "code",
      "execution_count": null,
      "metadata": {
        "colab": {
          "base_uri": "https://localhost:8080/"
        },
        "id": "7jmR0FMCQfXW",
        "outputId": "c7fe155c-ae53-4031-dfa8-85b7e37e8094"
      },
      "outputs": [
        {
          "output_type": "stream",
          "name": "stdout",
          "text": [
            "3 4\n",
            "0000\n",
            "0010\n",
            "0000\n",
            "1001\n",
            "1011\n",
            "1001\n",
            "2\n"
          ]
        }
      ],
      "source": [
        "def cal(mat,r,c):\n",
        "    for i in range(r,r+3):\n",
        "        for j in range(c,c+3):\n",
        "            mat[i][j] = int(not mat[i][j])\n",
        "\n",
        "N,M = map(int,input().split())\n",
        "A = [list(map(int,input().strip())) for _ in range(N)]\n",
        "B = [list(map(int,input().strip())) for _ in range(N)]\n",
        "sum = 0\n",
        "\n",
        "for r in range(N-2):\n",
        "    for c in range(M-2):\n",
        "        if A[r][c] != B[r][c]:\n",
        "            cal(A,r,c)\n",
        "            sum += 1\n",
        "if A == B:\n",
        "    print(sum)\n",
        "else:\n",
        "    print(-1)"
      ]
    }
  ]
}