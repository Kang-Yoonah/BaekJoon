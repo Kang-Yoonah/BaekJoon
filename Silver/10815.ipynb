{
  "nbformat": 4,
  "nbformat_minor": 0,
  "metadata": {
    "colab": {
      "name": "10815.ipynb",
      "provenance": [],
      "authorship_tag": "ABX9TyMn+nyqwJzqD8+86erQieCX",
      "include_colab_link": true
    },
    "kernelspec": {
      "name": "python3",
      "display_name": "Python 3"
    },
    "language_info": {
      "name": "python"
    }
  },
  "cells": [
    {
      "cell_type": "markdown",
      "metadata": {
        "id": "view-in-github",
        "colab_type": "text"
      },
      "source": [
        "<a href=\"https://colab.research.google.com/github/Kang-Yoonah/BaekJoon/blob/main/Silver/10815.ipynb\" target=\"_parent\"><img src=\"https://colab.research.google.com/assets/colab-badge.svg\" alt=\"Open In Colab\"/></a>"
      ]
    },
    {
      "cell_type": "code",
      "source": [
        "N = int(input())\n",
        "num1 = list(map(int,input().split()))\n",
        "number = {}\n",
        "for num in num1:\n",
        "    number[num] = 1\n",
        "\n",
        "M = int(input())\n",
        "num2 = list(map(int,input().split()))\n",
        "for num in num2:\n",
        "    print(number.get(num, 0), end=' ')"
      ],
      "metadata": {
        "colab": {
          "base_uri": "https://localhost:8080/"
        },
        "id": "jGikPHnjQ54Y",
        "outputId": "7c5123cb-d8a6-4000-f8d2-943d36920a9e"
      },
      "execution_count": 22,
      "outputs": [
        {
          "output_type": "stream",
          "name": "stdout",
          "text": [
            "5\n",
            "6 3 2 10 -10\n",
            "8\n",
            "10 9 -5 2 3 4 5 -10\n",
            "1 0 0 1 1 0 0 1 "
          ]
        }
      ]
    },
    {
      "cell_type": "code",
      "source": [
        "N = int(input())\n",
        "num1 = sorted(list(map(int,input().split())))\n",
        "def find(value):\n",
        "    start = 0\n",
        "    end = N-1\n",
        "    while start <= end:\n",
        "        m = (start+end)//2\n",
        "        if num1[m] > value:\n",
        "            end = m-1\n",
        "        elif num1[m] < value:\n",
        "            start = m+1\n",
        "        else:\n",
        "            return 1\n",
        "    return 0\n",
        "M = int(input())\n",
        "num2 = list(map(int,input().split()))\n",
        "for num in num2:\n",
        "    print(find(num), end=' ')"
      ],
      "metadata": {
        "colab": {
          "base_uri": "https://localhost:8080/"
        },
        "id": "w5wU5QwyeRnE",
        "outputId": "012485e0-05a6-4630-dca6-a42825684dce"
      },
      "execution_count": 23,
      "outputs": [
        {
          "output_type": "stream",
          "name": "stdout",
          "text": [
            "5\n",
            "6 3 2 10 -10\n",
            "8\n",
            "10 9 -5 2 3 4 5 -10\n",
            "1 0 0 1 1 0 0 1 "
          ]
        }
      ]
    },
    {
      "cell_type": "code",
      "source": [
        "N = int(input())\n",
        "num1 = set(map(int,input().split()))   # set 시간복잡도 O(1)\n",
        "M = int(input())\n",
        "num2 = list(map(int,input().split()))\n",
        "for num in num2:\n",
        "    if num in num1:\n",
        "        print(1, end=' ')\n",
        "    else:\n",
        "        print(0, end=' ')"
      ],
      "metadata": {
        "colab": {
          "base_uri": "https://localhost:8080/"
        },
        "id": "v7Wy7xBxcnz3",
        "outputId": "e620d930-e363-4f19-c21a-9591bb1d1555"
      },
      "execution_count": 24,
      "outputs": [
        {
          "output_type": "stream",
          "name": "stdout",
          "text": [
            "5\n",
            "6 3 2 10 -10\n",
            "8\n",
            "10 9 -5 2 3 4 5 -10\n",
            "1 0 0 1 1 0 0 1 "
          ]
        }
      ]
    }
  ]
}