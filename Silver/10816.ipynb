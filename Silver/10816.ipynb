{
  "nbformat": 4,
  "nbformat_minor": 0,
  "metadata": {
    "colab": {
      "name": "10816.ipynb",
      "provenance": [],
      "authorship_tag": "ABX9TyPZtccSyyvGou0P3iJjEUmW",
      "include_colab_link": true
    },
    "kernelspec": {
      "name": "python3",
      "display_name": "Python 3"
    },
    "language_info": {
      "name": "python"
    }
  },
  "cells": [
    {
      "cell_type": "markdown",
      "metadata": {
        "id": "view-in-github",
        "colab_type": "text"
      },
      "source": [
        "<a href=\"https://colab.research.google.com/github/Kang-Yoonah/BaekJoon/blob/main/Silver/10816.ipynb\" target=\"_parent\"><img src=\"https://colab.research.google.com/assets/colab-badge.svg\" alt=\"Open In Colab\"/></a>"
      ]
    },
    {
      "cell_type": "code",
      "execution_count": 2,
      "metadata": {
        "colab": {
          "base_uri": "https://localhost:8080/"
        },
        "id": "xhDpwuJEn8FO",
        "outputId": "d12ded57-5bd6-447b-cc1a-822f6fcdc57b"
      },
      "outputs": [
        {
          "output_type": "stream",
          "name": "stdout",
          "text": [
            "10\n",
            "6 3 2 10 10 10 -10 -10 7 3\n",
            "8\n",
            "10 9 -5 2 3 4 5 -10\n",
            "3 0 0 1 2 0 0 2\n"
          ]
        }
      ],
      "source": [
        "#import sys\n",
        "#input = sys.stdin.readline\n",
        "\n",
        "_ = input()\n",
        "num1 = list(map(int,input().split()))\n",
        "card ={}\n",
        "for num in num1:\n",
        "    if num in card:\n",
        "        card[num] += 1\n",
        "    else:\n",
        "        card[num] = 1\n",
        "\n",
        "_ = input()\n",
        "num2 = list(map(int,input().split()))\n",
        "print(' '.join(str(card.get(num, 0)) for num in num2))"
      ]
    }
  ]
}