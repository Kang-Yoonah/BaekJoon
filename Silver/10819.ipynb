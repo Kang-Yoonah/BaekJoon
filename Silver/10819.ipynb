{
  "nbformat": 4,
  "nbformat_minor": 0,
  "metadata": {
    "colab": {
      "name": "10819.ipynb",
      "provenance": [],
      "authorship_tag": "ABX9TyPjj6DhABg7xxxmhCp4cT1k",
      "include_colab_link": true
    },
    "kernelspec": {
      "name": "python3",
      "display_name": "Python 3"
    },
    "language_info": {
      "name": "python"
    }
  },
  "cells": [
    {
      "cell_type": "markdown",
      "metadata": {
        "id": "view-in-github",
        "colab_type": "text"
      },
      "source": [
        "<a href=\"https://colab.research.google.com/github/Kang-Yoonah/BaekJoon/blob/main/Silver/10819.ipynb\" target=\"_parent\"><img src=\"https://colab.research.google.com/assets/colab-badge.svg\" alt=\"Open In Colab\"/></a>"
      ]
    },
    {
      "cell_type": "code",
      "execution_count": 3,
      "metadata": {
        "colab": {
          "base_uri": "https://localhost:8080/"
        },
        "id": "Gm7-a0YTqi67",
        "outputId": "bf195f2b-1a47-401f-bd7d-4d8bf15165cc"
      },
      "outputs": [
        {
          "output_type": "stream",
          "name": "stdout",
          "text": [
            "6\n",
            "20 1 15 8 4 10\n",
            "62\n"
          ]
        }
      ],
      "source": [
        "from itertools import permutations\n",
        "N = int(input())\n",
        "A = list(map(int,input().split()))\n",
        "\n",
        "ans = 0\n",
        "for i in permutations(A):\n",
        "    total = 0\n",
        "    for j in range(N-1):\n",
        "        total += abs(i[j]-i[j+1])\n",
        "    ans = max(ans, total)\n",
        "print(ans)"
      ]
    }
  ]
}