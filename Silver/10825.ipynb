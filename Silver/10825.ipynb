{
  "nbformat": 4,
  "nbformat_minor": 0,
  "metadata": {
    "colab": {
      "provenance": [],
      "authorship_tag": "ABX9TyP7xumk+OPRy7m6/UAS7klf",
      "include_colab_link": true
    },
    "kernelspec": {
      "name": "python3",
      "display_name": "Python 3"
    },
    "language_info": {
      "name": "python"
    }
  },
  "cells": [
    {
      "cell_type": "markdown",
      "metadata": {
        "id": "view-in-github",
        "colab_type": "text"
      },
      "source": [
        "<a href=\"https://colab.research.google.com/github/Kang-Yoonah/BaekJoon/blob/main/Silver/10825.ipynb\" target=\"_parent\"><img src=\"https://colab.research.google.com/assets/colab-badge.svg\" alt=\"Open In Colab\"/></a>"
      ]
    },
    {
      "cell_type": "code",
      "source": [
        "Students = [list(input().split()) for _ in range(int(input()))]\n",
        "Students.sort(key = lambda x : (-int(x[1]), int(x[2]), -int(x[3]), x[0]))\n",
        "\n",
        "for student in Students:\n",
        "    print(student[0])"
      ],
      "metadata": {
        "id": "DZ8Z5kVeR3lk"
      },
      "execution_count": null,
      "outputs": []
    }
  ]
}