{
  "nbformat": 4,
  "nbformat_minor": 0,
  "metadata": {
    "colab": {
      "provenance": [],
      "authorship_tag": "ABX9TyMNZpsY/KG/APd8E4aID5Gh",
      "include_colab_link": true
    },
    "kernelspec": {
      "name": "python3",
      "display_name": "Python 3"
    },
    "language_info": {
      "name": "python"
    }
  },
  "cells": [
    {
      "cell_type": "markdown",
      "metadata": {
        "id": "view-in-github",
        "colab_type": "text"
      },
      "source": [
        "<a href=\"https://colab.research.google.com/github/Kang-Yoonah/BaekJoon/blob/main/Silver/10828.ipynb\" target=\"_parent\"><img src=\"https://colab.research.google.com/assets/colab-badge.svg\" alt=\"Open In Colab\"/></a>"
      ]
    },
    {
      "cell_type": "markdown",
      "source": [
        "**스택**\n",
        "- 파이썬에서의 스택 = list\n",
        "- 스택은 어떤 자료구조인가\n",
        "    - 가장 나중에 들어온 자료가 가장 먼저 처리되는 LIFO Last-In-First-Out 자료구조이다.\n",
        "    - 구멍이 하나밖에 없는 병이라고 생각하면 이해하기 쉽다.\n",
        "- 메소드\n",
        "    - init : 리스트\n",
        "    - push : 원소를 넣을 때 append 메서드 이용\n",
        "    - pop : 원소를 제거할 때 리스트의 가장 마지막 원소를 제거\n",
        "    - top : 원소를 제거하지 않고 가져오기만 할 때에는 [-1]을 이용"
      ],
      "metadata": {
        "id": "jMfTTpFC9wwr"
      }
    },
    {
      "cell_type": "code",
      "execution_count": 1,
      "metadata": {
        "colab": {
          "base_uri": "https://localhost:8080/"
        },
        "id": "efy5ra5z7Y4R",
        "outputId": "e2539b4c-05b2-44d7-c0b6-9e584f6e8e92"
      },
      "outputs": [
        {
          "output_type": "stream",
          "name": "stdout",
          "text": [
            "7\n",
            "pop\n",
            "-1\n",
            "top\n",
            "-1\n",
            "push 123\n",
            "top\n",
            "123\n",
            "pop\n",
            "123\n",
            "top\n",
            "-1\n",
            "pop\n",
            "-1\n"
          ]
        }
      ],
      "source": [
        "N=int(input())\n",
        "s = []\n",
        "\n",
        "def stack(op):\n",
        "    if len(op) ==2:\n",
        "        s.append(op[1])\n",
        "    else:\n",
        "        op = op[0]\n",
        "        if op == 'pop':\n",
        "            if s:\n",
        "                print(s.pop())\n",
        "            else:\n",
        "                print(-1)\n",
        "        elif op == 'size':\n",
        "            print(len(s))\n",
        "        elif op == 'empty':\n",
        "            if s:\n",
        "                print(0)\n",
        "            else:\n",
        "                print(1)\n",
        "        else:\n",
        "            if s:\n",
        "                print(s[-1])\n",
        "            else:\n",
        "                print(-1)\n",
        "\n",
        "for _ in range(N):\n",
        "    stack(list(input().split()))"
      ]
    }
  ]
}