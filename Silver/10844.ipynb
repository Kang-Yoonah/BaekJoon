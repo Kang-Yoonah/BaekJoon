{
  "nbformat": 4,
  "nbformat_minor": 0,
  "metadata": {
    "colab": {
      "name": "10844.ipynb",
      "provenance": [],
      "authorship_tag": "ABX9TyMVdDiqDl9nmEqXbyywq5Il",
      "include_colab_link": true
    },
    "kernelspec": {
      "name": "python3",
      "display_name": "Python 3"
    },
    "language_info": {
      "name": "python"
    }
  },
  "cells": [
    {
      "cell_type": "markdown",
      "metadata": {
        "id": "view-in-github",
        "colab_type": "text"
      },
      "source": [
        "<a href=\"https://colab.research.google.com/github/Kang-Yoonah/BaekJoon/blob/main/Silver/10844.ipynb\" target=\"_parent\"><img src=\"https://colab.research.google.com/assets/colab-badge.svg\" alt=\"Open In Colab\"/></a>"
      ]
    },
    {
      "cell_type": "code",
      "execution_count": 54,
      "metadata": {
        "colab": {
          "base_uri": "https://localhost:8080/"
        },
        "id": "6v0RAAEdstTE",
        "outputId": "7a69526f-ad9b-4c24-9e4a-2cb36802567b"
      },
      "outputs": [
        {
          "output_type": "stream",
          "name": "stdout",
          "text": [
            "100\n",
            "18404112\n"
          ]
        }
      ],
      "source": [
        "N = int(input()) -1\n",
        "num = [1]*10\n",
        "dp = [0]*10\n",
        "while N:\n",
        "    for ind in range(10):\n",
        "        if ind == 0:\n",
        "            dp[ind] = num[ind+1]\n",
        "        elif ind == 9:\n",
        "            dp[ind] = num[ind-1]\n",
        "        else:\n",
        "            dp[ind] = num[ind-1] + num[ind+1]\n",
        "    num = dp.copy()\n",
        "    N -= 1\n",
        "print(sum(num[1:])%1000000000)"
      ]
    },
    {
      "cell_type": "code",
      "source": [
        "N = int(input())\n",
        "num = [[1]*10 for _ in range(N+1)]\n",
        "for i in range(2,N+1):\n",
        "    for ind in range(1,9):\n",
        "        num[i][ind] = num[i-1][ind-1] + num[i-1][ind+1]\n",
        "    num[i][0] = num[i-1][1]\n",
        "    num[i][9] = num[i-1][8]\n",
        "print(sum(num[N][1:])%1000000000)"
      ],
      "metadata": {
        "colab": {
          "base_uri": "https://localhost:8080/"
        },
        "id": "o89DcWkGC7Wa",
        "outputId": "594494a5-4e89-4a0f-9ead-b6b96f60f7db"
      },
      "execution_count": 7,
      "outputs": [
        {
          "output_type": "stream",
          "name": "stdout",
          "text": [
            "100\n",
            "18404112\n"
          ]
        }
      ]
    },
    {
      "cell_type": "markdown",
      "source": [
        "계단수의 갯수에만 집중한다.   \n",
        "길이 N을 하나씩 늘려나갈수록 앞에 자릿수 하나만 늘어나는 것이기 때문에, 이전의 값을 활용할 수 있다.   \n",
        "예를 들어, 이전에 1과 3이 제일 앞에 있는 세자릿수의 계단수를 계산한 값이 있다면   \n",
        "다음에 2가 제일 앞에 있는 네자릿수의 계단수를 계산할 때에는   \n",
        "이 2개의 값을 그대로 더한 값이 된다.\n",
        "\n",
        "\n",
        "\n",
        "단, 앞 자리 수가 0과 9가 되는 경우는 특별하다.   \n",
        "사실상 맨 앞 자리에 0이 나올 수 없지만, 1 다음 0을 가지는 계단수의 개수를 계산할 경우, 이를 활용할 수 있기 때문에 살려야한다.   \n",
        "0과 9가 아닌 다른 수들은 뒤에 올 수 있는 숫자가 2개 (ex, 1 다음 0 또는 2)이지만 0과 9는 각각 1과 8이 무조건 뒤에 와야하기 때문에 다른 수들보다 제한되어 있다.   \n",
        "이를 고려하여 이전의 값을 더해가며 계단수를 계산할 수 있다.\n",
        "\n",
        "또한 리스트를 복사하기보다 자릿수 N이 100까지밖에 되지 않으니,   \n",
        "그 리스트들 모두 만든다는 생각도 할 수 있다.\n"
      ],
      "metadata": {
        "id": "zcRx0vxfFPdJ"
      }
    }
  ]
}