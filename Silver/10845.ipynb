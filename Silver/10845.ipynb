{
  "nbformat": 4,
  "nbformat_minor": 0,
  "metadata": {
    "colab": {
      "provenance": [],
      "collapsed_sections": [],
      "authorship_tag": "ABX9TyOYfmXUshCL8nddg3o7531E",
      "include_colab_link": true
    },
    "kernelspec": {
      "name": "python3",
      "display_name": "Python 3"
    },
    "language_info": {
      "name": "python"
    }
  },
  "cells": [
    {
      "cell_type": "markdown",
      "metadata": {
        "id": "view-in-github",
        "colab_type": "text"
      },
      "source": [
        "<a href=\"https://colab.research.google.com/github/Kang-Yoonah/BaekJoon/blob/main/Silver/10845.ipynb\" target=\"_parent\"><img src=\"https://colab.research.google.com/assets/colab-badge.svg\" alt=\"Open In Colab\"/></a>"
      ]
    },
    {
      "cell_type": "code",
      "execution_count": 1,
      "metadata": {
        "colab": {
          "base_uri": "https://localhost:8080/"
        },
        "id": "e4VZ6wSCxJ7Z",
        "outputId": "e16cbae3-3580-4222-cc71-a4453d9b9a8d"
      },
      "outputs": [
        {
          "output_type": "stream",
          "name": "stdout",
          "text": [
            "15\n",
            "push 1\n",
            "push 2\n",
            "front\n",
            "1\n",
            "back\n",
            "2\n",
            "size\n",
            "2\n",
            "empty\n",
            "0\n",
            "pop\n",
            "1\n",
            "pop\n",
            "2\n",
            "pop\n",
            "-1\n",
            "size\n",
            "0\n",
            "empty\n",
            "1\n",
            "pop\n",
            "-1\n",
            "push 3\n",
            "empty\n",
            "0\n",
            "front\n",
            "3\n"
          ]
        }
      ],
      "source": [
        "N = int(input())\n",
        "que = []\n",
        "\n",
        "for _ in range(N):\n",
        "    cmd = list(input().split())\n",
        "    if cmd[0] == 'push':\n",
        "        que.insert(0, cmd[1])\n",
        "    elif cmd[0] == 'pop':\n",
        "        if que != []:\n",
        "            print(que.pop())\n",
        "        else:\n",
        "            print(-1)\n",
        "    elif cmd[0] == 'size':\n",
        "        print(len(que))\n",
        "    elif cmd[0] == 'empty':\n",
        "        print(1 if que == [] else 0)\n",
        "    elif cmd[0] == 'front':\n",
        "        print(que[-1] if que != [] else -1)\n",
        "    else:\n",
        "        print(que[0] if que != [] else -1)"
      ]
    }
  ]
}