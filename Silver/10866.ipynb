{
  "nbformat": 4,
  "nbformat_minor": 0,
  "metadata": {
    "colab": {
      "provenance": [],
      "authorship_tag": "ABX9TyOKLkiCfmV8QS1GTX9fqVVK",
      "include_colab_link": true
    },
    "kernelspec": {
      "name": "python3",
      "display_name": "Python 3"
    },
    "language_info": {
      "name": "python"
    }
  },
  "cells": [
    {
      "cell_type": "markdown",
      "metadata": {
        "id": "view-in-github",
        "colab_type": "text"
      },
      "source": [
        "<a href=\"https://colab.research.google.com/github/Kang-Yoonah/BaekJoon/blob/main/Silver/10866.ipynb\" target=\"_parent\"><img src=\"https://colab.research.google.com/assets/colab-badge.svg\" alt=\"Open In Colab\"/></a>"
      ]
    },
    {
      "cell_type": "code",
      "execution_count": null,
      "metadata": {
        "id": "WcyTrwYeo9a2"
      },
      "outputs": [],
      "source": [
        "from collections import deque\n",
        "\n",
        "def sol():\n",
        "    N = int(input())\n",
        "    d = deque()\n",
        "    for _ in range(N):\n",
        "        ans = list(input().strip().split())\n",
        "        if ans[0] == \"push_front\":\n",
        "            d.appendleft(int(ans[1]))\n",
        "        elif ans[0] == \"push_back\":\n",
        "            d.append(int(ans[1]))\n",
        "        elif ans[0] == \"pop_front\":\n",
        "            print(d.popleft() if d else -1)\n",
        "        elif ans[0] == \"pop_back\":\n",
        "            print(d.pop() if d else -1)\n",
        "        elif ans[0] == \"size\":\n",
        "            print(len(d))\n",
        "        elif ans[0] == \"empty\":\n",
        "            print(0 if d else 1)\n",
        "        elif ans[0] == \"front\":\n",
        "            print(d[0] if d else -1)\n",
        "        else:\n",
        "            print(d[-1] if d else -1)\n",
        "\n",
        "sol()"
      ]
    }
  ]
}