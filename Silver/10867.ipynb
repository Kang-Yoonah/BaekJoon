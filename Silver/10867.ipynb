{
  "nbformat": 4,
  "nbformat_minor": 0,
  "metadata": {
    "colab": {
      "provenance": [],
      "authorship_tag": "ABX9TyN1sdHiyXDTd+8h3M3AhuGp",
      "include_colab_link": true
    },
    "kernelspec": {
      "name": "python3",
      "display_name": "Python 3"
    },
    "language_info": {
      "name": "python"
    }
  },
  "cells": [
    {
      "cell_type": "markdown",
      "metadata": {
        "id": "view-in-github",
        "colab_type": "text"
      },
      "source": [
        "<a href=\"https://colab.research.google.com/github/Kang-Yoonah/BaekJoon/blob/main/Silver/10867.ipynb\" target=\"_parent\"><img src=\"https://colab.research.google.com/assets/colab-badge.svg\" alt=\"Open In Colab\"/></a>"
      ]
    },
    {
      "cell_type": "code",
      "execution_count": 6,
      "metadata": {
        "colab": {
          "base_uri": "https://localhost:8080/"
        },
        "id": "X-2--8gm3dOV",
        "outputId": "5680b18a-8a5b-452e-8657-54c7b8d7cf47"
      },
      "outputs": [
        {
          "output_type": "stream",
          "name": "stdout",
          "text": [
            "10\n",
            "2 3 4 5 8 1 2 -12\n",
            "-12 1 2 3 4 5 8\n"
          ]
        }
      ],
      "source": [
        "#import sys\n",
        "#input = sys.stdin.readline\n",
        "input()\n",
        "num = sorted(set(input().strip().split()), key=lambda x : int(x))\n",
        "print(' '.join(num))"
      ]
    }
  ]
}