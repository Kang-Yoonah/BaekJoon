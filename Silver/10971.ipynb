{
  "nbformat": 4,
  "nbformat_minor": 0,
  "metadata": {
    "colab": {
      "provenance": [],
      "authorship_tag": "ABX9TyOAOROcv/CeAm+LlBJoqzSB",
      "include_colab_link": true
    },
    "kernelspec": {
      "name": "python3",
      "display_name": "Python 3"
    },
    "language_info": {
      "name": "python"
    }
  },
  "cells": [
    {
      "cell_type": "markdown",
      "metadata": {
        "id": "view-in-github",
        "colab_type": "text"
      },
      "source": [
        "<a href=\"https://colab.research.google.com/github/Kang-Yoonah/BaekJoon/blob/main/Silver/10971.ipynb\" target=\"_parent\"><img src=\"https://colab.research.google.com/assets/colab-badge.svg\" alt=\"Open In Colab\"/></a>"
      ]
    },
    {
      "cell_type": "code",
      "execution_count": 7,
      "metadata": {
        "colab": {
          "base_uri": "https://localhost:8080/"
        },
        "id": "CGd0opzKZaNS",
        "outputId": "60404f37-34cd-4e51-8404-7486b9b18985"
      },
      "outputs": [
        {
          "output_type": "stream",
          "name": "stdout",
          "text": [
            "60000 101 891\n",
            "10\n"
          ]
        }
      ],
      "source": [
        "_, K, I = map(int,input().split())\n",
        "ans, m, n = 1, min(K,I), max(K,I)\n",
        "\n",
        "while (m%2 != 1) or (n-m) != 1:\n",
        "    ans +=1\n",
        "    m, n = (m+1)//2, (n+1)//2\n",
        "\n",
        "print(ans)"
      ]
    }
  ]
}