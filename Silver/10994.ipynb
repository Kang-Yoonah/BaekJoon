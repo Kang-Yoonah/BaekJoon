{
  "nbformat": 4,
  "nbformat_minor": 0,
  "metadata": {
    "colab": {
      "name": "10994.ipynb",
      "provenance": [],
      "authorship_tag": "ABX9TyM9Nuwt+tljQz1wV2401Pcw",
      "include_colab_link": true
    },
    "kernelspec": {
      "name": "python3",
      "display_name": "Python 3"
    },
    "language_info": {
      "name": "python"
    }
  },
  "cells": [
    {
      "cell_type": "markdown",
      "metadata": {
        "id": "view-in-github",
        "colab_type": "text"
      },
      "source": [
        "<a href=\"https://colab.research.google.com/github/Kang-Yoonah/BaekJoon/blob/main/Silver/10994.ipynb\" target=\"_parent\"><img src=\"https://colab.research.google.com/assets/colab-badge.svg\" alt=\"Open In Colab\"/></a>"
      ]
    },
    {
      "cell_type": "code",
      "execution_count": 1,
      "metadata": {
        "colab": {
          "base_uri": "https://localhost:8080/"
        },
        "id": "fSt4XJHj_gHW",
        "outputId": "2533cafc-b63a-4649-95e2-1d7497749a7e"
      },
      "outputs": [
        {
          "output_type": "stream",
          "name": "stdout",
          "text": [
            "5\n",
            "*****************\n",
            "*               *\n",
            "* ************* *\n",
            "* *           * *\n",
            "* * ********* * *\n",
            "* * *       * * *\n",
            "* * * ***** * * *\n",
            "* * * *   * * * *\n",
            "* * * * * * * * *\n",
            "* * * *   * * * *\n",
            "* * * ***** * * *\n",
            "* * *       * * *\n",
            "* * ********* * *\n",
            "* *           * *\n",
            "* ************* *\n",
            "*               *\n",
            "*****************"
          ]
        }
      ],
      "source": [
        "N = int(input())\n",
        "ind = {key:0 for key in range(1,N+1)}\n",
        "def star(n, ind, check):\n",
        "    if n == 1:\n",
        "        print('*', end='')\n",
        "    else:\n",
        "        ind[n] += 1\n",
        "        c, r = 4*(n-1), ind[n]\n",
        "        if r == 1:\n",
        "            print('*'+'*'*c, end='')\n",
        "        elif r == (1+c):\n",
        "            print('*'+'*'*c, end='')\n",
        "            return\n",
        "        elif r == 2 or r == c:\n",
        "            print('*'+' '*(c-1) + '*', end='')  \n",
        "        else:\n",
        "            print('*',end=' ')\n",
        "            star(n-1, ind, 1)\n",
        "            print(' *', end='')\n",
        "        if check:\n",
        "            return\n",
        "        print()\n",
        "        star(n, ind, check)\n",
        "star(N, ind, 0)"
      ]
    }
  ]
}