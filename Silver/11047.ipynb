{
  "nbformat": 4,
  "nbformat_minor": 0,
  "metadata": {
    "colab": {
      "name": "11047.ipynb",
      "provenance": [],
      "authorship_tag": "ABX9TyMN1K8r4C4JJjdU4hGJvKmd"
    },
    "kernelspec": {
      "name": "python3",
      "display_name": "Python 3"
    },
    "language_info": {
      "name": "python"
    }
  },
  "cells": [
    {
      "cell_type": "code",
      "execution_count": 20,
      "metadata": {
        "colab": {
          "base_uri": "https://localhost:8080/"
        },
        "id": "ytgy8nupDOnR",
        "outputId": "40115cec-b41d-49b0-ba23-a98402605ef6"
      },
      "outputs": [
        {
          "output_type": "stream",
          "name": "stdout",
          "text": [
            "10 4793\n",
            "1\n",
            "5\n",
            "10\n",
            "50\n",
            "100\n",
            "500\n",
            "1000\n",
            "5000\n",
            "10000\n",
            "50000\n",
            "15\n"
          ]
        }
      ],
      "source": [
        "N, K = map(int,input().split())\n",
        "coin = []\n",
        "num = 0\n",
        "for _ in range(N):\n",
        "    coin.append(int(input()))\n",
        "for i in range(N-1,-1,-1):\n",
        "    num += K//coin[i]\n",
        "    K %= coin[i]\n",
        "print(num)"
      ]
    }
  ]
}