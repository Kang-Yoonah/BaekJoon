{
  "nbformat": 4,
  "nbformat_minor": 0,
  "metadata": {
    "colab": {
      "provenance": [],
      "authorship_tag": "ABX9TyMRM3EVKJ3MxrDW6V4T2zGV",
      "include_colab_link": true
    },
    "kernelspec": {
      "name": "python3",
      "display_name": "Python 3"
    },
    "language_info": {
      "name": "python"
    }
  },
  "cells": [
    {
      "cell_type": "markdown",
      "metadata": {
        "id": "view-in-github",
        "colab_type": "text"
      },
      "source": [
        "<a href=\"https://colab.research.google.com/github/Kang-Yoonah/BaekJoon/blob/main/Silver/1105.ipynb\" target=\"_parent\"><img src=\"https://colab.research.google.com/assets/colab-badge.svg\" alt=\"Open In Colab\"/></a>"
      ]
    },
    {
      "cell_type": "code",
      "execution_count": 1,
      "metadata": {
        "colab": {
          "base_uri": "https://localhost:8080/"
        },
        "id": "-Q6G44PqHJe3",
        "outputId": "b6ac1619-bf59-4bd6-c839-68eee2d0de51"
      },
      "outputs": [
        {
          "output_type": "stream",
          "name": "stdout",
          "text": [
            "1280 1281\n",
            "1\n"
          ]
        }
      ],
      "source": [
        "def sol():\n",
        "    L, R = input().split()\n",
        "    cnt = 0\n",
        "    if len(L) == len(R):\n",
        "        for i in range(len(L)):\n",
        "            if L[i] == R[i]:\n",
        "                if L[i] == '8':\n",
        "                    cnt += 1\n",
        "            else:\n",
        "                break\n",
        "    return cnt\n",
        "print(sol())"
      ]
    }
  ]
}