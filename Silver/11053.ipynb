{
  "nbformat": 4,
  "nbformat_minor": 0,
  "metadata": {
    "colab": {
      "provenance": [],
      "collapsed_sections": [],
      "authorship_tag": "ABX9TyM2mxL0dIPur4YPvQ7+64S6",
      "include_colab_link": true
    },
    "kernelspec": {
      "name": "python3",
      "display_name": "Python 3"
    },
    "language_info": {
      "name": "python"
    }
  },
  "cells": [
    {
      "cell_type": "markdown",
      "metadata": {
        "id": "view-in-github",
        "colab_type": "text"
      },
      "source": [
        "<a href=\"https://colab.research.google.com/github/Kang-Yoonah/BaekJoon/blob/main/Silver/11053.ipynb\" target=\"_parent\"><img src=\"https://colab.research.google.com/assets/colab-badge.svg\" alt=\"Open In Colab\"/></a>"
      ]
    },
    {
      "cell_type": "code",
      "execution_count": 4,
      "metadata": {
        "colab": {
          "base_uri": "https://localhost:8080/"
        },
        "id": "e4VZ6wSCxJ7Z",
        "outputId": "d58559af-2805-4abb-aed4-dcee1a807fbc"
      },
      "outputs": [
        {
          "output_type": "stream",
          "name": "stdout",
          "text": [
            "5\n",
            "1 10 5 7 90\n",
            "4\n"
          ]
        }
      ],
      "source": [
        "N = int(input())\n",
        "A = list(map(int,input().split()))\n",
        "dp = [1]*N\n",
        "\n",
        "for i in range(N):\n",
        "    for j in range(i):\n",
        "        if A[i] > A[j]:\n",
        "            dp[i] = max(dp[j]+1,dp[i])\n",
        "print(max(dp))"
      ]
    }
  ]
}