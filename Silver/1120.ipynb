{
  "nbformat": 4,
  "nbformat_minor": 0,
  "metadata": {
    "colab": {
      "name": "1120.ipynb",
      "provenance": [],
      "authorship_tag": "ABX9TyNd4cNCeaf4rKsByjXkgg+J",
      "include_colab_link": true
    },
    "kernelspec": {
      "name": "python3",
      "display_name": "Python 3"
    },
    "language_info": {
      "name": "python"
    }
  },
  "cells": [
    {
      "cell_type": "markdown",
      "metadata": {
        "id": "view-in-github",
        "colab_type": "text"
      },
      "source": [
        "<a href=\"https://colab.research.google.com/github/Kang-Yoonah/BaekJoon/blob/main/Silver/1120.ipynb\" target=\"_parent\"><img src=\"https://colab.research.google.com/assets/colab-badge.svg\" alt=\"Open In Colab\"/></a>"
      ]
    },
    {
      "cell_type": "code",
      "execution_count": 25,
      "metadata": {
        "colab": {
          "base_uri": "https://localhost:8080/"
        },
        "id": "xQd90O4U7Y4T",
        "outputId": "1a461986-d9c6-4da8-ec58-5445a688abd2"
      },
      "outputs": [
        {
          "output_type": "stream",
          "name": "stdout",
          "text": [
            "adaabc aababbc\n",
            "2\n"
          ]
        }
      ],
      "source": [
        "#import sys\n",
        "#A,B = sys.stdin.readline().split()\n",
        "A,B = input().split()\n",
        "num = 50\n",
        "for i in range(len(B)-len(A)+1):\n",
        "    count = len(A)\n",
        "    for j in range(0, len(A)):\n",
        "        if B[i+j] == A[j]:\n",
        "            count -=1\n",
        "    num = min(num,count)\n",
        "print(num)"
      ]
    }
  ]
}