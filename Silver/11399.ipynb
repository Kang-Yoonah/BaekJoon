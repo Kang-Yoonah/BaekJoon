{
  "nbformat": 4,
  "nbformat_minor": 0,
  "metadata": {
    "colab": {
      "name": "11399.ipynb",
      "provenance": [],
      "authorship_tag": "ABX9TyNeRP+J1z5PBFtnrnuQG5dD",
      "include_colab_link": true
    },
    "kernelspec": {
      "name": "python3",
      "display_name": "Python 3"
    },
    "language_info": {
      "name": "python"
    }
  },
  "cells": [
    {
      "cell_type": "markdown",
      "metadata": {
        "id": "view-in-github",
        "colab_type": "text"
      },
      "source": [
        "<a href=\"https://colab.research.google.com/github/Kang-Yoonah/BaekJoon/blob/main/Silver/11399.ipynb\" target=\"_parent\"><img src=\"https://colab.research.google.com/assets/colab-badge.svg\" alt=\"Open In Colab\"/></a>"
      ]
    },
    {
      "cell_type": "code",
      "source": [
        "import sys\n",
        "input = sys.stdin.readline\n",
        "n = int(input())\n",
        "num = list(map(int,input().split()))\n",
        "num.sort()\n",
        "s = total = 0\n",
        "for i in num:\n",
        "    s += i\n",
        "    total += s\n",
        "print(total)"
      ],
      "metadata": {
        "colab": {
          "base_uri": "https://localhost:8080/"
        },
        "id": "815F4RQN1tif",
        "outputId": "f3444248-0723-4ebd-88ed-75023e699288"
      },
      "execution_count": 9,
      "outputs": [
        {
          "output_type": "stream",
          "name": "stdout",
          "text": [
            "5\n",
            "3 1 4 3 2\n",
            "32\n"
          ]
        }
      ]
    },
    {
      "cell_type": "code",
      "execution_count": 8,
      "metadata": {
        "colab": {
          "base_uri": "https://localhost:8080/"
        },
        "id": "J9QpUXoGzAmv",
        "outputId": "d273690a-6d7d-41f8-882e-6edb5341ce56"
      },
      "outputs": [
        {
          "output_type": "stream",
          "name": "stdout",
          "text": [
            "5\n",
            "3 1 4 3 2\n",
            "32\n"
          ]
        }
      ],
      "source": [
        "import sys\n",
        "input = sys.stdin.readline\n",
        "n = int(input())\n",
        "num = list(map(int,input().split()))\n",
        "num.sort()\n",
        "s = 0\n",
        "for _ in range(n):\n",
        "    s += sum(num)\n",
        "    num.pop()\n",
        "print(s)"
      ]
    }
  ]
}