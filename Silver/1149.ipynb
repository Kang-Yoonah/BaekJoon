{
  "nbformat": 4,
  "nbformat_minor": 0,
  "metadata": {
    "colab": {
      "provenance": [],
      "collapsed_sections": [],
      "authorship_tag": "ABX9TyMp2QmJUTNCFEBgBDwXF5bm",
      "include_colab_link": true
    },
    "kernelspec": {
      "name": "python3",
      "display_name": "Python 3"
    },
    "language_info": {
      "name": "python"
    }
  },
  "cells": [
    {
      "cell_type": "markdown",
      "metadata": {
        "id": "view-in-github",
        "colab_type": "text"
      },
      "source": [
        "<a href=\"https://colab.research.google.com/github/Kang-Yoonah/BaekJoon/blob/main/Silver/1149.ipynb\" target=\"_parent\"><img src=\"https://colab.research.google.com/assets/colab-badge.svg\" alt=\"Open In Colab\"/></a>"
      ]
    },
    {
      "cell_type": "code",
      "execution_count": 1,
      "metadata": {
        "colab": {
          "base_uri": "https://localhost:8080/"
        },
        "id": "e4VZ6wSCxJ7Z",
        "outputId": "74438d1d-0150-4c0a-c7b4-b179c3d5d909"
      },
      "outputs": [
        {
          "output_type": "stream",
          "name": "stdout",
          "text": [
            "3\n",
            "26 40 83\n",
            "49 60 57\n",
            "13 89 99\n",
            "96\n"
          ]
        }
      ],
      "source": [
        "N = int(input())\n",
        "house = [list(map(int,input().split())) for _ in range(N)]\n",
        "dp = [[0]*3 for _ in range(N+1)]\n",
        "\n",
        "for i in range(1,N+1):\n",
        "    dp[i][0] = min(dp[i-1][1], dp[i-1][2]) + house[i-1][0]\n",
        "    dp[i][1] = min(dp[i-1][0], dp[i-1][2]) + house[i-1][1]\n",
        "    dp[i][2] = min(dp[i-1][0], dp[i-1][1]) + house[i-1][2]\n",
        "print(min(dp[-1]))"
      ]
    }
  ]
}