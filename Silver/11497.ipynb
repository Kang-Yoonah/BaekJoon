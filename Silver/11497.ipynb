{
  "nbformat": 4,
  "nbformat_minor": 0,
  "metadata": {
    "colab": {
      "provenance": [],
      "authorship_tag": "ABX9TyPe9NKcwLKhBtUnm7RiL9Se",
      "include_colab_link": true
    },
    "kernelspec": {
      "name": "python3",
      "display_name": "Python 3"
    },
    "language_info": {
      "name": "python"
    }
  },
  "cells": [
    {
      "cell_type": "markdown",
      "metadata": {
        "id": "view-in-github",
        "colab_type": "text"
      },
      "source": [
        "<a href=\"https://colab.research.google.com/github/Kang-Yoonah/BaekJoon/blob/main/Silver/11497.ipynb\" target=\"_parent\"><img src=\"https://colab.research.google.com/assets/colab-badge.svg\" alt=\"Open In Colab\"/></a>"
      ]
    },
    {
      "cell_type": "code",
      "source": [
        "def sol(T):\n",
        "    for _ in range(T):\n",
        "        N = int(input())\n",
        "        num = sorted(list(map(int,input().split())))\n",
        "        \n",
        "        ans = [0]*N\n",
        "        N -= 1\n",
        "        n = N//2\n",
        "        for i in range(n+1):\n",
        "            ans[i] = num[2*i]\n",
        "            if N%2 != 0 or i != n:\n",
        "                ans[N-i] = num[2*i+1]\n",
        "        \n",
        "        Ans = ans[-1]-ans[0]\n",
        "        for i in range(N):\n",
        "            Ans = max(Ans, abs(ans[i]-ans[i+1]))\n",
        "        print(Ans)\n",
        "sol(int(input()))"
      ],
      "metadata": {
        "colab": {
          "base_uri": "https://localhost:8080/"
        },
        "id": "V5Behma77t2H",
        "outputId": "4e20ad1c-bc8d-44e3-fad8-df8ddb8e882a"
      },
      "execution_count": null,
      "outputs": [
        {
          "output_type": "stream",
          "name": "stdout",
          "text": [
            "3\n",
            "7\n",
            "13 10 12 11 10 11 12\n",
            "1\n",
            "5\n",
            "2 4 5 7 9\n",
            "4\n",
            "8\n",
            "6 6 6 6 6 6 6 6\n",
            "0\n"
          ]
        }
      ]
    }
  ]
}