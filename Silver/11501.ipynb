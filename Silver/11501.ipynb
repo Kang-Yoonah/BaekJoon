{
  "nbformat": 4,
  "nbformat_minor": 0,
  "metadata": {
    "colab": {
      "provenance": [],
      "authorship_tag": "ABX9TyPHv+RabePPgRrvdjcpDzdn",
      "include_colab_link": true
    },
    "kernelspec": {
      "name": "python3",
      "display_name": "Python 3"
    },
    "language_info": {
      "name": "python"
    }
  },
  "cells": [
    {
      "cell_type": "markdown",
      "metadata": {
        "id": "view-in-github",
        "colab_type": "text"
      },
      "source": [
        "<a href=\"https://colab.research.google.com/github/Kang-Yoonah/BaekJoon/blob/main/Silver/11501.ipynb\" target=\"_parent\"><img src=\"https://colab.research.google.com/assets/colab-badge.svg\" alt=\"Open In Colab\"/></a>"
      ]
    },
    {
      "cell_type": "code",
      "source": [
        "T = int(input())\n",
        "for _ in range(T):\n",
        "    N = int(input())\n",
        "    pri = tuple(map(int,input().split()))\n",
        "\n",
        "    ans = m = 0\n",
        "    for i in range(N-1, -1, -1):\n",
        "        if (pri[i] > m):\n",
        "            m = pri[i]\n",
        "        else:\n",
        "            ans += m-pri[i]\n",
        "    print(ans)"
      ],
      "metadata": {
        "id": "t96fSHvxZwQk"
      },
      "execution_count": null,
      "outputs": []
    }
  ]
}