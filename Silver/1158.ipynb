{
  "nbformat": 4,
  "nbformat_minor": 0,
  "metadata": {
    "colab": {
      "provenance": [],
      "authorship_tag": "ABX9TyPros/E2ffLarcSlWJzfu4P",
      "include_colab_link": true
    },
    "kernelspec": {
      "name": "python3",
      "display_name": "Python 3"
    },
    "language_info": {
      "name": "python"
    }
  },
  "cells": [
    {
      "cell_type": "markdown",
      "metadata": {
        "id": "view-in-github",
        "colab_type": "text"
      },
      "source": [
        "<a href=\"https://colab.research.google.com/github/Kang-Yoonah/BaekJoon/blob/main/Silver/1158.ipynb\" target=\"_parent\"><img src=\"https://colab.research.google.com/assets/colab-badge.svg\" alt=\"Open In Colab\"/></a>"
      ]
    },
    {
      "cell_type": "code",
      "execution_count": 4,
      "metadata": {
        "colab": {
          "base_uri": "https://localhost:8080/"
        },
        "id": "2SRYv_ZVZQsG",
        "outputId": "ef08d77c-e01d-4784-cf90-a16f45ea8185"
      },
      "outputs": [
        {
          "output_type": "stream",
          "name": "stdout",
          "text": [
            "7 3\n",
            "<3, 6, 2, 7, 5, 1, 4>\n"
          ]
        }
      ],
      "source": [
        "from collections import deque\n",
        "N, K = map(int,input().split())\n",
        "\n",
        "ans = []\n",
        "circle = deque(range(1,N+1))\n",
        "while len(circle) != 0:\n",
        "    circle.rotate(-K+1)\n",
        "    ans.append(str(circle.popleft()))\n",
        "print('<'+', '.join(ans)+'>')"
      ]
    },
    {
      "cell_type": "markdown",
      "source": [
        "- rotate(x)\n",
        "    - x < 0 : x만큼 원소를 왼쪽으로 이동시킨다.\n",
        "    - x > 0 : x만큼 원소를 오른쪽으로 이동시킨다.\n",
        "- pop(a)\n",
        "    - a번째 원소를 제거한다."
      ],
      "metadata": {
        "id": "My0mSXhAmqW5"
      }
    }
  ]
}