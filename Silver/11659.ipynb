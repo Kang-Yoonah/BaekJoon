{
  "nbformat": 4,
  "nbformat_minor": 0,
  "metadata": {
    "colab": {
      "name": "11659.ipynb",
      "provenance": [],
      "authorship_tag": "ABX9TyPKr024vAf6n2L1Ju4rfi3i",
      "include_colab_link": true
    },
    "kernelspec": {
      "name": "python3",
      "display_name": "Python 3"
    },
    "language_info": {
      "name": "python"
    }
  },
  "cells": [
    {
      "cell_type": "markdown",
      "metadata": {
        "id": "view-in-github",
        "colab_type": "text"
      },
      "source": [
        "<a href=\"https://colab.research.google.com/github/Kang-Yoonah/BaekJoon/blob/main/Silver/11659.ipynb\" target=\"_parent\"><img src=\"https://colab.research.google.com/assets/colab-badge.svg\" alt=\"Open In Colab\"/></a>"
      ]
    },
    {
      "cell_type": "code",
      "source": [
        "import sys\n",
        "input = sys.stdin.readline\n",
        "\n",
        "def cal_sum(sum, ind, sum_ind):\n",
        "    while ind > sum_ind:\n",
        "        sum[sum_ind] += sum[sum_ind-1]\n",
        "        sum_ind += 1\n",
        "    return sum, sum_ind\n",
        "\n",
        "N,M = map(int, input().split())\n",
        "num = list(map(int, input().split())) + [0]\n",
        "sum_ind = 1\n",
        "for _ in range(M):\n",
        "    i, j = map(int,input().split())\n",
        "    num ,sum_ind = cal_sum(num,j,sum_ind)\n",
        "    print(num[j-1] - num[i-2])"
      ],
      "metadata": {
        "id": "sNeM_qGtkW0A"
      },
      "execution_count": null,
      "outputs": []
    },
    {
      "cell_type": "code",
      "source": [
        "def cal_sum(sum, ind, sum_ind):\n",
        "    while ind > sum_ind:\n",
        "        sum[sum_ind] += sum[sum_ind-1]\n",
        "        sum_ind += 1\n",
        "    return sum, sum_ind\n",
        "\n",
        "N,M = map(int, input().split())\n",
        "num = list(map(int, input().split())) + [0]\n",
        "sum_ind = 1\n",
        "for _ in range(M):\n",
        "    i, j = map(int,input().split())\n",
        "    num ,sum_ind = cal_sum(num,j,sum_ind)\n",
        "    print(num[j-1] - num[i-2])"
      ],
      "metadata": {
        "colab": {
          "base_uri": "https://localhost:8080/"
        },
        "id": "_MZ6svunN3gt",
        "outputId": "68067f85-803e-4936-fd86-827aed3e7634"
      },
      "execution_count": 15,
      "outputs": [
        {
          "output_type": "stream",
          "name": "stdout",
          "text": [
            "5 3\n",
            "5 4 3 2 1\n",
            "1 3\n",
            "12\n",
            "2 4\n",
            "9\n",
            "5 5\n",
            "1\n"
          ]
        }
      ]
    }
  ]
}