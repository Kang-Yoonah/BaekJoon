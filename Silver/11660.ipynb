{
  "nbformat": 4,
  "nbformat_minor": 0,
  "metadata": {
    "colab": {
      "name": "11660.ipynb",
      "provenance": [],
      "authorship_tag": "ABX9TyN8IcfW07K9s68a0kMjXrES",
      "include_colab_link": true
    },
    "kernelspec": {
      "name": "python3",
      "display_name": "Python 3"
    },
    "language_info": {
      "name": "python"
    }
  },
  "cells": [
    {
      "cell_type": "markdown",
      "metadata": {
        "id": "view-in-github",
        "colab_type": "text"
      },
      "source": [
        "<a href=\"https://colab.research.google.com/github/Kang-Yoonah/BaekJoon/blob/main/Silver/11660.ipynb\" target=\"_parent\"><img src=\"https://colab.research.google.com/assets/colab-badge.svg\" alt=\"Open In Colab\"/></a>"
      ]
    },
    {
      "cell_type": "code",
      "execution_count": 1,
      "metadata": {
        "colab": {
          "base_uri": "https://localhost:8080/"
        },
        "id": "FyxHJ57Cgxqb",
        "outputId": "1996e911-4c31-41a8-8a0c-f396f42080f9"
      },
      "outputs": [
        {
          "output_type": "stream",
          "name": "stdout",
          "text": [
            "4 3\n",
            "1 2 3 4\n",
            "4 5 6 7\n",
            "5 6 7 8\n",
            "6 7 8 9\n",
            "2 2 3 4\n",
            "39\n",
            "3 4 3 4\n",
            "8\n",
            "1 1 4 4\n",
            "88\n"
          ]
        }
      ],
      "source": [
        "def cal():\n",
        "    N, M = map(int,input().split())\n",
        "    num = [[0]*N for _ in range(N+1)]\n",
        "    for i in range(1,N+1):\n",
        "        array = list(map(int,input().split()))\n",
        "        for j in range(N):\n",
        "            num[i][j] = num[i-1][j] + array[j]\n",
        "    for _ in range(M):\n",
        "        x1,y1,x2,y2 = map(int,input().split())\n",
        "        print(sum(num[x2][y1-1:y2]) - sum(num[x1-1][y1-1:y2]))\n",
        "cal()"
      ]
    }
  ]
}