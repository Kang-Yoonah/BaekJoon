{
  "nbformat": 4,
  "nbformat_minor": 0,
  "metadata": {
    "colab": {
      "provenance": [],
      "authorship_tag": "ABX9TyN7SLXrUppWT/2yaoyUuhlr",
      "include_colab_link": true
    },
    "kernelspec": {
      "name": "python3",
      "display_name": "Python 3"
    },
    "language_info": {
      "name": "python"
    }
  },
  "cells": [
    {
      "cell_type": "markdown",
      "metadata": {
        "id": "view-in-github",
        "colab_type": "text"
      },
      "source": [
        "<a href=\"https://colab.research.google.com/github/Kang-Yoonah/BaekJoon/blob/main/Silver/11722.ipynb\" target=\"_parent\"><img src=\"https://colab.research.google.com/assets/colab-badge.svg\" alt=\"Open In Colab\"/></a>"
      ]
    },
    {
      "cell_type": "code",
      "source": [
        "def sol(_):\n",
        "    Sq = list(map(int,input().split()))\n",
        "    St = [Sq[0]]\n",
        "    for n in Sq[1:]:\n",
        "        if St[-1] > n:\n",
        "            St.append(n)\n",
        "        else:\n",
        "            for i in range(len(St)):\n",
        "                if n >= St[i]:\n",
        "                    St[i] = n\n",
        "                    break\n",
        "    return len(St)\n",
        "\n",
        "print(sol(input()))"
      ],
      "metadata": {
        "colab": {
          "base_uri": "https://localhost:8080/"
        },
        "id": "V5Behma77t2H",
        "outputId": "8f12818b-c82e-4419-df40-cfc4d02ca599"
      },
      "execution_count": 1,
      "outputs": [
        {
          "output_type": "stream",
          "name": "stdout",
          "text": [
            "6\n",
            "10 30 10 20 20 10\n",
            "3\n"
          ]
        }
      ]
    }
  ]
}