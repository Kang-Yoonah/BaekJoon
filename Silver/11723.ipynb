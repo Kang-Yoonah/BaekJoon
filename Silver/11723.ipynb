{
  "nbformat": 4,
  "nbformat_minor": 0,
  "metadata": {
    "colab": {
      "provenance": [],
      "authorship_tag": "ABX9TyNDDXUjWUTeD+Gk407IBqKp",
      "include_colab_link": true
    },
    "kernelspec": {
      "name": "python3",
      "display_name": "Python 3"
    },
    "language_info": {
      "name": "python"
    }
  },
  "cells": [
    {
      "cell_type": "markdown",
      "metadata": {
        "id": "view-in-github",
        "colab_type": "text"
      },
      "source": [
        "<a href=\"https://colab.research.google.com/github/Kang-Yoonah/BaekJoon/blob/main/Silver/11723.ipynb\" target=\"_parent\"><img src=\"https://colab.research.google.com/assets/colab-badge.svg\" alt=\"Open In Colab\"/></a>"
      ]
    },
    {
      "cell_type": "code",
      "execution_count": null,
      "metadata": {
        "id": "ui4aYnlDa6UH"
      },
      "outputs": [],
      "source": [
        "num = set()\n",
        "for _ in range(int(input())):\n",
        "    S = list(input().split())\n",
        "    if S[0] != 'all' and S[0] != 'empty':\n",
        "        S[1] = int(S[1])\n",
        "    if S[0] == 'add':\n",
        "        num.add(S[1])\n",
        "    elif S[0] == 'remove':\n",
        "        num.discard(S[1])\n",
        "    elif S[0] == 'check':\n",
        "        print(1 if S[1] in num else 0)\n",
        "    elif S[0] == 'toggle':\n",
        "        if S[1] in num:\n",
        "            num.remove(S[1])\n",
        "        else:\n",
        "            num.add(S[1])\n",
        "    elif S[0] == 'all':\n",
        "        num = set(range(1,21))\n",
        "    else:\n",
        "        num = set()"
      ]
    }
  ]
}