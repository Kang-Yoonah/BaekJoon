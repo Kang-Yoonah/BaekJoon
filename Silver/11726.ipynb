{
  "nbformat": 4,
  "nbformat_minor": 0,
  "metadata": {
    "colab": {
      "name": "11726.ipynb",
      "provenance": [],
      "authorship_tag": "ABX9TyOxa2v/iRN8UidOR8KC3+J8",
      "include_colab_link": true
    },
    "kernelspec": {
      "name": "python3",
      "display_name": "Python 3"
    },
    "language_info": {
      "name": "python"
    }
  },
  "cells": [
    {
      "cell_type": "markdown",
      "metadata": {
        "id": "view-in-github",
        "colab_type": "text"
      },
      "source": [
        "<a href=\"https://colab.research.google.com/github/Kang-Yoonah/BaekJoon/blob/main/Silver/11726.ipynb\" target=\"_parent\"><img src=\"https://colab.research.google.com/assets/colab-badge.svg\" alt=\"Open In Colab\"/></a>"
      ]
    },
    {
      "cell_type": "code",
      "execution_count": 3,
      "metadata": {
        "colab": {
          "base_uri": "https://localhost:8080/"
        },
        "id": "dMximsW5_Cl-",
        "outputId": "38375a3d-6120-4b77-c5d2-ff446c29c2a4"
      },
      "outputs": [
        {
          "output_type": "stream",
          "name": "stdout",
          "text": [
            "9\n",
            "55\n"
          ]
        }
      ],
      "source": [
        "n = int(input())\n",
        "dp = [0,1,2] + [0 for _ in range(n-2)]\n",
        "for i in range(3,n+1):\n",
        "    dp[i] = (dp[i-1]+dp[i-2])%10007\n",
        "\n",
        "print(dp[n])"
      ]
    }
  ]
}