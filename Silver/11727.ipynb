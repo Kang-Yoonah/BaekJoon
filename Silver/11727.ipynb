{
  "nbformat": 4,
  "nbformat_minor": 0,
  "metadata": {
    "colab": {
      "provenance": [],
      "authorship_tag": "ABX9TyOxueHGw31Bzc1BpUl/bk78",
      "include_colab_link": true
    },
    "kernelspec": {
      "name": "python3",
      "display_name": "Python 3"
    },
    "language_info": {
      "name": "python"
    }
  },
  "cells": [
    {
      "cell_type": "markdown",
      "metadata": {
        "id": "view-in-github",
        "colab_type": "text"
      },
      "source": [
        "<a href=\"https://colab.research.google.com/github/Kang-Yoonah/BaekJoon/blob/main/Silver/11727.ipynb\" target=\"_parent\"><img src=\"https://colab.research.google.com/assets/colab-badge.svg\" alt=\"Open In Colab\"/></a>"
      ]
    },
    {
      "cell_type": "code",
      "execution_count": 1,
      "metadata": {
        "colab": {
          "base_uri": "https://localhost:8080/"
        },
        "id": "hT51-JrsL2v4",
        "outputId": "11a119c9-8cee-4344-b6d7-899130d4ae2e"
      },
      "outputs": [
        {
          "output_type": "stream",
          "name": "stdout",
          "text": [
            "12\n",
            "2731\n"
          ]
        }
      ],
      "source": [
        "n = int(input())\n",
        "dp, ind = [1, 3], 2\n",
        "\n",
        "while n > len(dp):\n",
        "    dp.append((dp[ind-1]+(dp[ind-2])*2)%10007)\n",
        "    ind += 1\n",
        "print(dp[n-1])"
      ]
    }
  ]
}