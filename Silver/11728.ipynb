{
  "nbformat": 4,
  "nbformat_minor": 0,
  "metadata": {
    "colab": {
      "name": "11728.ipynb",
      "provenance": [],
      "authorship_tag": "ABX9TyOeQ8F7/U+X94YjBiITtaNM",
      "include_colab_link": true
    },
    "kernelspec": {
      "name": "python3",
      "display_name": "Python 3"
    },
    "language_info": {
      "name": "python"
    }
  },
  "cells": [
    {
      "cell_type": "markdown",
      "metadata": {
        "id": "view-in-github",
        "colab_type": "text"
      },
      "source": [
        "<a href=\"https://colab.research.google.com/github/Kang-Yoonah/BaekJoon/blob/main/Silver/11728.ipynb\" target=\"_parent\"><img src=\"https://colab.research.google.com/assets/colab-badge.svg\" alt=\"Open In Colab\"/></a>"
      ]
    },
    {
      "cell_type": "code",
      "execution_count": 1,
      "metadata": {
        "colab": {
          "base_uri": "https://localhost:8080/"
        },
        "id": "DqMvS2Ao4psZ",
        "outputId": "a0ae31ef-2f56-4251-8a86-76164a738f4d"
      },
      "outputs": [
        {
          "output_type": "stream",
          "name": "stdout",
          "text": [
            "4 3\n",
            "2 3 5 9\n",
            "1 4 7\n",
            "1 2 3 4 5 7 9\n"
          ]
        }
      ],
      "source": [
        "_, _ = map(int, input().split())\n",
        "Number = []\n",
        "for _ in range(2):\n",
        "    Number += map(int, input().split())\n",
        "\n",
        "Number.sort()\n",
        "print(*Number)"
      ]
    }
  ]
}