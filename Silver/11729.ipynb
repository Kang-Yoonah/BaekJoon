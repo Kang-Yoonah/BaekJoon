{
  "nbformat": 4,
  "nbformat_minor": 0,
  "metadata": {
    "colab": {
      "provenance": [],
      "authorship_tag": "ABX9TyNZWNf+t9gwGwMEQzmQojry",
      "include_colab_link": true
    },
    "kernelspec": {
      "name": "python3",
      "display_name": "Python 3"
    },
    "language_info": {
      "name": "python"
    }
  },
  "cells": [
    {
      "cell_type": "markdown",
      "metadata": {
        "id": "view-in-github",
        "colab_type": "text"
      },
      "source": [
        "<a href=\"https://colab.research.google.com/github/Kang-Yoonah/BaekJoon/blob/main/Silver/11729.ipynb\" target=\"_parent\"><img src=\"https://colab.research.google.com/assets/colab-badge.svg\" alt=\"Open In Colab\"/></a>"
      ]
    },
    {
      "cell_type": "code",
      "execution_count": 2,
      "metadata": {
        "colab": {
          "base_uri": "https://localhost:8080/"
        },
        "id": "b_JdWuMJkkbC",
        "outputId": "1ad63122-39ce-4d8b-ff25-b540457641e2"
      },
      "outputs": [
        {
          "output_type": "stream",
          "name": "stdout",
          "text": [
            "4\n",
            "15\n",
            "1 2\n",
            "1 3\n",
            "2 3\n",
            "1 2\n",
            "3 1\n",
            "3 2\n",
            "1 2\n",
            "1 3\n",
            "2 3\n",
            "2 1\n",
            "3 1\n",
            "2 3\n",
            "1 2\n",
            "1 3\n",
            "2 3\n"
          ]
        }
      ],
      "source": [
        "N = int(input())\n",
        "print(2**N-1)\n",
        "\n",
        "def Hanoi(n, fp, tp):\n",
        "    if n == 1:\n",
        "        print(fp, tp)\n",
        "    else:\n",
        "        mp = 6-fp-tp\n",
        "        Hanoi(n-1, fp, mp)\n",
        "        print(fp, tp)\n",
        "        Hanoi(n-1, mp, tp)\n",
        "        \n",
        "Hanoi(N, 1, 3)"
      ]
    }
  ]
}