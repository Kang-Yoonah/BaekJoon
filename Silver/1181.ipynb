{
  "nbformat": 4,
  "nbformat_minor": 0,
  "metadata": {
    "colab": {
      "name": "1181.ipynb",
      "provenance": [],
      "authorship_tag": "ABX9TyOlc4Y1sI4ZnufOZDY0HPTp",
      "include_colab_link": true
    },
    "kernelspec": {
      "name": "python3",
      "display_name": "Python 3"
    },
    "language_info": {
      "name": "python"
    }
  },
  "cells": [
    {
      "cell_type": "markdown",
      "metadata": {
        "id": "view-in-github",
        "colab_type": "text"
      },
      "source": [
        "<a href=\"https://colab.research.google.com/github/Kang-Yoonah/BaekJoon/blob/main/Silver/1181.ipynb\" target=\"_parent\"><img src=\"https://colab.research.google.com/assets/colab-badge.svg\" alt=\"Open In Colab\"/></a>"
      ]
    },
    {
      "cell_type": "code",
      "execution_count": 4,
      "metadata": {
        "colab": {
          "base_uri": "https://localhost:8080/"
        },
        "id": "iPkXEhVLxGnv",
        "outputId": "5adf7f58-823c-41a4-83ac-6995b24b9835"
      },
      "outputs": [
        {
          "output_type": "stream",
          "name": "stdout",
          "text": [
            "13\n",
            "but\n",
            "i\n",
            "wont\n",
            "hesitate\n",
            "no\n",
            "more\n",
            "no\n",
            "more\n",
            "it\n",
            "cannot\n",
            "wait\n",
            "im\n",
            "yours\n",
            "i\n",
            "im\n",
            "it\n",
            "no\n",
            "but\n",
            "more\n",
            "wait\n",
            "wont\n",
            "yours\n",
            "cannot\n",
            "hesitate\n"
          ]
        }
      ],
      "source": [
        "# import sys\n",
        "# input = sys.stdin.readline\n",
        "N = int(input())\n",
        "word = {input().strip() for _ in range(N)}\n",
        "new = [list() for _ in range(51)]\n",
        "for i in word:\n",
        "    ind = len(i)\n",
        "    new[ind].append(i)\n",
        "for j in new:\n",
        "    if not j:\n",
        "        continue\n",
        "    j.sort()\n",
        "    for w in j:\n",
        "        print(w)"
      ]
    },
    {
      "cell_type": "markdown",
      "source": [
        "# input()대신 sys.stdin.readline()을 사용하는 이유는?\n",
        "\n",
        "단순히 몇 줄 입력받는 문제들과 다르게, 반복문으로 여러 줄을 연속적으로 입력받아야 하는 문제의 경우   \n",
        "input()으로 데이터를 입력받으면 시간초과로 오답판정을 받는 일이 발생할 수 있다.   \n",
        "따라서 입력을 더욱 빠르게 받을 수 있도록 sys 라이브러리에 정의되어 있는 sys.stdin.readline()함수를 이용한다.\n",
        "\n",
        "```\n",
        "import sys\n",
        "input = sys.stdin.readline\n",
        "```\n",
        "\n",
        "sys.stdin.readline은 데이터를 한 줄 단위로 입력받기 때문에, 개행문자가 같이 입력받아진다.   \n",
        "따라서 연속적으로 값을 받을 때, 다음 입력 값에 개행문자가 들어갈 수 있으므로 이를 제거해주어야 한다.   \n",
        "이때, strip()을 사용한다.\n",
        "\n",
        "\n",
        "```\n",
        "input().strip()\n",
        "int(input())\n",
        "```\n",
        "\n",
        "하지만, 처음부터 입력을 받음과 동시에 int형으로 형변환을 해주면 strip()을 붙여주지 않아도 개행문자가 제거된다.   \n",
        "따라서 int형으로 바로 변환해줄 때에는 개행문자를 고려하지 않아도 된다.\n"
      ],
      "metadata": {
        "id": "IHK_EmBmK5e7"
      }
    },
    {
      "cell_type": "code",
      "source": [
        "N = int(input())\n",
        "A = list(set(input().strip() for _ in range(N)))\n",
        "A.sort(key = lambda x : (len(x),str(x)))\n",
        "\n",
        "for a in A:\n",
        "    print(a)"
      ],
      "metadata": {
        "colab": {
          "base_uri": "https://localhost:8080/"
        },
        "id": "P4v1yU6r1w11",
        "outputId": "6da0f9e3-dfc6-480d-f5fe-7ca73d6c56d4"
      },
      "execution_count": 3,
      "outputs": [
        {
          "output_type": "stream",
          "name": "stdout",
          "text": [
            "13\n",
            "but\n",
            "i\n",
            "wont\n",
            "hesitate\n",
            "no\n",
            "more\n",
            "no\n",
            "more\n",
            "it\n",
            "cannot\n",
            "wait\n",
            "im\n",
            "yours\n",
            "i\n",
            "im\n",
            "it\n",
            "no\n",
            "but\n",
            "more\n",
            "wait\n",
            "wont\n",
            "yours\n",
            "cannot\n",
            "hesitate\n"
          ]
        }
      ]
    }
  ]
}