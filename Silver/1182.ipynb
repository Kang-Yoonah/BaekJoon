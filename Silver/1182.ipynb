{
  "nbformat": 4,
  "nbformat_minor": 0,
  "metadata": {
    "colab": {
      "name": "1182.ipynb",
      "provenance": [],
      "authorship_tag": "ABX9TyPvCg/Q2fz55FDqUOApxuUp",
      "include_colab_link": true
    },
    "kernelspec": {
      "name": "python3",
      "display_name": "Python 3"
    },
    "language_info": {
      "name": "python"
    }
  },
  "cells": [
    {
      "cell_type": "markdown",
      "metadata": {
        "id": "view-in-github",
        "colab_type": "text"
      },
      "source": [
        "<a href=\"https://colab.research.google.com/github/Kang-Yoonah/BaekJoon/blob/main/Silver/1182.ipynb\" target=\"_parent\"><img src=\"https://colab.research.google.com/assets/colab-badge.svg\" alt=\"Open In Colab\"/></a>"
      ]
    },
    {
      "cell_type": "code",
      "execution_count": 6,
      "metadata": {
        "colab": {
          "base_uri": "https://localhost:8080/"
        },
        "id": "pCgnOmy-5Aww",
        "outputId": "5c4b5680-3e6c-486b-fb3c-2f7df7a51d6a"
      },
      "outputs": [
        {
          "output_type": "stream",
          "name": "stdout",
          "text": [
            "순열\n",
            "[('A', 'B'), ('A', 'C'), ('B', 'A'), ('B', 'C'), ('C', 'A'), ('C', 'B')]\n",
            "\n",
            "조합\n",
            "[('A', 'B'), ('A', 'C'), ('B', 'C')]\n"
          ]
        }
      ],
      "source": [
        "from itertools import permutations, combinations\n",
        "\n",
        "arr = ['A', 'B', 'C']\n",
        "nPr = permutations(arr, 2)\n",
        "print('순열')\n",
        "print(list(nPr))\n",
        "print()\n",
        "\n",
        "print('조합')\n",
        "nCr = combinations(arr, 2)\n",
        "print(list(nCr))"
      ]
    },
    {
      "cell_type": "code",
      "source": [
        "from itertools import combinations\n",
        "\n",
        "N, S = map(int,input().split())\n",
        "seq = list(map(int, input().split()))\n",
        "ans = 0\n",
        "\n",
        "for i in range(1,N+1):\n",
        "    for list_i in combinations(seq,i):\n",
        "        if sum(list_i) == S:\n",
        "            ans +=1\n",
        "\n",
        "print(ans)"
      ],
      "metadata": {
        "colab": {
          "base_uri": "https://localhost:8080/"
        },
        "id": "ic-goDgh6EFL",
        "outputId": "4b5d3c72-d1fb-433b-8770-61e4a0426e2c"
      },
      "execution_count": 1,
      "outputs": [
        {
          "output_type": "stream",
          "name": "stdout",
          "text": [
            "5 0\n",
            "-7 -3 -2 5 8\n",
            "1\n"
          ]
        }
      ]
    }
  ]
}