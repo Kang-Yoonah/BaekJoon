{
  "nbformat": 4,
  "nbformat_minor": 0,
  "metadata": {
    "colab": {
      "provenance": [],
      "authorship_tag": "ABX9TyMF4e0kQ8j5X5hviX0Gf+R0",
      "include_colab_link": true
    },
    "kernelspec": {
      "name": "python3",
      "display_name": "Python 3"
    },
    "language_info": {
      "name": "python"
    }
  },
  "cells": [
    {
      "cell_type": "markdown",
      "metadata": {
        "id": "view-in-github",
        "colab_type": "text"
      },
      "source": [
        "<a href=\"https://colab.research.google.com/github/Kang-Yoonah/BaekJoon/blob/main/Silver/11866.ipynb\" target=\"_parent\"><img src=\"https://colab.research.google.com/assets/colab-badge.svg\" alt=\"Open In Colab\"/></a>"
      ]
    },
    {
      "cell_type": "code",
      "execution_count": 1,
      "metadata": {
        "colab": {
          "base_uri": "https://localhost:8080/"
        },
        "id": "ob416fI3EpQW",
        "outputId": "d8044fb0-cc74-40c2-d3bc-d76d76dacc61"
      },
      "outputs": [
        {
          "output_type": "stream",
          "name": "stdout",
          "text": [
            "7 3\n",
            "<3, 6, 2, 7, 5, 1, 4>\n"
          ]
        }
      ],
      "source": [
        "from collections import deque\n",
        "def sol():\n",
        "    N, K = map(int,input().split())\n",
        "    dq = deque(range(1,N+1))\n",
        "    ans = []\n",
        "    while dq:\n",
        "        dq.rotate(-K+1)\n",
        "        ans.append(str(dq.popleft()))\n",
        "    print('<',', '.join(ans),'>', sep='')\n",
        "sol()"
      ]
    }
  ]
}