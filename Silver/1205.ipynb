{
  "nbformat": 4,
  "nbformat_minor": 0,
  "metadata": {
    "colab": {
      "provenance": [],
      "authorship_tag": "ABX9TyMrcJawZCK7epuqqekCoxUl",
      "include_colab_link": true
    },
    "kernelspec": {
      "name": "python3",
      "display_name": "Python 3"
    },
    "language_info": {
      "name": "python"
    }
  },
  "cells": [
    {
      "cell_type": "markdown",
      "metadata": {
        "id": "view-in-github",
        "colab_type": "text"
      },
      "source": [
        "<a href=\"https://colab.research.google.com/github/Kang-Yoonah/BaekJoon/blob/main/Silver/1205.ipynb\" target=\"_parent\"><img src=\"https://colab.research.google.com/assets/colab-badge.svg\" alt=\"Open In Colab\"/></a>"
      ]
    },
    {
      "cell_type": "code",
      "execution_count": 7,
      "metadata": {
        "colab": {
          "base_uri": "https://localhost:8080/"
        },
        "id": "UrdhgBOjqupo",
        "outputId": "b79d3e81-5ffb-4005-aa67-c226314b8eb5"
      },
      "outputs": [
        {
          "output_type": "stream",
          "name": "stdout",
          "text": [
            "10 0 11\n",
            "10 9 8 7 6 5 4 3 2 1\n",
            "11\n"
          ]
        }
      ],
      "source": [
        "def sol():\n",
        "    N, S, P = map(int,input().split())\n",
        "    if N:\n",
        "        S_list = list(map(int,input().split()))\n",
        "        S_list = (S_list+(P-len(S_list))*[-1])[:P]\n",
        "        ans, j = P+1, P-1\n",
        "        while j > -1 and S_list[j] < S:\n",
        "            ans -= 1\n",
        "            j -= 1\n",
        "        if ans == P+1:\n",
        "            print(-1)\n",
        "        else:\n",
        "            print(S_list.index(S)+1 if S in set(S_list) else ans)\n",
        "    else:\n",
        "        print(1)\n",
        "\n",
        "sol()"
      ]
    }
  ]
}