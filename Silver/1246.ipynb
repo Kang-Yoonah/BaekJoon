{
  "nbformat": 4,
  "nbformat_minor": 0,
  "metadata": {
    "colab": {
      "provenance": [],
      "authorship_tag": "ABX9TyM8zY5mEEsFwbpANieMLTKZ",
      "include_colab_link": true
    },
    "kernelspec": {
      "name": "python3",
      "display_name": "Python 3"
    },
    "language_info": {
      "name": "python"
    }
  },
  "cells": [
    {
      "cell_type": "markdown",
      "metadata": {
        "id": "view-in-github",
        "colab_type": "text"
      },
      "source": [
        "<a href=\"https://colab.research.google.com/github/Kang-Yoonah/BaekJoon/blob/main/Silver/1246.ipynb\" target=\"_parent\"><img src=\"https://colab.research.google.com/assets/colab-badge.svg\" alt=\"Open In Colab\"/></a>"
      ]
    },
    {
      "cell_type": "code",
      "source": [
        "def sol(Max):\n",
        "    N,M = map(int,input().split())\n",
        "    Customer = sorted([int(input()) for _ in range(M)])\n",
        "    for i in range(1,min(N,M)+1):\n",
        "        if Customer[-i]*i > Max[1]:\n",
        "            Max = [Customer[-i],Customer[-i]*i]\n",
        "    return print(*Max)\n",
        "sol([0,0])"
      ],
      "metadata": {
        "id": "NSoY8HGNgh0q"
      },
      "execution_count": null,
      "outputs": []
    }
  ]
}