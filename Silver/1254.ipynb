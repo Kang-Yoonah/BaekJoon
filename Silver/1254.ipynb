{
  "nbformat": 4,
  "nbformat_minor": 0,
  "metadata": {
    "colab": {
      "provenance": [],
      "authorship_tag": "ABX9TyNGpkaXXl9D5R8fap1rOSSa",
      "include_colab_link": true
    },
    "kernelspec": {
      "name": "python3",
      "display_name": "Python 3"
    },
    "language_info": {
      "name": "python"
    }
  },
  "cells": [
    {
      "cell_type": "markdown",
      "metadata": {
        "id": "view-in-github",
        "colab_type": "text"
      },
      "source": [
        "<a href=\"https://colab.research.google.com/github/Kang-Yoonah/BaekJoon/blob/main/Silver/1254.ipynb\" target=\"_parent\"><img src=\"https://colab.research.google.com/assets/colab-badge.svg\" alt=\"Open In Colab\"/></a>"
      ]
    },
    {
      "cell_type": "code",
      "source": [
        "def sol():\n",
        "    S = input().strip()\n",
        "    S2 = S[::-1]\n",
        "    N, ans = len(S), -1\n",
        "    for i in range(N):\n",
        "        if S[i:] == S2[:N-i]:\n",
        "            ans=i\n",
        "            break\n",
        "    print(ans+N if ans!=-1 else 2*N-1)\n",
        "sol()"
      ],
      "metadata": {
        "colab": {
          "base_uri": "https://localhost:8080/"
        },
        "id": "D3kMctgAoZCr",
        "outputId": "5d7d473a-a5b3-460e-8c56-dd2d4a8756ec"
      },
      "execution_count": 1,
      "outputs": [
        {
          "output_type": "stream",
          "name": "stdout",
          "text": [
            "abdfhdyrbdbsdfghjkllkjhgfds\n",
            "38\n"
          ]
        }
      ]
    }
  ]
}