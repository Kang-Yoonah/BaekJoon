{
  "nbformat": 4,
  "nbformat_minor": 0,
  "metadata": {
    "colab": {
      "provenance": [],
      "authorship_tag": "ABX9TyPzlhhjw8/mBMYngGXwr5AN",
      "include_colab_link": true
    },
    "kernelspec": {
      "name": "python3",
      "display_name": "Python 3"
    },
    "language_info": {
      "name": "python"
    }
  },
  "cells": [
    {
      "cell_type": "markdown",
      "metadata": {
        "id": "view-in-github",
        "colab_type": "text"
      },
      "source": [
        "<a href=\"https://colab.research.google.com/github/Kang-Yoonah/BaekJoon/blob/main/Silver/1263.ipynb\" target=\"_parent\"><img src=\"https://colab.research.google.com/assets/colab-badge.svg\" alt=\"Open In Colab\"/></a>"
      ]
    },
    {
      "cell_type": "code",
      "source": [
        "def sol():\n",
        "    W = [list(map(int,input().split())) for _ in range(int(input()))]\n",
        "    W.sort(key = lambda x: -x[1])\n",
        "    time = W[0][1]\n",
        "    for n,e in W:\n",
        "        time = min(time,e)-n\n",
        "        if time < 0:\n",
        "            return -1\n",
        "    return time\n",
        "            \n",
        "print(sol())"
      ],
      "metadata": {
        "colab": {
          "base_uri": "https://localhost:8080/"
        },
        "id": "V5Behma77t2H",
        "outputId": "8109e5b5-02ef-4893-f41b-d6f2f7b34144"
      },
      "execution_count": 1,
      "outputs": [
        {
          "output_type": "stream",
          "name": "stdout",
          "text": [
            "4\n",
            "3 5\n",
            "8 14\n",
            "5 20\n",
            "1 16\n",
            "2\n"
          ]
        }
      ]
    }
  ]
}