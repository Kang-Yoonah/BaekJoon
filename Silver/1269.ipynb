{
  "nbformat": 4,
  "nbformat_minor": 0,
  "metadata": {
    "colab": {
      "name": "1269.ipynb",
      "provenance": [],
      "authorship_tag": "ABX9TyOETUCqkP8CuZJVyuA+Rys5",
      "include_colab_link": true
    },
    "kernelspec": {
      "name": "python3",
      "display_name": "Python 3"
    },
    "language_info": {
      "name": "python"
    }
  },
  "cells": [
    {
      "cell_type": "markdown",
      "metadata": {
        "id": "view-in-github",
        "colab_type": "text"
      },
      "source": [
        "<a href=\"https://colab.research.google.com/github/Kang-Yoonah/BaekJoon/blob/main/Silver/1269.ipynb\" target=\"_parent\"><img src=\"https://colab.research.google.com/assets/colab-badge.svg\" alt=\"Open In Colab\"/></a>"
      ]
    },
    {
      "cell_type": "code",
      "execution_count": 10,
      "metadata": {
        "colab": {
          "base_uri": "https://localhost:8080/"
        },
        "id": "WzCmoSq0k36E",
        "outputId": "85456f48-95ca-42f4-98c4-002406ca8c91"
      },
      "outputs": [
        {
          "output_type": "stream",
          "name": "stdout",
          "text": [
            "3 5\n",
            "1 2 4\n",
            "2 3 4 5 6\n",
            "4\n"
          ]
        }
      ],
      "source": [
        "_,_ = map(int,input().split())\n",
        "A = set(map(int,input().split()))\n",
        "B = set(map(int,input().split()))\n",
        "print(len(A-B)+len(B-A))"
      ]
    }
  ]
}