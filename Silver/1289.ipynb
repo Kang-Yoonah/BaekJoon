{
  "cells": [
    {
      "cell_type": "markdown",
      "metadata": {
        "id": "view-in-github",
        "colab_type": "text"
      },
      "source": [
        "<a href=\"https://colab.research.google.com/github/Kang-Yoonah/BaekJoon/blob/main/Silver/1289.ipynb\" target=\"_parent\"><img src=\"https://colab.research.google.com/assets/colab-badge.svg\" alt=\"Open In Colab\"/></a>"
      ]
    },
    {
      "cell_type": "code",
      "execution_count": 1,
      "metadata": {
        "colab": {
          "base_uri": "https://localhost:8080/"
        },
        "id": "V5Behma77t2H",
        "outputId": "c64a4208-c6a3-4e87-a8eb-3f42a86eb379"
      },
      "outputs": [
        {
          "output_type": "stream",
          "name": "stdout",
          "text": [
            "9 8\n",
            "CCTGGATTG\n",
            "2 0 1 1\n",
            "0\n"
          ]
        }
      ],
      "source": [
        "def sol(ans):\n",
        "    S,P = map(int,input().split())\n",
        "    DNA = input().rstrip()\n",
        "    SN = list(map(int,input().split()))\n",
        "    ACGT,N = {\"A\":0,\"C\":1,\"G\":2,\"T\":3},[0]*4\n",
        "    for i in range(P):\n",
        "        N[ACGT[DNA[i]]] += 1\n",
        "    for i in range(P,S+1):\n",
        "        for j in range(4):\n",
        "            if N[j] < SN[j]:\n",
        "                ans -= 1\n",
        "                break\n",
        "        ans += 1\n",
        "        if i < S:\n",
        "            N[ACGT[DNA[i-P]]] -= 1\n",
        "            N[ACGT[DNA[i]]] += 1\n",
        "    return ans\n",
        "    \n",
        "\n",
        "print(sol(0))"
      ]
    }
  ],
  "metadata": {
    "colab": {
      "provenance": [],
      "authorship_tag": "ABX9TyMVYwug3j10WKmAq8tN6Gdk",
      "include_colab_link": true
    },
    "kernelspec": {
      "display_name": "Python 3",
      "name": "python3"
    },
    "language_info": {
      "name": "python"
    }
  },
  "nbformat": 4,
  "nbformat_minor": 0
}