{
  "nbformat": 4,
  "nbformat_minor": 0,
  "metadata": {
    "colab": {
      "provenance": [],
      "authorship_tag": "ABX9TyNjo3M4Df8GTXpj4gixl5+O",
      "include_colab_link": true
    },
    "kernelspec": {
      "name": "python3",
      "display_name": "Python 3"
    },
    "language_info": {
      "name": "python"
    }
  },
  "cells": [
    {
      "cell_type": "markdown",
      "metadata": {
        "id": "view-in-github",
        "colab_type": "text"
      },
      "source": [
        "<a href=\"https://colab.research.google.com/github/Kang-Yoonah/BaekJoon/blob/main/Silver/1302.ipynb\" target=\"_parent\"><img src=\"https://colab.research.google.com/assets/colab-badge.svg\" alt=\"Open In Colab\"/></a>"
      ]
    },
    {
      "cell_type": "code",
      "execution_count": 1,
      "metadata": {
        "colab": {
          "base_uri": "https://localhost:8080/"
        },
        "id": "W3O82lTYsb_L",
        "outputId": "fe5f5fc3-e98c-4dd7-828d-0671ec77e70e"
      },
      "outputs": [
        {
          "output_type": "stream",
          "name": "stdout",
          "text": [
            "6\n",
            "b\n",
            "b\n",
            "b\n",
            "a\n",
            "a\n",
            "a\n",
            "a\n"
          ]
        }
      ],
      "source": [
        "def sol(T):\n",
        "    book = {}\n",
        "    for _ in range(T):\n",
        "        name = input().strip()\n",
        "        if name in book:\n",
        "            book[name] += 1\n",
        "        else:\n",
        "            book[name] = 1\n",
        "        \n",
        "    min_, Best = 0, []\n",
        "    for name in book:\n",
        "        num = book[name]   \n",
        "        if num == min_:\n",
        "            Best.append(name)\n",
        "        elif num > min_:\n",
        "            min_ = num\n",
        "            Best = [name]\n",
        "    return print(sorted(Best, key = str)[0])\n",
        "sol(int(input()))"
      ]
    }
  ]
}