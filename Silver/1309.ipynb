{
  "nbformat": 4,
  "nbformat_minor": 0,
  "metadata": {
    "colab": {
      "provenance": [],
      "authorship_tag": "ABX9TyOzPAp+4xw2R5OkN6popokt",
      "include_colab_link": true
    },
    "kernelspec": {
      "name": "python3",
      "display_name": "Python 3"
    },
    "language_info": {
      "name": "python"
    }
  },
  "cells": [
    {
      "cell_type": "markdown",
      "metadata": {
        "id": "view-in-github",
        "colab_type": "text"
      },
      "source": [
        "<a href=\"https://colab.research.google.com/github/Kang-Yoonah/BaekJoon/blob/main/Silver/1309.ipynb\" target=\"_parent\"><img src=\"https://colab.research.google.com/assets/colab-badge.svg\" alt=\"Open In Colab\"/></a>"
      ]
    },
    {
      "cell_type": "code",
      "execution_count": 1,
      "metadata": {
        "colab": {
          "base_uri": "https://localhost:8080/"
        },
        "id": "DMKZtmHRCIBZ",
        "outputId": "d27d1b0c-fe97-40c2-f1b0-ae0c8de0acab"
      },
      "outputs": [
        {
          "output_type": "stream",
          "name": "stdout",
          "text": [
            "4\n",
            "41\n"
          ]
        }
      ],
      "source": [
        "N = int(input())\n",
        "def sol(N):\n",
        "    dp = [[0]*2 for _ in range(N)]\n",
        "    dp[0] = [2,1]\n",
        "    for i in range(1,N):\n",
        "        dp[i][0] = (dp[i-1][0] + dp[i-1][1]*2)%9901\n",
        "        dp[i][1] = (dp[i-1][0] + dp[i-1][1])%9901\n",
        "    return print(sum(dp[-1])%9901)\n",
        "sol(N)"
      ]
    },
    {
      "cell_type": "code",
      "source": [
        "def sol(N):\n",
        "    dp = [0]*(N+1)\n",
        "    dp[0], dp[1] = 1,3\n",
        "    for i in range(2,N+1):\n",
        "        dp[i] = (dp[i-2] + 2*dp[i-1])%9901\n",
        "    return dp[-1]\n",
        "\n",
        "print(sol(int(input())))   "
      ],
      "metadata": {
        "colab": {
          "base_uri": "https://localhost:8080/"
        },
        "id": "ADM9EiZ9CT2q",
        "outputId": "d8561b40-bbad-4ea9-fc9f-95540455d223"
      },
      "execution_count": 2,
      "outputs": [
        {
          "output_type": "stream",
          "name": "stdout",
          "text": [
            "5\n",
            "99\n"
          ]
        }
      ]
    },
    {
      "cell_type": "code",
      "source": [
        "def sol(N):\n",
        "    a,b = 1,3\n",
        "    for i in range(N-1):\n",
        "        a,b = b, (a+2*b)%9901\n",
        "    return b\n",
        "\n",
        "print(sol(int(input())))    "
      ],
      "metadata": {
        "colab": {
          "base_uri": "https://localhost:8080/"
        },
        "id": "wafhdf0zCI1x",
        "outputId": "a00eb648-537c-462f-ae91-7cb51d1a5358"
      },
      "execution_count": 3,
      "outputs": [
        {
          "output_type": "stream",
          "name": "stdout",
          "text": [
            "6\n",
            "239\n"
          ]
        }
      ]
    }
  ]
}