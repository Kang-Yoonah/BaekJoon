{
  "nbformat": 4,
  "nbformat_minor": 0,
  "metadata": {
    "colab": {
      "provenance": [],
      "authorship_tag": "ABX9TyOU/l08GQ0ojBSlGhJ5KitS",
      "include_colab_link": true
    },
    "kernelspec": {
      "name": "python3",
      "display_name": "Python 3"
    },
    "language_info": {
      "name": "python"
    }
  },
  "cells": [
    {
      "cell_type": "markdown",
      "metadata": {
        "id": "view-in-github",
        "colab_type": "text"
      },
      "source": [
        "<a href=\"https://colab.research.google.com/github/Kang-Yoonah/BaekJoon/blob/main/Silver/1312.ipynb\" target=\"_parent\"><img src=\"https://colab.research.google.com/assets/colab-badge.svg\" alt=\"Open In Colab\"/></a>"
      ]
    },
    {
      "cell_type": "code",
      "execution_count": 1,
      "metadata": {
        "id": "YiASgJMmJpVq",
        "outputId": "0e29ba81-5c4f-4140-983a-1e24ca6525a6",
        "colab": {
          "base_uri": "https://localhost:8080/"
        }
      },
      "outputs": [
        {
          "output_type": "stream",
          "name": "stdout",
          "text": [
            "25 7 5\n",
            "2\n"
          ]
        }
      ],
      "source": [
        "A,B,N = map(int,input().split())\n",
        "\n",
        "for _ in range(N+1):\n",
        "    n = A//B\n",
        "    A %= B\n",
        "    A *= 10\n",
        "\n",
        "print(n)"
      ]
    }
  ]
}