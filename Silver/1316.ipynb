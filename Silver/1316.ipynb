{
  "nbformat": 4,
  "nbformat_minor": 0,
  "metadata": {
    "colab": {
      "name": "1316.ipynb",
      "provenance": [],
      "authorship_tag": "ABX9TyOYvAOe6Osu6xNE5sCnEGzD"
    },
    "kernelspec": {
      "name": "python3",
      "display_name": "Python 3"
    },
    "language_info": {
      "name": "python"
    }
  },
  "cells": [
    {
      "cell_type": "code",
      "execution_count": 7,
      "metadata": {
        "colab": {
          "base_uri": "https://localhost:8080/"
        },
        "id": "cpDLkroKfnxH",
        "outputId": "311272bd-242e-4a53-a119-c277dc038844"
      },
      "outputs": [
        {
          "output_type": "stream",
          "name": "stdout",
          "text": [
            "3\n",
            "ccazzzzbb\n",
            "kin\n",
            "aabbbccb\n",
            "2\n"
          ]
        }
      ],
      "source": [
        "N = int(input())\n",
        "num = 0\n",
        "for _ in range(N):\n",
        "    word = input()\n",
        "    w1 = word[0]\n",
        "    change = 0\n",
        "    for i in word:\n",
        "        if i == w1:\n",
        "            continue\n",
        "        change +=1\n",
        "        w1 = i\n",
        "    if (change+1) == len(set(word)):\n",
        "        num +=1\n",
        "print(num)"
      ]
    },
    {
      "cell_type": "code",
      "source": [
        "N = int(input())\n",
        "num = 0\n",
        "for _ in range(N):\n",
        "    word = input()\n",
        "    state = True\n",
        "    if len(word)>2:\n",
        "        while word:   # 문자열이 null값일때 False\n",
        "            w = word[0]\n",
        "            word = word.lstrip(w)\n",
        "            if w in word:\n",
        "                state = False\n",
        "    if state:\n",
        "        num +=1\n",
        "print(num)"
      ],
      "metadata": {
        "colab": {
          "base_uri": "https://localhost:8080/"
        },
        "id": "yp_x7uoo9WEM",
        "outputId": "3eb9447a-1e37-4170-8373-99031c499798"
      },
      "execution_count": 15,
      "outputs": [
        {
          "output_type": "stream",
          "name": "stdout",
          "text": [
            "3\n",
            "ccazzzzbb\n",
            "kin\n",
            "aabbbccb\n",
            "2\n"
          ]
        }
      ]
    },
    {
      "cell_type": "markdown",
      "source": [
        "`str.strip([chars])`   \n",
        "- 문자열 앞뒤에서 지정된 문자 삭제.   \n",
        "- 삭제된 문자열의 복사본 반환.   \n",
        "- chars인자는 제거할 문자 집합 지정. default: 공백   \n",
        "- chars인자안에 있는 문자의 모든 조합이 제거됨. 또한 중복해서 있을 때는 모두 제거됨.\n",
        "\n",
        "`lstrip()`   \n",
        "문자열 왼쪽에서 지정된 문자 삭제.\n",
        "\n",
        "`rstrip()`   \n",
        "문자열 오른쪽에서 지정된 문자 삭제.\n",
        "\n"
      ],
      "metadata": {
        "id": "cfsQd1J--IlZ"
      }
    },
    {
      "cell_type": "code",
      "source": [
        "exa = 'hi nice to meet you, ehddiihhhh'\n",
        "exa.strip('hai')"
      ],
      "metadata": {
        "colab": {
          "base_uri": "https://localhost:8080/",
          "height": 36
        },
        "id": "U7UKWrGE_a8U",
        "outputId": "b4125c61-010f-4c63-ef15-021cb5619ca6"
      },
      "execution_count": 24,
      "outputs": [
        {
          "output_type": "execute_result",
          "data": {
            "text/plain": [
              "' nice to meet you, ehdd'"
            ],
            "application/vnd.google.colaboratory.intrinsic+json": {
              "type": "string"
            }
          },
          "metadata": {},
          "execution_count": 24
        }
      ]
    }
  ]
}