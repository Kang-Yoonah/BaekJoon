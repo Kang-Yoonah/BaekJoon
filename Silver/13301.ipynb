{
  "nbformat": 4,
  "nbformat_minor": 0,
  "metadata": {
    "colab": {
      "provenance": [],
      "authorship_tag": "ABX9TyOSHEIm0dHW5cvtaa9VUnOJ",
      "include_colab_link": true
    },
    "kernelspec": {
      "name": "python3",
      "display_name": "Python 3"
    },
    "language_info": {
      "name": "python"
    }
  },
  "cells": [
    {
      "cell_type": "markdown",
      "metadata": {
        "id": "view-in-github",
        "colab_type": "text"
      },
      "source": [
        "<a href=\"https://colab.research.google.com/github/Kang-Yoonah/BaekJoon/blob/main/Silver/13301.ipynb\" target=\"_parent\"><img src=\"https://colab.research.google.com/assets/colab-badge.svg\" alt=\"Open In Colab\"/></a>"
      ]
    },
    {
      "cell_type": "code",
      "execution_count": null,
      "metadata": {
        "id": "wJ1KO-y7-BBS"
      },
      "outputs": [],
      "source": [
        "def sol(a,b):\n",
        "    for _ in range(int(input())-1):\n",
        "        a,b = b,a+b\n",
        "    return 4*b + 2*a\n",
        "\n",
        "print(sol(0,1))"
      ]
    }
  ]
}