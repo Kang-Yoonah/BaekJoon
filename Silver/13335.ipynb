{
  "nbformat": 4,
  "nbformat_minor": 0,
  "metadata": {
    "colab": {
      "provenance": [],
      "authorship_tag": "ABX9TyNfqmycJNWdajy5yp/U3Yd2",
      "include_colab_link": true
    },
    "kernelspec": {
      "name": "python3",
      "display_name": "Python 3"
    },
    "language_info": {
      "name": "python"
    }
  },
  "cells": [
    {
      "cell_type": "markdown",
      "metadata": {
        "id": "view-in-github",
        "colab_type": "text"
      },
      "source": [
        "<a href=\"https://colab.research.google.com/github/Kang-Yoonah/BaekJoon/blob/main/Silver/13335.ipynb\" target=\"_parent\"><img src=\"https://colab.research.google.com/assets/colab-badge.svg\" alt=\"Open In Colab\"/></a>"
      ]
    },
    {
      "cell_type": "code",
      "execution_count": 11,
      "metadata": {
        "colab": {
          "base_uri": "https://localhost:8080/"
        },
        "id": "l9L4VA3ponKw",
        "outputId": "acf30f0a-0dbb-4079-beda-3994fe656aa4"
      },
      "outputs": [
        {
          "output_type": "stream",
          "name": "stdout",
          "text": [
            "7 2 10\n",
            "8 4 5 6\n",
            "8\n"
          ]
        }
      ],
      "source": [
        "from collections import deque\n",
        "\n",
        "_, w, L = map(int, input().split())\n",
        "truck = deque(map(int,input().split()))\n",
        "bdg = deque([0]*w)\n",
        "ans = weight = 0\n",
        "\n",
        "while truck:\n",
        "    if bdg[0] != 0:\n",
        "        weight -= bdg[0]\n",
        "    bdg.rotate(-1)\n",
        "    bdg[-1] = 0\n",
        "    if weight + truck[0] <= L:\n",
        "        v = truck.popleft()\n",
        "        weight += v\n",
        "        bdg[-1] = v\n",
        "    ans += 1\n",
        "print(ans+w)"
      ]
    },
    {
      "cell_type": "code",
      "source": [
        "from collections import deque\n",
        "\n",
        "_, w, L = map(int, input().split())\n",
        "truck = deque(map(int,input().split()))\n",
        "bdg = [0]*w\n",
        "ans = weight = 0\n",
        "\n",
        "while truck:\n",
        "    out = bdg.pop(0)\n",
        "    weight -= out\n",
        "    if weight + truck[0] <= L:\n",
        "        v = truck.popleft()\n",
        "        weight += v\n",
        "        bdg.append(v)\n",
        "    else:\n",
        "        bdg.append(0)\n",
        "    ans += 1\n",
        "print(ans+w)"
      ],
      "metadata": {
        "colab": {
          "base_uri": "https://localhost:8080/"
        },
        "id": "vzQKnxnbxu1E",
        "outputId": "ab62ee3b-d6f2-4c11-fadc-653312fd4840"
      },
      "execution_count": 12,
      "outputs": [
        {
          "output_type": "stream",
          "name": "stdout",
          "text": [
            "7 2 10\n",
            "8 4 5 6\n",
            "8\n"
          ]
        }
      ]
    }
  ]
}