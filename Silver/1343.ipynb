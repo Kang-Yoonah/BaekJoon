{
  "nbformat": 4,
  "nbformat_minor": 0,
  "metadata": {
    "colab": {
      "name": "1343.ipynb",
      "provenance": [],
      "authorship_tag": "ABX9TyNO632KrrOpM98xvinwaahl",
      "include_colab_link": true
    },
    "kernelspec": {
      "name": "python3",
      "display_name": "Python 3"
    },
    "language_info": {
      "name": "python"
    }
  },
  "cells": [
    {
      "cell_type": "markdown",
      "metadata": {
        "id": "view-in-github",
        "colab_type": "text"
      },
      "source": [
        "<a href=\"https://colab.research.google.com/github/Kang-Yoonah/BaekJoon/blob/main/Silver/1343.ipynb\" target=\"_parent\"><img src=\"https://colab.research.google.com/assets/colab-badge.svg\" alt=\"Open In Colab\"/></a>"
      ]
    },
    {
      "cell_type": "code",
      "source": [
        "sen = input()\n",
        "sen = sen.replace('XXXX','AAAA')\n",
        "sen = sen.replace('XX','BB')\n",
        "if 'X' in sen:\n",
        "    print(-1)\n",
        "else:\n",
        "    print(sen)"
      ],
      "metadata": {
        "colab": {
          "base_uri": "https://localhost:8080/"
        },
        "id": "Egf8rLpOwl-C",
        "outputId": "66f73fd7-77d0-4643-9253-e254897e0c9c"
      },
      "execution_count": null,
      "outputs": [
        {
          "output_type": "stream",
          "name": "stdout",
          "text": [
            "XX.XXXXXXXXXX..XXXXXXXX...XXXXXX\n",
            "BB.AAAAAAAABB..AAAAAAAA...AAAABB\n"
          ]
        }
      ]
    },
    {
      "cell_type": "code",
      "source": [
        "sen = input()\n",
        "t = 1\n",
        "s = ''\n",
        "for ind in range(len(sen)):\n",
        "    if sen[ind] != 'X':\n",
        "        if len(s) % 2:\n",
        "            t = 0\n",
        "            break\n",
        "        continue\n",
        "    s += 'X'\n",
        "if ('X' in s) and (len(s) % 2):\n",
        "    t = 0\n",
        "\n",
        "if t:\n",
        "    sen = sen.replace('XXXX','AAAA')\n",
        "    sen = sen.replace('XX','BB')\n",
        "    print(sen)\n",
        "else:\n",
        "    print(-1)"
      ],
      "metadata": {
        "colab": {
          "base_uri": "https://localhost:8080/"
        },
        "id": "Hijjtc3YugFM",
        "outputId": "75dab1ab-0760-4e07-a347-25327f42f7d6"
      },
      "execution_count": null,
      "outputs": [
        {
          "output_type": "stream",
          "name": "stdout",
          "text": [
            "XX.XXXXXXXXXX..XXXXXXXX...XXXXXX\n",
            "BB.AAAAAAAABB..AAAAAAAA...AAAABB\n"
          ]
        }
      ]
    }
  ]
}