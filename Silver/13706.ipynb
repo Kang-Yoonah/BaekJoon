{
  "nbformat": 4,
  "nbformat_minor": 0,
  "metadata": {
    "colab": {
      "name": "13706.ipynb",
      "provenance": [],
      "authorship_tag": "ABX9TyNaHpIsAoNWLzcQTgMg4b3P",
      "include_colab_link": true
    },
    "kernelspec": {
      "name": "python3",
      "display_name": "Python 3"
    },
    "language_info": {
      "name": "python"
    }
  },
  "cells": [
    {
      "cell_type": "markdown",
      "metadata": {
        "id": "view-in-github",
        "colab_type": "text"
      },
      "source": [
        "<a href=\"https://colab.research.google.com/github/Kang-Yoonah/BaekJoon/blob/main/Silver/13706.ipynb\" target=\"_parent\"><img src=\"https://colab.research.google.com/assets/colab-badge.svg\" alt=\"Open In Colab\"/></a>"
      ]
    },
    {
      "cell_type": "code",
      "execution_count": 14,
      "metadata": {
        "colab": {
          "base_uri": "https://localhost:8080/"
        },
        "id": "51mEjgq15PdE",
        "outputId": "a7f974f1-deb0-4c51-cce5-5ddc38f27ee7"
      },
      "outputs": [
        {
          "output_type": "stream",
          "name": "stdout",
          "text": [
            "81\n",
            "9\n"
          ]
        }
      ],
      "source": [
        "N = int(input())\n",
        "\n",
        "def find(value,s,e):\n",
        "    num = (s+e)//2\n",
        "    num_sq = num**2\n",
        "    if num_sq > value:\n",
        "        return s, num\n",
        "    elif num_sq < value:\n",
        "        return num, e\n",
        "    else:\n",
        "        return num, num\n",
        "\n",
        "s, e = find(N, 1, N-1)\n",
        "while True:\n",
        "    if s == e:\n",
        "        print(s)\n",
        "        break\n",
        "    s, e = find(N,s,e)"
      ]
    },
    {
      "cell_type": "code",
      "source": [
        "N = int(input())\n",
        "\n",
        "s, e = 1, N-1\n",
        "while True:\n",
        "    num = (s+e)//2\n",
        "    num_sq = num**2\n",
        "    if num_sq > N:\n",
        "        e = num\n",
        "    elif num_sq < N:\n",
        "        s = num\n",
        "    else:\n",
        "        print(num)\n",
        "        break"
      ],
      "metadata": {
        "colab": {
          "base_uri": "https://localhost:8080/"
        },
        "id": "7hQX9xph9ucn",
        "outputId": "4dfef829-f51a-40af-d42d-21e4d73691ae"
      },
      "execution_count": 16,
      "outputs": [
        {
          "output_type": "stream",
          "name": "stdout",
          "text": [
            "226576\n",
            "476\n"
          ]
        }
      ]
    },
    {
      "cell_type": "code",
      "source": [
        "N = input()\n",
        "ind = (len(N)-1)//2\n",
        "N = int(N)\n",
        "\n",
        "s = 10**ind\n",
        "e = 10**(ind+1)\n",
        "while True:\n",
        "    num = (s+e)//2\n",
        "    num_sq = num**2\n",
        "    if num_sq > N:\n",
        "        e = num\n",
        "    elif num_sq < N:\n",
        "        s = num\n",
        "    else:\n",
        "        print(num)\n",
        "        break"
      ],
      "metadata": {
        "colab": {
          "base_uri": "https://localhost:8080/"
        },
        "id": "hCVmUzWb-MX9",
        "outputId": "8cb0c098-f64a-4e60-c419-957f2adb78dc"
      },
      "execution_count": 18,
      "outputs": [
        {
          "output_type": "stream",
          "name": "stdout",
          "text": [
            "36\n",
            "6\n"
          ]
        }
      ]
    }
  ]
}