{
  "nbformat": 4,
  "nbformat_minor": 0,
  "metadata": {
    "colab": {
      "provenance": [],
      "authorship_tag": "ABX9TyPKqJfd3LN3bkhcNr1qf+QX",
      "include_colab_link": true
    },
    "kernelspec": {
      "name": "python3",
      "display_name": "Python 3"
    },
    "language_info": {
      "name": "python"
    }
  },
  "cells": [
    {
      "cell_type": "markdown",
      "metadata": {
        "id": "view-in-github",
        "colab_type": "text"
      },
      "source": [
        "<a href=\"https://colab.research.google.com/github/Kang-Yoonah/BaekJoon/blob/main/Silver/1380.ipynb\" target=\"_parent\"><img src=\"https://colab.research.google.com/assets/colab-badge.svg\" alt=\"Open In Colab\"/></a>"
      ]
    },
    {
      "cell_type": "code",
      "source": [
        "def sol(i):\n",
        "    while 1:\n",
        "        n = int(input())\n",
        "        if n:\n",
        "            S = [input() for _ in range(n)]\n",
        "            N = [0]*n\n",
        "            for _ in range(2*n-1):\n",
        "                N[int(input().split()[0])-1] += 1\n",
        "            print(i,S[N.index(1)])\n",
        "            i += 1\n",
        "        else:\n",
        "            return\n",
        "sol(1)"
      ],
      "metadata": {
        "colab": {
          "base_uri": "https://localhost:8080/"
        },
        "id": "V5Behma77t2H",
        "outputId": "89abb5e7-2b2b-4163-f559-1a6452136db2"
      },
      "execution_count": 1,
      "outputs": [
        {
          "name": "stdout",
          "output_type": "stream",
          "text": [
            "3\n",
            "Betty Boolean\n",
            "Alison Addaway\n",
            "Carrie Carryon\n",
            "1 B\n",
            "2 A\n",
            "3 B\n",
            "3 A\n",
            "1 A\n",
            "1 Alison Addaway\n",
            "2\n",
            "Helen Clark\n",
            "Margaret Thatcher\n",
            "1 B\n",
            "2 B\n",
            "2 A\n",
            "2 Helen Clark\n",
            "0\n"
          ]
        }
      ]
    }
  ]
}