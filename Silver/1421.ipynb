{
  "nbformat": 4,
  "nbformat_minor": 0,
  "metadata": {
    "colab": {
      "provenance": [],
      "authorship_tag": "ABX9TyPxB/Crn+s/qWjF2nM0i7o9",
      "include_colab_link": true
    },
    "kernelspec": {
      "name": "python3",
      "display_name": "Python 3"
    },
    "language_info": {
      "name": "python"
    }
  },
  "cells": [
    {
      "cell_type": "markdown",
      "metadata": {
        "id": "view-in-github",
        "colab_type": "text"
      },
      "source": [
        "<a href=\"https://colab.research.google.com/github/Kang-Yoonah/BaekJoon/blob/main/Silver/1421.ipynb\" target=\"_parent\"><img src=\"https://colab.research.google.com/assets/colab-badge.svg\" alt=\"Open In Colab\"/></a>"
      ]
    },
    {
      "cell_type": "code",
      "source": [
        "def sol():\n",
        "    N,C,W = map(int,input().split())\n",
        "    T,M = [int(input()) for _ in range(N)],0\n",
        "    for i in range(1,max(T)+1):\n",
        "        m = 0\n",
        "        for t in T:\n",
        "            if t == i:\n",
        "                m += W*t\n",
        "            elif t > i:\n",
        "                n = (W*i-C)*(t//i)\n",
        "                if t%i == 0:\n",
        "                    n += C\n",
        "                m += max(n,0)\n",
        "        M = max(M,m)\n",
        "    return M\n",
        "\n",
        "print(sol())"
      ],
      "metadata": {
        "colab": {
          "base_uri": "https://localhost:8080/"
        },
        "id": "V5Behma77t2H",
        "outputId": "10d3bc1d-6d28-42bf-e85e-1f350f41e57f"
      },
      "execution_count": 1,
      "outputs": [
        {
          "output_type": "stream",
          "name": "stdout",
          "text": [
            "3 1 10\n",
            "26\n",
            "103\n",
            "59\n",
            "1770\n"
          ]
        }
      ]
    }
  ]
}