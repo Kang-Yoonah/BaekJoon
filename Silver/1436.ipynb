{
  "nbformat": 4,
  "nbformat_minor": 0,
  "metadata": {
    "colab": {
      "name": "1436.ipynb",
      "provenance": [],
      "authorship_tag": "ABX9TyPUtZhF0lCohO1bLFFHGiJs",
      "include_colab_link": true
    },
    "kernelspec": {
      "name": "python3",
      "display_name": "Python 3"
    },
    "language_info": {
      "name": "python"
    }
  },
  "cells": [
    {
      "cell_type": "markdown",
      "metadata": {
        "id": "view-in-github",
        "colab_type": "text"
      },
      "source": [
        "<a href=\"https://colab.research.google.com/github/Kang-Yoonah/BaekJoon/blob/main/Silver/1436.ipynb\" target=\"_parent\"><img src=\"https://colab.research.google.com/assets/colab-badge.svg\" alt=\"Open In Colab\"/></a>"
      ]
    },
    {
      "cell_type": "code",
      "execution_count": 3,
      "metadata": {
        "colab": {
          "base_uri": "https://localhost:8080/"
        },
        "id": "aN5XgqEyDenN",
        "outputId": "7221c126-aa16-43c8-8978-c2a3c1c0e20f"
      },
      "outputs": [
        {
          "output_type": "stream",
          "name": "stdout",
          "text": [
            "10000\n",
            "2666799\n"
          ]
        }
      ],
      "source": [
        "N = int(input())\n",
        "count = 1\n",
        "num = 666\n",
        "while N != count:\n",
        "    num += 1\n",
        "    if '666' in str(num):\n",
        "        count += 1\n",
        "print(num)"
      ]
    }
  ]
}