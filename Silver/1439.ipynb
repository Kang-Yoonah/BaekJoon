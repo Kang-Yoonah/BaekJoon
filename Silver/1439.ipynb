{
  "nbformat": 4,
  "nbformat_minor": 0,
  "metadata": {
    "colab": {
      "name": "1439.ipynb",
      "provenance": [],
      "authorship_tag": "ABX9TyOtakCJiNwUe2jEq1kntXHr",
      "include_colab_link": true
    },
    "kernelspec": {
      "name": "python3",
      "display_name": "Python 3"
    },
    "language_info": {
      "name": "python"
    }
  },
  "cells": [
    {
      "cell_type": "markdown",
      "metadata": {
        "id": "view-in-github",
        "colab_type": "text"
      },
      "source": [
        "<a href=\"https://colab.research.google.com/github/Kang-Yoonah/BaekJoon/blob/main/Silver/1439.ipynb\" target=\"_parent\"><img src=\"https://colab.research.google.com/assets/colab-badge.svg\" alt=\"Open In Colab\"/></a>"
      ]
    },
    {
      "cell_type": "code",
      "execution_count": 1,
      "metadata": {
        "colab": {
          "base_uri": "https://localhost:8080/"
        },
        "id": "sWXNWPb9kTYb",
        "outputId": "0fa71c15-4a06-47ef-fec1-e9814c27a073"
      },
      "outputs": [
        {
          "output_type": "stream",
          "name": "stdout",
          "text": [
            "11001100110011000001\n",
            "4\n"
          ]
        }
      ],
      "source": [
        "bi = input()\n",
        "c, s, ind = [0,1,0], bi[0], 1\n",
        "for i in bi:\n",
        "    if i != s:\n",
        "        ind *= -1\n",
        "        c[ind] += 1\n",
        "        s = i\n",
        "print(min(c[1:]))"
      ]
    }
  ]
}