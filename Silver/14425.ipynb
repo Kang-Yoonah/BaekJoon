{
  "nbformat": 4,
  "nbformat_minor": 0,
  "metadata": {
    "colab": {
      "name": "14425.ipynb",
      "provenance": [],
      "authorship_tag": "ABX9TyPBk7fOr1V7JDkjSynyqfIy",
      "include_colab_link": true
    },
    "kernelspec": {
      "name": "python3",
      "display_name": "Python 3"
    },
    "language_info": {
      "name": "python"
    }
  },
  "cells": [
    {
      "cell_type": "markdown",
      "metadata": {
        "id": "view-in-github",
        "colab_type": "text"
      },
      "source": [
        "<a href=\"https://colab.research.google.com/github/Kang-Yoonah/BaekJoon/blob/main/Silver/14425.ipynb\" target=\"_parent\"><img src=\"https://colab.research.google.com/assets/colab-badge.svg\" alt=\"Open In Colab\"/></a>"
      ]
    },
    {
      "cell_type": "code",
      "source": [
        "#import sys\n",
        "#input = sys.stdin.readline\n",
        "\n",
        "N, M = map(int,input().split())\n",
        "strings = {}\n",
        "for i in range(N):\n",
        "    name = input().strip()\n",
        "    strings[name] = 1\n",
        "total = 0\n",
        "for _ in range(M):\n",
        "    name = input().strip()\n",
        "    total += strings.get(name, 0)\n",
        "print(total)"
      ],
      "metadata": {
        "id": "jGikPHnjQ54Y"
      },
      "execution_count": null,
      "outputs": []
    }
  ]
}