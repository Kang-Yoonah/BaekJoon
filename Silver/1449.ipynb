{
  "nbformat": 4,
  "nbformat_minor": 0,
  "metadata": {
    "colab": {
      "name": "1449.ipynb",
      "provenance": [],
      "authorship_tag": "ABX9TyOP9qOlYg204geSH/V1BLP5",
      "include_colab_link": true
    },
    "kernelspec": {
      "name": "python3",
      "display_name": "Python 3"
    },
    "language_info": {
      "name": "python"
    }
  },
  "cells": [
    {
      "cell_type": "markdown",
      "metadata": {
        "id": "view-in-github",
        "colab_type": "text"
      },
      "source": [
        "<a href=\"https://colab.research.google.com/github/Kang-Yoonah/BaekJoon/blob/main/Silver/1449.ipynb\" target=\"_parent\"><img src=\"https://colab.research.google.com/assets/colab-badge.svg\" alt=\"Open In Colab\"/></a>"
      ]
    },
    {
      "cell_type": "code",
      "execution_count": 1,
      "metadata": {
        "colab": {
          "base_uri": "https://localhost:8080/"
        },
        "id": "t16a2e7YhXuP",
        "outputId": "eadcd536-bfb8-41a5-e4cc-0de1412b545d"
      },
      "outputs": [
        {
          "output_type": "stream",
          "name": "stdout",
          "text": [
            "4 2\n",
            "1 2 100 101\n",
            "2\n"
          ]
        }
      ],
      "source": [
        "_,L = map(int,input().split())\n",
        "Pipe = sorted(list(map(int,input().split())))\n",
        "\n",
        "end_of_tape,num,a = 0,0,L-0.5\n",
        "for n in Pipe:\n",
        "    if n > end_of_tape:\n",
        "        num += 1\n",
        "        end_of_tape = n + a\n",
        "\n",
        "print(num)"
      ]
    },
    {
      "cell_type": "code",
      "source": [
        "_, L = map(int,input().split())\n",
        "tape = sorted(list(map(int,input().split())))\n",
        "total = ind = 0 \n",
        "p, end = tape[ind]-0.5, tape[-1]+0.5\n",
        "while p < end:\n",
        "    if p >= (tape[ind]+0.5):\n",
        "        ind += 1\n",
        "    else:\n",
        "        if p >= tape[ind]-0.5:\n",
        "            total += 1\n",
        "            p += L\n",
        "        else:\n",
        "            total += 1\n",
        "            p = tape[ind]-0.5+L\n",
        "print(total)"
      ],
      "metadata": {
        "colab": {
          "base_uri": "https://localhost:8080/"
        },
        "id": "yrGDowNghdMv",
        "outputId": "ec2ee363-fe4c-4abf-97e9-69b2289735ed"
      },
      "execution_count": 2,
      "outputs": [
        {
          "output_type": "stream",
          "name": "stdout",
          "text": [
            "4 3\n",
            "1 2 3 4\n",
            "2\n"
          ]
        }
      ]
    }
  ]
}