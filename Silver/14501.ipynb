{
  "nbformat": 4,
  "nbformat_minor": 0,
  "metadata": {
    "colab": {
      "provenance": [],
      "authorship_tag": "ABX9TyNdwXaUM2bm3j6jJ8FHXlpM",
      "include_colab_link": true
    },
    "kernelspec": {
      "name": "python3",
      "display_name": "Python 3"
    },
    "language_info": {
      "name": "python"
    }
  },
  "cells": [
    {
      "cell_type": "markdown",
      "metadata": {
        "id": "view-in-github",
        "colab_type": "text"
      },
      "source": [
        "<a href=\"https://colab.research.google.com/github/Kang-Yoonah/BaekJoon/blob/main/Silver/14501.ipynb\" target=\"_parent\"><img src=\"https://colab.research.google.com/assets/colab-badge.svg\" alt=\"Open In Colab\"/></a>"
      ]
    },
    {
      "cell_type": "code",
      "execution_count": 1,
      "metadata": {
        "colab": {
          "base_uri": "https://localhost:8080/"
        },
        "id": "fv9dnmukjzvo",
        "outputId": "d3a91bbd-b5a1-4f3b-e326-f232d40b0501"
      },
      "outputs": [
        {
          "output_type": "stream",
          "name": "stdout",
          "text": [
            "7\n",
            "3 10\n",
            "5 20\n",
            "1 10\n",
            "1 20\n",
            "2 15\n",
            "4 40\n",
            "2 200\n",
            "45\n"
          ]
        }
      ],
      "source": [
        "N = int(input())\n",
        "TP = [list(map(int,input().split())) for _ in range(N)]\n",
        "dp = [0]*(N+1)\n",
        "\n",
        "for i in range(N-1, -1, -1):\n",
        "    if i + TP[i][0] > N:\n",
        "        dp[i] = dp[i+1]\n",
        "    else:\n",
        "        dp[i] = max(dp[i+1], dp[i+TP[i][0]] + TP[i][1])\n",
        "print(dp[0])"
      ]
    }
  ]
}