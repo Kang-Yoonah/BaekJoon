{
  "nbformat": 4,
  "nbformat_minor": 0,
  "metadata": {
    "colab": {
      "name": "1463.ipynb",
      "provenance": [],
      "authorship_tag": "ABX9TyMmtdagdHqmVuiGtb47//tJ",
      "include_colab_link": true
    },
    "kernelspec": {
      "name": "python3",
      "display_name": "Python 3"
    },
    "language_info": {
      "name": "python"
    }
  },
  "cells": [
    {
      "cell_type": "markdown",
      "metadata": {
        "id": "view-in-github",
        "colab_type": "text"
      },
      "source": [
        "<a href=\"https://colab.research.google.com/github/Kang-Yoonah/BaekJoon/blob/main/Silver/1463.ipynb\" target=\"_parent\"><img src=\"https://colab.research.google.com/assets/colab-badge.svg\" alt=\"Open In Colab\"/></a>"
      ]
    },
    {
      "cell_type": "code",
      "execution_count": 9,
      "metadata": {
        "colab": {
          "base_uri": "https://localhost:8080/"
        },
        "id": "f1kKQpxOF741",
        "outputId": "1a59d9d4-eaf5-4f0c-977d-f23970d38a06"
      },
      "outputs": [
        {
          "output_type": "stream",
          "name": "stdout",
          "text": [
            "1000000\n",
            "19\n"
          ]
        }
      ],
      "source": [
        "N = int(input())\n",
        "\n",
        "dp = [10**6 for _ in range(N+1)]\n",
        "dp[N] = 1\n",
        "\n",
        "def three(dp, num):\n",
        "    if num*3 < len(dp) and dp[num*3] != 10**6:\n",
        "        dp[num] = dp[num*3] + 1\n",
        "    return dp[num]\n",
        "\n",
        "def two(dp, num):\n",
        "    if num*2 < len(dp) and dp[num*2]!= 10**6:\n",
        "        dp[num] = dp[num*2] + 1\n",
        "    return dp[num]\n",
        "\n",
        "def one(dp, num):\n",
        "    if dp[num+1]!= 10**6:\n",
        "        dp[num] = dp[num+1] + 1\n",
        "    return dp[num]\n",
        "\n",
        "for i in range(N-1,0,-1):\n",
        "    dp[i] = min(three(dp,i), two(dp,i), one(dp,i))\n",
        "print(dp[1]-1)"
      ]
    },
    {
      "cell_type": "code",
      "source": [
        "N = int(input())\n",
        "\n",
        "dp = [10**6 for _ in range(N+1)]\n",
        "dp[N] = 1\n",
        "\n",
        "for i in range(N-1,0,-1):\n",
        "    n1 = i*3\n",
        "    n2 = i*2\n",
        "    if n1 < len(dp) and dp[n1]:\n",
        "        if dp[n2]:\n",
        "            dp[i] = min(dp[n1], dp[n2], dp[i+1]) + 1\n",
        "        else:\n",
        "            dp[i] = min(dp[n1], dp[i+1]) + 1\n",
        "    elif n2 < len(dp) and dp[n2]:\n",
        "        dp[i] = min(dp[n2], dp[i+1]) + 1\n",
        "    else:\n",
        "        dp[i] = dp[i+1] + 1\n",
        "print(dp[1]-1)"
      ],
      "metadata": {
        "colab": {
          "base_uri": "https://localhost:8080/"
        },
        "id": "dFay1xq2VmQN",
        "outputId": "dc7d83d6-f82b-4162-b365-5aa68e5f9e73"
      },
      "execution_count": 14,
      "outputs": [
        {
          "output_type": "stream",
          "name": "stdout",
          "text": [
            "10\n",
            "3\n"
          ]
        }
      ]
    },
    {
      "cell_type": "code",
      "source": [
        "N = int(input())\n",
        "dp = [0] * (N+1)\n",
        "for i in range(2,N+1):\n",
        "    dp[i] = dp[i-1] + 1\n",
        "    if i%3 == 0:\n",
        "        dp[i] = min(dp[i//3]+1,dp[i])\n",
        "    if i%2 == 0:\n",
        "        dp[i] = min(dp[i//2]+1,dp[i])\n",
        "print(dp[N])"
      ],
      "metadata": {
        "colab": {
          "base_uri": "https://localhost:8080/"
        },
        "id": "-H-zUByuaXyg",
        "outputId": "a5bcb176-8cf8-4835-bd9c-6fbaf0f19acc"
      },
      "execution_count": 16,
      "outputs": [
        {
          "output_type": "stream",
          "name": "stdout",
          "text": [
            "10\n",
            "3\n"
          ]
        }
      ]
    }
  ]
}