{
  "nbformat": 4,
  "nbformat_minor": 0,
  "metadata": {
    "colab": {
      "name": "1475.ipynb",
      "provenance": [],
      "authorship_tag": "ABX9TyNWkA5o+ngczjBiPu1QjUCz",
      "include_colab_link": true
    },
    "kernelspec": {
      "name": "python3",
      "display_name": "Python 3"
    },
    "language_info": {
      "name": "python"
    }
  },
  "cells": [
    {
      "cell_type": "markdown",
      "metadata": {
        "id": "view-in-github",
        "colab_type": "text"
      },
      "source": [
        "<a href=\"https://colab.research.google.com/github/Kang-Yoonah/BaekJoon/blob/main/Silver/1475.ipynb\" target=\"_parent\"><img src=\"https://colab.research.google.com/assets/colab-badge.svg\" alt=\"Open In Colab\"/></a>"
      ]
    },
    {
      "cell_type": "code",
      "execution_count": 1,
      "metadata": {
        "colab": {
          "base_uri": "https://localhost:8080/"
        },
        "id": "aN5XgqEyDenN",
        "outputId": "873d18fb-97d6-417c-af46-b78b37960770"
      },
      "outputs": [
        {
          "output_type": "stream",
          "name": "stdout",
          "text": [
            "1263592\n",
            "2\n"
          ]
        }
      ],
      "source": [
        "N = [int(i) for i in input()]\n",
        "num = [0]*10\n",
        "for i in N:\n",
        "    num[i] += 1\n",
        "num[6] = (num[6]+num[9]+1)//2\n",
        "num[9] = num[6]\n",
        "print(max(num))"
      ]
    }
  ]
}