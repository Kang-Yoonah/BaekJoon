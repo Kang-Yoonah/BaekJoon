{
  "nbformat": 4,
  "nbformat_minor": 0,
  "metadata": {
    "colab": {
      "name": "1476.ipynb",
      "provenance": [],
      "authorship_tag": "ABX9TyMVyh57CUzSMEHMCy+bPaFX",
      "include_colab_link": true
    },
    "kernelspec": {
      "name": "python3",
      "display_name": "Python 3"
    },
    "language_info": {
      "name": "python"
    }
  },
  "cells": [
    {
      "cell_type": "markdown",
      "metadata": {
        "id": "view-in-github",
        "colab_type": "text"
      },
      "source": [
        "<a href=\"https://colab.research.google.com/github/Kang-Yoonah/BaekJoon/blob/main/Silver/1476.ipynb\" target=\"_parent\"><img src=\"https://colab.research.google.com/assets/colab-badge.svg\" alt=\"Open In Colab\"/></a>"
      ]
    },
    {
      "cell_type": "markdown",
      "source": [
        "지구를 나타내는 수를 E, 태양을 나타내는 수를 S, 달을 나타내는 수를 M이라고 했을 때,   \n",
        "이 세 수는 서로 다른 범위를 가진다. (1 ≤ E ≤ 15, 1 ≤ S ≤ 28, 1 ≤ M ≤ 19)"
      ],
      "metadata": {
        "id": "_FnuTUU8tM7o"
      }
    },
    {
      "cell_type": "code",
      "execution_count": 7,
      "metadata": {
        "colab": {
          "base_uri": "https://localhost:8080/"
        },
        "id": "JF1HaIazsnyZ",
        "outputId": "50c81cac-4624-4a35-d393-b199718b5b97"
      },
      "outputs": [
        {
          "output_type": "stream",
          "name": "stdout",
          "text": [
            "1 2 3 \n",
            "5266\n"
          ]
        }
      ],
      "source": [
        "E, S, M = map(int,input().split())\n",
        "S %= 28\n",
        "M %= 19\n",
        "count = E    # 지구부터 고정\n",
        "s = m = E\n",
        "while m != M:\n",
        "    m += 15\n",
        "    s += 15\n",
        "    count += 15\n",
        "    m %= 19\n",
        "    s %= 28\n",
        "multi = 15*19\n",
        "while s != S:\n",
        "    s += multi\n",
        "    count += multi\n",
        "    s %= 28\n",
        "print(count)"
      ]
    },
    {
      "cell_type": "markdown",
      "source": [
        "- S와 M이 각각 28, 19 단위로 범위가 한정되어있으므로   \n",
        "나머지로 계산할 수 있음.\n",
        "- S와 M을 따로 확인하기보다 `count`에 15씩 더해가며 28과 19로 나눈 나머지로 동시에 확인할 수 있음."
      ],
      "metadata": {
        "id": "Qiedjwg_yZxo"
      }
    },
    {
      "cell_type": "code",
      "source": [
        "E, S, M = map(int,input().split())\n",
        "count = E\n",
        "S %= 28\n",
        "M %= 19\n",
        "while True:\n",
        "    if count % 28 == S and count % 19 == M:\n",
        "        break\n",
        "    count += 15\n",
        "print(count)"
      ],
      "metadata": {
        "colab": {
          "base_uri": "https://localhost:8080/"
        },
        "id": "5Rkd76Oixky_",
        "outputId": "6ef238bc-7867-4561-c2d9-6821be4db042"
      },
      "execution_count": 8,
      "outputs": [
        {
          "output_type": "stream",
          "name": "stdout",
          "text": [
            "1 2 3\n",
            "5266\n"
          ]
        }
      ]
    }
  ]
}