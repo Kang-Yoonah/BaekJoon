{
  "nbformat": 4,
  "nbformat_minor": 0,
  "metadata": {
    "colab": {
      "provenance": [],
      "authorship_tag": "ABX9TyNSEXNQx1WcVEDusNUjwgmt",
      "include_colab_link": true
    },
    "kernelspec": {
      "name": "python3",
      "display_name": "Python 3"
    },
    "language_info": {
      "name": "python"
    }
  },
  "cells": [
    {
      "cell_type": "markdown",
      "metadata": {
        "id": "view-in-github",
        "colab_type": "text"
      },
      "source": [
        "<a href=\"https://colab.research.google.com/github/Kang-Yoonah/BaekJoon/blob/main/Silver/14888.ipynb\" target=\"_parent\"><img src=\"https://colab.research.google.com/assets/colab-badge.svg\" alt=\"Open In Colab\"/></a>"
      ]
    },
    {
      "cell_type": "code",
      "execution_count": 1,
      "metadata": {
        "colab": {
          "base_uri": "https://localhost:8080/"
        },
        "id": "lPRAQ4xAuiRY",
        "outputId": "5a71ecb9-1643-4d43-d83e-576dd422bfb3"
      },
      "outputs": [
        {
          "output_type": "stream",
          "name": "stdout",
          "text": [
            "6\n",
            "1 2 3 4 5 6\n",
            "2 1 1 1\n",
            "54\n",
            "-24\n"
          ]
        }
      ],
      "source": [
        "from itertools import permutations\n",
        "\n",
        "N = int(input())\n",
        "num = list(map(int,input().split()))\n",
        "op = list(map(int,input().split()))\n",
        "max_ans, min_ans, op_list = -1e10, 1e10, []\n",
        "for i in range(4):\n",
        "    op_list += [i+1]*op[i]\n",
        "\n",
        "def calculator(num, i_list):\n",
        "    ind, ans = 0, num[0]\n",
        "    for j in range(1,N):\n",
        "        if i_list[ind] == 1:\n",
        "            ans += num[j]\n",
        "        elif i_list[ind] == 2:\n",
        "            ans -= num[j]\n",
        "        elif i_list[ind] == 3:\n",
        "            ans *= num[j]\n",
        "        else:\n",
        "            if ans <0:\n",
        "                ans = -((-ans)//num[j])\n",
        "            else:\n",
        "                ans //= num[j]\n",
        "        ind += 1\n",
        "    return ans\n",
        "op_list = set(permutations(op_list))\n",
        "\n",
        "for i_list in op_list:\n",
        "    ans = calculator(num, i_list)\n",
        "    max_ans = max(max_ans, ans)\n",
        "    min_ans = min(min_ans, ans)\n",
        "print(max_ans, min_ans, sep='\\n')"
      ]
    }
  ]
}