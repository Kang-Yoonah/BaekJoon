{
  "nbformat": 4,
  "nbformat_minor": 0,
  "metadata": {
    "colab": {
      "name": "14929.ipynb",
      "provenance": [],
      "authorship_tag": "ABX9TyMg6JlZ72teoyirDHlDbtTY",
      "include_colab_link": true
    },
    "kernelspec": {
      "name": "python3",
      "display_name": "Python 3"
    },
    "language_info": {
      "name": "python"
    }
  },
  "cells": [
    {
      "cell_type": "markdown",
      "metadata": {
        "id": "view-in-github",
        "colab_type": "text"
      },
      "source": [
        "<a href=\"https://colab.research.google.com/github/Kang-Yoonah/BaekJoon/blob/main/Silver/14929.ipynb\" target=\"_parent\"><img src=\"https://colab.research.google.com/assets/colab-badge.svg\" alt=\"Open In Colab\"/></a>"
      ]
    },
    {
      "cell_type": "code",
      "source": [
        "import sys\n",
        "input = sys.stdin.readline\n",
        "\n",
        "n = int(input())\n",
        "num = list(map(int,input().split()))\n",
        "s = sum(num)\n",
        "ans = 0\n",
        "for j in num:\n",
        "    s -= j\n",
        "    ans += j * s\n",
        "print(ans)"
      ],
      "metadata": {
        "colab": {
          "base_uri": "https://localhost:8080/"
        },
        "id": "-L217oSOtQnh",
        "outputId": "38d75a40-5227-4b65-cbee-3d4d724835c8"
      },
      "execution_count": 1,
      "outputs": [
        {
          "output_type": "stream",
          "name": "stdout",
          "text": [
            "3\n",
            "1 -2 3\n",
            "-5\n"
          ]
        }
      ]
    },
    {
      "cell_type": "code",
      "execution_count": 11,
      "metadata": {
        "colab": {
          "base_uri": "https://localhost:8080/"
        },
        "id": "8xvfzgiYlR9I",
        "outputId": "36aa7908-900a-42aa-f7fc-4255f3a4b54c"
      },
      "outputs": [
        {
          "output_type": "stream",
          "name": "stdout",
          "text": [
            "3\n",
            "1 -2 3\n",
            "-5\n"
          ]
        }
      ],
      "source": [
        "import sys\n",
        "input = sys.stdin.readline\n",
        "\n",
        "n = int(input())\n",
        "num = list(map(int,input().split()))\n",
        "sum = num.copy()\n",
        "for i in range(1,n):\n",
        "    sum[i] += sum[i-1]\n",
        "ans = 0\n",
        "for j in range(1,n):\n",
        "    ans += num[j] * sum[j-1]\n",
        "print(ans)"
      ]
    }
  ]
}