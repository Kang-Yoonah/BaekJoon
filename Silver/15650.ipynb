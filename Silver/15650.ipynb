{
  "nbformat": 4,
  "nbformat_minor": 0,
  "metadata": {
    "colab": {
      "provenance": [],
      "authorship_tag": "ABX9TyP8IFIS0xzBpitDpP/SHyzj",
      "include_colab_link": true
    },
    "kernelspec": {
      "name": "python3",
      "display_name": "Python 3"
    },
    "language_info": {
      "name": "python"
    }
  },
  "cells": [
    {
      "cell_type": "markdown",
      "metadata": {
        "id": "view-in-github",
        "colab_type": "text"
      },
      "source": [
        "<a href=\"https://colab.research.google.com/github/Kang-Yoonah/BaekJoon/blob/main/Silver/15650.ipynb\" target=\"_parent\"><img src=\"https://colab.research.google.com/assets/colab-badge.svg\" alt=\"Open In Colab\"/></a>"
      ]
    },
    {
      "cell_type": "code",
      "source": [
        "from itertools import combinations\n",
        "def sol():\n",
        "    N, M = map(int, input().split())\n",
        "    for i in combinations(list(range(1, N+1)), M):\n",
        "        print(' '.join(map(str, i)))\n",
        "sol()"
      ],
      "metadata": {
        "colab": {
          "base_uri": "https://localhost:8080/"
        },
        "id": "V5Behma77t2H",
        "outputId": "2a49221a-7669-40dd-8993-ea84c0e5db74"
      },
      "execution_count": 2,
      "outputs": [
        {
          "output_type": "stream",
          "name": "stdout",
          "text": [
            "6 4\n",
            "1 2 3 4\n",
            "1 2 3 5\n",
            "1 2 3 6\n",
            "1 2 4 5\n",
            "1 2 4 6\n",
            "1 2 5 6\n",
            "1 3 4 5\n",
            "1 3 4 6\n",
            "1 3 5 6\n",
            "1 4 5 6\n",
            "2 3 4 5\n",
            "2 3 4 6\n",
            "2 3 5 6\n",
            "2 4 5 6\n",
            "3 4 5 6\n"
          ]
        }
      ]
    }
  ]
}