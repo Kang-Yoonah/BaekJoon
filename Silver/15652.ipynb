{
  "nbformat": 4,
  "nbformat_minor": 0,
  "metadata": {
    "colab": {
      "provenance": [],
      "authorship_tag": "ABX9TyOhBILCIJ4vV82s6SbvM57d",
      "include_colab_link": true
    },
    "kernelspec": {
      "name": "python3",
      "display_name": "Python 3"
    },
    "language_info": {
      "name": "python"
    }
  },
  "cells": [
    {
      "cell_type": "markdown",
      "metadata": {
        "id": "view-in-github",
        "colab_type": "text"
      },
      "source": [
        "<a href=\"https://colab.research.google.com/github/Kang-Yoonah/BaekJoon/blob/main/Silver/15652.ipynb\" target=\"_parent\"><img src=\"https://colab.research.google.com/assets/colab-badge.svg\" alt=\"Open In Colab\"/></a>"
      ]
    },
    {
      "cell_type": "code",
      "source": [
        "def sol(i, N, List,k):\n",
        "    for j in range(k, N+1):\n",
        "        List.append(str(j))\n",
        "        if i == 1:\n",
        "            print(' '.join(List))\n",
        "        else:\n",
        "            sol(i-1, N, List,k)\n",
        "            k += 1\n",
        "        List.pop()        \n",
        "        \n",
        "N, M = map(int, input().split())\n",
        "sol(M, N, [], 1)"
      ],
      "metadata": {
        "colab": {
          "base_uri": "https://localhost:8080/"
        },
        "id": "V5Behma77t2H",
        "outputId": "7ebca71f-593c-4a7a-84b3-c64d12d10e27"
      },
      "execution_count": 1,
      "outputs": [
        {
          "output_type": "stream",
          "name": "stdout",
          "text": [
            "3 1\n",
            "1\n",
            "2\n",
            "3\n"
          ]
        }
      ]
    }
  ]
}