{
  "nbformat": 4,
  "nbformat_minor": 0,
  "metadata": {
    "colab": {
      "provenance": [],
      "authorship_tag": "ABX9TyMpzT5yDViEdImId648Uy4g",
      "include_colab_link": true
    },
    "kernelspec": {
      "name": "python3",
      "display_name": "Python 3"
    },
    "language_info": {
      "name": "python"
    }
  },
  "cells": [
    {
      "cell_type": "markdown",
      "metadata": {
        "id": "view-in-github",
        "colab_type": "text"
      },
      "source": [
        "<a href=\"https://colab.research.google.com/github/Kang-Yoonah/BaekJoon/blob/main/Silver/15664.ipynb\" target=\"_parent\"><img src=\"https://colab.research.google.com/assets/colab-badge.svg\" alt=\"Open In Colab\"/></a>"
      ]
    },
    {
      "cell_type": "code",
      "source": [
        "from itertools import combinations\n",
        "\n",
        "N, M = map(int,input().split())\n",
        "num = sorted(list(map(int,input().split())))\n",
        "\n",
        "S = sorted(set(combinations(num, M)))\n",
        "for s in S:\n",
        "    print(' '.join(map(str,s)))"
      ],
      "metadata": {
        "colab": {
          "base_uri": "https://localhost:8080/"
        },
        "id": "pfmEFl06JHGM",
        "outputId": "708d8cc4-e03d-48ed-b397-586540a1f73e"
      },
      "execution_count": 1,
      "outputs": [
        {
          "output_type": "stream",
          "name": "stdout",
          "text": [
            "4 2\n",
            "9 7 9 1\n",
            "1 7\n",
            "1 9\n",
            "7 9\n",
            "9 9\n"
          ]
        }
      ]
    }
  ]
}