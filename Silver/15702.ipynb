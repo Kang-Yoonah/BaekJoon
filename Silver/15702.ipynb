{
  "nbformat": 4,
  "nbformat_minor": 0,
  "metadata": {
    "colab": {
      "provenance": [],
      "authorship_tag": "ABX9TyM9h9z0PlUhEjVrjj0lhm2n",
      "include_colab_link": true
    },
    "kernelspec": {
      "name": "python3",
      "display_name": "Python 3"
    },
    "language_info": {
      "name": "python"
    }
  },
  "cells": [
    {
      "cell_type": "markdown",
      "metadata": {
        "id": "view-in-github",
        "colab_type": "text"
      },
      "source": [
        "<a href=\"https://colab.research.google.com/github/Kang-Yoonah/BaekJoon/blob/main/Silver/15702.ipynb\" target=\"_parent\"><img src=\"https://colab.research.google.com/assets/colab-badge.svg\" alt=\"Open In Colab\"/></a>"
      ]
    },
    {
      "cell_type": "code",
      "execution_count": null,
      "metadata": {
        "id": "Rn9JxXu332IN"
      },
      "outputs": [],
      "source": [
        "import sys \n",
        "input = sys.stdin.readline\n",
        "\n",
        "def sol():\n",
        "    N,M = map(int,input().split())\n",
        "    score = list(map(int,input().split()))\n",
        "    total = []\n",
        "    for _ in range(M):\n",
        "        A = input().split()\n",
        "        num = 0\n",
        "        for i in range(N):\n",
        "            if A[i+1] == \"O\":\n",
        "                num += score[i]\n",
        "        total.append([int(A[0]),num])\n",
        "    total.sort(key = lambda x : (-x[1],x[0]))\n",
        "    return total[0]\n",
        "              \n",
        "print(*sol())"
      ]
    }
  ]
}