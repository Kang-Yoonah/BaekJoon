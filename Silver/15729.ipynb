{
  "nbformat": 4,
  "nbformat_minor": 0,
  "metadata": {
    "colab": {
      "provenance": [],
      "authorship_tag": "ABX9TyOd0LOcVVr2Gsof8dPt/KQH",
      "include_colab_link": true
    },
    "kernelspec": {
      "name": "python3",
      "display_name": "Python 3"
    },
    "language_info": {
      "name": "python"
    }
  },
  "cells": [
    {
      "cell_type": "markdown",
      "metadata": {
        "id": "view-in-github",
        "colab_type": "text"
      },
      "source": [
        "<a href=\"https://colab.research.google.com/github/Kang-Yoonah/BaekJoon/blob/main/Silver/15729.ipynb\" target=\"_parent\"><img src=\"https://colab.research.google.com/assets/colab-badge.svg\" alt=\"Open In Colab\"/></a>"
      ]
    },
    {
      "cell_type": "code",
      "source": [
        "#import sys \n",
        "#input = sys.stdin.readline\n",
        "\n",
        "def sol(N,num):\n",
        "    B = list(map(int,input().split()))+[0,0]\n",
        "    for i in range(N):\n",
        "        if B[i]:\n",
        "            for j in range(3):\n",
        "                B[i+j] = 1-B[i+j]\n",
        "            num += 1\n",
        "    return num\n",
        "        \n",
        "print(sol(int(input()),0))  "
      ],
      "metadata": {
        "colab": {
          "base_uri": "https://localhost:8080/"
        },
        "id": "V5Behma77t2H",
        "outputId": "2fbfe5f5-72a7-4ffd-8d6f-213814bb86d4"
      },
      "execution_count": 1,
      "outputs": [
        {
          "output_type": "stream",
          "name": "stdout",
          "text": [
            "7\n",
            "0 0 1 0 0 1 0\n",
            "2\n"
          ]
        }
      ]
    }
  ]
}