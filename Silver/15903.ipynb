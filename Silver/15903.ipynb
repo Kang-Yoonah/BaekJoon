{
  "nbformat": 4,
  "nbformat_minor": 0,
  "metadata": {
    "colab": {
      "provenance": [],
      "authorship_tag": "ABX9TyPbD7qXSLHH1GntCQf/nrXq",
      "include_colab_link": true
    },
    "kernelspec": {
      "name": "python3",
      "display_name": "Python 3"
    },
    "language_info": {
      "name": "python"
    }
  },
  "cells": [
    {
      "cell_type": "markdown",
      "metadata": {
        "id": "view-in-github",
        "colab_type": "text"
      },
      "source": [
        "<a href=\"https://colab.research.google.com/github/Kang-Yoonah/BaekJoon/blob/main/Silver/15903.ipynb\" target=\"_parent\"><img src=\"https://colab.research.google.com/assets/colab-badge.svg\" alt=\"Open In Colab\"/></a>"
      ]
    },
    {
      "cell_type": "code",
      "execution_count": null,
      "metadata": {
        "id": "Oij5AeY3mmNU"
      },
      "outputs": [],
      "source": [
        "from heapq import *\n",
        "import sys \n",
        "input = sys.stdin.readline\n",
        "\n",
        "def sol():\n",
        "    _,m = map(int,input().split()) \n",
        "    Cards = list(map(int,input().split()))\n",
        "    \n",
        "    heapify(Cards)\n",
        "    for _ in range(m):\n",
        "        a,b = heappop(Cards),heappop(Cards)\n",
        "        c = a+b\n",
        "        heappush(Cards,c)\n",
        "        heappush(Cards,c)\n",
        "    return sum(Cards)\n",
        "\n",
        "print(sol())"
      ]
    }
  ]
}