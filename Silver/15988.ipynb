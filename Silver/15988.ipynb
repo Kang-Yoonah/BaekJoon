{
  "nbformat": 4,
  "nbformat_minor": 0,
  "metadata": {
    "colab": {
      "name": "15988.ipynb",
      "provenance": [],
      "authorship_tag": "ABX9TyN0luXgTCaHV+wW2GPfzj65",
      "include_colab_link": true
    },
    "kernelspec": {
      "name": "python3",
      "display_name": "Python 3"
    },
    "language_info": {
      "name": "python"
    }
  },
  "cells": [
    {
      "cell_type": "markdown",
      "metadata": {
        "id": "view-in-github",
        "colab_type": "text"
      },
      "source": [
        "<a href=\"https://colab.research.google.com/github/Kang-Yoonah/BaekJoon/blob/main/Silver/15988.ipynb\" target=\"_parent\"><img src=\"https://colab.research.google.com/assets/colab-badge.svg\" alt=\"Open In Colab\"/></a>"
      ]
    },
    {
      "cell_type": "code",
      "execution_count": 1,
      "metadata": {
        "colab": {
          "base_uri": "https://localhost:8080/"
        },
        "id": "REclHTXT8YD2",
        "outputId": "23b0077b-5f4c-471e-d83d-ce3548b20e9a"
      },
      "outputs": [
        {
          "output_type": "stream",
          "name": "stdout",
          "text": [
            "3\n",
            "4\n",
            "7\n",
            "10\n",
            "7\n",
            "44\n",
            "274\n"
          ]
        }
      ],
      "source": [
        "#import sys\n",
        "#input = sys.stdin.readline\n",
        "T = int(input())\n",
        "n = [int(input()) for _ in range(T)]\n",
        "m = max(n)\n",
        "def dp_function(m):\n",
        "    dp = [0]*(m+1)\n",
        "    dp[0] = 1\n",
        "    for i in range(1,m+1):\n",
        "        dp[i] = dp[i-1] + dp[i-2] + dp[i-3]\n",
        "        dp[i] %= 1000000009\n",
        "    return dp\n",
        "dp = dp_function(m)\n",
        "for i in n:\n",
        "    print(dp[i])"
      ]
    }
  ]
}