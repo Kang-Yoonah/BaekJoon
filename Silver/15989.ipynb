{
  "nbformat": 4,
  "nbformat_minor": 0,
  "metadata": {
    "colab": {
      "name": "15989.ipynb",
      "provenance": [],
      "authorship_tag": "ABX9TyPsbeEnnFrCNlqwRcmE9Nif",
      "include_colab_link": true
    },
    "kernelspec": {
      "name": "python3",
      "display_name": "Python 3"
    },
    "language_info": {
      "name": "python"
    }
  },
  "cells": [
    {
      "cell_type": "markdown",
      "metadata": {
        "id": "view-in-github",
        "colab_type": "text"
      },
      "source": [
        "<a href=\"https://colab.research.google.com/github/Kang-Yoonah/BaekJoon/blob/main/Silver/15989.ipynb\" target=\"_parent\"><img src=\"https://colab.research.google.com/assets/colab-badge.svg\" alt=\"Open In Colab\"/></a>"
      ]
    },
    {
      "cell_type": "code",
      "execution_count": 1,
      "metadata": {
        "colab": {
          "base_uri": "https://localhost:8080/"
        },
        "id": "TcxglZKNU3v0",
        "outputId": "f772e115-7d47-41d4-9d64-08f3c246700f"
      },
      "outputs": [
        {
          "output_type": "stream",
          "name": "stdout",
          "text": [
            "3\n",
            "4\n",
            "7\n",
            "10\n",
            "4\n",
            "8\n",
            "14\n"
          ]
        }
      ],
      "source": [
        "#import sys\n",
        "#input = sys.stdin.readline\n",
        "num = [int(input()) for _ in range(int(input()))]\n",
        "def dp_function(m):\n",
        "    dp = [0]*(m+1)\n",
        "    dp[0] = 1\n",
        "    for i in range(1,4):\n",
        "        for j in range(i,m+1):\n",
        "            dp[j] += dp[j-i]\n",
        "    return dp\n",
        "dp = dp_function(max(num))\n",
        "for number in num:\n",
        "    print(dp[number])"
      ]
    }
  ]
}