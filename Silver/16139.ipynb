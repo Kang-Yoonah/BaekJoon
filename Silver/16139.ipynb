{
  "nbformat": 4,
  "nbformat_minor": 0,
  "metadata": {
    "colab": {
      "provenance": [],
      "authorship_tag": "ABX9TyNqFWoUlneHjuFdxlSlhjzr",
      "include_colab_link": true
    },
    "kernelspec": {
      "name": "python3",
      "display_name": "Python 3"
    },
    "language_info": {
      "name": "python"
    }
  },
  "cells": [
    {
      "cell_type": "markdown",
      "metadata": {
        "id": "view-in-github",
        "colab_type": "text"
      },
      "source": [
        "<a href=\"https://colab.research.google.com/github/Kang-Yoonah/BaekJoon/blob/main/Silver/16139.ipynb\" target=\"_parent\"><img src=\"https://colab.research.google.com/assets/colab-badge.svg\" alt=\"Open In Colab\"/></a>"
      ]
    },
    {
      "cell_type": "code",
      "execution_count": 3,
      "metadata": {
        "colab": {
          "base_uri": "https://localhost:8080/"
        },
        "id": "5gm2z1LImxGL",
        "outputId": "fa7fa272-67bb-4834-813d-3428634e422a"
      },
      "outputs": [
        {
          "output_type": "stream",
          "name": "stdout",
          "text": [
            "seungjaehwang\n",
            "4\n",
            "a 0 5\n",
            "0\n",
            "a 0 6\n",
            "1\n",
            "a 6 10\n",
            "2\n",
            "a 7 10\n",
            "1\n"
          ]
        }
      ],
      "source": [
        "#import sys\n",
        "#input = sys.stdin.readline\n",
        "\n",
        "def sol(S):\n",
        "    cnt = [[0]*26]\n",
        "    for s in S:\n",
        "        v = cnt[-1].copy()\n",
        "        v[ord(s)%97] += 1\n",
        "        cnt.append(v)\n",
        "    \n",
        "    for _ in range(int(input())):\n",
        "        s, pl, pr = input().split()\n",
        "        ind = ord(s)%97\n",
        "        print(cnt[int(pr)+1][ind] - cnt[int(pl)][ind])\n",
        "\n",
        "sol(input().strip())"
      ]
    }
  ]
}