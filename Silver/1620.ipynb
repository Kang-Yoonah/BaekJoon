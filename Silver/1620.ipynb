{
  "nbformat": 4,
  "nbformat_minor": 0,
  "metadata": {
    "colab": {
      "name": "1620.ipynb",
      "provenance": [],
      "authorship_tag": "ABX9TyN1vmE3fQWJ54BUDOkK/XTp",
      "include_colab_link": true
    },
    "kernelspec": {
      "name": "python3",
      "display_name": "Python 3"
    },
    "language_info": {
      "name": "python"
    }
  },
  "cells": [
    {
      "cell_type": "markdown",
      "metadata": {
        "id": "view-in-github",
        "colab_type": "text"
      },
      "source": [
        "<a href=\"https://colab.research.google.com/github/Kang-Yoonah/BaekJoon/blob/main/Silver/1620.ipynb\" target=\"_parent\"><img src=\"https://colab.research.google.com/assets/colab-badge.svg\" alt=\"Open In Colab\"/></a>"
      ]
    },
    {
      "cell_type": "code",
      "execution_count": 8,
      "metadata": {
        "colab": {
          "base_uri": "https://localhost:8080/"
        },
        "id": "Dh-uqiDp8P-5",
        "outputId": "69921305-86ea-4e80-ddb3-1d32112f20d6"
      },
      "outputs": [
        {
          "output_type": "stream",
          "name": "stdout",
          "text": [
            "26 5\n",
            "Bulbasaur\n",
            "Ivysaur\n",
            "Venusaur\n",
            "Charmander\n",
            "Charmeleon\n",
            "Charizard\n",
            "Squirtle\n",
            "Wartortle\n",
            "Blastoise\n",
            "Caterpie\n",
            "Metapod\n",
            "Butterfree\n",
            "Weedle\n",
            "Kakuna\n",
            "Beedrill\n",
            "Pidgey\n",
            "Pidgeotto\n",
            "Pidgeot\n",
            "Rattata\n",
            "Raticate\n",
            "Spearow\n",
            "Fearow\n",
            "Ekans\n",
            "Arbok\n",
            "Pikachu\n",
            "Raichu\n",
            "25\n",
            "Pikachu\n",
            "Raichu\n",
            "26\n",
            "3\n",
            "Venusaur\n",
            "Pidgey\n",
            "16\n",
            "Kakuna\n",
            "14\n"
          ]
        }
      ],
      "source": [
        "#import sys\n",
        "#input = sys.stdin.readline\n",
        "\n",
        "N, M = map(int,input().split())\n",
        "number_dict = {}\n",
        "name_dict = {}\n",
        "for number in range(1,N+1):\n",
        "    name = input().rstrip()\n",
        "    name_dict[name] = number\n",
        "    number_dict[number] = name\n",
        "\n",
        "for _ in range(M):\n",
        "    value = input().strip()\n",
        "    if value.isdigit():\n",
        "        print(number_dict[int(value)])\n",
        "    else:\n",
        "        print(name_dict[value])"
      ]
    }
  ]
}