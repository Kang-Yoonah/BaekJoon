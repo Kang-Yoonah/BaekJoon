{
  "nbformat": 4,
  "nbformat_minor": 0,
  "metadata": {
    "colab": {
      "name": "16435.ipynb",
      "provenance": [],
      "authorship_tag": "ABX9TyPYmAdLkeNfy8GTgNHCwR6h",
      "include_colab_link": true
    },
    "kernelspec": {
      "name": "python3",
      "display_name": "Python 3"
    },
    "language_info": {
      "name": "python"
    }
  },
  "cells": [
    {
      "cell_type": "markdown",
      "metadata": {
        "id": "view-in-github",
        "colab_type": "text"
      },
      "source": [
        "<a href=\"https://colab.research.google.com/github/Kang-Yoonah/BaekJoon/blob/main/Silver/16435.ipynb\" target=\"_parent\"><img src=\"https://colab.research.google.com/assets/colab-badge.svg\" alt=\"Open In Colab\"/></a>"
      ]
    },
    {
      "cell_type": "code",
      "execution_count": 1,
      "metadata": {
        "colab": {
          "base_uri": "https://localhost:8080/"
        },
        "id": "LVGzq0CEQTVb",
        "outputId": "cdd2aaa4-b509-403f-ef14-feefbf97935b"
      },
      "outputs": [
        {
          "output_type": "stream",
          "name": "stdout",
          "text": [
            "9 1\n",
            "9 5 8 1 3 2 7 6 4\n",
            "10\n"
          ]
        }
      ],
      "source": [
        "N, L = map(int, input().split())\n",
        "fruit = list(map(int, input().split()))\n",
        "fruit.sort()\n",
        "\n",
        "for i in fruit:\n",
        "    if i <= L:\n",
        "        L +=1\n",
        "    else:\n",
        "        break\n",
        "print(L)"
      ]
    }
  ]
}