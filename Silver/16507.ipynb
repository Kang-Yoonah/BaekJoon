{
  "nbformat": 4,
  "nbformat_minor": 0,
  "metadata": {
    "colab": {
      "provenance": [],
      "authorship_tag": "ABX9TyMAHdwCbSZ6oQInUoYGrllC",
      "include_colab_link": true
    },
    "kernelspec": {
      "name": "python3",
      "display_name": "Python 3"
    },
    "language_info": {
      "name": "python"
    }
  },
  "cells": [
    {
      "cell_type": "markdown",
      "metadata": {
        "id": "view-in-github",
        "colab_type": "text"
      },
      "source": [
        "<a href=\"https://colab.research.google.com/github/Kang-Yoonah/BaekJoon/blob/main/Silver/16507.ipynb\" target=\"_parent\"><img src=\"https://colab.research.google.com/assets/colab-badge.svg\" alt=\"Open In Colab\"/></a>"
      ]
    },
    {
      "cell_type": "code",
      "source": [
        "def sol():\n",
        "    R,C,Q = map(int,input().split())\n",
        "    P = [[0]*(C+1)] + [[0] + list(map(int,input().split())) for _ in range(R)]\n",
        "    for i in range(1,R+1):\n",
        "        for j in range(1,C+1):\n",
        "            P[i][j] += P[i][j-1] + P[i-1][j] - P[i-1][j-1]    \n",
        "    for _ in range(Q):\n",
        "        r1,c1,r2,c2 = map(int,input().split())\n",
        "        print((P[r2][c2] - P[r2][c1-1] - P[r1-1][c2]  + P[r1-1][c1-1])//((r2-r1+1)*(c2-c1+1)))   \n",
        "\n",
        "sol()\n"
      ],
      "metadata": {
        "id": "Gw8F0-TWPI0g",
        "colab": {
          "base_uri": "https://localhost:8080/"
        },
        "outputId": "a38b6624-bb09-4e39-bb01-fa871a3c4e54"
      },
      "execution_count": 1,
      "outputs": [
        {
          "output_type": "stream",
          "name": "stdout",
          "text": [
            "5 6 1\n",
            "4 1 3 4 9 5\n",
            "1 2 8 7 5 5\n",
            "8 1 2 5 3 2\n",
            "1 5 3 4 2 5\n",
            "5 2 1 2 3 5\n",
            "2 2 4 5\n",
            "3\n"
          ]
        }
      ]
    }
  ]
}