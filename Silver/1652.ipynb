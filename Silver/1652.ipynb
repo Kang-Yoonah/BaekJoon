{
  "nbformat": 4,
  "nbformat_minor": 0,
  "metadata": {
    "colab": {
      "provenance": [],
      "authorship_tag": "ABX9TyPhUibqtz/K4Ni3TRovR236",
      "include_colab_link": true
    },
    "kernelspec": {
      "name": "python3",
      "display_name": "Python 3"
    },
    "language_info": {
      "name": "python"
    }
  },
  "cells": [
    {
      "cell_type": "markdown",
      "metadata": {
        "id": "view-in-github",
        "colab_type": "text"
      },
      "source": [
        "<a href=\"https://colab.research.google.com/github/Kang-Yoonah/BaekJoon/blob/main/Silver/1652.ipynb\" target=\"_parent\"><img src=\"https://colab.research.google.com/assets/colab-badge.svg\" alt=\"Open In Colab\"/></a>"
      ]
    },
    {
      "cell_type": "code",
      "execution_count": 1,
      "metadata": {
        "colab": {
          "base_uri": "https://localhost:8080/"
        },
        "id": "00uoOHWdwoyC",
        "outputId": "91fcd3b9-e9cc-440e-80ad-16c910a90a13"
      },
      "outputs": [
        {
          "output_type": "stream",
          "name": "stdout",
          "text": [
            "5\n",
            "....X\n",
            "..XX.\n",
            ".....\n",
            ".XX..\n",
            "X....\n",
            "5 4\n"
          ]
        }
      ],
      "source": [
        "def sol(N):\n",
        "    box = [input().strip() for _ in range(N)]\n",
        "    ans1 = ans2 = 0\n",
        "    for i in range(N):\n",
        "        v = box[i].split('X')\n",
        "        for t in v:\n",
        "            if len(t) > 1:\n",
        "                ans1 += 1\n",
        "        v = [box[j][i] for j in range(N)]\n",
        "        v = ''.join(v).split('X')\n",
        "        for t in v:\n",
        "            if len(t) > 1:\n",
        "                ans2 += 1\n",
        "    print(ans1, ans2)\n",
        "\n",
        "sol(int(input()))"
      ]
    }
  ]
}