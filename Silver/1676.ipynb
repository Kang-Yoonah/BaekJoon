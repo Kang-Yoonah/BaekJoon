{
  "nbformat": 4,
  "nbformat_minor": 0,
  "metadata": {
    "colab": {
      "name": "1676.ipynb",
      "provenance": [],
      "authorship_tag": "ABX9TyPbmhECfNKs6wlKKHO7ACzi",
      "include_colab_link": true
    },
    "kernelspec": {
      "name": "python3",
      "display_name": "Python 3"
    },
    "language_info": {
      "name": "python"
    }
  },
  "cells": [
    {
      "cell_type": "markdown",
      "metadata": {
        "id": "view-in-github",
        "colab_type": "text"
      },
      "source": [
        "<a href=\"https://colab.research.google.com/github/Kang-Yoonah/BaekJoon/blob/main/Silver/1676.ipynb\" target=\"_parent\"><img src=\"https://colab.research.google.com/assets/colab-badge.svg\" alt=\"Open In Colab\"/></a>"
      ]
    },
    {
      "cell_type": "code",
      "execution_count": 1,
      "metadata": {
        "colab": {
          "base_uri": "https://localhost:8080/"
        },
        "id": "dMximsW5_Cl-",
        "outputId": "258845f9-3e18-40cb-a18b-dc5d3b26b732"
      },
      "outputs": [
        {
          "output_type": "stream",
          "name": "stdout",
          "text": [
            "500\n",
            "124\n"
          ]
        }
      ],
      "source": [
        "N = int(input())\n",
        "def five(N):\n",
        "    ans, f = 0, 5\n",
        "    while f <= N:\n",
        "        ans += (N//f)\n",
        "        f *= 5\n",
        "    return ans\n",
        "print(five(N))"
      ]
    }
  ]
}