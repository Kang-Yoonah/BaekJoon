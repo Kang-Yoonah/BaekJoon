{
  "nbformat": 4,
  "nbformat_minor": 0,
  "metadata": {
    "colab": {
      "name": "16953.ipynb",
      "provenance": [],
      "authorship_tag": "ABX9TyOfqi61P8hUqv8oKJ7PrZP7",
      "include_colab_link": true
    },
    "kernelspec": {
      "name": "python3",
      "display_name": "Python 3"
    },
    "language_info": {
      "name": "python"
    }
  },
  "cells": [
    {
      "cell_type": "markdown",
      "metadata": {
        "id": "view-in-github",
        "colab_type": "text"
      },
      "source": [
        "<a href=\"https://colab.research.google.com/github/Kang-Yoonah/BaekJoon/blob/main/Silver/16953.ipynb\" target=\"_parent\"><img src=\"https://colab.research.google.com/assets/colab-badge.svg\" alt=\"Open In Colab\"/></a>"
      ]
    },
    {
      "cell_type": "code",
      "source": [
        "A, B = map(int,input().split())\n",
        "\n",
        "count = 1\n",
        "while B > A:\n",
        "    if str(B)[-1] == '1':\n",
        "        B -= 1\n",
        "        B //= 10\n",
        "        count +=1\n",
        "    elif B % 2 == 0:\n",
        "        B //= 2\n",
        "        count +=1\n",
        "    else:\n",
        "        break\n",
        "if B == A:\n",
        "    print(count)\n",
        "else:\n",
        "    print(-1)"
      ],
      "metadata": {
        "colab": {
          "base_uri": "https://localhost:8080/"
        },
        "id": "2kulxXoJewi6",
        "outputId": "4206d710-0513-4777-b955-2f5809a9e3f2"
      },
      "execution_count": 19,
      "outputs": [
        {
          "output_type": "stream",
          "name": "stdout",
          "text": [
            "4 42\n",
            "-1\n"
          ]
        }
      ]
    }
  ]
}