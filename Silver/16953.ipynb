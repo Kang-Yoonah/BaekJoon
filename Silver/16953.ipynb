{
  "nbformat": 4,
  "nbformat_minor": 0,
  "metadata": {
    "colab": {
      "name": "16953.ipynb",
      "provenance": [],
      "authorship_tag": "ABX9TyNtr67OKMgJ3iS0b2Fz04GV",
      "include_colab_link": true
    },
    "kernelspec": {
      "name": "python3",
      "display_name": "Python 3"
    },
    "language_info": {
      "name": "python"
    }
  },
  "cells": [
    {
      "cell_type": "markdown",
      "metadata": {
        "id": "view-in-github",
        "colab_type": "text"
      },
      "source": [
        "<a href=\"https://colab.research.google.com/github/Kang-Yoonah/BaekJoon/blob/main/Silver/16953.ipynb\" target=\"_parent\"><img src=\"https://colab.research.google.com/assets/colab-badge.svg\" alt=\"Open In Colab\"/></a>"
      ]
    },
    {
      "cell_type": "code",
      "source": [
        "A, B = map(int,input().split())\n",
        "\n",
        "count = 1\n",
        "while B > A:\n",
        "    if str(B)[-1] == '1':\n",
        "        B -= 1\n",
        "        B //= 10\n",
        "        count +=1\n",
        "    elif B % 2 == 0:\n",
        "        B //= 2\n",
        "        count +=1\n",
        "    else:\n",
        "        break\n",
        "if B == A:\n",
        "    print(count)\n",
        "else:\n",
        "    print(-1)"
      ],
      "metadata": {
        "colab": {
          "base_uri": "https://localhost:8080/"
        },
        "id": "2kulxXoJewi6",
        "outputId": "04e7cd60-e512-4d5c-d42d-11dfa6dce4cc"
      },
      "execution_count": 20,
      "outputs": [
        {
          "output_type": "stream",
          "name": "stdout",
          "text": [
            "2 162\n",
            "5\n"
          ]
        }
      ]
    },
    {
      "cell_type": "markdown",
      "source": [
        "결과\n",
        "- 최댓값 또는 최솟값을 구하는 문제라고 해서 바로 dp를 생각했다.\n",
        " - 수의 최대값이 어디까지인지를 보고 메모리, 시간 문제를 생각해야한다.\n",
        " - 조건에 따라 바로 해결할 수 있는지도 따져야한다.   \n",
        " 조건의 규칙 또는 설정을 정확히 파악하자."
      ],
      "metadata": {
        "id": "pVZ7uDWv5lHd"
      }
    }
  ]
}