{
  "cells": [
    {
      "cell_type": "markdown",
      "metadata": {
        "id": "view-in-github",
        "colab_type": "text"
      },
      "source": [
        "<a href=\"https://colab.research.google.com/github/Kang-Yoonah/BaekJoon/blob/main/Silver/1713.ipynb\" target=\"_parent\"><img src=\"https://colab.research.google.com/assets/colab-badge.svg\" alt=\"Open In Colab\"/></a>"
      ]
    },
    {
      "cell_type": "code",
      "source": [
        "def sol(N):\n",
        "    input()\n",
        "    Y = list(map(int, input().split()))\n",
        "    P = {}\n",
        "    for y in Y:\n",
        "        if y in P:\n",
        "            P[y] += 1\n",
        "        else:\n",
        "            if len(P) >= N:\n",
        "                del (P[sorted(P.items(), key=lambda x: x[1])[0][0]])\n",
        "            P[y] = 1\n",
        "    print(*sorted(P.keys()))\n",
        "\n",
        "sol(int(input()))"
      ],
      "metadata": {
        "id": "Eum8oDR9H9Ie",
        "colab": {
          "base_uri": "https://localhost:8080/"
        },
        "outputId": "342e00ca-3062-4f68-e075-2fb6842d7fab"
      },
      "execution_count": 1,
      "outputs": [
        {
          "output_type": "stream",
          "name": "stdout",
          "text": [
            "3\n",
            "9\n",
            "2 1 4 3 5 6 2 7 2\n",
            "2 6 7\n"
          ]
        }
      ]
    }
  ],
  "metadata": {
    "colab": {
      "provenance": [],
      "authorship_tag": "ABX9TyMyZlh+bFKiMTM9gRb9esT2",
      "include_colab_link": true
    },
    "kernelspec": {
      "display_name": "Python 3",
      "name": "python3"
    },
    "language_info": {
      "name": "python"
    }
  },
  "nbformat": 4,
  "nbformat_minor": 0
}