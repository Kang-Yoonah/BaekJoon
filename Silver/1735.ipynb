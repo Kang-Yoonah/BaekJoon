{
  "nbformat": 4,
  "nbformat_minor": 0,
  "metadata": {
    "colab": {
      "name": "1735.ipynb",
      "provenance": [],
      "authorship_tag": "ABX9TyNZS5vfWzLaPUV37jQDUgZh",
      "include_colab_link": true
    },
    "kernelspec": {
      "name": "python3",
      "display_name": "Python 3"
    },
    "language_info": {
      "name": "python"
    }
  },
  "cells": [
    {
      "cell_type": "markdown",
      "metadata": {
        "id": "view-in-github",
        "colab_type": "text"
      },
      "source": [
        "<a href=\"https://colab.research.google.com/github/Kang-Yoonah/BaekJoon/blob/main/Silver/1735.ipynb\" target=\"_parent\"><img src=\"https://colab.research.google.com/assets/colab-badge.svg\" alt=\"Open In Colab\"/></a>"
      ]
    },
    {
      "cell_type": "code",
      "execution_count": 4,
      "metadata": {
        "colab": {
          "base_uri": "https://localhost:8080/"
        },
        "id": "aN5XgqEyDenN",
        "outputId": "5f52400d-c5d4-43c7-d629-da989fd934b2"
      },
      "outputs": [
        {
          "output_type": "stream",
          "name": "stdout",
          "text": [
            "1 20\n",
            "1 5\n",
            "1 4\n"
          ]
        }
      ],
      "source": [
        "A1, B1 = map(int,input().split())\n",
        "A2, B2 = map(int,input().split())\n",
        "B = B1*B2\n",
        "A = (A1*B2 + A2*B1)\n",
        "\n",
        "def gcd(a,b):\n",
        "    if b > a:\n",
        "        a,b = b,a\n",
        "    while b != 0:\n",
        "        a,b = b,(a%b)\n",
        "    return a\n",
        "n = gcd(A,B)\n",
        "print(A//n, B//n, sep=' ')"
      ]
    }
  ]
}