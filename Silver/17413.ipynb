{
  "nbformat": 4,
  "nbformat_minor": 0,
  "metadata": {
    "colab": {
      "provenance": [],
      "authorship_tag": "ABX9TyMjucIEkcKwd8NRPSYcu02w",
      "include_colab_link": true
    },
    "kernelspec": {
      "name": "python3",
      "display_name": "Python 3"
    },
    "language_info": {
      "name": "python"
    }
  },
  "cells": [
    {
      "cell_type": "markdown",
      "metadata": {
        "id": "view-in-github",
        "colab_type": "text"
      },
      "source": [
        "<a href=\"https://colab.research.google.com/github/Kang-Yoonah/BaekJoon/blob/main/Silver/17413.ipynb\" target=\"_parent\"><img src=\"https://colab.research.google.com/assets/colab-badge.svg\" alt=\"Open In Colab\"/></a>"
      ]
    },
    {
      "cell_type": "code",
      "execution_count": 1,
      "metadata": {
        "colab": {
          "base_uri": "https://localhost:8080/"
        },
        "id": "3_ELbHyowQAs",
        "outputId": "a141efdd-3d51-4c34-e81e-b6199657f9ba"
      },
      "outputs": [
        {
          "output_type": "stream",
          "name": "stdout",
          "text": [
            "baekjoon online judge\n",
            "noojkeab enilno egduj\n"
          ]
        }
      ],
      "source": [
        "Stack,t = [],0\n",
        "for s in input():\n",
        "    if s == \" \":\n",
        "        if t == 0:\n",
        "            print(\"\".join(Stack[::-1]+[s]), end = \"\")\n",
        "            Stack = []\n",
        "        else:\n",
        "            Stack.append(s)\n",
        "    else:\n",
        "        if s == '<':\n",
        "            print(\"\".join(Stack[::-1]), end = \"\")\n",
        "            Stack = [s]\n",
        "            t = 1\n",
        "        elif s == '>':\n",
        "            print(\"\".join(Stack+[s]), end = \"\")\n",
        "            Stack,t = [],0\n",
        "        else:\n",
        "            Stack.append(s)\n",
        "print(\"\".join(Stack[::-1]))"
      ]
    }
  ]
}