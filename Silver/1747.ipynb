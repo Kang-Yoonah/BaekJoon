{
  "nbformat": 4,
  "nbformat_minor": 0,
  "metadata": {
    "colab": {
      "name": "1747.ipynb",
      "provenance": [],
      "authorship_tag": "ABX9TyNk6OVsMyGjye+5uHsC+/yh",
      "include_colab_link": true
    },
    "kernelspec": {
      "name": "python3",
      "display_name": "Python 3"
    },
    "language_info": {
      "name": "python"
    }
  },
  "cells": [
    {
      "cell_type": "markdown",
      "metadata": {
        "id": "view-in-github",
        "colab_type": "text"
      },
      "source": [
        "<a href=\"https://colab.research.google.com/github/Kang-Yoonah/BaekJoon/blob/main/Silver/1747.ipynb\" target=\"_parent\"><img src=\"https://colab.research.google.com/assets/colab-badge.svg\" alt=\"Open In Colab\"/></a>"
      ]
    },
    {
      "cell_type": "code",
      "execution_count": 11,
      "metadata": {
        "colab": {
          "base_uri": "https://localhost:8080/"
        },
        "id": "FPe4EeGKsIrx",
        "outputId": "2c2a6f44-8cf1-4325-fbb4-75fea30991bd"
      },
      "outputs": [
        {
          "output_type": "stream",
          "name": "stdout",
          "text": [
            "1000000\n",
            "1003001\n"
          ]
        }
      ],
      "source": [
        "N = int(input())\n",
        "m = 1003001\n",
        "prime = [1]*(m+1)\n",
        "prime[0] = prime[1] = 0\n",
        "for i in range(2,m+1):\n",
        "    if prime[i]:\n",
        "        for j in range(i*2,m+1,i):\n",
        "            prime[j] = 0\n",
        "for num in range(N,m+1):\n",
        "    if prime[num]:\n",
        "        num = str(num)\n",
        "        check = len(num)//2\n",
        "        if num[:check] == num[:-(check+1):-1]:\n",
        "            print(num)\n",
        "            break"
      ]
    }
  ]
}