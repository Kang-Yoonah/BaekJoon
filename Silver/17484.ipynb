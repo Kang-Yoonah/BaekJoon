{
  "nbformat": 4,
  "nbformat_minor": 0,
  "metadata": {
    "colab": {
      "provenance": [],
      "authorship_tag": "ABX9TyNpAsmY7IxAtR7NTdbUyGg4",
      "include_colab_link": true
    },
    "kernelspec": {
      "name": "python3",
      "display_name": "Python 3"
    },
    "language_info": {
      "name": "python"
    }
  },
  "cells": [
    {
      "cell_type": "markdown",
      "metadata": {
        "id": "view-in-github",
        "colab_type": "text"
      },
      "source": [
        "<a href=\"https://colab.research.google.com/github/Kang-Yoonah/BaekJoon/blob/main/Silver/17484.ipynb\" target=\"_parent\"><img src=\"https://colab.research.google.com/assets/colab-badge.svg\" alt=\"Open In Colab\"/></a>"
      ]
    },
    {
      "cell_type": "code",
      "execution_count": null,
      "metadata": {
        "id": "T4sbrNa7iC1_"
      },
      "outputs": [],
      "source": [
        "def sol():\n",
        "    N,M = map(int,input().split())\n",
        "    Way = [list(map(int,input().split())) for _ in range(N)]\n",
        "    min_ = 100*N\n",
        "    dp = [[[min_]*3] + [[a]*3 for a in Way[0]] + [[min_]*3]] + [[[min_]*3] +[[0]*3 for _ in range(M)]+[[min_]*3] for _ in range(N-1)]\n",
        "    for i in range(1,N-1):\n",
        "        for j in range(1,M+1):\n",
        "            for k in range(3):\n",
        "                dp[i][j][k] = min(dp[i-1][j-1+k][:k]+dp[i-1][j-1+k][k+1:]) + Way[i][j-1]\n",
        "    for j in range(1,M+1):\n",
        "        for k in range(3):\n",
        "            min_ = min(min_,min(dp[-2][j-1+k][:k]+dp[-2][j-1+k][k+1:]) + Way[-1][j-1])\n",
        "    return min_\n",
        "\n",
        "print(sol())"
      ]
    }
  ]
}