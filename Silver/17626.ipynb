{
  "cells": [
    {
      "cell_type": "markdown",
      "metadata": {
        "id": "view-in-github",
        "colab_type": "text"
      },
      "source": [
        "<a href=\"https://colab.research.google.com/github/Kang-Yoonah/BaekJoon/blob/main/Silver/17626.ipynb\" target=\"_parent\"><img src=\"https://colab.research.google.com/assets/colab-badge.svg\" alt=\"Open In Colab\"/></a>"
      ]
    },
    {
      "cell_type": "code",
      "source": [
        "def sol(n):\n",
        "    S = [i**2 for i in range(1,int(n**0.5)+1)]\n",
        "    if (n**0.5).is_integer():\n",
        "        return 1\n",
        "    dp = [0,1] + [4]*(n-1)\n",
        "    for i in range(2,n+1):\n",
        "        for j in S:\n",
        "            if j > i:\n",
        "                break\n",
        "            dp[i] = min(dp[i],dp[i-j]+1)\n",
        "    return dp[-1]\n",
        "    \n",
        "print(sol(int(input())))"
      ],
      "metadata": {
        "id": "Eum8oDR9H9Ie",
        "colab": {
          "base_uri": "https://localhost:8080/"
        },
        "outputId": "f3408522-1e15-44a5-f916-ec8ae26ce8b9"
      },
      "execution_count": 1,
      "outputs": [
        {
          "output_type": "stream",
          "name": "stdout",
          "text": [
            "25\n",
            "1\n"
          ]
        }
      ]
    }
  ],
  "metadata": {
    "colab": {
      "provenance": [],
      "authorship_tag": "ABX9TyNkrSaD7xYcMfThKzoyYaMz",
      "include_colab_link": true
    },
    "kernelspec": {
      "display_name": "Python 3",
      "name": "python3"
    },
    "language_info": {
      "name": "python"
    }
  },
  "nbformat": 4,
  "nbformat_minor": 0
}