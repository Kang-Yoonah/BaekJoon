{
  "nbformat": 4,
  "nbformat_minor": 0,
  "metadata": {
    "colab": {
      "name": "1764.ipynb",
      "provenance": [],
      "authorship_tag": "ABX9TyM1n3CoCkMrclO9sPijgt5+",
      "include_colab_link": true
    },
    "kernelspec": {
      "name": "python3",
      "display_name": "Python 3"
    },
    "language_info": {
      "name": "python"
    }
  },
  "cells": [
    {
      "cell_type": "markdown",
      "metadata": {
        "id": "view-in-github",
        "colab_type": "text"
      },
      "source": [
        "<a href=\"https://colab.research.google.com/github/Kang-Yoonah/BaekJoon/blob/main/Silver/1764.ipynb\" target=\"_parent\"><img src=\"https://colab.research.google.com/assets/colab-badge.svg\" alt=\"Open In Colab\"/></a>"
      ]
    },
    {
      "cell_type": "code",
      "execution_count": 12,
      "metadata": {
        "colab": {
          "base_uri": "https://localhost:8080/"
        },
        "id": "u5zwwfypidLe",
        "outputId": "a76dc661-5234-4820-90f3-414c08cdd125"
      },
      "outputs": [
        {
          "output_type": "stream",
          "name": "stdout",
          "text": [
            "3 4\n",
            "ohhenrie\n",
            "charlie\n",
            "baesangwook\n",
            "obama\n",
            "baesangwook\n",
            "ohhenrie\n",
            "clinton\n",
            "2\n",
            "baesangwook\n",
            "ohhenrie\n"
          ]
        }
      ],
      "source": [
        "N, M = map(int,input().split())\n",
        "name, result = set(), []\n",
        "for _ in range(N):\n",
        "    name.add(input().strip())\n",
        "for _ in range(M):\n",
        "    s = input().strip()\n",
        "    if s in name:\n",
        "        result.append(s)\n",
        "result.sort()\n",
        "print(len(result))\n",
        "for i in result:\n",
        "    print(i)"
      ]
    },
    {
      "cell_type": "code",
      "source": [
        "N,M = map(int,input().split())\n",
        "Not_Hear = {input().rstrip(): 0 for _ in range(N)}\n",
        "Not_Hear_See = []\n",
        "for _ in range(M):\n",
        "    name = input().rstrip()\n",
        "    if name in Not_Hear:\n",
        "        Not_Hear_See.append(name)\n",
        "        \n",
        "Not_Hear_See.sort(key = str)\n",
        "\n",
        "print(len(Not_Hear_See))\n",
        "print(\"\\n\".join(Not_Hear_See))"
      ],
      "metadata": {
        "colab": {
          "base_uri": "https://localhost:8080/"
        },
        "id": "rizS1j89j3Hg",
        "outputId": "3aafaad1-deed-4d85-85f1-27b02ee5eea4"
      },
      "execution_count": 14,
      "outputs": [
        {
          "output_type": "stream",
          "name": "stdout",
          "text": [
            "3 4\n",
            "명희\n",
            "희수\n",
            "석희\n",
            "영우\n",
            "희수\n",
            "수혁\n",
            "명희\n",
            "2\n",
            "명희\n",
            "희수\n"
          ]
        }
      ]
    }
  ]
}