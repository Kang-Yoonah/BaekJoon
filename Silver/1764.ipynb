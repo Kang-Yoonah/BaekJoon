{
  "nbformat": 4,
  "nbformat_minor": 0,
  "metadata": {
    "colab": {
      "name": "1764.ipynb",
      "provenance": [],
      "authorship_tag": "ABX9TyNAnu+2kVcImogz2ZUEbCF9",
      "include_colab_link": true
    },
    "kernelspec": {
      "name": "python3",
      "display_name": "Python 3"
    },
    "language_info": {
      "name": "python"
    }
  },
  "cells": [
    {
      "cell_type": "markdown",
      "metadata": {
        "id": "view-in-github",
        "colab_type": "text"
      },
      "source": [
        "<a href=\"https://colab.research.google.com/github/Kang-Yoonah/BaekJoon/blob/main/Silver/1764.ipynb\" target=\"_parent\"><img src=\"https://colab.research.google.com/assets/colab-badge.svg\" alt=\"Open In Colab\"/></a>"
      ]
    },
    {
      "cell_type": "code",
      "execution_count": 12,
      "metadata": {
        "colab": {
          "base_uri": "https://localhost:8080/"
        },
        "id": "u5zwwfypidLe",
        "outputId": "a76dc661-5234-4820-90f3-414c08cdd125"
      },
      "outputs": [
        {
          "output_type": "stream",
          "name": "stdout",
          "text": [
            "3 4\n",
            "ohhenrie\n",
            "charlie\n",
            "baesangwook\n",
            "obama\n",
            "baesangwook\n",
            "ohhenrie\n",
            "clinton\n",
            "2\n",
            "baesangwook\n",
            "ohhenrie\n"
          ]
        }
      ],
      "source": [
        "N, M = map(int,input().split())\n",
        "name, result = set(), []\n",
        "for _ in range(N):\n",
        "    name.add(input().strip())\n",
        "for _ in range(M):\n",
        "    s = input().strip()\n",
        "    if s in name:\n",
        "        result.append(s)\n",
        "result.sort()\n",
        "print(len(result))\n",
        "for i in result:\n",
        "    print(i)"
      ]
    }
  ]
}