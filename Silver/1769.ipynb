{
  "nbformat": 4,
  "nbformat_minor": 0,
  "metadata": {
    "colab": {
      "provenance": [],
      "authorship_tag": "ABX9TyNtPaZp/2iCNw6A9w4iH5pR",
      "include_colab_link": true
    },
    "kernelspec": {
      "name": "python3",
      "display_name": "Python 3"
    },
    "language_info": {
      "name": "python"
    }
  },
  "cells": [
    {
      "cell_type": "markdown",
      "metadata": {
        "id": "view-in-github",
        "colab_type": "text"
      },
      "source": [
        "<a href=\"https://colab.research.google.com/github/Kang-Yoonah/BaekJoon/blob/main/Silver/1769.ipynb\" target=\"_parent\"><img src=\"https://colab.research.google.com/assets/colab-badge.svg\" alt=\"Open In Colab\"/></a>"
      ]
    },
    {
      "cell_type": "code",
      "execution_count": 1,
      "metadata": {
        "colab": {
          "base_uri": "https://localhost:8080/"
        },
        "id": "LPwvIY4raiPJ",
        "outputId": "c7baf7c4-fe70-48a7-bfb3-7474da40ea48"
      },
      "outputs": [
        {
          "output_type": "stream",
          "name": "stdout",
          "text": [
            "1234567\n",
            "3\n",
            "NO\n"
          ]
        }
      ],
      "source": [
        "def sol():\n",
        "    N = list(input().strip())\n",
        "    ans = 0\n",
        "    while len(N) != 1:\n",
        "        N = list(str(sum(list(map(int, N)))))\n",
        "        ans += 1\n",
        "    if N[0] in {'3','6','9'}:\n",
        "        print(ans, \"YES\", sep='\\n')\n",
        "    else:\n",
        "        print(ans, \"NO\", sep='\\n')\n",
        "sol()"
      ]
    }
  ]
}