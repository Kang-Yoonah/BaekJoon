{
  "nbformat": 4,
  "nbformat_minor": 0,
  "metadata": {
    "colab": {
      "name": "18111.ipynb",
      "provenance": [],
      "authorship_tag": "ABX9TyMGDpCecx2GppjXz+ToSzO2",
      "include_colab_link": true
    },
    "kernelspec": {
      "name": "python3",
      "display_name": "Python 3"
    },
    "language_info": {
      "name": "python"
    }
  },
  "cells": [
    {
      "cell_type": "markdown",
      "metadata": {
        "id": "view-in-github",
        "colab_type": "text"
      },
      "source": [
        "<a href=\"https://colab.research.google.com/github/Kang-Yoonah/BaekJoon/blob/main/Silver/18111.ipynb\" target=\"_parent\"><img src=\"https://colab.research.google.com/assets/colab-badge.svg\" alt=\"Open In Colab\"/></a>"
      ]
    },
    {
      "cell_type": "code",
      "execution_count": 21,
      "metadata": {
        "id": "EpwH8Pfz30Qn",
        "colab": {
          "base_uri": "https://localhost:8080/"
        },
        "outputId": "0ede29cb-0e58-43e4-bbca-9ca71e0c8f5a"
      },
      "outputs": [
        {
          "output_type": "stream",
          "name": "stdout",
          "text": [
            "3 4 0\n",
            "64 64 64 64\n",
            "64 64 64 64\n",
            "64 64 64 63\n",
            "22 63\n"
          ]
        }
      ],
      "source": [
        "N, M, B = map(int,input().split())\n",
        "seq, dict_seq, bag, size = [], {}, B, N*M\n",
        "for _ in range(N):\n",
        "    v = list(map(int,input().split()))\n",
        "    for k in v:\n",
        "        if k in dict_seq:\n",
        "            dict_seq[k] += 1\n",
        "        else:\n",
        "            dict_seq[k] = 1\n",
        "    bag += sum(v)\n",
        "    seq.append(v)\n",
        "time, height = size*2*bag, 0\n",
        "for h in range(bag//size+1):\n",
        "    t = 0\n",
        "    for e in dict_seq:\n",
        "        if e > h:\n",
        "            t += (e-h)*2*dict_seq[e]\n",
        "        elif e < h:\n",
        "            t += (h-e)*dict_seq[e]\n",
        "    if time >= t:\n",
        "        time, height = t, h\n",
        "print(time, height)"
      ]
    }
  ]
}