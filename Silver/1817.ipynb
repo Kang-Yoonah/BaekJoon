{
  "nbformat": 4,
  "nbformat_minor": 0,
  "metadata": {
    "colab": {
      "provenance": [],
      "authorship_tag": "ABX9TyMEtour5EgOLHpUpJhs2ilW",
      "include_colab_link": true
    },
    "kernelspec": {
      "name": "python3",
      "display_name": "Python 3"
    },
    "language_info": {
      "name": "python"
    }
  },
  "cells": [
    {
      "cell_type": "markdown",
      "metadata": {
        "id": "view-in-github",
        "colab_type": "text"
      },
      "source": [
        "<a href=\"https://colab.research.google.com/github/Kang-Yoonah/BaekJoon/blob/main/Silver/1817.ipynb\" target=\"_parent\"><img src=\"https://colab.research.google.com/assets/colab-badge.svg\" alt=\"Open In Colab\"/></a>"
      ]
    },
    {
      "cell_type": "code",
      "execution_count": 1,
      "metadata": {
        "colab": {
          "base_uri": "https://localhost:8080/"
        },
        "id": "9xbLrG344JGF",
        "outputId": "fdb8d96d-d1e3-4bd5-8f39-f58022ce965c"
      },
      "outputs": [
        {
          "output_type": "stream",
          "name": "stdout",
          "text": [
            "11 12\n",
            "12 1 11 2 10 3 4 5 6 6 1\n",
            "6\n"
          ]
        }
      ],
      "source": [
        "N, M = map(int,input().split())\n",
        "if N:\n",
        "    book = list(map(int,input().split()))\n",
        "    W, cnt = 0, 1\n",
        "    for i in range(N):\n",
        "        if W + book[i] > M:\n",
        "            W = book[i]\n",
        "            cnt += 1\n",
        "        else:\n",
        "            W += book[i]\n",
        "    print(cnt)\n",
        "else:\n",
        "    print(0)"
      ]
    }
  ]
}