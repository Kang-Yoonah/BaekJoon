{
  "nbformat": 4,
  "nbformat_minor": 0,
  "metadata": {
    "colab": {
      "provenance": [],
      "authorship_tag": "ABX9TyNn0lPWWVh2r1GQ5wShiKMM",
      "include_colab_link": true
    },
    "kernelspec": {
      "name": "python3",
      "display_name": "Python 3"
    },
    "language_info": {
      "name": "python"
    }
  },
  "cells": [
    {
      "cell_type": "markdown",
      "metadata": {
        "id": "view-in-github",
        "colab_type": "text"
      },
      "source": [
        "<a href=\"https://colab.research.google.com/github/Kang-Yoonah/BaekJoon/blob/main/Silver/1822.ipynb\" target=\"_parent\"><img src=\"https://colab.research.google.com/assets/colab-badge.svg\" alt=\"Open In Colab\"/></a>"
      ]
    },
    {
      "cell_type": "code",
      "execution_count": 1,
      "metadata": {
        "colab": {
          "base_uri": "https://localhost:8080/"
        },
        "id": "6Zm_kA42WpuL",
        "outputId": "bfbe50d0-6a7e-44bf-e187-7d86a35a685b"
      },
      "outputs": [
        {
          "output_type": "stream",
          "name": "stdout",
          "text": [
            "4 3\n",
            "2 5 11 7\n",
            "9 7 4\n",
            "3\n",
            "2 5 11\n"
          ]
        }
      ],
      "source": [
        "A, B = map(int,input().split())\n",
        "A = set(map(int,input().split()))\n",
        "B = set(map(int,input().split()))\n",
        "\n",
        "C = list(A-B)\n",
        "print(len(C))\n",
        "if C:\n",
        "    C.sort()\n",
        "    C = list(map(str,C))\n",
        "    print(' '.join(C))"
      ]
    }
  ]
}