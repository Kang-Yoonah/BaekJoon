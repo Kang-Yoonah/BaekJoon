{
  "nbformat": 4,
  "nbformat_minor": 0,
  "metadata": {
    "colab": {
      "provenance": [],
      "collapsed_sections": [],
      "authorship_tag": "ABX9TyPOitc9+8h8Ub2eTNwB5tFw",
      "include_colab_link": true
    },
    "kernelspec": {
      "name": "python3",
      "display_name": "Python 3"
    },
    "language_info": {
      "name": "python"
    }
  },
  "cells": [
    {
      "cell_type": "markdown",
      "metadata": {
        "id": "view-in-github",
        "colab_type": "text"
      },
      "source": [
        "<a href=\"https://colab.research.google.com/github/Kang-Yoonah/BaekJoon/blob/main/Silver/18258.ipynb\" target=\"_parent\"><img src=\"https://colab.research.google.com/assets/colab-badge.svg\" alt=\"Open In Colab\"/></a>"
      ]
    },
    {
      "cell_type": "code",
      "execution_count": 3,
      "metadata": {
        "colab": {
          "base_uri": "https://localhost:8080/"
        },
        "id": "e4VZ6wSCxJ7Z",
        "outputId": "6d937283-a167-4896-fafd-c03511f83080"
      },
      "outputs": [
        {
          "output_type": "stream",
          "name": "stdout",
          "text": [
            "15\n",
            "push 1\n",
            "push 2\n",
            "front\n",
            "1\n",
            "back\n",
            "2\n",
            "size\n",
            "2\n",
            "empty\n",
            "0\n",
            "pop\n",
            "1\n",
            "pop\n",
            "2\n",
            "pop\n",
            "-1\n",
            "size\n",
            "0\n",
            "empty\n",
            "1\n",
            "pop\n",
            "-1\n",
            "push 3\n",
            "empty\n",
            "0\n",
            "front\n",
            "3\n"
          ]
        }
      ],
      "source": [
        "# import sys\n",
        "# input = sys.stdin.readline\n",
        "from collections import deque\n",
        "\n",
        "N = int(input())\n",
        "que = deque()\n",
        "\n",
        "for _ in range(N):\n",
        "    S = list(input().split())\n",
        "    s = S[0]\n",
        "    if s == 'push':\n",
        "        que.append(S[1])\n",
        "    elif s == 'pop':\n",
        "        if len(que) > 0 :\n",
        "            print(que.popleft())\n",
        "        else:\n",
        "            print(-1)\n",
        "    elif s == 'size':\n",
        "        print(len(que))\n",
        "    elif s == 'empty':\n",
        "        print(1 if len(que)==0 else 0)\n",
        "    elif s == 'front':\n",
        "        if len(que) > 0:\n",
        "            print(que[0])\n",
        "        else:\n",
        "            print(-1)\n",
        "    else:\n",
        "        if len(que) > 0:\n",
        "            print(que[-1])\n",
        "        else:\n",
        "            print(-1)"
      ]
    }
  ]
}