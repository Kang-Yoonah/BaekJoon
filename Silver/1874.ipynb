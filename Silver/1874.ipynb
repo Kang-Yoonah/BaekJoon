{
  "nbformat": 4,
  "nbformat_minor": 0,
  "metadata": {
    "colab": {
      "provenance": [],
      "authorship_tag": "ABX9TyMa4/9xALV5HrQCqJZRgn46",
      "include_colab_link": true
    },
    "kernelspec": {
      "name": "python3",
      "display_name": "Python 3"
    },
    "language_info": {
      "name": "python"
    }
  },
  "cells": [
    {
      "cell_type": "markdown",
      "metadata": {
        "id": "view-in-github",
        "colab_type": "text"
      },
      "source": [
        "<a href=\"https://colab.research.google.com/github/Kang-Yoonah/BaekJoon/blob/main/Silver/1874.ipynb\" target=\"_parent\"><img src=\"https://colab.research.google.com/assets/colab-badge.svg\" alt=\"Open In Colab\"/></a>"
      ]
    },
    {
      "cell_type": "markdown",
      "source": [
        "- 4, 3, 6, 8, 7, 5, 2, 1\n",
        "- push, push, push, push, pop, pop, push, push, pop, push, push, pop, pop, pop, pop, pop\n",
        "    - 1, 2, 3, 4 : push, push, push, push   수열 : 5,6,7,8\n",
        "    - 4, 3 : pop, pop    수열 : 5,6,7,8,4,3\n",
        "    - 5, 6 : push, push   수열 : 7,8,4,3\n",
        "    - 6 : pop   수열 : 7,8,4,3,6\n",
        "    - 7, 8 : push, push    수열 4,3,6\n",
        "    - pop * 5번     수열 4,3,6,8,7,5,2,1"
      ],
      "metadata": {
        "id": "CtMnfp8KHqKU"
      }
    },
    {
      "cell_type": "code",
      "source": [
        "n = int(input())\n",
        "stack, seq, t, ans = [], 1, 1, []\n",
        "for _ in range(n):\n",
        "    num = int(input())\n",
        "    if t:\n",
        "        if stack and stack[-1] == num:\n",
        "            del stack[-1]\n",
        "            ans.append('-')\n",
        "        elif seq <= num:\n",
        "            interval = list(range(seq,num+1))\n",
        "            stack += interval\n",
        "            ans += ['+']*len(interval)\n",
        "            seq = num+1\n",
        "            del stack[-1]\n",
        "            ans.append('-')\n",
        "        else:\n",
        "            t = 0\n",
        "if t == 0:\n",
        "    print('NO')\n",
        "else:\n",
        "    print('\\n'.join(ans))"
      ],
      "metadata": {
        "colab": {
          "base_uri": "https://localhost:8080/"
        },
        "id": "pfmEFl06JHGM",
        "outputId": "1e61ffda-f5fa-4520-e3ed-d5c9b2406643"
      },
      "execution_count": 9,
      "outputs": [
        {
          "output_type": "stream",
          "name": "stdout",
          "text": [
            "8\n",
            "4\n",
            "3\n",
            "6\n",
            "8\n",
            "7\n",
            "5\n",
            "2\n",
            "1\n",
            "+\n",
            "+\n",
            "+\n",
            "+\n",
            "-\n",
            "-\n",
            "+\n",
            "+\n",
            "-\n",
            "+\n",
            "+\n",
            "-\n",
            "-\n",
            "-\n",
            "-\n",
            "-\n"
          ]
        }
      ]
    }
  ]
}