{
  "nbformat": 4,
  "nbformat_minor": 0,
  "metadata": {
    "colab": {
      "name": "18870.ipynb",
      "provenance": [],
      "authorship_tag": "ABX9TyOsBt6bSQ4///o/aulEZANZ",
      "include_colab_link": true
    },
    "kernelspec": {
      "name": "python3",
      "display_name": "Python 3"
    },
    "language_info": {
      "name": "python"
    }
  },
  "cells": [
    {
      "cell_type": "markdown",
      "metadata": {
        "id": "view-in-github",
        "colab_type": "text"
      },
      "source": [
        "<a href=\"https://colab.research.google.com/github/Kang-Yoonah/BaekJoon/blob/main/Silver/18870.ipynb\" target=\"_parent\"><img src=\"https://colab.research.google.com/assets/colab-badge.svg\" alt=\"Open In Colab\"/></a>"
      ]
    },
    {
      "cell_type": "code",
      "execution_count": 2,
      "metadata": {
        "colab": {
          "base_uri": "https://localhost:8080/"
        },
        "id": "aN5XgqEyDenN",
        "outputId": "9aab4fcb-782a-4d91-eb24-dce9360aae9c"
      },
      "outputs": [
        {
          "output_type": "stream",
          "name": "stdout",
          "text": [
            "5\n",
            "2 4 -10 4 -9\n",
            "2 3 0 3 1 "
          ]
        }
      ],
      "source": [
        "T = int(input())\n",
        "X = list(map(int,input().split()))\n",
        "X_set = sorted(set(X))\n",
        "seq = {num:ind for ind, num in enumerate(X_set)}\n",
        "for num in X:\n",
        "    print(seq[num],end=' ')"
      ]
    }
  ]
}