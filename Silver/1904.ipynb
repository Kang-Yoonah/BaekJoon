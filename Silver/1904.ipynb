{
  "nbformat": 4,
  "nbformat_minor": 0,
  "metadata": {
    "colab": {
      "name": "1904.ipynb",
      "provenance": [],
      "authorship_tag": "ABX9TyPX9BlyKGMXjjRJY2aGQwZb",
      "include_colab_link": true
    },
    "kernelspec": {
      "name": "python3",
      "display_name": "Python 3"
    },
    "language_info": {
      "name": "python"
    }
  },
  "cells": [
    {
      "cell_type": "markdown",
      "metadata": {
        "id": "view-in-github",
        "colab_type": "text"
      },
      "source": [
        "<a href=\"https://colab.research.google.com/github/Kang-Yoonah/BaekJoon/blob/main/Silver/1904.ipynb\" target=\"_parent\"><img src=\"https://colab.research.google.com/assets/colab-badge.svg\" alt=\"Open In Colab\"/></a>"
      ]
    },
    {
      "cell_type": "code",
      "execution_count": 1,
      "metadata": {
        "colab": {
          "base_uri": "https://localhost:8080/"
        },
        "id": "NXMXt_PlBaaz",
        "outputId": "b9bdf98f-6abc-46eb-a107-829fe988cd48"
      },
      "outputs": [
        {
          "output_type": "stream",
          "name": "stdout",
          "text": [
            "9\n",
            "55\n"
          ]
        }
      ],
      "source": [
        "N = int(input())\n",
        "dp = [0,1,2] + [0 for _ in range(N-2)]\n",
        "\n",
        "for i in range(3,N+1):\n",
        "    dp[i] = (dp[i-1]+dp[i-2])%15746\n",
        "\n",
        "print(dp[N])"
      ]
    }
  ]
}