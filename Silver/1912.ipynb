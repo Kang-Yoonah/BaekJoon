{
  "nbformat": 4,
  "nbformat_minor": 0,
  "metadata": {
    "colab": {
      "name": "1912.ipynb",
      "provenance": [],
      "authorship_tag": "ABX9TyMluudtwuoWfSXGbJmtu73+",
      "include_colab_link": true
    },
    "kernelspec": {
      "name": "python3",
      "display_name": "Python 3"
    },
    "language_info": {
      "name": "python"
    }
  },
  "cells": [
    {
      "cell_type": "markdown",
      "metadata": {
        "id": "view-in-github",
        "colab_type": "text"
      },
      "source": [
        "<a href=\"https://colab.research.google.com/github/Kang-Yoonah/BaekJoon/blob/main/Silver/1912.ipynb\" target=\"_parent\"><img src=\"https://colab.research.google.com/assets/colab-badge.svg\" alt=\"Open In Colab\"/></a>"
      ]
    },
    {
      "cell_type": "code",
      "execution_count": null,
      "metadata": {
        "colab": {
          "base_uri": "https://localhost:8080/"
        },
        "id": "k0Lj8-YybATg",
        "outputId": "f4bfd231-182a-44ec-d4bd-6b4f74bccaa0"
      },
      "outputs": [
        {
          "output_type": "stream",
          "name": "stdout",
          "text": [
            "5\n",
            "-1 -2 -3 -4 -5\n",
            "-1\n"
          ]
        }
      ],
      "source": [
        "import sys\n",
        "input = sys.stdin.readline\n",
        "\n",
        "n = int(input())\n",
        "seq = list(map(int,input().split()))\n",
        "seq += seq[:n-1]\n",
        "i = 1\n",
        "for limit in range(2*n-2,n-1,-1):\n",
        "    ind = n\n",
        "    for j in range(i,n):\n",
        "        if ind > limit:\n",
        "            break    \n",
        "        seq[ind] += seq[j]\n",
        "        ind += 1\n",
        "    seq[0] = max(seq)\n",
        "    i +=1\n",
        "print(seq[0])"
      ]
    },
    {
      "cell_type": "markdown",
      "source": [
        "첫 번째 시도는 시간초과\n",
        "여러 문제를 풀어보며 dp의 감을 익혀야겠다.\n"
      ],
      "metadata": {
        "id": "WMOI80Ddx4Pi"
      }
    },
    {
      "cell_type": "code",
      "source": [
        "import sys\n",
        "input = sys.stdin.readline\n",
        "\n",
        "n = int(input())\n",
        "seq = list(map(int,input().split()))\n",
        "ind = 0\n",
        "while ind < n:\n",
        "    while seq[ind] < 0 and ind < (n-1):\n",
        "        ind +=1\n",
        "    s = seq[ind]\n",
        "    if ind == n-1 and seq[ind] <0:\n",
        "        break\n",
        "    while s > 0 and ind < (n-1):\n",
        "        ind +=1\n",
        "        if seq[ind] < 0:\n",
        "            seq[ind-1] = s\n",
        "        s += seq[ind]\n",
        "\n",
        "    if s < 0:\n",
        "        s -= seq[ind]\n",
        "        if s > seq[ind-1]:\n",
        "            seq[ind-1] = s\n",
        "    elif s >0 and s > seq[ind]:\n",
        "        seq[ind] = s\n",
        "    ind +=1\n",
        "print(max(seq))"
      ],
      "metadata": {
        "colab": {
          "base_uri": "https://localhost:8080/"
        },
        "id": "MyPTjtJ7kiPC",
        "outputId": "72d0c8e1-8753-4977-85a2-f6bb2f7d8dcd"
      },
      "execution_count": null,
      "outputs": [
        {
          "output_type": "stream",
          "name": "stdout",
          "text": [
            "5\n",
            "-1 -2 -3 -4 -5\n",
            "-1\n"
          ]
        }
      ]
    },
    {
      "cell_type": "markdown",
      "source": [
        "제일 앞의 음수는 쓸모없고 양수부터 잡는다.\n",
        "\n",
        "양수부터 차례로 더해가는데, 음수가 나오는 순간\n",
        "\n",
        "1) 음수까지 더했을때 0보다 작다면 이전의 값을 저장하고 다시 음수 다음으로 있는 양수를 잡는다.\n",
        "\n",
        "2) 음수까지 더했는데 0보다 크다면 이전의 값을 저장하고 음수까지 합해가며 이후의 값을 차례로 더한다.\n",
        "\n",
        "마지막으로 배열의 max값을 print하도록 한다."
      ],
      "metadata": {
        "id": "-UsBNdtf0BLH"
      }
    },
    {
      "cell_type": "code",
      "source": [
        "n = int(input())\n",
        "seq = list(map(int,input().split()))\n",
        "dp = [seq[0]] * n\n",
        "\n",
        "for ind in range(1,n):\n",
        "    dp[ind] = max(dp[ind-1] + seq[ind], seq[ind])\n",
        "\n",
        "print(max(dp))"
      ],
      "metadata": {
        "colab": {
          "base_uri": "https://localhost:8080/"
        },
        "id": "r47uCdf7yfaH",
        "outputId": "136bb806-4a9a-4944-b0eb-ff854352c17f"
      },
      "execution_count": 4,
      "outputs": [
        {
          "output_type": "stream",
          "name": "stdout",
          "text": [
            "5\n",
            "-1 -2 -3 -4 -5\n",
            "-1\n"
          ]
        }
      ]
    },
    {
      "cell_type": "markdown",
      "source": [
        "이렇게 세세히 나눌 필요 없이,\n",
        "\n",
        "하나씩 더해가는데 원래의 값과 비교하여 max 값으로 dp 배열에 큰 값을 저장한다."
      ],
      "metadata": {
        "id": "0QHNtXw45BZh"
      }
    }
  ]
}