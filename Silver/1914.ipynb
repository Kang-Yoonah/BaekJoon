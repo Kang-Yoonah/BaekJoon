{
  "nbformat": 4,
  "nbformat_minor": 0,
  "metadata": {
    "colab": {
      "provenance": [],
      "authorship_tag": "ABX9TyN0YBguqjBxSR7lkbCRRPYw",
      "include_colab_link": true
    },
    "kernelspec": {
      "name": "python3",
      "display_name": "Python 3"
    },
    "language_info": {
      "name": "python"
    }
  },
  "cells": [
    {
      "cell_type": "markdown",
      "metadata": {
        "id": "view-in-github",
        "colab_type": "text"
      },
      "source": [
        "<a href=\"https://colab.research.google.com/github/Kang-Yoonah/BaekJoon/blob/main/Silver/1914.ipynb\" target=\"_parent\"><img src=\"https://colab.research.google.com/assets/colab-badge.svg\" alt=\"Open In Colab\"/></a>"
      ]
    },
    {
      "cell_type": "code",
      "execution_count": 1,
      "metadata": {
        "colab": {
          "base_uri": "https://localhost:8080/"
        },
        "id": "b_JdWuMJkkbC",
        "outputId": "56b2d52a-ad0f-4deb-e0f2-324e6e23f814"
      },
      "outputs": [
        {
          "output_type": "stream",
          "name": "stdout",
          "text": [
            "3\n",
            "7\n",
            "1 3\n",
            "1 2\n",
            "3 2\n",
            "1 3\n",
            "2 1\n",
            "2 3\n",
            "1 3\n"
          ]
        }
      ],
      "source": [
        "N=int(input())\n",
        "print(2**N-1)\n",
        "\n",
        "def Hanoi(n, ap, bp):\n",
        "    if n == 1:\n",
        "        print(ap, bp)\n",
        "    else:\n",
        "        mp = 6-ap-bp\n",
        "        Hanoi(n-1, ap, mp)     # A_(n-1)을 옮기는 것\n",
        "        print(ap, bp)          # A_n번째를 옮기는 것\n",
        "        Hanoi(n-1, mp, bp)     # A_(n-1)을 다시 그 위로 옮기는 것\n",
        "\n",
        "if N <=20:\n",
        "    Hanoi(N, 1, 3)"
      ]
    }
  ]
}