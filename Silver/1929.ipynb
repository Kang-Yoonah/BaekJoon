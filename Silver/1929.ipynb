{
  "nbformat": 4,
  "nbformat_minor": 0,
  "metadata": {
    "colab": {
      "provenance": [],
      "authorship_tag": "ABX9TyNKYXXXSus9GKfFHSlNvV92",
      "include_colab_link": true
    },
    "kernelspec": {
      "name": "python3",
      "display_name": "Python 3"
    },
    "language_info": {
      "name": "python"
    }
  },
  "cells": [
    {
      "cell_type": "markdown",
      "metadata": {
        "id": "view-in-github",
        "colab_type": "text"
      },
      "source": [
        "<a href=\"https://colab.research.google.com/github/Kang-Yoonah/BaekJoon/blob/main/Silver/1929.ipynb\" target=\"_parent\"><img src=\"https://colab.research.google.com/assets/colab-badge.svg\" alt=\"Open In Colab\"/></a>"
      ]
    },
    {
      "cell_type": "code",
      "execution_count": 3,
      "metadata": {
        "colab": {
          "base_uri": "https://localhost:8080/"
        },
        "id": "Q17uqwZsTgeq",
        "outputId": "a1449e7c-b465-4510-ac7e-cbbc4047b5cd"
      },
      "outputs": [
        {
          "output_type": "stream",
          "name": "stdout",
          "text": [
            "3 16\n",
            "3\n",
            "5\n",
            "7\n",
            "11\n",
            "13\n"
          ]
        }
      ],
      "source": [
        "M, N = map(int,input().split())\n",
        "\n",
        "def prime(M, N):\n",
        "    num = [1]*(N+1)\n",
        "    num[0] = num[1] = 0\n",
        "    for i in range(2, int(N**0.5)+1):\n",
        "        for j in range(2,N//i+1):\n",
        "            num[i*j] = 0\n",
        "    \n",
        "    for i in range(M, N+1):\n",
        "        if num[i]:\n",
        "            print(i)\n",
        "prime(M, N)"
      ]
    }
  ]
}