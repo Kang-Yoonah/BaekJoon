{
  "nbformat": 4,
  "nbformat_minor": 0,
  "metadata": {
    "colab": {
      "provenance": [],
      "authorship_tag": "ABX9TyM4A+GtHZ2bkHTvnb3LNm5V",
      "include_colab_link": true
    },
    "kernelspec": {
      "name": "python3",
      "display_name": "Python 3"
    },
    "language_info": {
      "name": "python"
    }
  },
  "cells": [
    {
      "cell_type": "markdown",
      "metadata": {
        "id": "view-in-github",
        "colab_type": "text"
      },
      "source": [
        "<a href=\"https://colab.research.google.com/github/Kang-Yoonah/BaekJoon/blob/main/Silver/1940.ipynb\" target=\"_parent\"><img src=\"https://colab.research.google.com/assets/colab-badge.svg\" alt=\"Open In Colab\"/></a>"
      ]
    },
    {
      "cell_type": "code",
      "execution_count": null,
      "metadata": {
        "id": "mWsp1stNeyIm"
      },
      "outputs": [],
      "source": [
        "def sol():\n",
        "    N = int(input())\n",
        "    M = int(input())\n",
        "    Num = sorted(list(map(int,input().split())))\n",
        "    ans, pl, pr = 0,0,N-1\n",
        "\n",
        "    while pl < pr:\n",
        "        V = Num[pl]+Num[pr]\n",
        "        if V == M:\n",
        "            ans += 1\n",
        "            pl += 1\n",
        "            pr -= 1\n",
        "        elif V > M:\n",
        "            pr -= 1\n",
        "        else:\n",
        "            pl +=1\n",
        "\n",
        "    print(ans)\n",
        "sol()"
      ]
    }
  ]
}