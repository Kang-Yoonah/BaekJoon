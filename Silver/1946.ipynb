{
  "nbformat": 4,
  "nbformat_minor": 0,
  "metadata": {
    "colab": {
      "name": "1946.ipynb",
      "provenance": [],
      "authorship_tag": "ABX9TyNwUL+nH6roMfqloD7hwXVl",
      "include_colab_link": true
    },
    "kernelspec": {
      "name": "python3",
      "display_name": "Python 3"
    },
    "language_info": {
      "name": "python"
    }
  },
  "cells": [
    {
      "cell_type": "markdown",
      "metadata": {
        "id": "view-in-github",
        "colab_type": "text"
      },
      "source": [
        "<a href=\"https://colab.research.google.com/github/Kang-Yoonah/BaekJoon/blob/main/Silver/1946.ipynb\" target=\"_parent\"><img src=\"https://colab.research.google.com/assets/colab-badge.svg\" alt=\"Open In Colab\"/></a>"
      ]
    },
    {
      "cell_type": "code",
      "execution_count": 11,
      "metadata": {
        "colab": {
          "base_uri": "https://localhost:8080/"
        },
        "id": "EpwH8Pfz30Qn",
        "outputId": "963a7d22-2bd2-43a7-ecef-2fc66511425b"
      },
      "outputs": [
        {
          "output_type": "stream",
          "name": "stdout",
          "text": [
            "2\n",
            "5\n",
            "3 2\n",
            "1 4\n",
            "4 1\n",
            "2 3\n",
            "5 5\n",
            "4\n",
            "7\n",
            "3 6\n",
            "7 3\n",
            "4 2\n",
            "1 4\n",
            "5 7\n",
            "2 5\n",
            "6 1\n",
            "3\n"
          ]
        }
      ],
      "source": [
        "for _ in range(int(input())):\n",
        "    N = int(input())\n",
        "    rank = []\n",
        "    for _ in range(N):\n",
        "        rank.append(list(map(int,input().split())))\n",
        "    rank.sort(key = lambda x : x[1])\n",
        "    ind, c, count = min(rank), N+1, 0\n",
        "    for r in rank:\n",
        "        if r == ind:\n",
        "            break\n",
        "        if r[0] < c:\n",
        "            count += 1\n",
        "            c = r[0]\n",
        "    print(count+1)"
      ]
    }
  ]
}