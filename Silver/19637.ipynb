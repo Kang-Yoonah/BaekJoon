{
  "nbformat": 4,
  "nbformat_minor": 0,
  "metadata": {
    "colab": {
      "provenance": [],
      "authorship_tag": "ABX9TyN6lDC7cQUSNn4OmKh3k/8d",
      "include_colab_link": true
    },
    "kernelspec": {
      "name": "python3",
      "display_name": "Python 3"
    },
    "language_info": {
      "name": "python"
    }
  },
  "cells": [
    {
      "cell_type": "markdown",
      "metadata": {
        "id": "view-in-github",
        "colab_type": "text"
      },
      "source": [
        "<a href=\"https://colab.research.google.com/github/Kang-Yoonah/BaekJoon/blob/main/Silver/19637.ipynb\" target=\"_parent\"><img src=\"https://colab.research.google.com/assets/colab-badge.svg\" alt=\"Open In Colab\"/></a>"
      ]
    },
    {
      "cell_type": "code",
      "execution_count": 3,
      "metadata": {
        "colab": {
          "base_uri": "https://localhost:8080/"
        },
        "id": "Ysb6jNHOujNI",
        "outputId": "f28ab624-8162-4ffe-fc87-5c5c7535a229"
      },
      "outputs": [
        {
          "output_type": "stream",
          "name": "stdout",
          "text": [
            "3 5\n",
            "B 100\n",
            "A 100\n",
            "C 1000\n",
            "99\n",
            "B\n",
            "100\n",
            "B\n",
            "101\n",
            "C\n",
            "500\n",
            "C\n",
            "1000\n",
            "C\n"
          ]
        }
      ],
      "source": [
        "def B(n):\n",
        "    s,e = 0,len_Name-1\n",
        "    while s < e:\n",
        "        m = (s+e)//2\n",
        "        if Name[m][0] > n:\n",
        "            e = m\n",
        "        elif Name[m][0] < n:\n",
        "            s = m+1\n",
        "        else:\n",
        "            return Name[m][1]\n",
        "    return Name[s][1]\n",
        "N,M = map(int,input().split())\n",
        "Name, Score = [],set()\n",
        "for _ in range(N):\n",
        "    name,num = input().split()\n",
        "    if not num in Score:\n",
        "        Name.append([int(num),name]) \n",
        "        Score.add(num)\n",
        "len_Name = len(Name)\n",
        "for _ in range(M):                 \n",
        "    print(B(int(input())))"
      ]
    }
  ]
}