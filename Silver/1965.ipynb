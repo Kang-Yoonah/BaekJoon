{
  "nbformat": 4,
  "nbformat_minor": 0,
  "metadata": {
    "colab": {
      "provenance": [],
      "authorship_tag": "ABX9TyNKGw244eUD7GB9g/GUVixF",
      "include_colab_link": true
    },
    "kernelspec": {
      "name": "python3",
      "display_name": "Python 3"
    },
    "language_info": {
      "name": "python"
    }
  },
  "cells": [
    {
      "cell_type": "markdown",
      "metadata": {
        "id": "view-in-github",
        "colab_type": "text"
      },
      "source": [
        "<a href=\"https://colab.research.google.com/github/Kang-Yoonah/BaekJoon/blob/main/Silver/1965.ipynb\" target=\"_parent\"><img src=\"https://colab.research.google.com/assets/colab-badge.svg\" alt=\"Open In Colab\"/></a>"
      ]
    },
    {
      "cell_type": "code",
      "execution_count": null,
      "metadata": {
        "id": "ngAJ07ynhhsy"
      },
      "outputs": [],
      "source": [
        "def sol(N):\n",
        "    dp = [0]*N\n",
        "    Box = list(map(int,input().split()))\n",
        "    for i in range(1,N):\n",
        "        now = Box[i]\n",
        "        max_ = 0\n",
        "        for j in range(i):\n",
        "            if  now > Box[j]:\n",
        "                if max_ <= dp[j]:\n",
        "                    max_ = dp[j] + 1\n",
        "        dp[i] = max_\n",
        "    return max(dp)+1\n",
        "            \n",
        "print(sol(int(input())))"
      ]
    }
  ]
}