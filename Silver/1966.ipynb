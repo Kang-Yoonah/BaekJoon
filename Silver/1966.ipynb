{
  "nbformat": 4,
  "nbformat_minor": 0,
  "metadata": {
    "colab": {
      "provenance": [],
      "authorship_tag": "ABX9TyPWd0/h8dQkmDiCalp3t6he",
      "include_colab_link": true
    },
    "kernelspec": {
      "name": "python3",
      "display_name": "Python 3"
    },
    "language_info": {
      "name": "python"
    }
  },
  "cells": [
    {
      "cell_type": "markdown",
      "metadata": {
        "id": "view-in-github",
        "colab_type": "text"
      },
      "source": [
        "<a href=\"https://colab.research.google.com/github/Kang-Yoonah/BaekJoon/blob/main/Silver/1966.ipynb\" target=\"_parent\"><img src=\"https://colab.research.google.com/assets/colab-badge.svg\" alt=\"Open In Colab\"/></a>"
      ]
    },
    {
      "cell_type": "code",
      "execution_count": null,
      "metadata": {
        "id": "tTbAZYALXhkt"
      },
      "outputs": [],
      "source": [
        "from collections import deque\n",
        "\n",
        "T = int(input())\n",
        "for _ in range(T):\n",
        "    n, m = map(int, input().split())\n",
        "    queue = deque(list(map(int, input().split())))\n",
        "    cnt = 0\n",
        "    while queue:\n",
        "        M = max(queue) \n",
        "        front = queue.popleft()\n",
        "        m -= 1\n",
        "\n",
        "        if M == front:\n",
        "            cnt += 1 \n",
        "            if m < 0:\n",
        "                print(cnt)\n",
        "                break\n",
        "\n",
        "        else:   \n",
        "            queue.append(front) \n",
        "            if m < 0 : \n",
        "                m = len(queue) - 1 "
      ]
    }
  ]
}