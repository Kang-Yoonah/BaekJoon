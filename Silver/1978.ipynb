{
  "nbformat": 4,
  "nbformat_minor": 0,
  "metadata": {
    "colab": {
      "name": "1978.ipynb",
      "provenance": [],
      "authorship_tag": "ABX9TyMM9sdRxmhyvgnx+GLttjoE",
      "include_colab_link": true
    },
    "kernelspec": {
      "name": "python3",
      "display_name": "Python 3"
    },
    "language_info": {
      "name": "python"
    }
  },
  "cells": [
    {
      "cell_type": "markdown",
      "metadata": {
        "id": "view-in-github",
        "colab_type": "text"
      },
      "source": [
        "<a href=\"https://colab.research.google.com/github/Kang-Yoonah/BaekJoon/blob/main/Silver/1978.ipynb\" target=\"_parent\"><img src=\"https://colab.research.google.com/assets/colab-badge.svg\" alt=\"Open In Colab\"/></a>"
      ]
    },
    {
      "cell_type": "code",
      "execution_count": 5,
      "metadata": {
        "colab": {
          "base_uri": "https://localhost:8080/"
        },
        "id": "AAAkTA6K3Igu",
        "outputId": "7d1954cc-9f46-441b-f31d-64589c6b9312"
      },
      "outputs": [
        {
          "output_type": "stream",
          "name": "stdout",
          "text": [
            "1\n",
            "33\n",
            "0\n"
          ]
        }
      ],
      "source": [
        "#import sys\n",
        "#input = sys.stdin.readline\n",
        "N = int(input())\n",
        "nums = list(map(int,input().split()))\n",
        "\n",
        "def prime(n):\n",
        "    array = [1 for _ in range(n+1)]\n",
        "    array[0] = array[1] = 0\n",
        "    for i in range(2,int(n**0.5)+1):\n",
        "        if array[i]:\n",
        "            for j in range(i*2,n+1,i):\n",
        "                array[j] = 0\n",
        "    return array\n",
        "\n",
        "p_array = prime(max(nums))\n",
        "count = 0\n",
        "for i in nums:\n",
        "    if p_array[i]:\n",
        "        count += 1\n",
        "print(count)"
      ]
    }
  ]
}