{
  "nbformat": 4,
  "nbformat_minor": 0,
  "metadata": {
    "colab": {
      "provenance": [],
      "authorship_tag": "ABX9TyOl+gpW+4ZA3gCnJ+f/9Vhz",
      "include_colab_link": true
    },
    "kernelspec": {
      "name": "python3",
      "display_name": "Python 3"
    },
    "language_info": {
      "name": "python"
    }
  },
  "cells": [
    {
      "cell_type": "markdown",
      "metadata": {
        "id": "view-in-github",
        "colab_type": "text"
      },
      "source": [
        "<a href=\"https://colab.research.google.com/github/Kang-Yoonah/BaekJoon/blob/main/Silver/19939.ipynb\" target=\"_parent\"><img src=\"https://colab.research.google.com/assets/colab-badge.svg\" alt=\"Open In Colab\"/></a>"
      ]
    },
    {
      "cell_type": "code",
      "source": [
        "#import sys\n",
        "#input = sys.stdin.readline\n",
        "\n",
        "def sol():\n",
        "    N,K = map(int,input().split())\n",
        "    N -= (K*(K+1))//2\n",
        "    if N < 0:\n",
        "        return print(-1)\n",
        "    return print(K if N%K else K-1)\n",
        "\n",
        "sol()"
      ],
      "metadata": {
        "id": "Gw8F0-TWPI0g",
        "colab": {
          "base_uri": "https://localhost:8080/"
        },
        "outputId": "ed5c44e8-84a6-4508-939c-62af17540209"
      },
      "execution_count": 3,
      "outputs": [
        {
          "output_type": "stream",
          "name": "stdout",
          "text": [
            "5 3\n",
            "6\n"
          ]
        }
      ]
    }
  ]
}