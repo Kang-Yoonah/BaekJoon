{
  "nbformat": 4,
  "nbformat_minor": 0,
  "metadata": {
    "colab": {
      "provenance": [],
      "authorship_tag": "ABX9TyOWvU+/XBLOc4u+OuhgeHI9",
      "include_colab_link": true
    },
    "kernelspec": {
      "name": "python3",
      "display_name": "Python 3"
    },
    "language_info": {
      "name": "python"
    }
  },
  "cells": [
    {
      "cell_type": "markdown",
      "metadata": {
        "id": "view-in-github",
        "colab_type": "text"
      },
      "source": [
        "<a href=\"https://colab.research.google.com/github/Kang-Yoonah/BaekJoon/blob/main/Silver/2002.ipynb\" target=\"_parent\"><img src=\"https://colab.research.google.com/assets/colab-badge.svg\" alt=\"Open In Colab\"/></a>"
      ]
    },
    {
      "cell_type": "code",
      "execution_count": null,
      "metadata": {
        "colab": {
          "base_uri": "https://localhost:8080/"
        },
        "id": "OYLRebQXLUVL",
        "outputId": "34d74fda-ff1e-42f2-e3bb-7e10e40bb130"
      },
      "outputs": [
        {
          "output_type": "stream",
          "name": "stdout",
          "text": [
            "4\n",
            "A\n",
            "B\n",
            "C\n",
            "D\n",
            "D\n",
            "A\n",
            "B\n",
            "C\n",
            "1\n"
          ]
        }
      ],
      "source": [
        "from collections import deque\n",
        "#import sys\n",
        "#input = sys.stdin.readline\n",
        "\n",
        "def func(N):\n",
        "    input_t = list(input().strip() for _ in range(N))\n",
        "    output = deque()\n",
        "    for _ in range(N):\n",
        "        output.append(input().strip())\n",
        "\n",
        "    ans = 0\n",
        "    for inp in input_t:\n",
        "        if output and inp in output:\n",
        "            while output.popleft() != inp:\n",
        "                ans += 1\n",
        "    print(ans)\n",
        "func(int(input()))"
      ]
    }
  ]
}