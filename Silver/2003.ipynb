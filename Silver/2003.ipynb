{
  "nbformat": 4,
  "nbformat_minor": 0,
  "metadata": {
    "colab": {
      "name": "2003.ipynb",
      "provenance": [],
      "authorship_tag": "ABX9TyMyu+KanQ5c6ML/uma16IXF",
      "include_colab_link": true
    },
    "kernelspec": {
      "name": "python3",
      "display_name": "Python 3"
    },
    "language_info": {
      "name": "python"
    }
  },
  "cells": [
    {
      "cell_type": "markdown",
      "metadata": {
        "id": "view-in-github",
        "colab_type": "text"
      },
      "source": [
        "<a href=\"https://colab.research.google.com/github/Kang-Yoonah/BaekJoon/blob/main/Silver/2003.ipynb\" target=\"_parent\"><img src=\"https://colab.research.google.com/assets/colab-badge.svg\" alt=\"Open In Colab\"/></a>"
      ]
    },
    {
      "cell_type": "code",
      "execution_count": 12,
      "metadata": {
        "colab": {
          "base_uri": "https://localhost:8080/"
        },
        "id": "EpwH8Pfz30Qn",
        "outputId": "72dbbf0c-e287-467a-bd83-86326c940582"
      },
      "outputs": [
        {
          "output_type": "stream",
          "name": "stdout",
          "text": [
            "10 5\n",
            "1 2 3 4 2 5 3 1 1 2\n",
            "3\n"
          ]
        }
      ],
      "source": [
        "N, M = map(int,input().split())\n",
        "seq = list(map(int,input().split()))\n",
        "pl, pr, count, total = 0, 1, 0, seq[0]\n",
        "while True:\n",
        "    if total < M :\n",
        "        if pr == N:\n",
        "            break\n",
        "        total += seq[pr]\n",
        "        pr += 1\n",
        "    elif total > M:\n",
        "        total -= seq[pl]\n",
        "        pl += 1\n",
        "    else:\n",
        "        count += 1\n",
        "        if pl == pr:\n",
        "            total += seq[pr]\n",
        "            pr += 1\n",
        "        total -= seq[pl]\n",
        "        pl += 1\n",
        "print(count)"
      ]
    }
  ]
}