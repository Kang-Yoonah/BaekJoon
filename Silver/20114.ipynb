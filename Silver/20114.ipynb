{
  "nbformat": 4,
  "nbformat_minor": 0,
  "metadata": {
    "colab": {
      "name": "20114.ipynb",
      "provenance": [],
      "authorship_tag": "ABX9TyPrCkIBKXAUth0pS5o/GUj3",
      "include_colab_link": true
    },
    "kernelspec": {
      "name": "python3",
      "display_name": "Python 3"
    },
    "language_info": {
      "name": "python"
    }
  },
  "cells": [
    {
      "cell_type": "markdown",
      "metadata": {
        "id": "view-in-github",
        "colab_type": "text"
      },
      "source": [
        "<a href=\"https://colab.research.google.com/github/Kang-Yoonah/BaekJoon/blob/main/Silver/20114.ipynb\" target=\"_parent\"><img src=\"https://colab.research.google.com/assets/colab-badge.svg\" alt=\"Open In Colab\"/></a>"
      ]
    },
    {
      "cell_type": "code",
      "execution_count": 1,
      "metadata": {
        "colab": {
          "base_uri": "https://localhost:8080/"
        },
        "id": "jntZUtXfasXM",
        "outputId": "d4e8da02-ca51-41b6-cbbd-5a913e79532d"
      },
      "outputs": [
        {
          "output_type": "stream",
          "name": "stdout",
          "text": [
            "3 10\n",
            "1\n",
            "2\n",
            "5\n",
            "10\n"
          ]
        }
      ],
      "source": [
        "N,H,W=map(int,input().split())\n",
        "Note=[input() for _ in range(H)]\n",
        "NewNote=['?']*N\n",
        "for i in range(H):\n",
        "    for j in range(0,N*W,W):\n",
        "        if NewNote[j//W] == '?':\n",
        "            a = Note[i][j:j+W].lstrip('?')\n",
        "            if a:\n",
        "                NewNote[j//W] = a[0]\n",
        "for i in NewNote:\n",
        "    print(i,end='')"
      ]
    }
  ]
}