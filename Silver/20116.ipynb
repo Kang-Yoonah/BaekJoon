{
  "nbformat": 4,
  "nbformat_minor": 0,
  "metadata": {
    "colab": {
      "name": "20116.ipynb",
      "provenance": [],
      "authorship_tag": "ABX9TyNd7Aj3qUyPDxX8kztKZeFl",
      "include_colab_link": true
    },
    "kernelspec": {
      "name": "python3",
      "display_name": "Python 3"
    },
    "language_info": {
      "name": "python"
    }
  },
  "cells": [
    {
      "cell_type": "markdown",
      "metadata": {
        "id": "view-in-github",
        "colab_type": "text"
      },
      "source": [
        "<a href=\"https://colab.research.google.com/github/Kang-Yoonah/BaekJoon/blob/main/Silver/20116.ipynb\" target=\"_parent\"><img src=\"https://colab.research.google.com/assets/colab-badge.svg\" alt=\"Open In Colab\"/></a>"
      ]
    },
    {
      "cell_type": "markdown",
      "source": [
        "- 진수에게는 총 n개의 상자가 있다. 모든 상자는 2L × 2L 크기의 정사각형 모양이고, 상자의 밀도는 균일하다\n",
        "- 진수는 이 상자들을 바닥에서부터 차곡차곡 쌓아올린다. 바닥은 y=0 이다.\n",
        "- 무게중심\n",
        "    - 바닥에 가까이 있는 있는 상자부터 각각 1번, 2번, ..., n번 상자라고 보았을 때   \n",
        "i번 상자의 중심은 ($x_i$, $2L×i - L$) 이 되고, 이는 i번 상자 1개의 무게 중심과 같다.\n",
        "    - 상자 여러 개의 무게 중심을 구하면 각각의 상자들의 무게 중심을 평균 낸 값이다.\n",
        "- 원하는 중심 좌표에 상자들을 쌓아올릴 때 무너지지 않고 균형을 이루는 지를 알고 싶다.\n",
        "    - 균형 이루는 조건\n",
        "        - 모든 1 ≤ i < n 에 대하여 i+1, i+2, ..., n 번 **상자들의 무게 중심의 x좌표가 i번 상자의 구간 안에 포함**되면 박스 전체가 균형을 이루게 된다.\n",
        "    - 구간\n",
        "        - i번 상자의 구간은 $x_i-L$과 $x_i+L$ 사이로 정의하며, $x_i-L$, $x_i+L$은 포함하지 않는다.   \n",
        "따라서 상자 모서리에 걸쳐 있는 경우는 균형을 이루지 않는 것으로 한다.\n",
        "- n개의 상자들의 중심 좌표가 주어지면, 해당 상자들이 균형을 이루는지 알아내보자.\n",
        "\n",
        "\n",
        "**입력**\n",
        "- 첫 번째 줄에는 상자의 개수 n (1 ≤ n ≤ 200,000) 과 상자의 사이즈 L (1 ≤ L ≤ 109) 이 주어진다.\n",
        "- 두 번째 줄에는 진수가 원하는 각각의 상자들의 무게 중심 x좌표 x1, x2, ..., xn (-109 ≤ xi ≤ 109) 이 주어진다.\n",
        "\n",
        "\n",
        "**출력**\n",
        "- 첫 번째 줄에 해당 상자들이 균형을 이룬다면 \"stable\", 그렇지 않다면 \"unstable\" 을 출력한다."
      ],
      "metadata": {
        "id": "0MQ9VaDOYDzO"
      }
    },
    {
      "cell_type": "code",
      "execution_count": 10,
      "metadata": {
        "id": "nUJcCRQNWv84",
        "colab": {
          "base_uri": "https://localhost:8080/"
        },
        "outputId": "df96ab8c-1a44-4b5c-a077-414aecd97902"
      },
      "outputs": [
        {
          "output_type": "stream",
          "name": "stdout",
          "text": [
            "3 10\n",
            "0 10 9\n",
            "stable\n"
          ]
        }
      ],
      "source": [
        "#import sys\n",
        "#input = sys.stdin.readline\n",
        "n, L = map(int, input().split())\n",
        "position = list(map(int,input().split()))\n",
        "position_sum = position[n-1]\n",
        "count = 1\n",
        "for i in range(n-2,-1,-1):\n",
        "    if position_sum/count >= (position[i]+L) or position_sum/count <= (position[i]-L):\n",
        "        print('unstable')\n",
        "        break\n",
        "    position_sum += position[i]\n",
        "    count += 1\n",
        "if count == n:\n",
        "    print('stable')"
      ]
    },
    {
      "cell_type": "markdown",
      "source": [
        "**이해 및 분석**\n",
        "- n번 상자에서부터 1번 상자로 내려가면서 무게중심 확인한다.\n",
        "- 각각의 구간을 구하면서 무게중심 평균내며 구간에 포함되는지 확인한다.\n",
        "    - 무게중심 평균 낼때 누적합은 유지되므로 누적합 장치를 만든다."
      ],
      "metadata": {
        "id": "VcMyOZczaGEd"
      }
    }
  ]
}