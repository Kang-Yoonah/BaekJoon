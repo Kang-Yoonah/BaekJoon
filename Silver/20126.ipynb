{
  "cells": [
    {
      "cell_type": "markdown",
      "metadata": {
        "id": "view-in-github",
        "colab_type": "text"
      },
      "source": [
        "<a href=\"https://colab.research.google.com/github/Kang-Yoonah/BaekJoon/blob/main/Silver/20126.ipynb\" target=\"_parent\"><img src=\"https://colab.research.google.com/assets/colab-badge.svg\" alt=\"Open In Colab\"/></a>"
      ]
    },
    {
      "cell_type": "code",
      "source": [
        "def sol():\n",
        "    N, M, S = map(int,input().split())\n",
        "    Time = [list(map(int,input().split())) for _ in range(N)]\n",
        "    \n",
        "    Time.sort(key = lambda x: x[0])\n",
        "    if M <= Time[0][0]:\n",
        "        return 0\n",
        "    for i in range(N-1):\n",
        "        if Time[i+1][0] - sum(Time[i]) >= M:\n",
        "            return sum(Time[i])\n",
        "    if sum(Time[-1]) + M <= S:\n",
        "        return sum(Time[-1])\n",
        "    return -1\n",
        "                     \n",
        "print(sol())"
      ],
      "metadata": {
        "id": "Eum8oDR9H9Ie",
        "colab": {
          "base_uri": "https://localhost:8080/"
        },
        "outputId": "d1f70e7f-48e6-4a98-93f6-b76136e28e76"
      },
      "execution_count": 1,
      "outputs": [
        {
          "output_type": "stream",
          "name": "stdout",
          "text": [
            "2 3 5\n",
            "0 1\n",
            "4 1\n",
            "1\n"
          ]
        }
      ]
    }
  ],
  "metadata": {
    "colab": {
      "provenance": [],
      "authorship_tag": "ABX9TyO+gmaV00rmIBcFbyujgAXg",
      "include_colab_link": true
    },
    "kernelspec": {
      "display_name": "Python 3",
      "name": "python3"
    },
    "language_info": {
      "name": "python"
    }
  },
  "nbformat": 4,
  "nbformat_minor": 0
}