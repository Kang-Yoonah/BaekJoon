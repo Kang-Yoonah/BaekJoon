{
  "cells": [
    {
      "cell_type": "markdown",
      "metadata": {
        "id": "view-in-github",
        "colab_type": "text"
      },
      "source": [
        "<a href=\"https://colab.research.google.com/github/Kang-Yoonah/BaekJoon/blob/main/Silver/20207.ipynb\" target=\"_parent\"><img src=\"https://colab.research.google.com/assets/colab-badge.svg\" alt=\"Open In Colab\"/></a>"
      ]
    },
    {
      "cell_type": "code",
      "execution_count": 1,
      "metadata": {
        "colab": {
          "base_uri": "https://localhost:8080/"
        },
        "id": "V5Behma77t2H",
        "outputId": "54896db4-6d96-4839-fe6e-1c0deccc1a49"
      },
      "outputs": [
        {
          "output_type": "stream",
          "name": "stdout",
          "text": [
            "5\n",
            "1 9\n",
            "8 9\n",
            "4 6\n",
            "3 4\n",
            "2 5\n",
            "36\n"
          ]
        }
      ],
      "source": [
        "def sol():\n",
        "    N = int(input())\n",
        "    num, Min, Max = [], 366, 0\n",
        "    for i in range(N):\n",
        "        a,b = map(int,input().split())\n",
        "        Min, Max = min(Min, a), max(Max, b)\n",
        "        num.append([b-a, a, b])\n",
        "    num.sort(reverse=True)\n",
        "    ans = [0]*(Max-Min+1)\n",
        "    for Num in num:\n",
        "        s,e = Num[1]-Min, Num[2]-Min\n",
        "        for i in range(s,e+1):\n",
        "            ans[i] += 1\n",
        "    Ans = V1 = V2 = 0\n",
        "    for i in ans:\n",
        "        if i == 0:\n",
        "            Ans += V1*V2\n",
        "            V1 = V2 = 0\n",
        "        else:\n",
        "            V1 +=1\n",
        "            V2 = max(V2,i)\n",
        "    print(Ans+V1*V2)\n",
        "\n",
        "sol()"
      ]
    }
  ],
  "metadata": {
    "colab": {
      "provenance": [],
      "authorship_tag": "ABX9TyMH0Jh7semqBTeUqyWLx6HK",
      "include_colab_link": true
    },
    "kernelspec": {
      "display_name": "Python 3",
      "name": "python3"
    },
    "language_info": {
      "name": "python"
    }
  },
  "nbformat": 4,
  "nbformat_minor": 0
}