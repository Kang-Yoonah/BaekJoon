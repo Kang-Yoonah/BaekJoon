{
  "nbformat": 4,
  "nbformat_minor": 0,
  "metadata": {
    "colab": {
      "provenance": [],
      "authorship_tag": "ABX9TyMARGXbcKeBtQ9LWonf1Ngn",
      "include_colab_link": true
    },
    "kernelspec": {
      "name": "python3",
      "display_name": "Python 3"
    },
    "language_info": {
      "name": "python"
    }
  },
  "cells": [
    {
      "cell_type": "markdown",
      "metadata": {
        "id": "view-in-github",
        "colab_type": "text"
      },
      "source": [
        "<a href=\"https://colab.research.google.com/github/Kang-Yoonah/BaekJoon/blob/main/Silver/20438.ipynb\" target=\"_parent\"><img src=\"https://colab.research.google.com/assets/colab-badge.svg\" alt=\"Open In Colab\"/></a>"
      ]
    },
    {
      "cell_type": "code",
      "source": [
        "import sys \n",
        "input = sys.stdin.readline\n",
        "\n",
        "def sol(): \n",
        "    N,_,_,M = map(int,input().split())\n",
        "    ST = [0]*3 + [1]*N\n",
        "    Sleep = list(map(int,input().split()))\n",
        "    Here =  list(map(int,input().split()))\n",
        "    for sleep in Sleep:\n",
        "        ST[sleep] = -1\n",
        "    for here in Here:\n",
        "        if ST[here] > 0:\n",
        "            for i in range(here,N+3,here):\n",
        "                if ST[i] > 0:\n",
        "                    ST[i] = 0\n",
        "\n",
        "    for i in range(3,N+3):\n",
        "        ST[i] = abs(ST[i]) + ST[i-1]\n",
        "        \n",
        "    for _ in range(M):\n",
        "        S,E = map(int,input().split())\n",
        "        print(ST[E]-ST[S-1])\n",
        "                 \n",
        "sol()"
      ],
      "metadata": {
        "id": "Gw8F0-TWPI0g"
      },
      "execution_count": null,
      "outputs": []
    }
  ]
}