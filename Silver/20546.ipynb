{
  "nbformat": 4,
  "nbformat_minor": 0,
  "metadata": {
    "colab": {
      "provenance": [],
      "authorship_tag": "ABX9TyPU5EHfMV7WS9U8OED0FDsW",
      "include_colab_link": true
    },
    "kernelspec": {
      "name": "python3",
      "display_name": "Python 3"
    },
    "language_info": {
      "name": "python"
    }
  },
  "cells": [
    {
      "cell_type": "markdown",
      "metadata": {
        "id": "view-in-github",
        "colab_type": "text"
      },
      "source": [
        "<a href=\"https://colab.research.google.com/github/Kang-Yoonah/BaekJoon/blob/main/Silver/20546.ipynb\" target=\"_parent\"><img src=\"https://colab.research.google.com/assets/colab-badge.svg\" alt=\"Open In Colab\"/></a>"
      ]
    },
    {
      "cell_type": "code",
      "source": [
        "money = int(input())\n",
        "jusick = list(map(int,input().split()))\n",
        "\n",
        "jm,sm, jj,sj,check = money,money,0,0,0\n",
        "\n",
        "for i in range(14):\n",
        "    if jm >= jusick[i]:\n",
        "        j = jm//jusick[i]\n",
        "        jm -= j*jusick[i]\n",
        "        jj += j\n",
        "    if i > 2:\n",
        "        if jusick[i-3] < jusick[i-2] < jusick[i-1] < jusick[i]:\n",
        "            sm += sj*jusick[i]\n",
        "            sj = 0\n",
        "        elif jusick[i-3] > jusick[i-2] > jusick[i-1] > jusick[i]:\n",
        "            s = sm//jusick[i]\n",
        "            sm -= s*jusick[i]\n",
        "            sj += s\n",
        "J, S = (jm+jj*jusick[-1]), (sm+sj*jusick[-1])\n",
        "if J > S:\n",
        "    print('BNP')\n",
        "elif J < S:\n",
        "    print('TIMING')\n",
        "else:\n",
        "    print('SAMESAME')"
      ],
      "metadata": {
        "colab": {
          "base_uri": "https://localhost:8080/"
        },
        "id": "1kiNmMHz5m8p",
        "outputId": "b01b1535-c2aa-4c4f-e62a-d38a37a1597f"
      },
      "execution_count": 1,
      "outputs": [
        {
          "output_type": "stream",
          "name": "stdout",
          "text": [
            "15\n",
            "20 20 33 98 15 6 4 1 1 1 2 3 6 14\n",
            "TIMING\n"
          ]
        }
      ]
    }
  ]
}