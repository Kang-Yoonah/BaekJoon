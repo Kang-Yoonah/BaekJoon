{
  "nbformat": 4,
  "nbformat_minor": 0,
  "metadata": {
    "colab": {
      "provenance": [],
      "authorship_tag": "ABX9TyPmyq99TM1iFMUuVH0OqYhG",
      "include_colab_link": true
    },
    "kernelspec": {
      "name": "python3",
      "display_name": "Python 3"
    },
    "language_info": {
      "name": "python"
    }
  },
  "cells": [
    {
      "cell_type": "markdown",
      "metadata": {
        "id": "view-in-github",
        "colab_type": "text"
      },
      "source": [
        "<a href=\"https://colab.research.google.com/github/Kang-Yoonah/BaekJoon/blob/main/Silver/20551.ipynb\" target=\"_parent\"><img src=\"https://colab.research.google.com/assets/colab-badge.svg\" alt=\"Open In Colab\"/></a>"
      ]
    },
    {
      "cell_type": "code",
      "source": [
        "def sol():\n",
        "    N,M = map(int,input().split())\n",
        "    S = sorted([int(input()) for _ in range(N)])\n",
        "    for _ in range(M):\n",
        "        a = int(input())\n",
        "        s,e,n = 0,N-1,-1\n",
        "        while s <= e:\n",
        "            m = (s+e)//2\n",
        "            if a ==  S[m]:\n",
        "                if m == e:\n",
        "                    n  = m\n",
        "                    break\n",
        "                e = m\n",
        "            elif a >  S[m]:\n",
        "                s = m+1\n",
        "            else:\n",
        "                e = m-1\n",
        "        print(n)\n",
        "\n",
        "sol()"
      ],
      "metadata": {
        "colab": {
          "base_uri": "https://localhost:8080/"
        },
        "id": "V5Behma77t2H",
        "outputId": "f5e420d6-a7d2-4575-ff36-b6592479f23c"
      },
      "execution_count": 1,
      "outputs": [
        {
          "output_type": "stream",
          "name": "stdout",
          "text": [
            "5 5 \n",
            "9\n",
            "0\n",
            "-1\n",
            "3\n",
            "2\n",
            "-1\n",
            "0\n",
            "10\n",
            "-1\n",
            "5\n",
            "-1\n",
            "9\n",
            "4\n",
            "0\n",
            "1\n"
          ]
        }
      ]
    }
  ]
}