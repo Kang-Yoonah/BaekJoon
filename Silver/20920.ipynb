{
  "nbformat": 4,
  "nbformat_minor": 0,
  "metadata": {
    "colab": {
      "name": "20920.ipynb",
      "provenance": [],
      "authorship_tag": "ABX9TyPh7Aydx4hprfFL5gr6LmUc",
      "include_colab_link": true
    },
    "kernelspec": {
      "name": "python3",
      "display_name": "Python 3"
    },
    "language_info": {
      "name": "python"
    }
  },
  "cells": [
    {
      "cell_type": "markdown",
      "metadata": {
        "id": "view-in-github",
        "colab_type": "text"
      },
      "source": [
        "<a href=\"https://colab.research.google.com/github/Kang-Yoonah/BaekJoon/blob/main/Silver/20920.ipynb\" target=\"_parent\"><img src=\"https://colab.research.google.com/assets/colab-badge.svg\" alt=\"Open In Colab\"/></a>"
      ]
    },
    {
      "cell_type": "code",
      "execution_count": 1,
      "metadata": {
        "colab": {
          "base_uri": "https://localhost:8080/"
        },
        "id": "NkLFQH0n1N4s",
        "outputId": "1c849364-84a7-429d-dc00-cafee968a038"
      },
      "outputs": [
        {
          "output_type": "stream",
          "name": "stdout",
          "text": [
            "12 5\n",
            "appearance\n",
            "append\n",
            "attendance\n",
            "swim\n",
            "swift\n",
            "swift\n",
            "swift\n",
            "mouse\n",
            "wallet\n",
            "mouse\n",
            "ice\n",
            "age\n",
            "swift\n",
            "mouse\n",
            "appearance\n",
            "attendance\n",
            "append\n",
            "wallet\n"
          ]
        }
      ],
      "source": [
        "N, M = map(int,input().split())\n",
        "word = {}\n",
        "for _ in range(N):\n",
        "    s = input()\n",
        "    if len(s) >= M:\n",
        "        word[s] = word.get(s, 0) + 1\n",
        "\n",
        "word = sorted(word, key = lambda x : (-word[x], -len(x), x))\n",
        "print(*word, sep='\\n')"
      ]
    }
  ]
}