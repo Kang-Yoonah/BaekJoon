{
  "nbformat": 4,
  "nbformat_minor": 0,
  "metadata": {
    "colab": {
      "name": "2156.ipynb",
      "provenance": [],
      "authorship_tag": "ABX9TyNN2lSqLG9Y2egIp3KC/hXd",
      "include_colab_link": true
    },
    "kernelspec": {
      "name": "python3",
      "display_name": "Python 3"
    },
    "language_info": {
      "name": "python"
    }
  },
  "cells": [
    {
      "cell_type": "markdown",
      "metadata": {
        "id": "view-in-github",
        "colab_type": "text"
      },
      "source": [
        "<a href=\"https://colab.research.google.com/github/Kang-Yoonah/BaekJoon/blob/main/Silver/2156.ipynb\" target=\"_parent\"><img src=\"https://colab.research.google.com/assets/colab-badge.svg\" alt=\"Open In Colab\"/></a>"
      ]
    },
    {
      "cell_type": "code",
      "source": [
        "n = int(input())\n",
        "wine = [0] + [int(input()) for _ in range(n)]\n",
        "dp = [0,wine[1]] + [0]*(n-1)\n",
        "\n",
        "if n > 1:\n",
        "    dp[2] = dp[1] + wine[2]\n",
        "    if n > 2:\n",
        "        for i in range(3,n+1):\n",
        "            dp[i] = max(dp[i-3]+wine[i-1]+wine[i], dp[i-2]+wine[i], dp[i-1])\n",
        "print(dp[-1])"
      ],
      "metadata": {
        "colab": {
          "base_uri": "https://localhost:8080/"
        },
        "id": "E982Xa7V3_o-",
        "outputId": "ecf06929-20b0-4813-bd72-91b16e2bab0b"
      },
      "execution_count": 18,
      "outputs": [
        {
          "output_type": "stream",
          "name": "stdout",
          "text": [
            "7\n",
            "10\n",
            "100\n",
            "100\n",
            "10\n",
            "10\n",
            "100\n",
            "100\n",
            "400\n"
          ]
        }
      ]
    }
  ]
}