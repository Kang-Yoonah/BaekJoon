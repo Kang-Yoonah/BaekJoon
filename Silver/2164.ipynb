{
  "nbformat": 4,
  "nbformat_minor": 0,
  "metadata": {
    "colab": {
      "provenance": [],
      "authorship_tag": "ABX9TyPT7TrNq8hpRqp+K8w9jKbu",
      "include_colab_link": true
    },
    "kernelspec": {
      "name": "python3",
      "display_name": "Python 3"
    },
    "language_info": {
      "name": "python"
    }
  },
  "cells": [
    {
      "cell_type": "markdown",
      "metadata": {
        "id": "view-in-github",
        "colab_type": "text"
      },
      "source": [
        "<a href=\"https://colab.research.google.com/github/Kang-Yoonah/BaekJoon/blob/main/Silver/2164.ipynb\" target=\"_parent\"><img src=\"https://colab.research.google.com/assets/colab-badge.svg\" alt=\"Open In Colab\"/></a>"
      ]
    },
    {
      "cell_type": "markdown",
      "source": [
        "# 큐\n",
        "- 정의\n",
        "    - 양쪽이 뚫려있는 기다란 통에서 한쪽은 데이터를 삽입하고 한쪽은 데이터를 삭제하는 자료구조\n",
        "    - **먼저 들어간 데이터가 먼저 나오는 선입선출(FIFO- First In, First out) 구조**\n",
        "- 연산\n",
        "    - push X: 정수 X를 큐에 넣는 연산이다.\n",
        "    - pop: 큐에서 가장 앞에 있는 정수를 빼고, 그 수를 출력한다. 만약 큐에 들어있는 정수가 없는 경우에는 -1을 출력한다.\n",
        "    - size: 큐에 들어있는 정수의 개수를 출력한다.\n",
        "    - empty: 큐가 비어있으면 1, 아니면 0을 출력한다.\n",
        "    - front: 큐의 가장 앞에 있는 정수를 출력한다. 만약 큐에 들어있는 정수가 없는 경우에는 -1을 출력한다.\n",
        "    - back: 큐의 가장 뒤에 있는 정수를 출력한다. 만약 큐에 들어있는 정수가 없는 경우에는 -1을 출력한다.\n",
        "- `collections` 모듈의 `deque`\n",
        "    - double-ended queue 의 약자로 데이터를 양방향에서 추가하고 제거할 수 있는 자료구조.\n",
        "    - list와 비슷하다.\n",
        "    - `popleft()` 메서드 : 첫 번째 데이터를 제거할 수 있다.\n",
        "        - 데이터의 흐름은 list 객체의 `pop(0)` 메서드를 사용할 때처럼 뒤에서 앞으로 흐르게 된다.\n",
        "    - `appendleft()` 메서드 : 데이터를 맨 앞에서 삽입할 수 있다.\n",
        "        - 데이터의 흐름은 list 객체의 `insert(0, x)` 메서드를 사용할 때처럼 앞에서 뒤로 흐르게 된다.\n",
        "    - `popleft()` 와 `appendleft()` 메서드 모두 O(1) 시간 복잡도를 가지기 때문에, 상당히 큰 이점이 있다.\n",
        "- `queuq` 모듈의 `Queue` 클래스\n",
        "    - `deque`와 달리 방향성이 없기 때문에 데이터 추가와 삭제가 하나의 메서드로 처리된다.\n",
        "    - `put()` : 데이터 추가\n",
        "    - `get()` : 데이터 삭제"
      ],
      "metadata": {
        "id": "4tPg_RsUZUIM"
      }
    },
    {
      "cell_type": "code",
      "execution_count": 2,
      "metadata": {
        "colab": {
          "base_uri": "https://localhost:8080/"
        },
        "id": "2SRYv_ZVZQsG",
        "outputId": "4f4f695e-c91f-4e6d-b0db-7bb28e76b2eb"
      },
      "outputs": [
        {
          "output_type": "stream",
          "name": "stdout",
          "text": [
            "6\n",
            "4\n"
          ]
        }
      ],
      "source": [
        "from collections import deque\n",
        "\n",
        "N = int(input())\n",
        "que = deque(range(1,N+1))\n",
        "\n",
        "while len(que) != 1:\n",
        "    que.popleft()\n",
        "    v = que.popleft()\n",
        "    que.append(v)\n",
        "print(que[0])"
      ]
    }
  ]
}