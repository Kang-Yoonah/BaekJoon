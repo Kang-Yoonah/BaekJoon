{
  "nbformat": 4,
  "nbformat_minor": 0,
  "metadata": {
    "colab": {
      "provenance": [],
      "authorship_tag": "ABX9TyO9hkeu5RCdkNyBHU8PlrCB",
      "include_colab_link": true
    },
    "kernelspec": {
      "name": "python3",
      "display_name": "Python 3"
    },
    "language_info": {
      "name": "python"
    }
  },
  "cells": [
    {
      "cell_type": "markdown",
      "metadata": {
        "id": "view-in-github",
        "colab_type": "text"
      },
      "source": [
        "<a href=\"https://colab.research.google.com/github/Kang-Yoonah/BaekJoon/blob/main/Silver/2167.ipynb\" target=\"_parent\"><img src=\"https://colab.research.google.com/assets/colab-badge.svg\" alt=\"Open In Colab\"/></a>"
      ]
    },
    {
      "cell_type": "code",
      "source": [
        "def sol():\n",
        "    N,M = map(int,input().split())\n",
        "    Arry = [[0]*(M+1)] +[[0] +list(map(int,input().split())) for _ in range(N)] \n",
        "    for i in range(1,N+1):\n",
        "        for j in range(1,M+1):\n",
        "            Arry[i][j] += Arry[i][j-1]+Arry[i-1][j]-Arry[i-1][j-1]\n",
        "    for _ in range(int(input())):\n",
        "        i,j,x,y = map(int,input().split())\n",
        "        print(Arry[x][y]-Arry[i-1][y]-Arry[x][j-1]+Arry[i-1][j-1])\n",
        "            \n",
        "sol()"
      ],
      "metadata": {
        "colab": {
          "base_uri": "https://localhost:8080/"
        },
        "id": "V5Behma77t2H",
        "outputId": "4f1f2cd0-dd8e-4225-cd97-ac815d97f323"
      },
      "execution_count": 1,
      "outputs": [
        {
          "output_type": "stream",
          "name": "stdout",
          "text": [
            "2 3\n",
            "1 2 4\n",
            "8 16 32\n",
            "3\n",
            "1 1 1 3\n",
            "7\n",
            "2 1 2 1 \n",
            "8\n",
            "1 3 2 3\n",
            "36\n"
          ]
        }
      ]
    }
  ]
}