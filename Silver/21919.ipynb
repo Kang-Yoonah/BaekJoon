{
  "nbformat": 4,
  "nbformat_minor": 0,
  "metadata": {
    "colab": {
      "provenance": [],
      "authorship_tag": "ABX9TyNngdLduhXoz3y0hnwfporJ",
      "include_colab_link": true
    },
    "kernelspec": {
      "name": "python3",
      "display_name": "Python 3"
    },
    "language_info": {
      "name": "python"
    }
  },
  "cells": [
    {
      "cell_type": "markdown",
      "metadata": {
        "id": "view-in-github",
        "colab_type": "text"
      },
      "source": [
        "<a href=\"https://colab.research.google.com/github/Kang-Yoonah/BaekJoon/blob/main/Silver/21919.ipynb\" target=\"_parent\"><img src=\"https://colab.research.google.com/assets/colab-badge.svg\" alt=\"Open In Colab\"/></a>"
      ]
    },
    {
      "cell_type": "code",
      "source": [
        "#import sys\n",
        "#input = sys.stdin.readline\n",
        "\n",
        "def sol(N):\n",
        "    Numbers = set(map(int,input().split()))\n",
        "    max_ = max(Numbers)\n",
        "    primes = [1]*(max_+1)\n",
        "    primes[0] = primes[1] = 0\n",
        "    for i in range(4,max_ + 1,2):\n",
        "        primes[i] = 0\n",
        "    for i in range(3,int(max_**0.5)+1,2):\n",
        "        if primes[i]:\n",
        "            for j in range(3*i,max_+1,i):\n",
        "                primes[j] = 0\n",
        "    num = 1\n",
        "    for n in Numbers:\n",
        "        if primes[n]:\n",
        "            num *= n\n",
        "    print(num if num > 1 else -1)\n",
        "    \n",
        "sol(int(input()))  "
      ],
      "metadata": {
        "id": "BOo2NcWz0SxF",
        "colab": {
          "base_uri": "https://localhost:8080/"
        },
        "outputId": "1598e216-0b32-4d40-c369-ca16082411f7"
      },
      "execution_count": 1,
      "outputs": [
        {
          "output_type": "stream",
          "name": "stdout",
          "text": [
            "5\n",
            "2 3 5 6 8\n",
            "30\n"
          ]
        }
      ]
    }
  ]
}