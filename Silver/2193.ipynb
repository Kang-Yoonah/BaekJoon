{
  "nbformat": 4,
  "nbformat_minor": 0,
  "metadata": {
    "colab": {
      "name": "2193.ipynb",
      "provenance": [],
      "authorship_tag": "ABX9TyNe6wWgwxMqLHA/MwvWiM5c",
      "include_colab_link": true
    },
    "kernelspec": {
      "name": "python3",
      "display_name": "Python 3"
    },
    "language_info": {
      "name": "python"
    }
  },
  "cells": [
    {
      "cell_type": "markdown",
      "metadata": {
        "id": "view-in-github",
        "colab_type": "text"
      },
      "source": [
        "<a href=\"https://colab.research.google.com/github/Kang-Yoonah/BaekJoon/blob/main/Silver/2193.ipynb\" target=\"_parent\"><img src=\"https://colab.research.google.com/assets/colab-badge.svg\" alt=\"Open In Colab\"/></a>"
      ]
    },
    {
      "cell_type": "code",
      "execution_count": null,
      "metadata": {
        "colab": {
          "base_uri": "https://localhost:8080/"
        },
        "id": "81Ob16xhHyi3",
        "outputId": "4bdd9c09-7939-4859-d773-6e005e289c46"
      },
      "outputs": [
        {
          "output_type": "stream",
          "name": "stdout",
          "text": [
            "90\n",
            "2880067194370816120\n"
          ]
        }
      ],
      "source": [
        "N = int(input())\n",
        "pn = [[1]*2 for _ in range(N+1)]\n",
        "for n in range(2,N+1):\n",
        "    pn[n][0] = pn[n-1][0] + pn[n-1][1]\n",
        "    pn[n][1] = pn[n-1][0]\n",
        "print(pn[N][1])"
      ]
    }
  ]
}