{
  "nbformat": 4,
  "nbformat_minor": 0,
  "metadata": {
    "colab": {
      "name": "2217.ipynb",
      "provenance": [],
      "authorship_tag": "ABX9TyMKtV8of6fkNTEhm0RWyR11",
      "include_colab_link": true
    },
    "kernelspec": {
      "name": "python3",
      "display_name": "Python 3"
    },
    "language_info": {
      "name": "python"
    }
  },
  "cells": [
    {
      "cell_type": "markdown",
      "metadata": {
        "id": "view-in-github",
        "colab_type": "text"
      },
      "source": [
        "<a href=\"https://colab.research.google.com/github/Kang-Yoonah/BaekJoon/blob/main/Silver/2217.ipynb\" target=\"_parent\"><img src=\"https://colab.research.google.com/assets/colab-badge.svg\" alt=\"Open In Colab\"/></a>"
      ]
    },
    {
      "cell_type": "code",
      "execution_count": 19,
      "metadata": {
        "colab": {
          "base_uri": "https://localhost:8080/"
        },
        "id": "Me-aYgUOW7N7",
        "outputId": "5a4e0147-cb9f-4f17-fa8f-7652b0bb0ab8"
      },
      "outputs": [
        {
          "output_type": "stream",
          "name": "stdout",
          "text": [
            "3\n",
            "11\n",
            "5\n",
            "4\n",
            "12\n"
          ]
        }
      ],
      "source": [
        "#import sys\n",
        "#input = sys.stdin.readline\n",
        "N = int(input())\n",
        "rope = [int(input()) for _ in range(N)]\n",
        "rope = sorted(rope,reverse=True)\n",
        "count = max_weight = 0\n",
        "for r in rope:\n",
        "    count += 1\n",
        "    w = r*count\n",
        "    if max_weight < w:\n",
        "        max_weight = w\n",
        "print(max_weight)"
      ]
    }
  ]
}