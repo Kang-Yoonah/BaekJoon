{
  "nbformat": 4,
  "nbformat_minor": 0,
  "metadata": {
    "colab": {
      "provenance": [],
      "authorship_tag": "ABX9TyPcUTW0uBlz6pZ77x1xOsG3",
      "include_colab_link": true
    },
    "kernelspec": {
      "name": "python3",
      "display_name": "Python 3"
    },
    "language_info": {
      "name": "python"
    }
  },
  "cells": [
    {
      "cell_type": "markdown",
      "metadata": {
        "id": "view-in-github",
        "colab_type": "text"
      },
      "source": [
        "<a href=\"https://colab.research.google.com/github/Kang-Yoonah/BaekJoon/blob/main/Silver/2238.ipynb\" target=\"_parent\"><img src=\"https://colab.research.google.com/assets/colab-badge.svg\" alt=\"Open In Colab\"/></a>"
      ]
    },
    {
      "cell_type": "code",
      "execution_count": null,
      "metadata": {
        "id": "wdcGVBKTTPts"
      },
      "outputs": [],
      "source": [
        "def sol():\n",
        "    U,N = map(int,input().split())\n",
        "    Auction = {}\n",
        "    Num = [N+1]*(U+1)\n",
        "    for _ in range(N):\n",
        "        A = input().split()\n",
        "        a = int(A[1])\n",
        "        if a not in Auction:\n",
        "            Auction[a] = A[0]\n",
        "        if Num[a] == N+1:\n",
        "            Num[a] = 1\n",
        "        else:\n",
        "            Num[a] += 1\n",
        "    min_ = Num.index(min(Num))\n",
        "    print(Auction[min_], min_)\n",
        "\n",
        "sol()"
      ]
    }
  ]
}