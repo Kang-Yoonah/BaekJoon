{
  "nbformat": 4,
  "nbformat_minor": 0,
  "metadata": {
    "colab": {
      "name": "2312.ipynb",
      "provenance": [],
      "authorship_tag": "ABX9TyOuvyc0Rl/EAfzL/83A7KOS",
      "include_colab_link": true
    },
    "kernelspec": {
      "name": "python3",
      "display_name": "Python 3"
    },
    "language_info": {
      "name": "python"
    }
  },
  "cells": [
    {
      "cell_type": "markdown",
      "metadata": {
        "id": "view-in-github",
        "colab_type": "text"
      },
      "source": [
        "<a href=\"https://colab.research.google.com/github/Kang-Yoonah/BaekJoon/blob/main/Silver/2312.ipynb\" target=\"_parent\"><img src=\"https://colab.research.google.com/assets/colab-badge.svg\" alt=\"Open In Colab\"/></a>"
      ]
    },
    {
      "cell_type": "markdown",
      "source": [
        "**수 복원하기**\n",
        "\n",
        "양의 정수 N이 주어졌을 때, 이 수를 소인수분해 한 결과를 출력하는 프로그램을 작성하시오.\n",
        "\n",
        "첫째 줄에 테스트 케이스의 수가 주어진다. 각 테스트 케이스마다 양의 정수 N (2 ≤ N ≤ 100,000)이 주어진다.\n",
        "\n",
        "각 테스트 케이스마다 각 인수와 그 인수가 곱해진 횟수를 한 줄씩 출력한다. 출력 순서는 인수가 증가하는 순으로 한다.\n",
        "\n",
        "시간제한 2초, 메모리제한 128MB"
      ],
      "metadata": {
        "id": "7fcSF8oqcENs"
      }
    },
    {
      "cell_type": "code",
      "source": [
        "# import sys\n",
        "# input = sys.stdin.readline\n",
        "T = int(input())\n",
        "for _ in range(T):\n",
        "    N = int(input())\n",
        "    num = 2\n",
        "    while N != 1:\n",
        "        count = 0\n",
        "        if N % num == 0:\n",
        "            while N % num == 0:\n",
        "                N //= num\n",
        "                count += 1\n",
        "            print(num, count)\n",
        "        num +=1"
      ],
      "metadata": {
        "colab": {
          "base_uri": "https://localhost:8080/"
        },
        "id": "CSca4kEFiv1h",
        "outputId": "3b051c10-b971-49ea-8ae8-f23ad04c40ec"
      },
      "execution_count": 12,
      "outputs": [
        {
          "output_type": "stream",
          "name": "stdout",
          "text": [
            "2\n",
            "6\n",
            "2 1\n",
            "3 1\n",
            "24\n",
            "2 3\n",
            "3 1\n"
          ]
        }
      ]
    }
  ]
}