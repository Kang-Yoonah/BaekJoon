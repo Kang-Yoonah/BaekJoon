{
  "nbformat": 4,
  "nbformat_minor": 0,
  "metadata": {
    "colab": {
      "provenance": [],
      "authorship_tag": "ABX9TyM+alhajJm8tWTeJ7ipgsoS",
      "include_colab_link": true
    },
    "kernelspec": {
      "name": "python3",
      "display_name": "Python 3"
    },
    "language_info": {
      "name": "python"
    }
  },
  "cells": [
    {
      "cell_type": "markdown",
      "metadata": {
        "id": "view-in-github",
        "colab_type": "text"
      },
      "source": [
        "<a href=\"https://colab.research.google.com/github/Kang-Yoonah/BaekJoon/blob/main/Silver/23253.ipynb\" target=\"_parent\"><img src=\"https://colab.research.google.com/assets/colab-badge.svg\" alt=\"Open In Colab\"/></a>"
      ]
    },
    {
      "cell_type": "code",
      "source": [
        "def sol():\n",
        "    N,M = map(int,input().split())\n",
        "    Sol = \"Yes\"\n",
        "    for _ in range(M):\n",
        "        input()\n",
        "        Books = list(map(int,input().split()))\n",
        "        if Sol == \"Yes\":\n",
        "            min = Books[0]\n",
        "            for num in Books[1:]:\n",
        "                if num > min:\n",
        "                    Sol = \"No\"\n",
        "                min = num\n",
        "    return Sol\n",
        "    \n",
        "print(sol())"
      ],
      "metadata": {
        "id": "Gw8F0-TWPI0g",
        "colab": {
          "base_uri": "https://localhost:8080/"
        },
        "outputId": "136723ff-646f-4079-cfb2-488d53b8ad4e"
      },
      "execution_count": 1,
      "outputs": [
        {
          "output_type": "stream",
          "name": "stdout",
          "text": [
            "4 2\n",
            "2\n",
            "3 1\n",
            "2\n",
            "4 2\n",
            "Yes\n"
          ]
        }
      ]
    }
  ]
}