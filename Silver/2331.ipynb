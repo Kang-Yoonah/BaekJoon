{
  "nbformat": 4,
  "nbformat_minor": 0,
  "metadata": {
    "colab": {
      "name": "2331.ipynb",
      "provenance": [],
      "authorship_tag": "ABX9TyMo5xw9cGKVK1dJRD7092ms",
      "include_colab_link": true
    },
    "kernelspec": {
      "name": "python3",
      "display_name": "Python 3"
    },
    "language_info": {
      "name": "python"
    }
  },
  "cells": [
    {
      "cell_type": "markdown",
      "metadata": {
        "id": "view-in-github",
        "colab_type": "text"
      },
      "source": [
        "<a href=\"https://colab.research.google.com/github/Kang-Yoonah/BaekJoon/blob/main/Silver/2331.ipynb\" target=\"_parent\"><img src=\"https://colab.research.google.com/assets/colab-badge.svg\" alt=\"Open In Colab\"/></a>"
      ]
    },
    {
      "cell_type": "code",
      "source": [
        "def cal(num,p):\n",
        "    num = str(num)\n",
        "    sum = 0\n",
        "    for i in num:\n",
        "        sum += int(i)**p\n",
        "    return sum\n",
        "A, P = map(int,input().split())\n",
        "D = [A,cal(A,P)]\n",
        "i = 2\n",
        "while not(D[i-1] in D[:i-1]):\n",
        "    D.append(cal(D[i-1],P))\n",
        "    i +=1\n",
        "ind = D.index(D[i-1])\n",
        "print(ind)"
      ],
      "metadata": {
        "colab": {
          "base_uri": "https://localhost:8080/"
        },
        "id": "tQYrbxc6yovg",
        "outputId": "befabb32-9e4b-470c-c765-ce2a8a696565"
      },
      "execution_count": 31,
      "outputs": [
        {
          "output_type": "stream",
          "name": "stdout",
          "text": [
            "57 2\n",
            "4\n"
          ]
        }
      ]
    }
  ]
}