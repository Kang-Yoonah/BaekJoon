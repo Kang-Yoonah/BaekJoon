{
  "nbformat": 4,
  "nbformat_minor": 0,
  "metadata": {
    "colab": {
      "name": "24392.ipynb",
      "provenance": [],
      "authorship_tag": "ABX9TyPWL3Oe3uTbQM6lLE+pTwOs",
      "include_colab_link": true
    },
    "kernelspec": {
      "name": "python3",
      "display_name": "Python 3"
    },
    "language_info": {
      "name": "python"
    }
  },
  "cells": [
    {
      "cell_type": "markdown",
      "metadata": {
        "id": "view-in-github",
        "colab_type": "text"
      },
      "source": [
        "<a href=\"https://colab.research.google.com/github/Kang-Yoonah/BaekJoon/blob/main/Silver/24392.ipynb\" target=\"_parent\"><img src=\"https://colab.research.google.com/assets/colab-badge.svg\" alt=\"Open In Colab\"/></a>"
      ]
    },
    {
      "cell_type": "code",
      "execution_count": null,
      "metadata": {
        "id": "ACmd3e_RY5FZ"
      },
      "outputs": [],
      "source": [
        "import sys\n",
        "input = sys.stdin.readline\n",
        "\n",
        "N, M = map(int,input().split())\n",
        "bridge = [list(map(int,input().split())) for _ in range(N)]\n",
        "count = [[0]*M, [0]*M]\n",
        "\n",
        "count[N%2-1] = bridge[N-1].copy()\n",
        "\n",
        "for i in range(N-2,-1,-1):\n",
        "    ind = i%2\n",
        "    count[ind] = [0]*M\n",
        "    for j in range(M):\n",
        "        if j == 0:\n",
        "            if bridge[i][j]:\n",
        "                count[ind][j] = (count[ind-1][j]+count[ind-1][j+1])\n",
        "        elif j == M-1:\n",
        "            if bridge[i][j]:\n",
        "                count[ind][j] = (count[ind-1][j] + count[ind-1][j-1])\n",
        "        elif bridge[i][j]:\n",
        "            count[ind][j] = (count[ind-1][j] + count[ind-1][j+1] + count[ind-1][j-1])\n",
        "if N%2:\n",
        "    print(sum(count[N%2-1])%1000000007)\n",
        "else:\n",
        "    print(sum(count[N%2])%1000000007)"
      ]
    }
  ]
}