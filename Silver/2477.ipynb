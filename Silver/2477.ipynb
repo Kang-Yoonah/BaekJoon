{
  "nbformat": 4,
  "nbformat_minor": 0,
  "metadata": {
    "colab": {
      "name": "2477.ipynb",
      "provenance": [],
      "authorship_tag": "ABX9TyPwH++mBCRVoRtjF3Z4CADu",
      "include_colab_link": true
    },
    "kernelspec": {
      "name": "python3",
      "display_name": "Python 3"
    },
    "language_info": {
      "name": "python"
    }
  },
  "cells": [
    {
      "cell_type": "markdown",
      "metadata": {
        "id": "view-in-github",
        "colab_type": "text"
      },
      "source": [
        "<a href=\"https://colab.research.google.com/github/Kang-Yoonah/BaekJoon/blob/main/Silver/2477.ipynb\" target=\"_parent\"><img src=\"https://colab.research.google.com/assets/colab-badge.svg\" alt=\"Open In Colab\"/></a>"
      ]
    },
    {
      "cell_type": "code",
      "execution_count": null,
      "metadata": {
        "colab": {
          "base_uri": "https://localhost:8080/"
        },
        "id": "O0iDTNkF7N7L",
        "outputId": "2ab94107-b45b-4139-9dc7-5aecd4983e28"
      },
      "outputs": [
        {
          "output_type": "stream",
          "name": "stdout",
          "text": [
            "7\n",
            "4 50\n",
            "2 160\n",
            "3 30\n",
            "1 60\n",
            "3 20\n",
            "1 100\n",
            "47600\n"
          ]
        }
      ],
      "source": [
        "#import sys\n",
        "#input = sys.stdin.readline\n",
        "K = int(input())\n",
        "melon = [list(map(int,input().split())) for _ in range(6)]\n",
        "w1 = h1 = 0\n",
        "w2 = h2 = 500\n",
        "for i, m in melon:\n",
        "    if i < 3:\n",
        "        if m > w1:\n",
        "            w1 = m\n",
        "        if m < w2:\n",
        "            w2 = m\n",
        "    else:\n",
        "        if m > h1:\n",
        "            h1 = m\n",
        "        if m < h2:\n",
        "            h2 = m\n",
        "print((w1*h1 - w2*h2)*K)"
      ]
    },
    {
      "cell_type": "code",
      "source": [
        "def area(A,K):\n",
        "    for i in range(7):\n",
        "        if A[i][0] == A[i+2][0] and A[i+1][0] == A[i+3][0]:\n",
        "            print(K*(A[i-1][1]*A[i+4][1]-A[i+1][1]*A[i+2][1]))\n",
        "            return\n",
        "        \n",
        "K = int(input())\n",
        "A = [list(map(int,input().split())) for _ in range(6)]\n",
        "\n",
        "A += A      # 인덱스에 제한이 있는데 길이가 그렇게 크지 않다면, 인덱스를 동일한 값으로 늘린다.\n",
        "area(A,K)"
      ],
      "metadata": {
        "colab": {
          "base_uri": "https://localhost:8080/"
        },
        "id": "NdTy5k4Umv5u",
        "outputId": "49ee17d0-b238-4ca3-eb28-edf12a6591f7"
      },
      "execution_count": 3,
      "outputs": [
        {
          "output_type": "stream",
          "name": "stdout",
          "text": [
            "7\n",
            "4 50\n",
            "2 160\n",
            "3 30\n",
            "1 60\n",
            "3 20\n",
            "1 100\n",
            "47600\n"
          ]
        }
      ]
    }
  ]
}