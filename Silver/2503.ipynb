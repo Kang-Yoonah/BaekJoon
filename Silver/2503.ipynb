{
  "nbformat": 4,
  "nbformat_minor": 0,
  "metadata": {
    "colab": {
      "name": "2503.ipynb",
      "provenance": [],
      "authorship_tag": "ABX9TyN4W57gFzlQsMG6I+1dD45C",
      "include_colab_link": true
    },
    "kernelspec": {
      "name": "python3",
      "display_name": "Python 3"
    },
    "language_info": {
      "name": "python"
    }
  },
  "cells": [
    {
      "cell_type": "markdown",
      "metadata": {
        "id": "view-in-github",
        "colab_type": "text"
      },
      "source": [
        "<a href=\"https://colab.research.google.com/github/Kang-Yoonah/BaekJoon/blob/main/Silver/2503.ipynb\" target=\"_parent\"><img src=\"https://colab.research.google.com/assets/colab-badge.svg\" alt=\"Open In Colab\"/></a>"
      ]
    },
    {
      "cell_type": "code",
      "execution_count": 10,
      "metadata": {
        "colab": {
          "base_uri": "https://localhost:8080/"
        },
        "id": "GAGVZjVGKsaK",
        "outputId": "38d78b03-d6f0-479a-cdda-49ca2c99c501"
      },
      "outputs": [
        {
          "output_type": "stream",
          "name": "stdout",
          "text": [
            "4\n",
            "123 1 1\n",
            "356 1 0\n",
            "327 2 0\n",
            "489 0 1\n",
            "2\n"
          ]
        }
      ],
      "source": [
        "import sys\n",
        "input = sys.stdin.readline\n",
        "\n",
        "N = int(input())\n",
        "que = [0]*N\n",
        "for i in range(N):\n",
        "    que[i] = list(map(int,input().split()))\n",
        "\n",
        "count = 504\n",
        "for j in range(123,988):\n",
        "    j = str(j)\n",
        "    if len(set(j)) != 3 or ('0' in j):\n",
        "        continue\n",
        "    for i in que:\n",
        "        s = b = 0\n",
        "        num = str(i[0])\n",
        "        for n in range(3):\n",
        "            if j.count(num[n]):\n",
        "                if num[n] == j[n]:\n",
        "                    s +=1\n",
        "                else:\n",
        "                    b +=1\n",
        "        if s != i[1] or b != i[2]:\n",
        "            count -= 1\n",
        "            break\n",
        "print(count)"
      ]
    }
  ]
}