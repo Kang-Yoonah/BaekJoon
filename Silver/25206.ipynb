{
  "cells": [
    {
      "cell_type": "markdown",
      "metadata": {
        "id": "view-in-github",
        "colab_type": "text"
      },
      "source": [
        "<a href=\"https://colab.research.google.com/github/Kang-Yoonah/BaekJoon/blob/main/Silver/25206.ipynb\" target=\"_parent\"><img src=\"https://colab.research.google.com/assets/colab-badge.svg\" alt=\"Open In Colab\"/></a>"
      ]
    },
    {
      "cell_type": "code",
      "source": [
        "def sol():\n",
        "    Grade = {\"A+\":4.5, \"A0\":4.0, \"B+\":3.5, \"B0\": 3.0, \"C+\":2.5, \"C0\":2.0, \"D+\":1.5, \"D0\":1.0, \"F\":0.0}\n",
        "    s = S = 0\n",
        "    for _ in range(20):\n",
        "        a,b,c= input().strip().split()\n",
        "        if c != \"P\":\n",
        "            b = float(b)\n",
        "            s += b\n",
        "            S += Grade[c]*b\n",
        "    print(f\"{S/s:f}\")\n",
        "sol()"
      ],
      "metadata": {
        "id": "Eum8oDR9H9Ie"
      },
      "execution_count": null,
      "outputs": []
    }
  ],
  "metadata": {
    "colab": {
      "provenance": [],
      "authorship_tag": "ABX9TyNBwXWmEd1ig8+Hibnklo4C",
      "include_colab_link": true
    },
    "kernelspec": {
      "display_name": "Python 3",
      "name": "python3"
    },
    "language_info": {
      "name": "python"
    }
  },
  "nbformat": 4,
  "nbformat_minor": 0
}