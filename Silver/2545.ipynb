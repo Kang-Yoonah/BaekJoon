{
  "nbformat": 4,
  "nbformat_minor": 0,
  "metadata": {
    "colab": {
      "provenance": [],
      "authorship_tag": "ABX9TyO19/3vePDakuaSnujo6Md0",
      "include_colab_link": true
    },
    "kernelspec": {
      "name": "python3",
      "display_name": "Python 3"
    },
    "language_info": {
      "name": "python"
    }
  },
  "cells": [
    {
      "cell_type": "markdown",
      "metadata": {
        "id": "view-in-github",
        "colab_type": "text"
      },
      "source": [
        "<a href=\"https://colab.research.google.com/github/Kang-Yoonah/BaekJoon/blob/main/Silver/2545.ipynb\" target=\"_parent\"><img src=\"https://colab.research.google.com/assets/colab-badge.svg\" alt=\"Open In Colab\"/></a>"
      ]
    },
    {
      "cell_type": "code",
      "execution_count": 1,
      "metadata": {
        "colab": {
          "base_uri": "https://localhost:8080/"
        },
        "id": "5gm2z1LImxGL",
        "outputId": "ca166bb6-a39c-4b39-f841-c6331c1149e9"
      },
      "outputs": [
        {
          "output_type": "stream",
          "name": "stdout",
          "text": [
            "3\n",
            "\n",
            "4 5 6 0\n",
            "120\n",
            "\n",
            "4 5 6 3\n",
            "64\n",
            "\n",
            "1 1 10 9\n",
            "1\n"
          ]
        }
      ],
      "source": [
        "def sol(N):\n",
        "    for _ in range(N):\n",
        "        input()\n",
        "        a,b,c,d = map(int,input().split())\n",
        "        a,b,c = sorted([a,b,c])\n",
        "        S = a+b+c-d\n",
        "        tmp1 = min(S//3,a)\n",
        "        S -= tmp1\n",
        "        tmp2 = min(S//2,b)\n",
        "        print(tmp1*tmp2*(S-tmp2))     \n",
        "        \n",
        "sol(int(input()))   "
      ]
    }
  ]
}