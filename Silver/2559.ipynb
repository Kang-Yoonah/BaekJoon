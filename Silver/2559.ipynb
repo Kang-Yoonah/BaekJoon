{
  "nbformat": 4,
  "nbformat_minor": 0,
  "metadata": {
    "colab": {
      "provenance": [],
      "authorship_tag": "ABX9TyM3cndGTk4zdFWHoeXjKQao",
      "include_colab_link": true
    },
    "kernelspec": {
      "name": "python3",
      "display_name": "Python 3"
    },
    "language_info": {
      "name": "python"
    }
  },
  "cells": [
    {
      "cell_type": "markdown",
      "metadata": {
        "id": "view-in-github",
        "colab_type": "text"
      },
      "source": [
        "<a href=\"https://colab.research.google.com/github/Kang-Yoonah/BaekJoon/blob/main/Silver/2559.ipynb\" target=\"_parent\"><img src=\"https://colab.research.google.com/assets/colab-badge.svg\" alt=\"Open In Colab\"/></a>"
      ]
    },
    {
      "cell_type": "code",
      "execution_count": 1,
      "metadata": {
        "colab": {
          "base_uri": "https://localhost:8080/"
        },
        "id": "QY4Rp4k9eZ12",
        "outputId": "dec55727-e637-4c03-e867-ed8052911be4"
      },
      "outputs": [
        {
          "output_type": "stream",
          "name": "stdout",
          "text": [
            "10 2\n",
            "3 -2 -4 -9 0 3 7 13 8 -3\n",
            "21\n"
          ]
        }
      ],
      "source": [
        "def sol():\n",
        "    N, K = map(int,input().split())\n",
        "    num = list(map(int,input().split()))\n",
        "\n",
        "    ans = [sum(num[:K])]\n",
        "    v = ans[0]\n",
        "    for i in range(K,N):\n",
        "        v -= num[i-K]\n",
        "        v += num[i]\n",
        "        ans.append(v)\n",
        "\n",
        "    return print(max(ans))\n",
        "sol()    "
      ]
    }
  ]
}