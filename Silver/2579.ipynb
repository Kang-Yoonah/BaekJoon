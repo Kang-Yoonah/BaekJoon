{
  "nbformat": 4,
  "nbformat_minor": 0,
  "metadata": {
    "colab": {
      "name": "2579.ipynb",
      "provenance": [],
      "authorship_tag": "ABX9TyPbY2QOI4S4msP5S/CPa5pM",
      "include_colab_link": true
    },
    "kernelspec": {
      "name": "python3",
      "display_name": "Python 3"
    },
    "language_info": {
      "name": "python"
    }
  },
  "cells": [
    {
      "cell_type": "markdown",
      "metadata": {
        "id": "view-in-github",
        "colab_type": "text"
      },
      "source": [
        "<a href=\"https://colab.research.google.com/github/Kang-Yoonah/BaekJoon/blob/main/Silver/2579.ipynb\" target=\"_parent\"><img src=\"https://colab.research.google.com/assets/colab-badge.svg\" alt=\"Open In Colab\"/></a>"
      ]
    },
    {
      "cell_type": "code",
      "execution_count": 5,
      "metadata": {
        "colab": {
          "base_uri": "https://localhost:8080/"
        },
        "id": "4UxI9UM1pmhw",
        "outputId": "f0091446-d067-463b-df5f-03205182e77d"
      },
      "outputs": [
        {
          "output_type": "stream",
          "name": "stdout",
          "text": [
            "6\n",
            "10\n",
            "20\n",
            "15\n",
            "25\n",
            "10\n",
            "20\n",
            "75\n"
          ]
        }
      ],
      "source": [
        "#import sys\n",
        "#input = sys.stdin.readline\n",
        "\n",
        "number = int(input())\n",
        "stairs = [int(input()) for _ in range(number)]\n",
        "dp = [0]*number\n",
        "dp[0] = stairs[0]\n",
        "\n",
        "if number == 2:\n",
        "    dp[1] = stairs[1] + stairs[0]\n",
        "elif number > 2:\n",
        "    dp[1] = stairs[1] + stairs[0]\n",
        "    dp[2] = max(stairs[2] + stairs[0], stairs[2] + stairs[1])\n",
        "    for i in range(3,number):\n",
        "        dp[i] = max(stairs[i] + dp[i-2], stairs[i] + stairs[i-1] + dp[i-3])\n",
        "\n",
        "print(dp[number-1])"
      ]
    },
    {
      "cell_type": "markdown",
      "source": [
        "- 계단의 개수는 자연수이므로,   \n",
        "개수가 1개일 때, 2개일 때도 고려한다.\n",
        "- 규칙을 찾아서 이전 합을 재사용한다.   \n",
        "이때 이전 합을 더해야 하는지, 계단에 적혀있는 수를 더해야 하는지   \n",
        "잘 구분해야할 필요가 있다."
      ],
      "metadata": {
        "id": "_008Hq4761hP"
      }
    }
  ]
}