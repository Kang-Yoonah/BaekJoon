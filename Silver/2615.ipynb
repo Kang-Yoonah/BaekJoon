{
  "nbformat": 4,
  "nbformat_minor": 0,
  "metadata": {
    "colab": {
      "provenance": [],
      "authorship_tag": "ABX9TyOVK7+Cb/6xbXrOhabeUCT3",
      "include_colab_link": true
    },
    "kernelspec": {
      "name": "python3",
      "display_name": "Python 3"
    },
    "language_info": {
      "name": "python"
    }
  },
  "cells": [
    {
      "cell_type": "markdown",
      "metadata": {
        "id": "view-in-github",
        "colab_type": "text"
      },
      "source": [
        "<a href=\"https://colab.research.google.com/github/Kang-Yoonah/BaekJoon/blob/main/Silver/2615.ipynb\" target=\"_parent\"><img src=\"https://colab.research.google.com/assets/colab-badge.svg\" alt=\"Open In Colab\"/></a>"
      ]
    },
    {
      "cell_type": "code",
      "execution_count": 1,
      "metadata": {
        "id": "c9gVfyf4S2MB"
      },
      "outputs": [],
      "source": [
        "def sol():\n",
        "    N = []\n",
        "    for _ in range(19):\n",
        "        N.append(list(map(int,input().split())))\n",
        "    ans = []\n",
        "    for i in range(19):\n",
        "        if ans:\n",
        "            break\n",
        "        for j in range(19):\n",
        "            if ans:\n",
        "                break\n",
        "            if N[i][j] == 1 or N[i][j] == 2:\n",
        "                A = N[i][j]\n",
        "                jj, cnt = j+1, 0\n",
        "                while jj < 19 and N[i][jj] ==A:\n",
        "                    jj, cnt = jj+1, cnt+1\n",
        "                if cnt == 4:\n",
        "                    if (j==0) or (j!=0 and N[i][j-1] != A):\n",
        "                        ans = [A,i,j]\n",
        "                else:\n",
        "                    ii, cnt = i+1, 0\n",
        "                    while ii < 19 and N[ii][j] == A:\n",
        "                        ii, cnt = ii+1, cnt+1\n",
        "                    if cnt == 4:\n",
        "                        if (i==0) or (i != 0 and N[i-1][j] != A):\n",
        "                            ans = [A,i,j]\n",
        "                    else:\n",
        "                        ii, jj, cnt = i+1, j+1, 0\n",
        "                        while ii < 19 and jj < 19 and N[ii][jj] == A:\n",
        "                            ii, jj, cnt = ii+1, jj+1, cnt+1\n",
        "                        if cnt == 4:\n",
        "                            if i==0 or j==0 or (i!=0 and j!=0 and N[i-1][j-1] != A):\n",
        "                                ans = [A,i,j]\n",
        "                        else:\n",
        "                            ii, jj, cnt = i+1, j-1, 0\n",
        "                            while ii <19 and jj >-1 and N[ii][jj] == A:\n",
        "                                ii, jj, cnt = ii+1, jj-1, cnt+1\n",
        "                            if cnt == 4:\n",
        "                                if i==0 or j==18 or (i!=0 and j!=18 and N[i-1][j+1] != A):\n",
        "                                    ans = [A,ii-1,jj+1]\n",
        "    if ans:\n",
        "        print(ans[0])\n",
        "        print(ans[1]+1,ans[2]+1)\n",
        "    else:\n",
        "        print(0)\n",
        "\n",
        "sol()"
      ]
    }
  ]
}