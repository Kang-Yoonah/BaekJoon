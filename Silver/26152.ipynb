{
  "nbformat": 4,
  "nbformat_minor": 0,
  "metadata": {
    "colab": {
      "provenance": [],
      "authorship_tag": "ABX9TyOOPnNrfi7bOizL4LxFweGg",
      "include_colab_link": true
    },
    "kernelspec": {
      "name": "python3",
      "display_name": "Python 3"
    },
    "language_info": {
      "name": "python"
    }
  },
  "cells": [
    {
      "cell_type": "markdown",
      "metadata": {
        "id": "view-in-github",
        "colab_type": "text"
      },
      "source": [
        "<a href=\"https://colab.research.google.com/github/Kang-Yoonah/BaekJoon/blob/main/Silver/26152.ipynb\" target=\"_parent\"><img src=\"https://colab.research.google.com/assets/colab-badge.svg\" alt=\"Open In Colab\"/></a>"
      ]
    },
    {
      "cell_type": "code",
      "execution_count": 1,
      "metadata": {
        "colab": {
          "base_uri": "https://localhost:8080/"
        },
        "id": "mq2igr2SmxFe",
        "outputId": "3040a6f0-27f9-4e5c-e98c-9774559c115c"
      },
      "outputs": [
        {
          "output_type": "stream",
          "name": "stdout",
          "text": [
            "7\n",
            "10 5 7 7 7 8 9 10\n",
            "1 -1 2 -1 5 2 9\n",
            "4\n",
            "3 7 5 1\n",
            "4\n",
            "1\n",
            "4\n",
            "6\n"
          ]
        }
      ],
      "source": [
        "def sol(N):\n",
        "    Up = list(map(int,input().split()))\n",
        "    Down = list(map(int,input().split()))\n",
        "    Q = int(input())\n",
        "    Bird = list(map(int,input().split()))\n",
        "    Dict_B = {b : N for b in Bird}\n",
        "    Sort_B = sorted(Bird, reverse=True)\n",
        "    M = Sort_B[0]\n",
        "    num = j = 0\n",
        "    for i in range(N):\n",
        "        high = Up[i] - Down[i]\n",
        "        if M > high:\n",
        "            M = high\n",
        "            while j < Q and Sort_B[j] > M:\n",
        "                Dict_B[Sort_B[j]] = num\n",
        "                j += 1          \n",
        "        num += 1\n",
        "    for bird in Bird:\n",
        "        print(Dict_B[bird])\n",
        "\n",
        "sol(int(input()))"
      ]
    }
  ]
}