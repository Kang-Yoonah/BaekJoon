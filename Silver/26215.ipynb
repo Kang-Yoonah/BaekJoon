{
  "nbformat": 4,
  "nbformat_minor": 0,
  "metadata": {
    "colab": {
      "provenance": [],
      "authorship_tag": "ABX9TyN2CE5dHJG+HGq9syxa1AE0",
      "include_colab_link": true
    },
    "kernelspec": {
      "name": "python3",
      "display_name": "Python 3"
    },
    "language_info": {
      "name": "python"
    }
  },
  "cells": [
    {
      "cell_type": "markdown",
      "metadata": {
        "id": "view-in-github",
        "colab_type": "text"
      },
      "source": [
        "<a href=\"https://colab.research.google.com/github/Kang-Yoonah/BaekJoon/blob/main/Silver/26215.ipynb\" target=\"_parent\"><img src=\"https://colab.research.google.com/assets/colab-badge.svg\" alt=\"Open In Colab\"/></a>"
      ]
    },
    {
      "cell_type": "code",
      "execution_count": 2,
      "metadata": {
        "colab": {
          "base_uri": "https://localhost:8080/"
        },
        "id": "-Kgt4CmA9kNn",
        "outputId": "2dcd8cdc-0efc-4494-bbec-b2806e67e87a"
      },
      "outputs": [
        {
          "output_type": "stream",
          "name": "stdout",
          "text": [
            "5\n",
            "9 8 7 6 6\n",
            "18\n"
          ]
        }
      ],
      "source": [
        "import heapq\n",
        "\n",
        "def sol():\n",
        "    N = int(input())\n",
        "    S = map(int, input().split())\n",
        "    Snow = []\n",
        "    for s in S:\n",
        "        heapq.heappush(Snow, -s)\n",
        "\n",
        "    ans = 0\n",
        "    while len(Snow)>1 and ans < 1441:\n",
        "        ans += 1\n",
        "        n1 = -heapq.heappop(Snow)-1\n",
        "        n2 = -heapq.heappop(Snow)-1\n",
        "        if n1 != 0:\n",
        "            heapq.heappush(Snow, -n1)\n",
        "        if n2 != 0:\n",
        "            heapq.heappush(Snow, -n2)\n",
        "    if Snow:\n",
        "        ans -= Snow[0]\n",
        "    if ans > 1440:\n",
        "        return -1\n",
        "    else:\n",
        "        return ans\n",
        "\n",
        "print(sol())"
      ]
    }
  ]
}