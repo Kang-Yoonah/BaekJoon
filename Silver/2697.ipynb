{
  "nbformat": 4,
  "nbformat_minor": 0,
  "metadata": {
    "colab": {
      "provenance": [],
      "authorship_tag": "ABX9TyP6j+3cmzpo73DbXfMbnxwH",
      "include_colab_link": true
    },
    "kernelspec": {
      "name": "python3",
      "display_name": "Python 3"
    },
    "language_info": {
      "name": "python"
    }
  },
  "cells": [
    {
      "cell_type": "markdown",
      "metadata": {
        "id": "view-in-github",
        "colab_type": "text"
      },
      "source": [
        "<a href=\"https://colab.research.google.com/github/Kang-Yoonah/BaekJoon/blob/main/Silver/2697.ipynb\" target=\"_parent\"><img src=\"https://colab.research.google.com/assets/colab-badge.svg\" alt=\"Open In Colab\"/></a>"
      ]
    },
    {
      "cell_type": "code",
      "source": [
        "def sol(T):\n",
        "    for _ in range(T):\n",
        "        D = list(map(int, input().strip()))\n",
        "        L, idx = len(D), 0\n",
        "        for i in range(L-1, 0, -1):\n",
        "            if D[i] > D[i - 1]:\n",
        "                if i == L-1:\n",
        "                    idx = L-2\n",
        "                else:\n",
        "                    idx = i-1\n",
        "                break\n",
        "        a = D[:idx]\n",
        "        b = D[idx:]\n",
        "        if not a or not b:\n",
        "            print('BIGGEST')\n",
        "        else:\n",
        "            b.sort()\n",
        "            for i in range(len(b)):\n",
        "                if b[i] > D[idx]:\n",
        "                    a.append(b.pop(i))\n",
        "                    a.extend(b)\n",
        "                    break\n",
        "            print(''.join(map(str, a)))\n",
        "sol(int(input()))"
      ],
      "metadata": {
        "colab": {
          "base_uri": "https://localhost:8080/"
        },
        "id": "V5Behma77t2H",
        "outputId": "1d895de1-cb62-4cdb-fafc-3007b2742cd3"
      },
      "execution_count": 1,
      "outputs": [
        {
          "output_type": "stream",
          "name": "stdout",
          "text": [
            "3\n",
            "123\n",
            "132\n",
            "987\n",
            "BIGGEST\n",
            "279134399742\n",
            "279134423799\n"
          ]
        }
      ]
    }
  ]
}