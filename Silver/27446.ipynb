{
  "nbformat": 4,
  "nbformat_minor": 0,
  "metadata": {
    "colab": {
      "provenance": [],
      "authorship_tag": "ABX9TyNiDlNpOhawesuxB7ynLQYL",
      "include_colab_link": true
    },
    "kernelspec": {
      "name": "python3",
      "display_name": "Python 3"
    },
    "language_info": {
      "name": "python"
    }
  },
  "cells": [
    {
      "cell_type": "markdown",
      "metadata": {
        "id": "view-in-github",
        "colab_type": "text"
      },
      "source": [
        "<a href=\"https://colab.research.google.com/github/Kang-Yoonah/BaekJoon/blob/main/Silver/27446.ipynb\" target=\"_parent\"><img src=\"https://colab.research.google.com/assets/colab-badge.svg\" alt=\"Open In Colab\"/></a>"
      ]
    },
    {
      "cell_type": "code",
      "source": [
        "def sol(ink):\n",
        "    N,_ = map(int,input().split())\n",
        "    P = set(map(int,input().split()))\n",
        "    Ne = []\n",
        "    for i in range(1,N+1):\n",
        "        if i not in P:\n",
        "            Ne.append(i)\n",
        "    if len(Ne):\n",
        "        ink = 7\n",
        "        for j in range(len(Ne)-1):\n",
        "            ink += min(7,2*(Ne[j+1]-Ne[j]))    \n",
        "    return ink\n",
        "\n",
        "print(sol(0))"
      ],
      "metadata": {
        "colab": {
          "base_uri": "https://localhost:8080/"
        },
        "id": "V5Behma77t2H",
        "outputId": "59bd27f3-3289-438a-e0bd-0bcf0b932808"
      },
      "execution_count": 1,
      "outputs": [
        {
          "output_type": "stream",
          "name": "stdout",
          "text": [
            "10 8\n",
            "5 7 9 10 3 4 4 3\n",
            "20\n"
          ]
        }
      ]
    }
  ]
}