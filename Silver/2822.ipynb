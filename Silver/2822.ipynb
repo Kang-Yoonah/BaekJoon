{
  "nbformat": 4,
  "nbformat_minor": 0,
  "metadata": {
    "colab": {
      "name": "2822.ipynb",
      "provenance": [],
      "authorship_tag": "ABX9TyMrWH+w12fDS7fh77OKH0A4",
      "include_colab_link": true
    },
    "kernelspec": {
      "name": "python3",
      "display_name": "Python 3"
    },
    "language_info": {
      "name": "python"
    }
  },
  "cells": [
    {
      "cell_type": "markdown",
      "metadata": {
        "id": "view-in-github",
        "colab_type": "text"
      },
      "source": [
        "<a href=\"https://colab.research.google.com/github/Kang-Yoonah/BaekJoon/blob/main/Silver/2822.ipynb\" target=\"_parent\"><img src=\"https://colab.research.google.com/assets/colab-badge.svg\" alt=\"Open In Colab\"/></a>"
      ]
    },
    {
      "cell_type": "code",
      "execution_count": 1,
      "metadata": {
        "colab": {
          "base_uri": "https://localhost:8080/"
        },
        "id": "M3AW6c0k03JV",
        "outputId": "12c19917-11a7-4791-9513-ee8f5b82fda3"
      },
      "outputs": [
        {
          "output_type": "stream",
          "name": "stdout",
          "text": [
            "20\n",
            "0\n",
            "50\n",
            "80\n",
            "77\n",
            "110\n",
            "56\n",
            "48\n",
            "373\n",
            "3 4 5 6 7 "
          ]
        }
      ],
      "source": [
        "score, total, ind = [0]*8, 0, [0]*5\n",
        "for i in range(8):\n",
        "    score[i]=[int(input()),i+1]\n",
        "score.sort(reverse=True)\n",
        "\n",
        "for i in range(5):\n",
        "    total += score[i][0]\n",
        "    ind[i] = score[i][1]\n",
        "print(total)\n",
        "ind.sort()\n",
        "for i in ind:\n",
        "    print(i, end=' ')"
      ]
    }
  ]
}