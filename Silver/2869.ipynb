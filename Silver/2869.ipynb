{
  "nbformat": 4,
  "nbformat_minor": 0,
  "metadata": {
    "colab": {
      "name": "2869.ipynb",
      "provenance": [],
      "authorship_tag": "ABX9TyPp3VkyJpXP5s2eFkuQsQBV",
      "include_colab_link": true
    },
    "kernelspec": {
      "name": "python3",
      "display_name": "Python 3"
    },
    "language_info": {
      "name": "python"
    }
  },
  "cells": [
    {
      "cell_type": "markdown",
      "metadata": {
        "id": "view-in-github",
        "colab_type": "text"
      },
      "source": [
        "<a href=\"https://colab.research.google.com/github/Kang-Yoonah/BaekJoon/blob/main/Silver/2869.ipynb\" target=\"_parent\"><img src=\"https://colab.research.google.com/assets/colab-badge.svg\" alt=\"Open In Colab\"/></a>"
      ]
    },
    {
      "cell_type": "code",
      "execution_count": 19,
      "metadata": {
        "colab": {
          "base_uri": "https://localhost:8080/"
        },
        "id": "2-kbcLZb2CvJ",
        "outputId": "4fccf20a-0aab-4be2-a230-fee7a1c692c5"
      },
      "outputs": [
        {
          "output_type": "stream",
          "name": "stdout",
          "text": [
            "2 1 5\n",
            "4\n"
          ]
        }
      ],
      "source": [
        "A, B, V = map(int,input().split())\n",
        "day = 1\n",
        "if A < V:\n",
        "    V -= A\n",
        "    p = A-B\n",
        "    day += (V//p)\n",
        "    if V % p:\n",
        "        day += 1\n",
        "print(day)"
      ]
    }
  ]
}