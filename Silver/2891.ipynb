{
  "nbformat": 4,
  "nbformat_minor": 0,
  "metadata": {
    "colab": {
      "provenance": [],
      "authorship_tag": "ABX9TyPcEf+Jenrx6nnTJj56YGdp",
      "include_colab_link": true
    },
    "kernelspec": {
      "name": "python3",
      "display_name": "Python 3"
    },
    "language_info": {
      "name": "python"
    }
  },
  "cells": [
    {
      "cell_type": "markdown",
      "metadata": {
        "id": "view-in-github",
        "colab_type": "text"
      },
      "source": [
        "<a href=\"https://colab.research.google.com/github/Kang-Yoonah/BaekJoon/blob/main/Silver/2891.ipynb\" target=\"_parent\"><img src=\"https://colab.research.google.com/assets/colab-badge.svg\" alt=\"Open In Colab\"/></a>"
      ]
    },
    {
      "cell_type": "code",
      "source": [
        "def sol(num):\n",
        "    N,_,_ = map(int,input().split())\n",
        "    Break = set(map(int,input().split()))\n",
        "    More = {i:0 for i in range(N+2)}\n",
        "    for more in map(int,input().split()):\n",
        "        if more in Break:\n",
        "            Break.remove(more)\n",
        "        else:\n",
        "            More[more] = 1         \n",
        "    for break_ in Break:\n",
        "        if More[break_-1]:  \n",
        "            More[break_-1] = 0\n",
        "        elif More[break_+1]:\n",
        "            More[break_+1] = 0\n",
        "        else:\n",
        "            num += 1\n",
        "    return num\n",
        "\n",
        "print(sol(0))"
      ],
      "metadata": {
        "colab": {
          "base_uri": "https://localhost:8080/"
        },
        "id": "V5Behma77t2H",
        "outputId": "0614b05b-66fb-4baf-bb91-3cbab3a01069"
      },
      "execution_count": 1,
      "outputs": [
        {
          "output_type": "stream",
          "name": "stdout",
          "text": [
            "5 2 1\n",
            "2 4\n",
            "3\n",
            "1\n"
          ]
        }
      ]
    }
  ]
}