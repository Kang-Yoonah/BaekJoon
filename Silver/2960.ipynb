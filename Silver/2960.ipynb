{
  "nbformat": 4,
  "nbformat_minor": 0,
  "metadata": {
    "colab": {
      "name": "2960.ipynb",
      "provenance": [],
      "authorship_tag": "ABX9TyOokexR79FdHwBL/usxBAh2",
      "include_colab_link": true
    },
    "kernelspec": {
      "name": "python3",
      "display_name": "Python 3"
    },
    "language_info": {
      "name": "python"
    }
  },
  "cells": [
    {
      "cell_type": "markdown",
      "metadata": {
        "id": "view-in-github",
        "colab_type": "text"
      },
      "source": [
        "<a href=\"https://colab.research.google.com/github/Kang-Yoonah/BaekJoon/blob/main/Silver/2960.ipynb\" target=\"_parent\"><img src=\"https://colab.research.google.com/assets/colab-badge.svg\" alt=\"Open In Colab\"/></a>"
      ]
    },
    {
      "cell_type": "code",
      "source": [
        "N, K = map(int, input().split())\n",
        "tmp = 0\n",
        "num = [True] * (N + 1)\n",
        "for i in range(2, N + 1):\n",
        "    for j in range(i, N + 1, i):\n",
        "        if num[j] != False:\n",
        "            num[j] = False\n",
        "            tmp += 1\n",
        "            if tmp == K:\n",
        "                print(j)"
      ],
      "metadata": {
        "colab": {
          "base_uri": "https://localhost:8080/"
        },
        "id": "s-0jicKctTxn",
        "outputId": "22edb2fb-df22-4c56-ea79-5b253a8a686a"
      },
      "execution_count": 57,
      "outputs": [
        {
          "output_type": "stream",
          "name": "stdout",
          "text": [
            "7 3\n",
            "6\n"
          ]
        }
      ]
    },
    {
      "cell_type": "code",
      "source": [
        "N, K = map(int,input().split())\n",
        "num = list(range(2,N+1))\n",
        "def cal(array, k):\n",
        "    P = array[0]\n",
        "    for i in range(1,(array[-1]//P)+1):\n",
        "        if P*i in array:\n",
        "            array.remove(P*i)\n",
        "            k -=1\n",
        "        if k == 0:\n",
        "            return P*i\n",
        "    return cal(array,k)\n",
        "print(cal(num,K))"
      ],
      "metadata": {
        "colab": {
          "base_uri": "https://localhost:8080/"
        },
        "id": "wp031DAKtb1q",
        "outputId": "8894a7f7-4031-43a7-d0a0-30a2fda217f7"
      },
      "execution_count": 58,
      "outputs": [
        {
          "output_type": "stream",
          "name": "stdout",
          "text": [
            "7 3\n",
            "6\n"
          ]
        }
      ]
    },
    {
      "cell_type": "code",
      "execution_count": 55,
      "metadata": {
        "id": "gxavuijZh9Vy",
        "colab": {
          "base_uri": "https://localhost:8080/"
        },
        "outputId": "7f5f1ae5-0dd2-40b7-c10c-1ea07984afdf"
      },
      "outputs": [
        {
          "output_type": "stream",
          "name": "stdout",
          "text": [
            "7 3\n",
            "6\n"
          ]
        }
      ],
      "source": [
        "N, K = map(int,input().split())\n",
        "num = [True] * (N+1)\n",
        "p_num = [2,3,5,7,11,13,17,19,23,29,31,37,41,43,47,53,59,61,67,71,73,79,83,89,97]\n",
        "def cal(num, P_num, n, k):\n",
        "    P = P_num[0]\n",
        "    for i in range(1,(n//P)+1):\n",
        "        if num[i*P] == True:\n",
        "            num[i*P] = False\n",
        "            k -=1\n",
        "            if k == 0:\n",
        "                return P*i\n",
        "    P_num.remove(P)\n",
        "    return cal(num, P_num, n, k)\n",
        "print(cal(num,p_num,N,K))"
      ]
    }
  ]
}