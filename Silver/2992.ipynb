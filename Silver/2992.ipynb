{
  "nbformat": 4,
  "nbformat_minor": 0,
  "metadata": {
    "colab": {
      "provenance": [],
      "authorship_tag": "ABX9TyPO/6pbupJ383h+s+aDXCRj",
      "include_colab_link": true
    },
    "kernelspec": {
      "name": "python3",
      "display_name": "Python 3"
    },
    "language_info": {
      "name": "python"
    }
  },
  "cells": [
    {
      "cell_type": "markdown",
      "metadata": {
        "id": "view-in-github",
        "colab_type": "text"
      },
      "source": [
        "<a href=\"https://colab.research.google.com/github/Kang-Yoonah/BaekJoon/blob/main/Silver/2992.ipynb\" target=\"_parent\"><img src=\"https://colab.research.google.com/assets/colab-badge.svg\" alt=\"Open In Colab\"/></a>"
      ]
    },
    {
      "cell_type": "code",
      "execution_count": 1,
      "metadata": {
        "colab": {
          "base_uri": "https://localhost:8080/"
        },
        "id": "qQtSHkSYnQxV",
        "outputId": "438ab1f9-2592-4e88-c2f1-f2c0a5e94bfa"
      },
      "outputs": [
        {
          "output_type": "stream",
          "name": "stdout",
          "text": [
            "156\n",
            "165\n"
          ]
        }
      ],
      "source": [
        "from itertools import permutations\n",
        "X = input()\n",
        "\n",
        "num = []\n",
        "for Xi in set(permutations(X)):\n",
        "    v = int(\"\".join(Xi))\n",
        "    if v > int(X):\n",
        "        num.append(v)\n",
        "if num:\n",
        "    print(min(num))\n",
        "else:\n",
        "    print(0)"
      ]
    }
  ]
}