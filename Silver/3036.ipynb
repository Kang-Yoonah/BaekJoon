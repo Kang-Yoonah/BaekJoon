{
  "nbformat": 4,
  "nbformat_minor": 0,
  "metadata": {
    "colab": {
      "provenance": [],
      "authorship_tag": "ABX9TyNLT20PmC64ika3xw9Jj57R",
      "include_colab_link": true
    },
    "kernelspec": {
      "name": "python3",
      "display_name": "Python 3"
    },
    "language_info": {
      "name": "python"
    }
  },
  "cells": [
    {
      "cell_type": "markdown",
      "metadata": {
        "id": "view-in-github",
        "colab_type": "text"
      },
      "source": [
        "<a href=\"https://colab.research.google.com/github/Kang-Yoonah/BaekJoon/blob/main/Silver/3036.ipynb\" target=\"_parent\"><img src=\"https://colab.research.google.com/assets/colab-badge.svg\" alt=\"Open In Colab\"/></a>"
      ]
    },
    {
      "cell_type": "code",
      "execution_count": 1,
      "metadata": {
        "colab": {
          "base_uri": "https://localhost:8080/"
        },
        "id": "5gm2z1LImxGL",
        "outputId": "427304a3-1ce2-451c-f46a-0f2493a77738"
      },
      "outputs": [
        {
          "output_type": "stream",
          "name": "stdout",
          "text": [
            "4\n",
            "12 8 9 3\n",
            "3/2\n",
            "4/3\n",
            "4/1\n"
          ]
        }
      ],
      "source": [
        "#import sys\n",
        "#input = sys.stdin.readline\n",
        "from fractions import Fraction\n",
        "\n",
        "def sol(N):\n",
        "    V = list(map(int, input().split()))\n",
        "    S = V[0]\n",
        "\n",
        "    for i in V[1:]:\n",
        "        ans = Fraction(S,i)\n",
        "        print(ans if ans%1 else str(ans)+\"/1\")\n",
        "sol(int(input()))"
      ]
    }
  ]
}