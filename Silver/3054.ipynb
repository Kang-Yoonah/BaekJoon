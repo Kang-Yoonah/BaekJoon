{
  "nbformat": 4,
  "nbformat_minor": 0,
  "metadata": {
    "colab": {
      "provenance": [],
      "authorship_tag": "ABX9TyMpJ3kCtwHqxvUOTuYnrLyl",
      "include_colab_link": true
    },
    "kernelspec": {
      "name": "python3",
      "display_name": "Python 3"
    },
    "language_info": {
      "name": "python"
    }
  },
  "cells": [
    {
      "cell_type": "markdown",
      "metadata": {
        "id": "view-in-github",
        "colab_type": "text"
      },
      "source": [
        "<a href=\"https://colab.research.google.com/github/Kang-Yoonah/BaekJoon/blob/main/Silver/3054.ipynb\" target=\"_parent\"><img src=\"https://colab.research.google.com/assets/colab-badge.svg\" alt=\"Open In Colab\"/></a>"
      ]
    },
    {
      "cell_type": "code",
      "source": [
        "S = input()\n",
        "\n",
        "s = len(S)\n",
        "star = [['.']*(1+4*s) for _ in range(5)]\n",
        "c1 = c2 = c3 = 0\n",
        "for i in range(2,1+4*s,4):\n",
        "    c1 += 1\n",
        "    if c1 % 3:\n",
        "        star[0][i] = '#'\n",
        "        star[4][i] = '#'\n",
        "    else:\n",
        "        star[0][i] = '*'\n",
        "        star[4][i] = '*'\n",
        "for j in range(1,1+4*s,2):\n",
        "    c2 += 1\n",
        "    if c2 % 6 != 5 and c2 % 6 != 0:\n",
        "        star[1][j] = '#'\n",
        "        star[3][j] = '#'\n",
        "    else:\n",
        "        star[1][j] = '*'\n",
        "        star[3][j] = '*'\n",
        "for k in range(0,1+4*s,2):\n",
        "    ind = k//2\n",
        "    if ind %2:\n",
        "        c3 += 1\n",
        "        star[2][k] = S[(ind-1)//2]\n",
        "        if c3 % 3 == 0:\n",
        "            star[2][k-2] = '*'\n",
        "    else:\n",
        "        if c3 % 3 == 0 and c3 != 0:\n",
        "            star[2][k] = '*'\n",
        "        else:\n",
        "           star[2][k] = '#'\n",
        "\n",
        "for i in range(5):\n",
        "    print(''.join(star[i]))"
      ],
      "metadata": {
        "colab": {
          "base_uri": "https://localhost:8080/"
        },
        "id": "pfmEFl06JHGM",
        "outputId": "e463ad44-7574-40a0-d845-1326925a8cae"
      },
      "execution_count": 6,
      "outputs": [
        {
          "output_type": "stream",
          "name": "stdout",
          "text": [
            "CONGRATULATION\n",
            "..#...#...*...#...#...*...#...#...*...#...#...*...#...#..\n",
            ".#.#.#.#.*.*.#.#.#.#.*.*.#.#.#.#.*.*.#.#.#.#.*.*.#.#.#.#.\n",
            "#.C.#.O.*.N.*.G.#.R.*.A.*.T.#.U.*.L.*.A.#.T.*.I.*.O.#.N.#\n",
            ".#.#.#.#.*.*.#.#.#.#.*.*.#.#.#.#.*.*.#.#.#.#.*.*.#.#.#.#.\n",
            "..#...#...*...#...#...*...#...#...*...#...#...*...#...#..\n"
          ]
        }
      ]
    }
  ]
}