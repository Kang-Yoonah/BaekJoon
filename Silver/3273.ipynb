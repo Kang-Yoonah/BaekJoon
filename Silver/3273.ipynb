{
  "nbformat": 4,
  "nbformat_minor": 0,
  "metadata": {
    "colab": {
      "name": "3273.ipynb",
      "provenance": [],
      "authorship_tag": "ABX9TyPrm3G9Onq7W+nJ4MUwIhjS",
      "include_colab_link": true
    },
    "kernelspec": {
      "name": "python3",
      "display_name": "Python 3"
    },
    "language_info": {
      "name": "python"
    }
  },
  "cells": [
    {
      "cell_type": "markdown",
      "metadata": {
        "id": "view-in-github",
        "colab_type": "text"
      },
      "source": [
        "<a href=\"https://colab.research.google.com/github/Kang-Yoonah/BaekJoon/blob/main/Silver/3273.ipynb\" target=\"_parent\"><img src=\"https://colab.research.google.com/assets/colab-badge.svg\" alt=\"Open In Colab\"/></a>"
      ]
    },
    {
      "cell_type": "markdown",
      "source": [
        "# 투포인터\n",
        "\n",
        "**정의**\n",
        "- 리스트에 순차적으로 접근해야할 때 2개의 점의 위치를 기록하면서 처리하는 알고리즘\n",
        "    - 포인터 2개는 부분 수열의 start와 end로, start = 0 = end로 시작하며, 항상 start <= end를 만족해야한다.\n",
        "- 정렬되어있는 두 리스트의 합집합에서도 사용된다.   \n",
        "병합정렬의 counquer영역의 기초가 되기도 한다.\n",
        "\n",
        "**시간복잡도**\n",
        "- O(N)\n",
        "- 매 loop마다 항상 두 포인터 중 하나는 1씩 증가하고 각 포인터가 n번 누적 증가해야 알고리즘이 끝난다.\n",
        "\n",
        "**대표적 문제 유형**\n",
        "- 특정한 합을 가지는 부분 연속 수열 찾기\n",
        "    - 어떤 숫자들의 리스트가 주어질 때, 해당 리스트의 연속 수열의 합이 특정값을 가지는 지 확인하는 문제\n",
        "    1. 시작점과 끝점이 첫번째 원소의 인덱스를 가리키도록 한다.\n",
        "    2. 현재 부분합이 M과 같다면 카운트한다.\n",
        "    3. 현재 부분합이 M보다 작다면 end를 1 증가시킨다.\n",
        "    4. 현재 부분합이 M보다 크거나 같다면 start를 1 증가시킨다.   \n",
        "    (연속적인 수열의 부분합을 구해야하므로 start를 움직여야한다.)\n",
        "    5. 모든 경우를 확인할 때까지 2~4번 과정을 반복한다.\n",
        "\n",
        "**덧붙이기**\n",
        "- 슬라이딩 윈도우\n",
        "    - 투포인터처럼 구간을 훑으면서 지나간다는 공통점이 있으나,   \n",
        "    **슬라이딩 윈도우는 어느 순간에도 구간의 넓이가 동일하다**는 차이점이 있다.\n",
        "\n",
        "\n",
        "**참고**\n",
        "- https://butter-shower.tistory.com/226"
      ],
      "metadata": {
        "id": "lHfF9d1PjRwJ"
      }
    },
    {
      "cell_type": "code",
      "source": [
        "data = [1,2,3,2,5]\n",
        "n = len(data)\n",
        "m = int(input())\n",
        "\n",
        "count = 0\n",
        "interval_sum = 0\n",
        "end = 0\n",
        "\n",
        "for start in range(n):\n",
        "    # 먼저 start 고정하고 end 움직이기:\n",
        "    # 부분합이 M보다 작고, end가 n보다 작을때까지 end를 키운다.\n",
        "    while interval_sum < m and end < n:\n",
        "        interval_sum += data[end]\n",
        "        end += 1\n",
        "    \n",
        "    # 부분합이 M일 때 count\n",
        "    if interval_sum == m:\n",
        "        count += 1\n",
        "    # 부분합이 M보다 크거나 M과 같을 땐 start를 움직인다.\n",
        "    interval_sum -= data[start]\n",
        "\n",
        "print(count)"
      ],
      "metadata": {
        "colab": {
          "base_uri": "https://localhost:8080/"
        },
        "id": "910e3-3lkRXG",
        "outputId": "1b53d8e6-4fb8-49a2-b3c6-a03f9fb2ac05"
      },
      "execution_count": 2,
      "outputs": [
        {
          "output_type": "stream",
          "name": "stdout",
          "text": [
            "5\n",
            "3\n"
          ]
        }
      ]
    },
    {
      "cell_type": "markdown",
      "source": [
        "# 3273 : 두 수의 합"
      ],
      "metadata": {
        "id": "2etAd8CjmLh5"
      }
    },
    {
      "cell_type": "code",
      "source": [
        "n = int(input())\n",
        "A = list(map(int,input().split()))\n",
        "X = int(input())\n",
        "A.sort()\n",
        "\n",
        "num = 0\n",
        "start = 0\n",
        "end = n-1\n",
        "\n",
        "while start < end :\n",
        "    t = A[start] + A[end]\n",
        "    if t < X:\n",
        "        start += 1\n",
        "    elif t > X:\n",
        "        end -= 1 \n",
        "    else:\n",
        "        num += 1\n",
        "        end -= 1\n",
        "\n",
        "print(num)"
      ],
      "metadata": {
        "colab": {
          "base_uri": "https://localhost:8080/"
        },
        "id": "pradt4JemO4s",
        "outputId": "5c7ff797-a13f-483e-d250-6a527fb34343"
      },
      "execution_count": 1,
      "outputs": [
        {
          "output_type": "stream",
          "name": "stdout",
          "text": [
            "9\n",
            "5 12 7 10 9 1 2 3 11\n",
            "13\n",
            "3\n"
          ]
        }
      ]
    },
    {
      "cell_type": "code",
      "source": [
        "n = int(input())\n",
        "number = sorted(list(map(int,input().split())))\n",
        "x = int(input())\n",
        "count = 0\n",
        "end = n-1\n",
        "for start in range(n):\n",
        "    total = x+1\n",
        "    v = number[start]\n",
        "    while total > x and end > start:\n",
        "        total = v + number[end]\n",
        "        end -= 1\n",
        "    if total == x:\n",
        "        count += 1\n",
        "    end += 1\n",
        "print(count)"
      ],
      "metadata": {
        "colab": {
          "base_uri": "https://localhost:8080/"
        },
        "id": "cz5CocDWwtjm",
        "outputId": "fe543032-5e07-4325-e77f-7f60e93f83fa"
      },
      "execution_count": 3,
      "outputs": [
        {
          "output_type": "stream",
          "name": "stdout",
          "text": [
            "9\n",
            "5 12 7 10 9 1 2 3 11\n",
            "13\n",
            "3\n"
          ]
        }
      ]
    },
    {
      "cell_type": "code",
      "source": [
        "# 같은 수가 있는 수열에서 쌍을 구할 때의 코드\n",
        "n = int(input())\n",
        "number = sorted(list(map(int,input().split())))\n",
        "x = int(input())\n",
        "count = start = 0\n",
        "end = n-1\n",
        "while start < end:\n",
        "    total = number[start] + number[end]\n",
        "    if total > x:\n",
        "        end -= 1\n",
        "    elif total < x:\n",
        "        start +=1\n",
        "    else:\n",
        "        count += 1\n",
        "        e = end\n",
        "        while number[e-1] == number[e]:\n",
        "            count += 1\n",
        "            e -= 1\n",
        "        start += 1\n",
        "print(count)"
      ],
      "metadata": {
        "colab": {
          "base_uri": "https://localhost:8080/"
        },
        "id": "1-1Jv6_LwDJS",
        "outputId": "47c636ed-05ce-4f13-d053-3e81869160d9"
      },
      "execution_count": 2,
      "outputs": [
        {
          "output_type": "stream",
          "name": "stdout",
          "text": [
            "7\n",
            "1 1 2 3 4 5 5\n",
            "6\n",
            "5\n"
          ]
        }
      ]
    }
  ]
}