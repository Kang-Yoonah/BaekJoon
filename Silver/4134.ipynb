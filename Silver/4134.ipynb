{
  "nbformat": 4,
  "nbformat_minor": 0,
  "metadata": {
    "colab": {
      "provenance": [],
      "authorship_tag": "ABX9TyNZ43yfVwQlpiWUI5F1yO4t",
      "include_colab_link": true
    },
    "kernelspec": {
      "name": "python3",
      "display_name": "Python 3"
    },
    "language_info": {
      "name": "python"
    }
  },
  "cells": [
    {
      "cell_type": "markdown",
      "metadata": {
        "id": "view-in-github",
        "colab_type": "text"
      },
      "source": [
        "<a href=\"https://colab.research.google.com/github/Kang-Yoonah/BaekJoon/blob/main/Silver/4134.ipynb\" target=\"_parent\"><img src=\"https://colab.research.google.com/assets/colab-badge.svg\" alt=\"Open In Colab\"/></a>"
      ]
    },
    {
      "cell_type": "code",
      "execution_count": 1,
      "metadata": {
        "colab": {
          "base_uri": "https://localhost:8080/"
        },
        "id": "5gm2z1LImxGL",
        "outputId": "e9f16209-ece9-4f1b-cb42-c98de570e221"
      },
      "outputs": [
        {
          "output_type": "stream",
          "name": "stdout",
          "text": [
            "3\n",
            "6\n",
            "7\n",
            "20\n",
            "23\n",
            "100\n",
            "101\n"
          ]
        }
      ],
      "source": [
        "def sol(N):\n",
        "    while True:\n",
        "        t = 1\n",
        "        for i in range(3,int(N**0.5)+1,2):\n",
        "            if N%i == 0:\n",
        "                N += 2\n",
        "                t = 0\n",
        "                break\n",
        "        if t:\n",
        "            return N\n",
        "    \n",
        "for _ in range(int(input())):\n",
        "    N = int(input())\n",
        "    if N <= 2:\n",
        "        print(2)\n",
        "    else:\n",
        "        if N%2 == 0:\n",
        "            N += 1\n",
        "        print(sol(N))"
      ]
    }
  ]
}