{
  "nbformat": 4,
  "nbformat_minor": 0,
  "metadata": {
    "colab": {
      "provenance": [],
      "authorship_tag": "ABX9TyON9bhV44IYV/bODaypUThd",
      "include_colab_link": true
    },
    "kernelspec": {
      "name": "python3",
      "display_name": "Python 3"
    },
    "language_info": {
      "name": "python"
    }
  },
  "cells": [
    {
      "cell_type": "markdown",
      "metadata": {
        "id": "view-in-github",
        "colab_type": "text"
      },
      "source": [
        "<a href=\"https://colab.research.google.com/github/Kang-Yoonah/BaekJoon/blob/main/Silver/4383.ipynb\" target=\"_parent\"><img src=\"https://colab.research.google.com/assets/colab-badge.svg\" alt=\"Open In Colab\"/></a>"
      ]
    },
    {
      "cell_type": "code",
      "execution_count": null,
      "metadata": {
        "id": "yO5ujOIWqWPK"
      },
      "outputs": [],
      "source": [
        "while 1:\n",
        "    S = list(map(int,input().split()))\n",
        "    t = 1\n",
        "    if S:\n",
        "        n = S[0]\n",
        "        Diff = [0]*(n-1)\n",
        "        for i in range(1,n):\n",
        "            diff = abs(S[i]- S[i+1])\n",
        "            if diff < 1 or diff >= n or Diff[diff-1]:\n",
        "                t = 0\n",
        "                break\n",
        "            else:\n",
        "                Diff[diff-1] = 1\n",
        "    else:\n",
        "        break\n",
        "    print(\"Jolly\" if t else \"Not jolly\")"
      ]
    }
  ]
}