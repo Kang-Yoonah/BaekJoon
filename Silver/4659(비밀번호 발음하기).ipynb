{
  "cells": [
    {
      "cell_type": "markdown",
      "metadata": {
        "id": "view-in-github",
        "colab_type": "text"
      },
      "source": [
        "<a href=\"https://colab.research.google.com/github/Kang-Yoonah/BaekJoon/blob/main/Silver/4659(%EB%B9%84%EB%B0%80%EB%B2%88%ED%98%B8%20%EB%B0%9C%EC%9D%8C%ED%95%98%EA%B8%B0).ipynb\" target=\"_parent\"><img src=\"https://colab.research.google.com/assets/colab-badge.svg\" alt=\"Open In Colab\"/></a>"
      ]
    },
    {
      "cell_type": "code",
      "source": [
        "def sol(pass_,t):\n",
        "    for i in range(len(pass_)):\n",
        "        if i and pass_[i] not in ['o','e'] and pass_[i-1] == pass_[i]:\n",
        "            return \" not\"\n",
        "        elif i > 1 and pass_[i] in Moem and pass_[i-1] in Moem and pass_[i-2] in Moem:\n",
        "            return \" not\"\n",
        "        elif i > 1 and pass_[i] not in Moem and pass_[i-1] not in Moem and pass_[i-2] not in Moem:\n",
        "            return \" not\"\n",
        "        if pass_[i] in Moem:\n",
        "            t = 0\n",
        "    if t:\n",
        "        return \" not\"\n",
        "    return \"\"\n",
        "                             \n",
        "while 1:\n",
        "    Moem = set(['a','e','i','o','u']) \n",
        "    pass_ = input().rstrip()\n",
        "    if pass_ == 'end':\n",
        "        break\n",
        "    print(f\"<{pass_}> is{sol(pass_,1)} acceptable.\")"
      ],
      "metadata": {
        "id": "Eum8oDR9H9Ie",
        "colab": {
          "base_uri": "https://localhost:8080/"
        },
        "outputId": "fa591f5e-882c-446e-ef59-d2b610535fac"
      },
      "execution_count": 1,
      "outputs": [
        {
          "name": "stdout",
          "output_type": "stream",
          "text": [
            "a \n",
            "<a> is acceptable.\n",
            "tv \n",
            "<tv> is not acceptable.\n",
            "ptoui \n",
            "<ptoui> is not acceptable.\n",
            "bontres \n",
            "<bontres> is not acceptable.\n",
            "zoggax \n",
            "<zoggax> is not acceptable.\n",
            "wiinq \n",
            "<wiinq> is not acceptable.\n",
            "eep \n",
            "<eep> is acceptable.\n",
            "houctuh \n",
            "<houctuh> is acceptable.\n",
            "end\n"
          ]
        }
      ]
    }
  ],
  "metadata": {
    "colab": {
      "provenance": [],
      "authorship_tag": "ABX9TyOxmqu/bckKl9VtfpqjfRlL",
      "include_colab_link": true
    },
    "kernelspec": {
      "display_name": "Python 3",
      "name": "python3"
    },
    "language_info": {
      "name": "python"
    }
  },
  "nbformat": 4,
  "nbformat_minor": 0
}