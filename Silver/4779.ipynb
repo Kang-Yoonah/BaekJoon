{
  "nbformat": 4,
  "nbformat_minor": 0,
  "metadata": {
    "colab": {
      "name": "4779.ipynb",
      "provenance": [],
      "authorship_tag": "ABX9TyNedUO31I9J2rYps9irBqr1",
      "include_colab_link": true
    },
    "kernelspec": {
      "name": "python3",
      "display_name": "Python 3"
    },
    "language_info": {
      "name": "python"
    }
  },
  "cells": [
    {
      "cell_type": "markdown",
      "metadata": {
        "id": "view-in-github",
        "colab_type": "text"
      },
      "source": [
        "<a href=\"https://colab.research.google.com/github/Kang-Yoonah/BaekJoon/blob/main/Silver/4779.ipynb\" target=\"_parent\"><img src=\"https://colab.research.google.com/assets/colab-badge.svg\" alt=\"Open In Colab\"/></a>"
      ]
    },
    {
      "cell_type": "code",
      "execution_count": 2,
      "metadata": {
        "colab": {
          "base_uri": "https://localhost:8080/"
        },
        "id": "YnqlkiWsxaFG",
        "outputId": "407957b3-d2b0-4746-8246-a40cafdb2833"
      },
      "outputs": [
        {
          "name": "stdout",
          "output_type": "stream",
          "text": [
            "0\n",
            "-\n",
            "1\n",
            "- -\n",
            "2\n",
            "- -   - -\n",
            "3\n",
            "- -   - -         - -   - -\n",
            "4\n",
            "- -   - -         - -   - -                           - -   - -         - -   - -\n",
            "\n"
          ]
        }
      ],
      "source": [
        "def Cantor(s, start, end):\n",
        "    if end == start:\n",
        "        return\n",
        "    l = (end-start+1)//3\n",
        "    s[start+l:start+2*l] = ' '*l \n",
        "    Cantor(s, start, start+l-1)\n",
        "    Cantor(s, end-l+1, end)\n",
        "\n",
        "while True:\n",
        "    try:\n",
        "        N = int(input())\n",
        "        s = list('-'*3**N)\n",
        "        Cantor(s, 0, len(s)-1)\n",
        "        print(*s, sep='')\n",
        "    except:\n",
        "        break"
      ]
    }
  ]
}