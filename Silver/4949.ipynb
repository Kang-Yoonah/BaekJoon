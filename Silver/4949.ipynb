{
  "nbformat": 4,
  "nbformat_minor": 0,
  "metadata": {
    "colab": {
      "provenance": [],
      "authorship_tag": "ABX9TyOG7g42tezagykQ9CzcTCEF",
      "include_colab_link": true
    },
    "kernelspec": {
      "name": "python3",
      "display_name": "Python 3"
    },
    "language_info": {
      "name": "python"
    }
  },
  "cells": [
    {
      "cell_type": "markdown",
      "metadata": {
        "id": "view-in-github",
        "colab_type": "text"
      },
      "source": [
        "<a href=\"https://colab.research.google.com/github/Kang-Yoonah/BaekJoon/blob/main/Silver/4949.ipynb\" target=\"_parent\"><img src=\"https://colab.research.google.com/assets/colab-badge.svg\" alt=\"Open In Colab\"/></a>"
      ]
    },
    {
      "cell_type": "code",
      "execution_count": 3,
      "metadata": {
        "colab": {
          "base_uri": "https://localhost:8080/"
        },
        "id": "1VJxwYsNrJXH",
        "outputId": "01ab7cda-67e0-4f93-f4ff-564202222834"
      },
      "outputs": [
        {
          "name": "stdout",
          "output_type": "stream",
          "text": [
            "So when I die (the [first] I will see in (heaven) is a score list).\n",
            "yes\n",
            "[ first in ] ( first out ).\n",
            "yes\n",
            "Half Moon tonight (At least it is better than no Moon at all].\n",
            "no\n",
            "A rope may form )( a trail in a maze.\n",
            "no\n",
            "Help( I[m being held prisoner in a fortune cookie factory)].\n",
            "no\n",
            "([ (([( [ ] ) ( ) (( ))] )) ]).\n",
            "yes\n",
            " .\n",
            "yes\n",
            ".\n"
          ]
        }
      ],
      "source": [
        "S=input().rstrip()\n",
        "while S != '.':\n",
        "    stack = []\n",
        "    for i in S:\n",
        "        if i == '[' or i == '(':\n",
        "            stack.append(i)\n",
        "        elif i == ']' or i ==')':\n",
        "            if stack == []:\n",
        "                stack = 1\n",
        "                break\n",
        "            elif ((stack[-1] == '[' and i == ']') or (stack[-1] == '(' and i == ')')):\n",
        "                stack.pop()\n",
        "            else:\n",
        "                break\n",
        "    if stack == []:\n",
        "        print('yes')\n",
        "    else:\n",
        "        print('no')\n",
        "    S=input().rstrip()"
      ]
    }
  ]
}