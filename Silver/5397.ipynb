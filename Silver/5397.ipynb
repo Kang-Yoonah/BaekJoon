{
  "nbformat": 4,
  "nbformat_minor": 0,
  "metadata": {
    "colab": {
      "provenance": [],
      "authorship_tag": "ABX9TyOM9XwbB/3YDQT0UNAgPlo7",
      "include_colab_link": true
    },
    "kernelspec": {
      "name": "python3",
      "display_name": "Python 3"
    },
    "language_info": {
      "name": "python"
    }
  },
  "cells": [
    {
      "cell_type": "markdown",
      "metadata": {
        "id": "view-in-github",
        "colab_type": "text"
      },
      "source": [
        "<a href=\"https://colab.research.google.com/github/Kang-Yoonah/BaekJoon/blob/main/Silver/5397.ipynb\" target=\"_parent\"><img src=\"https://colab.research.google.com/assets/colab-badge.svg\" alt=\"Open In Colab\"/></a>"
      ]
    },
    {
      "cell_type": "code",
      "source": [
        "T = int(input())\n",
        "for _ in range(T):\n",
        "    s = input().strip()\n",
        "\n",
        "    stack, stack2 = [], []\n",
        "    for i in s:\n",
        "        if i == '<':\n",
        "            if stack:\n",
        "                stack2.append(stack.pop())\n",
        "        elif i == '>':\n",
        "            if stack2:\n",
        "                stack.append(stack2.pop())\n",
        "        elif i == '-':\n",
        "            if stack:\n",
        "                del stack[-1]\n",
        "        else:\n",
        "            stack.append(i)\n",
        "    print(''.join(stack+stack2[::-1]))"
      ],
      "metadata": {
        "colab": {
          "base_uri": "https://localhost:8080/"
        },
        "id": "pfmEFl06JHGM",
        "outputId": "d26364ad-43c0-45ce-de78-0c1aa193e6f3"
      },
      "execution_count": 16,
      "outputs": [
        {
          "output_type": "stream",
          "name": "stdout",
          "text": [
            "2\n",
            "ThIsIsS3Cr3t\n",
            "ThIsIsS3Cr3t\n",
            "<<BP<A>>Cd-\n",
            "BAPC\n"
          ]
        }
      ]
    }
  ]
}