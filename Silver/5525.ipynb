{
  "nbformat": 4,
  "nbformat_minor": 0,
  "metadata": {
    "colab": {
      "provenance": [],
      "authorship_tag": "ABX9TyMIOPSVNb9BRyRxbTL2czW2",
      "include_colab_link": true
    },
    "kernelspec": {
      "name": "python3",
      "display_name": "Python 3"
    },
    "language_info": {
      "name": "python"
    }
  },
  "cells": [
    {
      "cell_type": "markdown",
      "metadata": {
        "id": "view-in-github",
        "colab_type": "text"
      },
      "source": [
        "<a href=\"https://colab.research.google.com/github/Kang-Yoonah/BaekJoon/blob/main/Silver/5525.ipynb\" target=\"_parent\"><img src=\"https://colab.research.google.com/assets/colab-badge.svg\" alt=\"Open In Colab\"/></a>"
      ]
    },
    {
      "cell_type": "code",
      "execution_count": null,
      "metadata": {
        "colab": {
          "base_uri": "https://localhost:8080/"
        },
        "id": "5gm2z1LImxGL",
        "outputId": "996e87ed-19a6-41a8-e7e6-a4870b60f7e2"
      },
      "outputs": [
        {
          "output_type": "stream",
          "name": "stdout",
          "text": [
            "1\n",
            "13\n",
            "OOIOIOIOIIOII\n",
            "4\n"
          ]
        }
      ],
      "source": [
        "def change(t,n):\n",
        "    if t == \"I\":\n",
        "        return 'O', n\n",
        "    return \"I\", n + 1\n",
        "\n",
        "def sol(N,M,S,num):\n",
        "    t = 'I'\n",
        "    n = 0\n",
        "    for i,s in enumerate(S):\n",
        "        if s == t:\n",
        "            t,n = change(t,n)\n",
        "        else:\n",
        "            t,n = change(s,n)\n",
        "            n = 0\n",
        "        if s == 'I' and n == N:\n",
        "            num += 1\n",
        "            n -= 1\n",
        "    return num\n",
        "\n",
        "print(sol(int(input()), int(input()), input().rstrip(), 0))"
      ]
    }
  ]
}