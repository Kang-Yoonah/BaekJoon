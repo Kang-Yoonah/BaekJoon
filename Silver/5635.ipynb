{
  "nbformat": 4,
  "nbformat_minor": 0,
  "metadata": {
    "colab": {
      "provenance": [],
      "authorship_tag": "ABX9TyNpvQAyjMM2f3bQvciyaufJ",
      "include_colab_link": true
    },
    "kernelspec": {
      "name": "python3",
      "display_name": "Python 3"
    },
    "language_info": {
      "name": "python"
    }
  },
  "cells": [
    {
      "cell_type": "markdown",
      "metadata": {
        "id": "view-in-github",
        "colab_type": "text"
      },
      "source": [
        "<a href=\"https://colab.research.google.com/github/Kang-Yoonah/BaekJoon/blob/main/Silver/5635.ipynb\" target=\"_parent\"><img src=\"https://colab.research.google.com/assets/colab-badge.svg\" alt=\"Open In Colab\"/></a>"
      ]
    },
    {
      "cell_type": "code",
      "source": [
        "n = int(input())\n",
        "people = [0]*n\n",
        "for i in range(n):\n",
        "    a,b,c,d = input().split()\n",
        "    people[i] = [a] + list(map(int,[b,c,d]))\n",
        "people.sort(key = lambda x: (x[-1],x[-2],x[-3]))\n",
        "\n",
        "print(people[-1][0])\n",
        "print(people[0][0])"
      ],
      "metadata": {
        "colab": {
          "base_uri": "https://localhost:8080/"
        },
        "id": "pfmEFl06JHGM",
        "outputId": "d12f6285-e3f1-43d1-b416-f40e3da1c73d"
      },
      "execution_count": 5,
      "outputs": [
        {
          "output_type": "stream",
          "name": "stdout",
          "text": [
            "5\n",
            "Mickey 1 10 1991\n",
            "Alice 30 12 1990\n",
            "Tom 15 8 1993\n",
            "Jerry 18 9 1990\n",
            "Garfield 20 9 1990\n",
            "Tom\n",
            "Jerry\n"
          ]
        }
      ]
    }
  ]
}