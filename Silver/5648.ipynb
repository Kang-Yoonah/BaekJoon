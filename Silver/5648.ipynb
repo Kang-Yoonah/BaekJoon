{
  "nbformat": 4,
  "nbformat_minor": 0,
  "metadata": {
    "colab": {
      "provenance": [],
      "authorship_tag": "ABX9TyPc73+wPVcUxc8kQ3fCBBtx",
      "include_colab_link": true
    },
    "kernelspec": {
      "name": "python3",
      "display_name": "Python 3"
    },
    "language_info": {
      "name": "python"
    }
  },
  "cells": [
    {
      "cell_type": "markdown",
      "metadata": {
        "id": "view-in-github",
        "colab_type": "text"
      },
      "source": [
        "<a href=\"https://colab.research.google.com/github/Kang-Yoonah/BaekJoon/blob/main/Silver/5648.ipynb\" target=\"_parent\"><img src=\"https://colab.research.google.com/assets/colab-badge.svg\" alt=\"Open In Colab\"/></a>"
      ]
    },
    {
      "cell_type": "code",
      "execution_count": 1,
      "metadata": {
        "colab": {
          "base_uri": "https://localhost:8080/"
        },
        "id": "M0iQyZwJE-Fp",
        "outputId": "7a2144da-e2bc-4f6c-95af-31a2855de14c"
      },
      "outputs": [
        {
          "output_type": "stream",
          "name": "stdout",
          "text": [
            "10 5 2233\n",
            "1601 90100 13009 802\n",
            "50000000\n",
            "301 7654321\n",
            "210\n",
            "5\n",
            "5\n",
            "12\n",
            "103\n",
            "109\n",
            "208\n",
            "1061\n",
            "3322\n",
            "90031\n",
            "1234567\n"
          ]
        }
      ],
      "source": [
        "def sol():\n",
        "    First = list(map(int,input().split()))\n",
        "    Number = First[1:]\n",
        "    while len(Number) < First[0]:\n",
        "        A = list(map(int,input().split()))\n",
        "        Number += A\n",
        "\n",
        "    new_Number = [int(str(number)[::-1]) for number in Number]\n",
        "    new_Number.sort()\n",
        "    for number in new_Number:\n",
        "        print(number)   \n",
        "\n",
        "sol()"
      ]
    }
  ]
}