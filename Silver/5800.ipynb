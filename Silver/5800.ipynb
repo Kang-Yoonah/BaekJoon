{
  "nbformat": 4,
  "nbformat_minor": 0,
  "metadata": {
    "colab": {
      "name": "5800.ipynb",
      "provenance": [],
      "authorship_tag": "ABX9TyP6h0AgwR2YBb8Jf9cQwD1f",
      "include_colab_link": true
    },
    "kernelspec": {
      "name": "python3",
      "display_name": "Python 3"
    },
    "language_info": {
      "name": "python"
    }
  },
  "cells": [
    {
      "cell_type": "markdown",
      "metadata": {
        "id": "view-in-github",
        "colab_type": "text"
      },
      "source": [
        "<a href=\"https://colab.research.google.com/github/Kang-Yoonah/BaekJoon/blob/main/Silver/5800.ipynb\" target=\"_parent\"><img src=\"https://colab.research.google.com/assets/colab-badge.svg\" alt=\"Open In Colab\"/></a>"
      ]
    },
    {
      "cell_type": "code",
      "execution_count": 1,
      "metadata": {
        "colab": {
          "base_uri": "https://localhost:8080/"
        },
        "id": "Wso_RqPhHtbE",
        "outputId": "e270d38c-9f23-4839-b0b5-15c2431eb873"
      },
      "outputs": [
        {
          "output_type": "stream",
          "name": "stdout",
          "text": [
            "2\n",
            "5 30 25 76 23 78\n",
            "Class 1\n",
            "Max 78, Min 23, Largest gap 46\n",
            "6 25 50 70 99 70 90\n",
            "Class 2\n",
            "Max 99, Min 25, Largest gap 25\n"
          ]
        }
      ],
      "source": [
        "for i in range(int(input())):\n",
        "    Score = list(map(int,input().split()))\n",
        "    n = Score[0]\n",
        "    del Score[0]\n",
        "\n",
        "    Score.sort()\n",
        "    diff = Score[1] - Score[0]\n",
        "    for j in range(2,n):\n",
        "        diff = max(diff, Score[j]-Score[j-1])\n",
        "    print(f'Class {i+1}')\n",
        "    print(f'Max {Score[-1]}, Min {Score[0]}, Largest gap {diff}')"
      ]
    }
  ]
}