{
  "nbformat": 4,
  "nbformat_minor": 0,
  "metadata": {
    "colab": {
      "provenance": [],
      "authorship_tag": "ABX9TyMbP1t37Ti/DVns2kV9vYG8",
      "include_colab_link": true
    },
    "kernelspec": {
      "name": "python3",
      "display_name": "Python 3"
    },
    "language_info": {
      "name": "python"
    }
  },
  "cells": [
    {
      "cell_type": "markdown",
      "metadata": {
        "id": "view-in-github",
        "colab_type": "text"
      },
      "source": [
        "<a href=\"https://colab.research.google.com/github/Kang-Yoonah/BaekJoon/blob/main/Silver/6064.ipynb\" target=\"_parent\"><img src=\"https://colab.research.google.com/assets/colab-badge.svg\" alt=\"Open In Colab\"/></a>"
      ]
    },
    {
      "cell_type": "code",
      "source": [
        "def num(M, N, x, y):\n",
        "    while x <= M*N:\n",
        "        if (x-y)%N == 0:\n",
        "            return x\n",
        "        x += M\n",
        "    return -1\n",
        "\n",
        "def sol(T):\n",
        "    for i in range(T):\n",
        "        M, N, x, y = map(int, input().split())\n",
        "        print(num(M, N, x, y))\n",
        "sol(int(input()))"
      ],
      "metadata": {
        "id": "Gw8F0-TWPI0g",
        "colab": {
          "base_uri": "https://localhost:8080/"
        },
        "outputId": "58fc7cb8-8ef0-48a1-b60b-c814426e8c13"
      },
      "execution_count": 1,
      "outputs": [
        {
          "output_type": "stream",
          "name": "stdout",
          "text": [
            "3\n",
            "10 12 3 9\n",
            "33\n",
            "10 12 7 2\n",
            "-1\n",
            "13 11 5 6\n",
            "83\n"
          ]
        }
      ]
    }
  ]
}