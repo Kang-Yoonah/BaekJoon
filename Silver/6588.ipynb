{
  "nbformat": 4,
  "nbformat_minor": 0,
  "metadata": {
    "colab": {
      "name": "6588.ipynb",
      "provenance": [],
      "authorship_tag": "ABX9TyMSQjjl4Iu0lj8EVAuhryPd",
      "include_colab_link": true
    },
    "kernelspec": {
      "name": "python3",
      "display_name": "Python 3"
    },
    "language_info": {
      "name": "python"
    }
  },
  "cells": [
    {
      "cell_type": "markdown",
      "metadata": {
        "id": "view-in-github",
        "colab_type": "text"
      },
      "source": [
        "<a href=\"https://colab.research.google.com/github/Kang-Yoonah/BaekJoon/blob/main/Silver/6588.ipynb\" target=\"_parent\"><img src=\"https://colab.research.google.com/assets/colab-badge.svg\" alt=\"Open In Colab\"/></a>"
      ]
    },
    {
      "cell_type": "markdown",
      "source": [
        "**골드바흐의 추측**\n",
        "\n",
        "4보다 큰 모든 짝수는 두 홀수 소수의 합으로 나타낼 수 있다.   \n",
        "백만 이하의 모든 짝수에 대해서, 이 추측을 검증하는 프로그램을 작성하시오.\n",
        "\n",
        "입력은 하나 또는 그 이상의 테스트 케이스로 이루어져 있다.   \n",
        "테스트 케이스의 개수는 100,000개를 넘지 않는다.   \n",
        "각 테스트 케이스는 짝수 정수 n 하나로 이루어져 있다. 6<= n <= 1000000   \n",
        "입력의 마지막 줄에는 0이 하나 주어진다.\n",
        "\n",
        "각 테스트 케이스에 대해서, n = a+b 형태로 출력한다. a와 b는 홀수 소수이다.   \n",
        "숫자와 연산자는 공백 하나로 구분되어져있다.   \n",
        "만약 n을 만들 수 있는 방법이 여러가지라면, b-a가 가장 큰 것을 출력한다.   \n",
        "또 두 홀수 소수의 합으로 n을 나타낼 수 없는 경우에는 Goldbach's conjecture is wrong. 을 출력한다."
      ],
      "metadata": {
        "id": "s2DMn1HZ1DF0"
      }
    },
    {
      "cell_type": "code",
      "execution_count": 11,
      "metadata": {
        "colab": {
          "base_uri": "https://localhost:8080/"
        },
        "id": "x2nvv5i-1BSu",
        "outputId": "f5231dd6-c817-4b11-e4ac-01d4996bb8b0"
      },
      "outputs": [
        {
          "output_type": "stream",
          "name": "stdout",
          "text": [
            "8\n",
            "20\n",
            "42\n",
            "0\n",
            "8 = 3 + 5\n",
            "20 = 3 + 17\n",
            "42 = 5 + 37\n"
          ]
        }
      ],
      "source": [
        "#import sys\n",
        "#input = sys.stdin.readline\n",
        "\n",
        "n = int(input())\n",
        "num = []\n",
        "while n:\n",
        "    num.append(n)\n",
        "    n = int(input())\n",
        "\n",
        "def prime(n):\n",
        "    p_array = [1 for i in range(n+1)]\n",
        "    p_array[0] = p_array[1] = 0\n",
        "    for i in range(2,int(n*0.5)+1):\n",
        "        if p_array[i]:\n",
        "            for j in range(2*i,n+1,i):\n",
        "                p_array[j] = 0\n",
        "    return p_array\n",
        "\n",
        "p_array = prime(max(num))\n",
        "\n",
        "for even in num:\n",
        "    t = 1\n",
        "    for num1 in range(3, even//2+1,2):\n",
        "        if p_array[num1]and p_array[even-num1]:\n",
        "            print(even,'=',num1,'+',even-num1)\n",
        "            t = 0\n",
        "            break\n",
        "    if t:\n",
        "        print(\"Goldbach's conjecture is wrong.\")"
      ]
    }
  ]
}