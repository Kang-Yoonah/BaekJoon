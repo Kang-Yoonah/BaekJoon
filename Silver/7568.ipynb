{
  "nbformat": 4,
  "nbformat_minor": 0,
  "metadata": {
    "colab": {
      "provenance": [],
      "authorship_tag": "ABX9TyPRbYbr7a22rkQottypms0m",
      "include_colab_link": true
    },
    "kernelspec": {
      "name": "python3",
      "display_name": "Python 3"
    },
    "language_info": {
      "name": "python"
    }
  },
  "cells": [
    {
      "cell_type": "markdown",
      "metadata": {
        "id": "view-in-github",
        "colab_type": "text"
      },
      "source": [
        "<a href=\"https://colab.research.google.com/github/Kang-Yoonah/BaekJoon/blob/main/Silver/7568.ipynb\" target=\"_parent\"><img src=\"https://colab.research.google.com/assets/colab-badge.svg\" alt=\"Open In Colab\"/></a>"
      ]
    },
    {
      "cell_type": "code",
      "execution_count": 1,
      "metadata": {
        "colab": {
          "base_uri": "https://localhost:8080/"
        },
        "id": "4vrK2-So7F0D",
        "outputId": "9077813b-316f-4552-c58f-ec88e7c45a70"
      },
      "outputs": [
        {
          "output_type": "stream",
          "name": "stdout",
          "text": [
            "5\n",
            "55 185\n",
            "58 183\n",
            "88 186\n",
            "60 175\n",
            "46 155\n",
            "2 2 1 2 5\n"
          ]
        }
      ],
      "source": [
        "N = int(input())\n",
        "people = [list(map(int,input().split())) for _ in range(N)]\n",
        "n = len(people)\n",
        "ans = [0]*n\n",
        "\n",
        "for p in range(n):\n",
        "    cnt = 0\n",
        "    for j in range(n):\n",
        "        if people[p][0] < people[j][0] and people[p][1] < people[j][1]:\n",
        "            cnt += 1\n",
        "    ans[p] = str(cnt+1)\n",
        "print(' '.join(ans))"
      ]
    }
  ]
}