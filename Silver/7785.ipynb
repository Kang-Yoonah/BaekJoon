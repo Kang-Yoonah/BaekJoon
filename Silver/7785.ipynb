{
  "nbformat": 4,
  "nbformat_minor": 0,
  "metadata": {
    "colab": {
      "provenance": [],
      "authorship_tag": "ABX9TyM0akWSq6hPebY+o/9FbPVt",
      "include_colab_link": true
    },
    "kernelspec": {
      "name": "python3",
      "display_name": "Python 3"
    },
    "language_info": {
      "name": "python"
    }
  },
  "cells": [
    {
      "cell_type": "markdown",
      "metadata": {
        "id": "view-in-github",
        "colab_type": "text"
      },
      "source": [
        "<a href=\"https://colab.research.google.com/github/Kang-Yoonah/BaekJoon/blob/main/Silver/7785.ipynb\" target=\"_parent\"><img src=\"https://colab.research.google.com/assets/colab-badge.svg\" alt=\"Open In Colab\"/></a>"
      ]
    },
    {
      "cell_type": "code",
      "source": [
        "def sol(work):\n",
        "    for _ in range(int(input())):\n",
        "        N, _ = input().split()\n",
        "        if N in work:\n",
        "            work.remove(N)\n",
        "        else:\n",
        "            work.add(N)\n",
        "    print(\"\\n\".join(sorted(list(work), key = str, reverse=True)))\n",
        "    \n",
        "sol(set())"
      ],
      "metadata": {
        "colab": {
          "base_uri": "https://localhost:8080/"
        },
        "id": "V5Behma77t2H",
        "outputId": "245e2eb1-f3f2-48d4-d8f3-7000cc1b3fa1"
      },
      "execution_count": 1,
      "outputs": [
        {
          "output_type": "stream",
          "name": "stdout",
          "text": [
            "4\n",
            "Baha enter\n",
            "Askar enter\n",
            "Baha leave\n",
            "Artem enter\n",
            "Askar\n",
            "Artem\n"
          ]
        }
      ]
    }
  ]
}