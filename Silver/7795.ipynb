{
  "nbformat": 4,
  "nbformat_minor": 0,
  "metadata": {
    "colab": {
      "provenance": [],
      "authorship_tag": "ABX9TyP7NedpmpWHhq2x8L2myDtJ",
      "include_colab_link": true
    },
    "kernelspec": {
      "name": "python3",
      "display_name": "Python 3"
    },
    "language_info": {
      "name": "python"
    }
  },
  "cells": [
    {
      "cell_type": "markdown",
      "metadata": {
        "id": "view-in-github",
        "colab_type": "text"
      },
      "source": [
        "<a href=\"https://colab.research.google.com/github/Kang-Yoonah/BaekJoon/blob/main/Silver/7795.ipynb\" target=\"_parent\"><img src=\"https://colab.research.google.com/assets/colab-badge.svg\" alt=\"Open In Colab\"/></a>"
      ]
    },
    {
      "cell_type": "code",
      "source": [
        "def sol():\n",
        "    for _ in range(int(input())):\n",
        "        _,M = map(int,input().split())\n",
        "        A,B = sorted(list(map(int,input().split()))),sorted(list(map(int,input().split())))\n",
        "        N = n = 0\n",
        "        for a in A:\n",
        "            while n < M and a > B[n]:\n",
        "                n += 1\n",
        "            N += n\n",
        "        print(N)\n",
        "sol()"
      ],
      "metadata": {
        "colab": {
          "base_uri": "https://localhost:8080/"
        },
        "id": "V5Behma77t2H",
        "outputId": "4f174206-da48-4dcd-bec6-4eba4d01fb9d"
      },
      "execution_count": 1,
      "outputs": [
        {
          "output_type": "stream",
          "name": "stdout",
          "text": [
            "2\n",
            "5 3\n",
            "8 1 7 3 1\n",
            "3 6 1\n",
            "7\n",
            "3 4\n",
            "2 13 7\n",
            "103 11 290 215\n",
            "1\n"
          ]
        }
      ]
    }
  ]
}