{
  "nbformat": 4,
  "nbformat_minor": 0,
  "metadata": {
    "colab": {
      "provenance": [],
      "authorship_tag": "ABX9TyPlM/NYu1lRAx/qRYxXTPNm",
      "include_colab_link": true
    },
    "kernelspec": {
      "name": "python3",
      "display_name": "Python 3"
    },
    "language_info": {
      "name": "python"
    }
  },
  "cells": [
    {
      "cell_type": "markdown",
      "metadata": {
        "id": "view-in-github",
        "colab_type": "text"
      },
      "source": [
        "<a href=\"https://colab.research.google.com/github/Kang-Yoonah/BaekJoon/blob/main/Silver/8892.ipynb\" target=\"_parent\"><img src=\"https://colab.research.google.com/assets/colab-badge.svg\" alt=\"Open In Colab\"/></a>"
      ]
    },
    {
      "cell_type": "code",
      "source": [
        "def sol(k): \n",
        "    words = [input().rstrip() for _ in range(k)]\n",
        "    for i in range(k):\n",
        "        for j in range(i+1,k):\n",
        "            a,b = words[i]+words[j], words[j]+words[i]\n",
        "            if a == a[::-1]:\n",
        "                return a\n",
        "            if b == b[::-1]:\n",
        "                return b\n",
        "    return 0\n",
        "\n",
        "for _ in range(int(input())):                 \n",
        "    print(sol(int(input())))"
      ],
      "metadata": {
        "id": "Gw8F0-TWPI0g",
        "colab": {
          "base_uri": "https://localhost:8080/"
        },
        "outputId": "4ce486f3-185e-4fa1-b4fb-bc8265e39e48"
      },
      "execution_count": null,
      "outputs": [
        {
          "output_type": "stream",
          "name": "stdout",
          "text": [
            "2\n",
            "5\n",
            "aaba\n",
            "ba\n",
            "ababa\n",
            "bbaa\n",
            "baaba\n",
            "abababa\n",
            "3\n",
            "abc\n",
            "bcd\n",
            "ced\n",
            "0\n"
          ]
        }
      ]
    }
  ]
}