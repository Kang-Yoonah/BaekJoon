{
  "nbformat": 4,
  "nbformat_minor": 0,
  "metadata": {
    "colab": {
      "provenance": [],
      "authorship_tag": "ABX9TyNBDavHnsA97F57U2WpHZM9",
      "include_colab_link": true
    },
    "kernelspec": {
      "name": "python3",
      "display_name": "Python 3"
    },
    "language_info": {
      "name": "python"
    }
  },
  "cells": [
    {
      "cell_type": "markdown",
      "metadata": {
        "id": "view-in-github",
        "colab_type": "text"
      },
      "source": [
        "<a href=\"https://colab.research.google.com/github/Kang-Yoonah/BaekJoon/blob/main/Silver/8979.ipynb\" target=\"_parent\"><img src=\"https://colab.research.google.com/assets/colab-badge.svg\" alt=\"Open In Colab\"/></a>"
      ]
    },
    {
      "cell_type": "code",
      "execution_count": null,
      "metadata": {
        "id": "EoRqsvyTRV3V"
      },
      "outputs": [],
      "source": [
        "def sol():\n",
        "    N,K = map(int,input().split())\n",
        "    List = []\n",
        "    g,s,b = 10**13, 10**7, 1\n",
        "    for _ in range(N):\n",
        "        A,G,S,B = map(int,input().split())\n",
        "        List.append([G*g+S*s+B*b,A])\n",
        "    List.sort(key = lambda x : -x[0])\n",
        "        \n",
        "    i = before = num = 0\n",
        "    for s,a in List:\n",
        "        if s != before:\n",
        "            i += num + 1\n",
        "            num = 0\n",
        "            before = s\n",
        "        else:\n",
        "            num += 1 \n",
        "        if a == K:\n",
        "            return i\n",
        "                   \n",
        "print(sol())"
      ]
    }
  ]
}