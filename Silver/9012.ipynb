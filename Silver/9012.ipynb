{
  "nbformat": 4,
  "nbformat_minor": 0,
  "metadata": {
    "colab": {
      "name": "9012.ipynb",
      "provenance": [],
      "authorship_tag": "ABX9TyM+5dSYubbKoYpd/qpEIgWh",
      "include_colab_link": true
    },
    "kernelspec": {
      "name": "python3",
      "display_name": "Python 3"
    },
    "language_info": {
      "name": "python"
    }
  },
  "cells": [
    {
      "cell_type": "markdown",
      "metadata": {
        "id": "view-in-github",
        "colab_type": "text"
      },
      "source": [
        "<a href=\"https://colab.research.google.com/github/Kang-Yoonah/BaekJoon/blob/main/Silver/9012.ipynb\" target=\"_parent\"><img src=\"https://colab.research.google.com/assets/colab-badge.svg\" alt=\"Open In Colab\"/></a>"
      ]
    },
    {
      "cell_type": "code",
      "execution_count": 2,
      "metadata": {
        "colab": {
          "base_uri": "https://localhost:8080/"
        },
        "id": "LVGzq0CEQTVb",
        "outputId": "b5305c9b-7a1d-4371-c820-6ddb79b16b91"
      },
      "outputs": [
        {
          "output_type": "stream",
          "name": "stdout",
          "text": [
            "6\n",
            "(())())\n",
            "NO\n",
            "(((()())()\n",
            "NO\n",
            "(()())((()))\n",
            "YES\n",
            "((()()(()))(((())))()\n",
            "NO\n",
            "()()()()(()()())()\n",
            "YES\n",
            "(()((())()(\n",
            "NO\n"
          ]
        }
      ],
      "source": [
        "for _ in range(int(input())):\n",
        "    s = input().strip()\n",
        "    total = 0\n",
        "    for i in s:\n",
        "        if i == '(':\n",
        "            total += 1\n",
        "        else:\n",
        "            total -= 1\n",
        "            if total < 0:\n",
        "                break\n",
        "    if total == 0:\n",
        "        print('YES')\n",
        "    else:\n",
        "        print('NO')"
      ]
    }
  ]
}