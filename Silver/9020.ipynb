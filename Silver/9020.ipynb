{
  "nbformat": 4,
  "nbformat_minor": 0,
  "metadata": {
    "colab": {
      "name": "9020.ipynb",
      "provenance": [],
      "authorship_tag": "ABX9TyOguIxusR0T3lUuJVCXWSPv",
      "include_colab_link": true
    },
    "kernelspec": {
      "name": "python3",
      "display_name": "Python 3"
    },
    "language_info": {
      "name": "python"
    }
  },
  "cells": [
    {
      "cell_type": "markdown",
      "metadata": {
        "id": "view-in-github",
        "colab_type": "text"
      },
      "source": [
        "<a href=\"https://colab.research.google.com/github/Kang-Yoonah/BaekJoon/blob/main/Silver/9020.ipynb\" target=\"_parent\"><img src=\"https://colab.research.google.com/assets/colab-badge.svg\" alt=\"Open In Colab\"/></a>"
      ]
    },
    {
      "cell_type": "markdown",
      "source": [
        "# 골드바흐의 추측\n",
        "\n",
        "2보다 큰 모든 짝수는 두 소수의 합으로 나타낼 수 있다. 이러한 수를 골드바흐 수라고 한다.   \n",
        "또한 짝수를 두 소수의 합으로 나타내는 표현을 그 수의 골드바흐 파티션이라고 한다.   \n",
        "예를 들면, 4 = 2 + 2, 14 = 7 + 7이다.   \n",
        "10000보다 작거나 같은 모든 짝수 n에 대한 골드바흐 파티션은 존재한다.\n",
        "\n",
        "2보다 큰 짝수 n이 주어졌을 때 n의 골드바흐 파티션을 출력하는 프로그램을 작성하자.   \n",
        "- 만약 가능한 n의 골드바흐 파티션이 여러 가지인 경우에는 두 소수의 차이가 가장 작은 것을 출력한다.\n",
        "- 테스트 케이스의 개수 T\n",
        "- 출력하는 소수는 작은 것부터 먼저 출력하며 공백으로 구분한다.\n",
        "- 4 <= n <= 10,000"
      ],
      "metadata": {
        "id": "PpksHBtr32nn"
      }
    },
    {
      "cell_type": "code",
      "source": [
        "#import sys\n",
        "#input = sys.stdin.readline\n",
        "import math as m\n",
        "\n",
        "T = int(input())\n",
        "prime = [i for i in range(10000)]\n",
        "prime[1] = prime[0] = 0\n",
        "for i in prime:\n",
        "    if i == 0:\n",
        "        continue\n",
        "    for j in range(2,10000//i):\n",
        "        prime[j*i] = 0\n",
        "\n",
        "for _ in range(T):\n",
        "    n = int(input())\n",
        "    num1 = num2 = 0\n",
        "    for i in prime[:n//2+1]:\n",
        "        t = 0\n",
        "        if i == 0:\n",
        "            continue\n",
        "        for j in prime[2:int(m.sqrt(n-i))+1]:\n",
        "            if j == 0:\n",
        "                continue\n",
        "            elif (n-i) % j == 0:\n",
        "                t = 1\n",
        "                break\n",
        "        if not t:\n",
        "            num1 = i\n",
        "            num2 = n-i\n",
        "    print(num1, num2)"
      ],
      "metadata": {
        "colab": {
          "base_uri": "https://localhost:8080/"
        },
        "id": "e6dgs2y3CE7t",
        "outputId": "de05b963-5a70-4163-9fb7-6b2db25fb3c0"
      },
      "execution_count": 13,
      "outputs": [
        {
          "output_type": "stream",
          "name": "stdout",
          "text": [
            "4\n",
            "8\n",
            "3 5\n",
            "10\n",
            "5 5\n",
            "16\n",
            "5 11\n",
            "10000\n",
            "4919 5081\n"
          ]
        }
      ]
    },
    {
      "cell_type": "code",
      "source": [
        "def prime(n):\n",
        "    num = [i for i in range(n+1)]\n",
        "    num[0] = num[1] = 0\n",
        "    for i in num:\n",
        "        if i == 0:\n",
        "            continue\n",
        "        for j in range(2,n//i):\n",
        "            num[j*i] = 0\n",
        "    return num\n",
        "\n",
        "T = int(input())\n",
        "n = [int(input()) for _ in range(T)]\n",
        "prime_array = prime(max(n))\n",
        "\n",
        "for i in n:\n",
        "    num1 = num2 = i//2\n",
        "    for _ in range(i):\n",
        "        if prime_array[num1] and prime_array[num2]:\n",
        "            print(num1, num2)\n",
        "            break\n",
        "        num1 -= 1\n",
        "        num2 += 1"
      ],
      "metadata": {
        "colab": {
          "base_uri": "https://localhost:8080/"
        },
        "id": "6Y5LfsP_FUFI",
        "outputId": "b2f8c881-0fcc-499b-caa8-d200a8e4704f"
      },
      "execution_count": 36,
      "outputs": [
        {
          "output_type": "stream",
          "name": "stdout",
          "text": [
            "4\n",
            "8\n",
            "10\n",
            "16\n",
            "10000\n",
            "3 5\n",
            "5 5\n",
            "5 11\n",
            "4919 5081\n"
          ]
        }
      ]
    },
    {
      "cell_type": "markdown",
      "source": [
        "결과\n",
        "- 그때그때마다 주어지는 값들에 맞춰 배열의 크기를 설정한다.\n",
        "- 시작 위치를 어떻게 설정하냐에 따라 효율이 크게 달라진다.   \n",
        "문제에 따라 어디서부터 탐색 또는 동작을 시작할 것인지 파악 후 결정하자.\n"
      ],
      "metadata": {
        "id": "t0X7JcPgItGu"
      }
    }
  ]
}