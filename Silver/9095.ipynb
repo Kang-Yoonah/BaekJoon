{
  "nbformat": 4,
  "nbformat_minor": 0,
  "metadata": {
    "colab": {
      "name": "9095.ipynb",
      "provenance": [],
      "authorship_tag": "ABX9TyOPSniHcgGAB2qnYsOO2UOU",
      "include_colab_link": true
    },
    "kernelspec": {
      "name": "python3",
      "display_name": "Python 3"
    },
    "language_info": {
      "name": "python"
    }
  },
  "cells": [
    {
      "cell_type": "markdown",
      "metadata": {
        "id": "view-in-github",
        "colab_type": "text"
      },
      "source": [
        "<a href=\"https://colab.research.google.com/github/Kang-Yoonah/BaekJoon/blob/main/Silver/9095.ipynb\" target=\"_parent\"><img src=\"https://colab.research.google.com/assets/colab-badge.svg\" alt=\"Open In Colab\"/></a>"
      ]
    },
    {
      "cell_type": "code",
      "execution_count": 1,
      "metadata": {
        "colab": {
          "base_uri": "https://localhost:8080/"
        },
        "id": "IMxipBvv7xry",
        "outputId": "c2206c38-ee2e-4915-c04c-6302e591e500"
      },
      "outputs": [
        {
          "output_type": "stream",
          "name": "stdout",
          "text": [
            "3\n",
            "4\n",
            "7\n",
            "10\n",
            "7\n",
            "44\n",
            "274\n"
          ]
        }
      ],
      "source": [
        "#import sys\n",
        "#input = sys.stdin.readline\n",
        "\n",
        "num = [int(input()) for _ in range(int(input()))]\n",
        "m = max(num)\n",
        "\n",
        "def dp_function(m):\n",
        "    dp = [0]*(m+1)\n",
        "    dp[0] = 1\n",
        "    for k in range(1,m+1):\n",
        "        dp[k] = dp[k-1] + dp[k-2] + dp[k-3]\n",
        "    return dp\n",
        "dp = dp_function(m)\n",
        "for i in num:\n",
        "    print(dp[i])"
      ]
    }
  ]
}