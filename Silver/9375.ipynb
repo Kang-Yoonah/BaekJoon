{
  "nbformat": 4,
  "nbformat_minor": 0,
  "metadata": {
    "colab": {
      "provenance": [],
      "authorship_tag": "ABX9TyMBamQUPC7AByXQaHjPPoan",
      "include_colab_link": true
    },
    "kernelspec": {
      "name": "python3",
      "display_name": "Python 3"
    },
    "language_info": {
      "name": "python"
    }
  },
  "cells": [
    {
      "cell_type": "markdown",
      "metadata": {
        "id": "view-in-github",
        "colab_type": "text"
      },
      "source": [
        "<a href=\"https://colab.research.google.com/github/Kang-Yoonah/BaekJoon/blob/main/Silver/9375.ipynb\" target=\"_parent\"><img src=\"https://colab.research.google.com/assets/colab-badge.svg\" alt=\"Open In Colab\"/></a>"
      ]
    },
    {
      "cell_type": "code",
      "execution_count": 5,
      "metadata": {
        "colab": {
          "base_uri": "https://localhost:8080/"
        },
        "id": "lPRAQ4xAuiRY",
        "outputId": "6c02f224-de9c-40dc-e268-d6d9b5c42096"
      },
      "outputs": [
        {
          "output_type": "stream",
          "name": "stdout",
          "text": [
            "2\n",
            "3\n",
            "hat headgear\n",
            "sunglasses eyewear\n",
            "turban headgear\n",
            "5\n",
            "3\n",
            "mask face\n",
            "sunglasses face\n",
            "makeup face\n",
            "3\n"
          ]
        }
      ],
      "source": [
        "for _ in range(int(input())):\n",
        "    clothes = {}\n",
        "    for _ in range(int(input())):\n",
        "        a, b = input().split()\n",
        "        if b in clothes:\n",
        "            clothes[b] += 1\n",
        "        else:\n",
        "            clothes[b] = 1\n",
        "    clothes, ans = list(clothes.values()), 1\n",
        "    for i in  clothes:\n",
        "        ans *= (i+1)\n",
        "    print(ans-1)"
      ]
    }
  ]
}