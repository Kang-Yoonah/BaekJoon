{
  "nbformat": 4,
  "nbformat_minor": 0,
  "metadata": {
    "colab": {
      "provenance": [],
      "authorship_tag": "ABX9TyNsWKNqhgXPT2gF7+gdJd1a",
      "include_colab_link": true
    },
    "kernelspec": {
      "name": "python3",
      "display_name": "Python 3"
    },
    "language_info": {
      "name": "python"
    }
  },
  "cells": [
    {
      "cell_type": "markdown",
      "metadata": {
        "id": "view-in-github",
        "colab_type": "text"
      },
      "source": [
        "<a href=\"https://colab.research.google.com/github/Kang-Yoonah/BaekJoon/blob/main/Silver/9461.ipynb\" target=\"_parent\"><img src=\"https://colab.research.google.com/assets/colab-badge.svg\" alt=\"Open In Colab\"/></a>"
      ]
    },
    {
      "cell_type": "code",
      "execution_count": 1,
      "metadata": {
        "colab": {
          "base_uri": "https://localhost:8080/"
        },
        "id": "itzUqUaUbAnL",
        "outputId": "eeeca494-3e90-4b0f-b2df-0ffe9a41fe02"
      },
      "outputs": [
        {
          "output_type": "stream",
          "name": "stdout",
          "text": [
            "2\n",
            "6\n",
            "3\n",
            "12\n",
            "16\n"
          ]
        }
      ],
      "source": [
        "dp = [1,1,1]\n",
        "T = int(input())\n",
        "for _ in range(T):\n",
        "    N = int(input())\n",
        "    if len(dp) < N:\n",
        "        for i in range(len(dp),N):\n",
        "            dp.append(dp[i-2]+dp[i-3])\n",
        "    print(dp[N-1])"
      ]
    }
  ]
}