{
  "nbformat": 4,
  "nbformat_minor": 0,
  "metadata": {
    "colab": {
      "name": "9465.ipynb",
      "provenance": [],
      "authorship_tag": "ABX9TyNobOTJUMtEoSdQlIncYVoS",
      "include_colab_link": true
    },
    "kernelspec": {
      "name": "python3",
      "display_name": "Python 3"
    },
    "language_info": {
      "name": "python"
    }
  },
  "cells": [
    {
      "cell_type": "markdown",
      "metadata": {
        "id": "view-in-github",
        "colab_type": "text"
      },
      "source": [
        "<a href=\"https://colab.research.google.com/github/Kang-Yoonah/BaekJoon/blob/main/Silver/9465.ipynb\" target=\"_parent\"><img src=\"https://colab.research.google.com/assets/colab-badge.svg\" alt=\"Open In Colab\"/></a>"
      ]
    },
    {
      "cell_type": "code",
      "execution_count": null,
      "metadata": {
        "colab": {
          "base_uri": "https://localhost:8080/"
        },
        "id": "MynWkHGJCOw3",
        "outputId": "0b348e8e-1fe9-4b11-ee26-03a45d564d58"
      },
      "outputs": [
        {
          "output_type": "stream",
          "name": "stdout",
          "text": [
            "2\n",
            "5\n",
            "50 10 100 20 40\n",
            "30 50 70 10 60\n",
            "260\n",
            "7\n",
            "10 30 10 50 100 20 40\n",
            "20 40 30 50 60 20 80\n",
            "290\n"
          ]
        }
      ],
      "source": [
        "import sys\n",
        "input = sys.stdin.readline\n",
        "\n",
        "T = int(input())\n",
        "for _ in range(T):\n",
        "    n = int(input())\n",
        "    sticker = [list(map(int,input().split())) for _ in range(2)]\n",
        "    dp = [[0]*n, [0]*n]\n",
        "    \n",
        "    for i in range(2):\n",
        "        dp[i][0] = sticker[i][0]\n",
        "    if n >= 2:\n",
        "        for i in range(2):\n",
        "            dp[i][1] = sticker[i-1][0] + sticker[i][1]\n",
        "        for j in range(2,n):\n",
        "            for i in range(2):\n",
        "                dp[i][j] = max(sticker[i][j] + dp[i-1][j-1], sticker[i][j] + dp[i-1][j-2])\n",
        "    print(max(dp[0][n-1], dp[1][n-1]))"
      ]
    }
  ]
}