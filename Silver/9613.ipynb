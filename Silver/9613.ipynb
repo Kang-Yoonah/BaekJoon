{
  "nbformat": 4,
  "nbformat_minor": 0,
  "metadata": {
    "colab": {
      "provenance": [],
      "authorship_tag": "ABX9TyNjOC5TgHraFaaa1aWGTuOo",
      "include_colab_link": true
    },
    "kernelspec": {
      "name": "python3",
      "display_name": "Python 3"
    },
    "language_info": {
      "name": "python"
    }
  },
  "cells": [
    {
      "cell_type": "markdown",
      "metadata": {
        "id": "view-in-github",
        "colab_type": "text"
      },
      "source": [
        "<a href=\"https://colab.research.google.com/github/Kang-Yoonah/BaekJoon/blob/main/Silver/9613.ipynb\" target=\"_parent\"><img src=\"https://colab.research.google.com/assets/colab-badge.svg\" alt=\"Open In Colab\"/></a>"
      ]
    },
    {
      "cell_type": "code",
      "execution_count": 1,
      "metadata": {
        "colab": {
          "base_uri": "https://localhost:8080/"
        },
        "id": "lPRAQ4xAuiRY",
        "outputId": "a0349dca-b28d-435f-8e05-ab56cdb9401e"
      },
      "outputs": [
        {
          "output_type": "stream",
          "name": "stdout",
          "text": [
            "3\n",
            "4 10 20 30 40\n",
            "70\n",
            "3 7 5 12\n",
            "3\n",
            "3 125 15 25\n",
            "35\n"
          ]
        }
      ],
      "source": [
        "T = int(input())\n",
        "\n",
        "def gcd(a,b):\n",
        "    c = b\n",
        "    b = a%b\n",
        "    a = c\n",
        "    if b == 0:\n",
        "        return a\n",
        "    else:\n",
        "        return gcd(a,b)\n",
        "\n",
        "for _ in range(T):\n",
        "    num = list(map(int,input().split()))\n",
        "    N, ans = num[0], 0\n",
        "    for i in range(1,N):\n",
        "        for j in range(i+1,N+1):\n",
        "            m, n = max(num[i],num[j]), min(num[i],num[j])\n",
        "            ans += gcd(m,n)\n",
        "    print(ans)"
      ]
    }
  ]
}