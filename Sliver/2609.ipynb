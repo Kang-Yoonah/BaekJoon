{
  "nbformat": 4,
  "nbformat_minor": 0,
  "metadata": {
    "colab": {
      "name": "2609.ipynb",
      "provenance": [],
      "authorship_tag": "ABX9TyPRKSj1dEx2x0AP5KOKQqoY"
    },
    "kernelspec": {
      "name": "python3",
      "display_name": "Python 3"
    },
    "language_info": {
      "name": "python"
    }
  },
  "cells": [
    {
      "cell_type": "code",
      "execution_count": 28,
      "metadata": {
        "colab": {
          "base_uri": "https://localhost:8080/"
        },
        "id": "mpb89oOZ6Ht3",
        "outputId": "ed7f4445-2e8b-4e2b-f898-080eff61756b"
      },
      "outputs": [
        {
          "output_type": "stream",
          "name": "stdout",
          "text": [
            "24 18\n",
            "6\n",
            "72\n"
          ]
        }
      ],
      "source": [
        "#2609\n",
        "n1, n2 = map(int,input().split())\n",
        "\n",
        "a = A = max(n1,n2)\n",
        "b = B = min(n1,n2)\n",
        "while(1):\n",
        "    if a % b == 0:\n",
        "        print(f'{b}\\n{A*B//b}')\n",
        "        break\n",
        "    else:\n",
        "        c = b\n",
        "        b = a%c\n",
        "        a = c"
      ]
    }
  ]
}